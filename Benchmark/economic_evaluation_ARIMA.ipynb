{
 "cells": [
  {
   "cell_type": "markdown",
   "id": "provincial-tuner",
   "metadata": {},
   "source": [
    "# A"
   ]
  },
  {
   "cell_type": "code",
   "execution_count": 1,
   "id": "realistic-marijuana",
   "metadata": {},
   "outputs": [
    {
     "name": "stderr",
     "output_type": "stream",
     "text": [
      "/home/ms/github/venv/fxpred3/lib/python3.8/site-packages/pandas/core/frame.py:4305: SettingWithCopyWarning: \n",
      "A value is trying to be set on a copy of a slice from a DataFrame\n",
      "\n",
      "See the caveats in the documentation: https://pandas.pydata.org/pandas-docs/stable/user_guide/indexing.html#returning-a-view-versus-a-copy\n",
      "  return super().drop(\n"
     ]
    }
   ],
   "source": [
    "#!/usr/bin/env python\n",
    "\n",
    "# coding: utf-8\n",
    "\n",
    "# %% Loading Packages\n",
    "import matplotlib.pyplot as plt\n",
    "import numpy as np\n",
    "import pandas as pd\n",
    "import pickle\n",
    "from sklearn.model_selection import train_test_split\n",
    "from sklearn.preprocessing import MinMaxScaler\n",
    "from sklearn.preprocessing import StandardScaler\n",
    "from sklearn.metrics import classification_report, confusion_matrix, ConfusionMatrixDisplay\n",
    "from collections import Counter\n",
    "# from sklearn.metrics import mean_squared_error, mean_absolute_erIPython.notebook.kernel.execute('nb_name = \"' + IPython.notebook.notebook_name + '\"')ror\n",
    "\n",
    "import tensorflow as tf\n",
    "from tensorflow.keras import Sequential\n",
    "from tensorflow.keras.layers import Dense\n",
    "from tensorflow.keras.layers import LSTM\n",
    "from tensorflow.keras.layers import ReLU\n",
    "from tensorflow.keras.layers import Dropout\n",
    "from tensorflow.keras.activations import tanh\n",
    "from tensorflow.keras.layers import PReLU\n",
    "from tensorflow.keras.layers import BatchNormalization\n",
    "from tensorflow.keras.layers import LeakyReLU\n",
    "from tensorflow.keras.layers import Flatten\n",
    "from tensorflow.keras.optimizers import SGD\n",
    "from tensorflow.keras.losses import MSE, MAE, MAPE\n",
    "from tensorflow.keras.metrics import Accuracy, SparseCategoricalAccuracy\n",
    "from tensorflow.keras.losses import kullback_leibler_divergence, SparseCategoricalCrossentropy, KLDivergence\n",
    "from tensorflow.keras.callbacks import LearningRateScheduler\n",
    "\n",
    "import sys\n",
    "\n",
    "from tensorflow.python.ops.gen_batch_ops import batch\n",
    "\n",
    "import sys\n",
    "import os\n",
    "import sys\n",
    "import platform\n",
    "\n",
    "from tensorflow.python.ops.gen_math_ops import Tanh\n",
    "if platform.node() in ['msbq', 'msdai']:\n",
    "    os.chdir('/home/ms/github/fxpred')\n",
    "    sys.path.append(os.path.join(os.getcwd(), 'Transformer'))\n",
    "from utils import get_fx_and_metric_data_wo_weekend, mde\n",
    "from utils_NN_opt_learning_rate import opt_learn_rate_plot\n",
    "from benchmark_utils import actual_pred_plot, ts_train_test_normalize\n",
    "from transformer_architecture_elements import Time2Vector, SingleAttention, MultiAttention, TransformerEncoder"
   ]
  },
  {
   "cell_type": "code",
   "execution_count": 2,
   "id": "sustained-sight",
   "metadata": {},
   "outputs": [],
   "source": [
    "dtype = np.float32  # np.float64\n",
    "df = get_fx_and_metric_data_wo_weekend(dtype=dtype)\n",
    "target = 'GBPUSD BGNE Curncy Bid Close'\n",
    "target_column = list(df.columns).index(target)\n",
    "\n",
    "df_close = get_fx_and_metric_data_wo_weekend(dtype=dtype, pct_change=False)\n",
    "df = df.iloc[:, target_column : target_column + 1]\n",
    "\n",
    "nn_type_classification = False\n",
    "lag=128\n",
    "h=1"
   ]
  },
  {
   "cell_type": "code",
   "execution_count": 3,
   "id": "according-hacker",
   "metadata": {},
   "outputs": [
    {
     "data": {
      "text/html": [
       "<div>\n",
       "<style scoped>\n",
       "    .dataframe tbody tr th:only-of-type {\n",
       "        vertical-align: middle;\n",
       "    }\n",
       "\n",
       "    .dataframe tbody tr th {\n",
       "        vertical-align: top;\n",
       "    }\n",
       "\n",
       "    .dataframe thead th {\n",
       "        text-align: right;\n",
       "    }\n",
       "</style>\n",
       "<table border=\"1\" class=\"dataframe\">\n",
       "  <thead>\n",
       "    <tr style=\"text-align: right;\">\n",
       "      <th></th>\n",
       "      <th>GBPUSD BGNE Curncy Bid Close</th>\n",
       "      <th>strategy</th>\n",
       "    </tr>\n",
       "    <tr>\n",
       "      <th>Dates</th>\n",
       "      <th></th>\n",
       "      <th></th>\n",
       "    </tr>\n",
       "  </thead>\n",
       "  <tbody>\n",
       "    <tr>\n",
       "      <th>2020-11-01 19:10:00</th>\n",
       "      <td>0.000000</td>\n",
       "      <td>1</td>\n",
       "    </tr>\n",
       "    <tr>\n",
       "      <th>2020-11-01 19:20:00</th>\n",
       "      <td>-0.002649</td>\n",
       "      <td>0</td>\n",
       "    </tr>\n",
       "    <tr>\n",
       "      <th>2020-11-01 19:30:00</th>\n",
       "      <td>0.000875</td>\n",
       "      <td>2</td>\n",
       "    </tr>\n",
       "    <tr>\n",
       "      <th>2020-11-01 19:40:00</th>\n",
       "      <td>0.000132</td>\n",
       "      <td>2</td>\n",
       "    </tr>\n",
       "    <tr>\n",
       "      <th>2020-11-01 19:50:00</th>\n",
       "      <td>-0.000023</td>\n",
       "      <td>0</td>\n",
       "    </tr>\n",
       "  </tbody>\n",
       "</table>\n",
       "</div>"
      ],
      "text/plain": [
       "                     GBPUSD BGNE Curncy Bid Close  strategy\n",
       "Dates                                                      \n",
       "2020-11-01 19:10:00                      0.000000         1\n",
       "2020-11-01 19:20:00                     -0.002649         0\n",
       "2020-11-01 19:30:00                      0.000875         2\n",
       "2020-11-01 19:40:00                      0.000132         2\n",
       "2020-11-01 19:50:00                     -0.000023         0"
      ]
     },
     "execution_count": 3,
     "metadata": {},
     "output_type": "execute_result"
    }
   ],
   "source": [
    "def strategy(x):\n",
    "    conditions = [\n",
    "        (x <= -0.00000001),\n",
    "        (x > -0.00000001) & (x <= 0.00000001),\n",
    "        (x > 0.00000001)\n",
    "    ]\n",
    "\n",
    "    # create a list of the values we want to assign for each condition #!!! \n",
    "    values = ['sell', 'hold', 'buy']\n",
    "    values = [0, 1, 2]\n",
    "\n",
    "    # create a new column and use np.select to assign values to it using our lists as arguments #!!! \n",
    "    return np.select(conditions, values).astype(np.int32)\n",
    "df['strategy'] = strategy(df[target])\n",
    "\n",
    "df.head()"
   ]
  },
  {
   "cell_type": "code",
   "execution_count": 4,
   "id": "constitutional-switch",
   "metadata": {},
   "outputs": [
    {
     "data": {
      "image/png": "[encoded data removed]",
      "text/plain": [
       "<Figure size 432x288 with 1 Axes>"
      ]
     },
     "metadata": {
      "needs_background": "light"
     },
     "output_type": "display_data"
    }
   ],
   "source": [
    "df[target].plot()\n",
    "plt.title('Return of closing price')\n",
    "plt.show()"
   ]
  },
  {
   "cell_type": "code",
   "execution_count": 5,
   "id": "ultimate-meeting",
   "metadata": {},
   "outputs": [],
   "source": [
    "X_train, y_train, X_val, y_val , X_test, y_test, sc, sc_target, index_train, index_val, index_test, X_train_index, y_train_index = \\\n",
    "    ts_train_test_normalize(df, lag, h, 1)"
   ]
  },
  {
   "cell_type": "code",
   "execution_count": 6,
   "id": "difficult-somerset",
   "metadata": {},
   "outputs": [],
   "source": [
    "X_train = sc.inverse_transform(X_train)\n",
    "X_val = sc.inverse_transform(X_val)\n",
    "X_test = sc.inverse_transform(X_test)\n",
    "y_train = sc_target.inverse_transform(y_train)\n",
    "y_val = sc_target.inverse_transform(y_val)\n",
    "y_test = sc_target.inverse_transform(y_test)"
   ]
  },
  {
   "cell_type": "code",
   "execution_count": 7,
   "id": "breeding-taylor",
   "metadata": {},
   "outputs": [
    {
     "name": "stdout",
     "output_type": "stream",
     "text": [
      "Performing stepwise search to minimize aic\n",
      " ARIMA(1,0,0)(0,0,0)[0] intercept   : AIC=-494159.655, Time=6.46 sec\n",
      " ARIMA(0,0,0)(0,0,0)[0] intercept   : AIC=-494141.387, Time=4.84 sec\n",
      " ARIMA(0,0,1)(0,0,0)[0] intercept   : AIC=-494160.770, Time=6.74 sec\n",
      " ARIMA(0,0,0)(0,0,0)[0]             : AIC=-494142.839, Time=1.10 sec\n",
      " ARIMA(1,0,1)(0,0,0)[0] intercept   : AIC=-494179.364, Time=18.42 sec\n",
      " ARIMA(2,0,1)(0,0,0)[0] intercept   : AIC=-494183.607, Time=24.88 sec\n",
      " ARIMA(2,0,0)(0,0,0)[0] intercept   : AIC=-494184.766, Time=8.57 sec\n",
      " ARIMA(3,0,0)(0,0,0)[0] intercept   : AIC=-494183.768, Time=10.80 sec\n",
      " ARIMA(3,0,1)(0,0,0)[0] intercept   : AIC=-494181.758, Time=12.49 sec\n",
      " ARIMA(2,0,0)(0,0,0)[0]             : AIC=-494186.160, Time=2.96 sec\n",
      " ARIMA(1,0,0)(0,0,0)[0]             : AIC=-494161.082, Time=1.48 sec\n",
      " ARIMA(3,0,0)(0,0,0)[0]             : AIC=-494185.156, Time=4.40 sec\n",
      " ARIMA(2,0,1)(0,0,0)[0]             : AIC=-494185.028, Time=3.71 sec\n",
      " ARIMA(1,0,1)(0,0,0)[0]             : AIC=-494180.691, Time=4.89 sec\n",
      " ARIMA(3,0,1)(0,0,0)[0]             : AIC=-494183.146, Time=7.76 sec\n",
      "\n",
      "Best model:  ARIMA(2,0,0)(0,0,0)[0]          \n",
      "Total fit time: 119.500 seconds\n"
     ]
    },
    {
     "data": {
      "text/plain": [
       "ARIMA(order=(2, 0, 0), scoring_args={}, suppress_warnings=True,\n",
       "      with_intercept=False)"
      ]
     },
     "execution_count": 7,
     "metadata": {},
     "output_type": "execute_result"
    }
   ],
   "source": [
    "from statsmodels.graphics.tsaplots import plot_pacf, plot_acf\n",
    "from statsmodels.tsa.arima_process import ArmaProcess\n",
    "from statsmodels.tsa.stattools import pacf\n",
    "from statsmodels.tsa.stattools import grangercausalitytests\n",
    "from statsmodels.tsa.stattools import adfuller\n",
    "from statsmodels.regression.linear_model import yule_walker\n",
    "\n",
    "#from statsmodels.tsa.stattools import adfuller\n",
    "import matplotlib.pyplot as plt\n",
    "import numpy as np\n",
    "import statsmodels.api as sm\n",
    "import pmdarima as pmd\n",
    "# see https://www.pluralsight.com/guides/advanced-time-series-modeling-(arima)-models-in-python\n",
    "arima = pmd.auto_arima(\n",
    "    X_train[:, -1, 0],\n",
    "    d=0,\n",
    "    start_p=1,\n",
    "    max_p=20,\n",
    "    start_q=0,\n",
    "    max_q=20,\n",
    "    start_P=0,\n",
    "    start_Q=0,\n",
    "    max_P=3,\n",
    "    max_Q=3,\n",
    "    test='adf',\n",
    "    trace=True\n",
    ")\n",
    "arima"
   ]
  },
  {
   "cell_type": "code",
   "execution_count": 8,
   "id": "bound-invasion",
   "metadata": {},
   "outputs": [
    {
     "name": "stderr",
     "output_type": "stream",
     "text": [
      "/home/ms/github/venv/fxpred3/lib/python3.8/site-packages/statsmodels/base/model.py:566: ConvergenceWarning: Maximum Likelihood optimization failed to converge. Check mle_retvals\n",
      "  warnings.warn(\"Maximum Likelihood optimization failed to \"\n"
     ]
    }
   ],
   "source": [
    "mod = sm.tsa.arima.ARIMA(\n",
    "    X_train[:, -1, 0],\n",
    "    order=arima.get_params()['order'],\n",
    "    seasonal_order=arima.get_params()['seasonal_order']\n",
    ")\n",
    "model_train = mod.fit()"
   ]
  },
  {
   "cell_type": "code",
   "execution_count": 9,
   "id": "handled-indication",
   "metadata": {},
   "outputs": [],
   "source": [
    "mod_val = sm.tsa.arima.ARIMA(\n",
    "    X_val[:, -1, 0],\n",
    "    order=arima.get_params()['order'],\n",
    "    seasonal_order=arima.get_params()['seasonal_order']\n",
    ")\n",
    "mod_test = sm.tsa.arima.ARIMA(\n",
    "    X_test[:, -1, 0],\n",
    "    order=arima.get_params()['order'],\n",
    "    seasonal_order=arima.get_params()['seasonal_order']\n",
    ")"
   ]
  },
  {
   "cell_type": "code",
   "execution_count": 10,
   "id": "sufficient-turner",
   "metadata": {},
   "outputs": [
    {
     "data": {
      "text/plain": [
       "array([[ 1.54102448e-06],\n",
       "       [-8.41853854e-06],\n",
       "       [-4.27054779e-06],\n",
       "       ...,\n",
       "       [ 9.74803145e-06],\n",
       "       [ 1.07793490e-05],\n",
       "       [ 1.68317349e-06]])"
      ]
     },
     "execution_count": 10,
     "metadata": {},
     "output_type": "execute_result"
    }
   ],
   "source": [
    "with mod_val.fix_params(dict(zip(model_train.param_names, model_train.params))):\n",
    "    model_val = mod_val.fit()\n",
    "with mod_test.fix_params(dict(zip(model_train.param_names, model_train.params))):\n",
    "    model_test = mod_test.fit()\n",
    "model_test.predict().reshape([-1,1])\n",
    "# predict_data(X_train)"
   ]
  },
  {
   "cell_type": "code",
   "execution_count": 11,
   "id": "unable-license",
   "metadata": {},
   "outputs": [],
   "source": [
    "def predictions(data_type):\n",
    "    if data_type == 'train':\n",
    "        return model_train.predict().reshape([-1,1])\n",
    "    elif data_type == 'val':\n",
    "        return model_val.predict().reshape([-1,1])\n",
    "    elif data_type == 'test':\n",
    "        return model_test.predict().reshape([-1,1])\n",
    "    else:\n",
    "        raise ValueError()"
   ]
  },
  {
   "cell_type": "markdown",
   "id": "elder-cookie",
   "metadata": {},
   "source": [
    "## Econmetric measures"
   ]
  },
  {
   "cell_type": "markdown",
   "id": "binary-behavior",
   "metadata": {},
   "source": [
    "Definition of cumulated returns"
   ]
  },
  {
   "cell_type": "code",
   "execution_count": 12,
   "id": "later-ivory",
   "metadata": {},
   "outputs": [],
   "source": [
    "def cumulated_return(y_pred, ret, start_capital=1000, dtype=None):\n",
    "    assert y_pred.flatten().shape == ret.flatten().shape\n",
    "    balance = [start_capital]\n",
    "    signal = 0\n",
    "    for i, d in enumerate(y_pred[:-1]):\n",
    "        signal = signal if d == 1 else d\n",
    "        if signal == 0:\n",
    "            balance.append(balance[-1])\n",
    "        elif signal == 2:\n",
    "            balance.append(balance[-1] * ret[i])\n",
    "        else:\n",
    "            raise ValueError()\n",
    "    balance = np.array(balance, dtype=dtype)\n",
    "    return balance"
   ]
  },
  {
   "cell_type": "markdown",
   "id": "canadian-postcard",
   "metadata": {},
   "source": [
    "## read in data for econmic metric"
   ]
  },
  {
   "cell_type": "code",
   "execution_count": 13,
   "id": "superior-venezuela",
   "metadata": {},
   "outputs": [],
   "source": [
    "def econ_metrics(y_pred, X_ret, risk_free=0.0031):  # Risk free rate must be given\n",
    "    x = cumulated_return(y_pred[:-1], X_ret[1:], dtype=dtype)\n",
    "    print(f'Portfolio return: {x[-1] / x[0] - 1}')\n",
    "    print(f'Std of returns: {np.std(x[1:] / x[:-1])}')\n",
    "    print(f'Sharpe ratio: {((x[-1] / x[0]) - 1 - risk_free) / np.std(x[1:] / x[:-1])}')\n",
    "    print()\n",
    "    \n",
    "    n = 6 * 24 * 252  # banking days per year\n",
    "    mu_annum = ((x[-1]/x[0]) ** (n / x.shape[0])) - 1\n",
    "    print(f'Return per annum: {mu_annum}')\n",
    "    std_annum = np.std(x[1:] / x[:-1]) * (n)**0.5\n",
    "    print(f'Std of returns per annum: {std_annum}')\n",
    "    print(f'Sharpe ratio per annum: {(mu_annum - risk_free) / std_annum}')"
   ]
  },
  {
   "cell_type": "code",
   "execution_count": 14,
   "id": "improved-representative",
   "metadata": {},
   "outputs": [],
   "source": [
    "def investment_lengths(y):\n",
    "    count_length = {0: [], 1: [], 2: []}\n",
    "    length = 0\n",
    "    current = y.flatten()[0]\n",
    "    for i, t in enumerate(y.flatten()):\n",
    "        if t == current:\n",
    "            length += 1\n",
    "        else:\n",
    "            count_length[current].append(length)\n",
    "            current = t\n",
    "            length = 1\n",
    "    return count_length\n",
    "def investment_lengths_buy_sell(y):\n",
    "    count_length = {0: [], 2: []}\n",
    "    length = 0\n",
    "    current = y.flatten()[0]\n",
    "    for i, t in enumerate(y.flatten()):\n",
    "        if t == current or t == 1:\n",
    "            length += 1\n",
    "        else:\n",
    "            count_length[current].append(length)\n",
    "            current = t\n",
    "            length = 1\n",
    "    return count_length\n",
    "def changed_number_of_investments(v):\n",
    "    return sum([len(v) for k, v in count_length.items()])\n",
    "def investment_length_stats(v, dec_point=4):\n",
    "    return {k: {'number': len(v), 'mean': np.mean(v).round(dec_point), 'std': np.std(v).round(dec_point), 'max': np.max(v)} for k, v in v.items() if v}"
   ]
  },
  {
   "cell_type": "code",
   "execution_count": 15,
   "id": "ideal-hudson",
   "metadata": {},
   "outputs": [],
   "source": [
    "def result_output2(tmp_type):\n",
    "    print(tmp_type)\n",
    "\n",
    "    y = eval(f\"y_{tmp_type}\")\n",
    "    y_pred = strategy(predictions(tmp_type))\n",
    "    print(f'Accuracy: {Accuracy()(y.flatten(), y_pred.flatten()).numpy()}')\n",
    "    print(f'Accuracy: {SparseCategoricalAccuracy()(y.astype(dtype), y_pred.reshape(y.shape).astype(dtype)).numpy()}')\n",
    "    print(f'KL_Divergence: {kullback_leibler_divergence(y.flatten().astype(dtype), y_pred.flatten().astype(dtype)).numpy()}')\n",
    "    print(classification_report(y, y_pred))\n",
    "    cm = confusion_matrix(y, y_pred)\n",
    "    ConfusionMatrixDisplay(cm).plot()\n",
    "    plt.show()\n",
    "\n",
    "#     X_ret = sc.inverse_transform(eval(f\"X_{tmp_type}\"))[:, -1, 0] + 1\n",
    "    X_ret = eval(f\"X_{tmp_type}\")[:, -1, 0] + 1\n",
    "    plt.plot(eval(f\"index_{tmp_type}\")[lag-1:-(h+1)][1:], cumulated_return(y_pred[:-1], X_ret[1:], dtype=dtype), label='predicted')\n",
    "\n",
    "    p = [i[1]/y.shape[0] for i in sorted(Counter(y.flatten()).items(), key=lambda x: x[0])]\n",
    "    x = np.concatenate(\n",
    "        [\n",
    "            cumulated_return(\n",
    "                np.random.choice([0, 1, 2], size=y_pred[:-1].shape, p=p),\n",
    "                X_ret[1:],\n",
    "                dtype=dtype\n",
    "            )[:,np.newaxis] for i in range(50)\n",
    "        ], axis=-1\n",
    "    )\n",
    "    plt.plot(eval(f\"index_{tmp_type}\")[(lag-1):-(h+1)][1:], x.mean(axis=-1), label='random', color='gray')\n",
    "    plt.plot(eval(f\"index_{tmp_type}\")[(lag-1):-(h+1)][1:], x.mean(axis=-1) + x.std(axis=-1), label='random_q75', color='gray', linestyle='--')\n",
    "    plt.plot(eval(f\"index_{tmp_type}\")[(lag-1):-(h+1)][1:], cumulated_return(y_pred[:-1] * 0 + 2, X_ret[1:], dtype=dtype), label='buy&HODL')\n",
    "    plt.plot(eval(f\"index_{tmp_type}\")[(lag-1):-(h+1)][1:], cumulated_return(y[:-1], X_ret[1:], dtype=dtype), label='oracle')\n",
    "    plt.legend()\n",
    "    plt.semilogy()\n",
    "    plt.show()\n",
    "    econ_metrics(y_pred, X_ret)\n",
    "    print('=============================')\n",
    "    print('Investment lengths')\n",
    "    print('y_true')\n",
    "    print(pd.DataFrame.from_dict(investment_length_stats(investment_lengths(y)), orient='index'))\n",
    "    print('y_pred')\n",
    "    print(pd.DataFrame.from_dict(investment_length_stats(investment_lengths(y_pred)), orient='index'))\n",
    "    print('Investment lengths for only buy and sell (hold is prolongation of previous)')\n",
    "    print('y_true')\n",
    "    print(pd.DataFrame.from_dict(investment_length_stats(investment_lengths_buy_sell(y)), orient='index'))\n",
    "    print('y_pred')\n",
    "    print(pd.DataFrame.from_dict(investment_length_stats(investment_lengths_buy_sell(y_pred)), orient='index'))"
   ]
  },
  {
   "cell_type": "code",
   "execution_count": 16,
   "id": "upset-radar",
   "metadata": {},
   "outputs": [
    {
     "name": "stdout",
     "output_type": "stream",
     "text": [
      "train\n",
      "Accuracy: 0.48894572257995605\n",
      "Accuracy: 0.48011261224746704\n",
      "KL_Divergence: 134424.890625\n",
      "              precision    recall  f1-score   support\n",
      "\n",
      "         0.0       0.49      0.44      0.46     18589\n",
      "         1.0       0.05      0.00      0.00      1222\n",
      "         2.0       0.49      0.57      0.53     18907\n",
      "\n",
      "    accuracy                           0.49     38718\n",
      "   macro avg       0.34      0.34      0.33     38718\n",
      "weighted avg       0.48      0.49      0.48     38718\n",
      "\n"
     ]
    },
    {
     "data": {
      "image/png": "[encoded data removed]",
      "text/plain": [
       "<Figure size 432x288 with 2 Axes>"
      ]
     },
     "metadata": {
      "needs_background": "light"
     },
     "output_type": "display_data"
    },
    {
     "data": {
      "image/png": "[encoded data removed]",
      "text/plain": [
       "<Figure size 432x288 with 1 Axes>"
      ]
     },
     "metadata": {
      "needs_background": "light"
     },
     "output_type": "display_data"
    },
    {
     "name": "stdout",
     "output_type": "stream",
     "text": [
      "Portfolio return: 0.06010758876800537\n",
      "Std of returns: 0.00030994880944490433\n",
      "Sharpe ratio: 183.92581946064513\n",
      "\n",
      "Return per annum: 0.05623257284132932\n",
      "Std of returns per annum: 0.059043417764527054\n",
      "Sharpe ratio per annum: 0.8998898582265179\n",
      "=============================\n",
      "Investment lengths\n",
      "y_true\n",
      "   number    mean     std  max\n",
      "0    9864  1.8845  1.2695   13\n",
      "1     616  1.9838  7.5889  154\n",
      "2    9830  1.9233  1.2918   12\n",
      "y_pred\n",
      "   number    mean     std  max\n",
      "0    6522  2.5227  1.7558   16\n",
      "1      38  1.0000  0.0000    1\n",
      "2    6527  3.4048  3.5271  162\n",
      "Investment lengths for only buy and sell (hold is prolongation of previous)\n",
      "y_true\n",
      "   number    mean     std  max\n",
      "0    9690  2.0057  2.4379  161\n",
      "2    9689  1.9901  1.3767   15\n",
      "y_pred\n",
      "   number    mean     std  max\n",
      "0    6517  2.5277  1.7587   16\n",
      "2    6518  3.4122  3.5332  162\n"
     ]
    }
   ],
   "source": [
    "result_output2('train')"
   ]
  },
  {
   "cell_type": "code",
   "execution_count": 17,
   "id": "dressed-night",
   "metadata": {},
   "outputs": [],
   "source": [
    "# result_output2('val')"
   ]
  },
  {
   "cell_type": "code",
   "execution_count": 18,
   "id": "ruled-copyright",
   "metadata": {},
   "outputs": [
    {
     "name": "stdout",
     "output_type": "stream",
     "text": [
      "test\n",
      "Accuracy: 0.4839187562465668\n",
      "Accuracy: 0.4807448089122772\n",
      "KL_Divergence: 16682.2265625\n",
      "              precision    recall  f1-score   support\n",
      "\n",
      "         0.0       0.49      0.43      0.46      2272\n",
      "         1.0       0.00      0.00      0.00       156\n",
      "         2.0       0.48      0.57      0.52      2298\n",
      "\n",
      "    accuracy                           0.48      4726\n",
      "   macro avg       0.32      0.33      0.33      4726\n",
      "weighted avg       0.47      0.48      0.47      4726\n",
      "\n"
     ]
    },
    {
     "data": {
      "image/png": "[encoded data removed]",
      "text/plain": [
       "<Figure size 432x288 with 2 Axes>"
      ]
     },
     "metadata": {
      "needs_background": "light"
     },
     "output_type": "display_data"
    },
    {
     "data": {
      "image/png": "[encoded data removed]",
      "text/plain": [
       "<Figure size 432x288 with 1 Axes>"
      ]
     },
     "metadata": {
      "needs_background": "light"
     },
     "output_type": "display_data"
    },
    {
     "name": "stdout",
     "output_type": "stream",
     "text": [
      "Portfolio return: 0.0011376142501831055\n",
      "Std of returns: 0.00025015920982696116\n",
      "Sharpe ratio: -7.844547283205387\n",
      "\n",
      "Return per annum: 0.008770145954500874\n",
      "Std of returns per annum: 0.04765385213096864\n",
      "Sharpe ratio per annum: 0.11898609872959327\n",
      "=============================\n",
      "Investment lengths\n",
      "y_true\n",
      "   number    mean     std  max\n",
      "0    1237  1.8367  1.2160   10\n",
      "1     108  1.4444  1.2644    6\n",
      "2    1233  1.8621  1.2218   11\n",
      "y_pred\n",
      "   number    mean     std  max\n",
      "0     816  2.4669  1.7254   16\n",
      "1       9  1.0000  0.0000    1\n",
      "2     820  3.2841  2.4666   15\n",
      "Investment lengths for only buy and sell (hold is prolongation of previous)\n",
      "y_true\n",
      "   number    mean     std  max\n",
      "0    1207  1.9519  1.3939   12\n",
      "2    1206  1.9635  1.3197   11\n",
      "y_pred\n",
      "   number    mean     std  max\n",
      "0     816  2.4694  1.7240   16\n",
      "2     816  3.3088  2.5103   17\n"
     ]
    }
   ],
   "source": [
    "result_output2('test')"
   ]
  },
  {
   "cell_type": "code",
   "execution_count": null,
   "id": "processed-kruger",
   "metadata": {},
   "outputs": [],
   "source": []
  }
 ],
 "metadata": {
  "kernelspec": {
   "display_name": "fxpred3",
   "language": "python",
   "name": "fxpred3"
  },
  "language_info": {
   "codemirror_mode": {
    "name": "ipython",
    "version": 3
   },
   "file_extension": ".py",
   "mimetype": "text/x-python",
   "name": "python",
   "nbconvert_exporter": "python",
   "pygments_lexer": "ipython3",
   "version": "3.8.10"
  }
 },
 "nbformat": 4,
 "nbformat_minor": 5
}
