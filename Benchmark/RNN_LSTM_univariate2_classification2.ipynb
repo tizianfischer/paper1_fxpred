{
 "cells": [
  {
   "cell_type": "markdown",
   "id": "promising-electron",
   "metadata": {},
   "source": [
    "# A"
   ]
  },
  {
   "cell_type": "code",
   "execution_count": 1,
   "id": "residential-toyota",
   "metadata": {},
   "outputs": [
    {
     "name": "stderr",
     "output_type": "stream",
     "text": [
      "/home/ms/github/venv/fxpred3/lib/python3.8/site-packages/pandas/core/frame.py:4305: SettingWithCopyWarning: \n",
      "A value is trying to be set on a copy of a slice from a DataFrame\n",
      "\n",
      "See the caveats in the documentation: https://pandas.pydata.org/pandas-docs/stable/user_guide/indexing.html#returning-a-view-versus-a-copy\n",
      "  return super().drop(\n"
     ]
    }
   ],
   "source": [
    "#!/usr/bin/env python\n",
    "\n",
    "# coding: utf-8\n",
    "\n",
    "# %% Loading Packages\n",
    "import matplotlib.pyplot as plt\n",
    "import numpy as np\n",
    "import pandas as pd\n",
    "import pickle\n",
    "from sklearn.model_selection import train_test_split\n",
    "from sklearn.preprocessing import MinMaxScaler\n",
    "from sklearn.preprocessing import StandardScaler\n",
    "from sklearn.metrics import classification_report, confusion_matrix\n",
    "from collections import Counter\n",
    "# from sklearn.metrics import mean_squared_error, mean_absolute_erIPython.notebook.kernel.execute('nb_name = \"' + IPython.notebook.notebook_name + '\"')ror\n",
    "\n",
    "import tensorflow as tf\n",
    "from tensorflow.keras import Sequential\n",
    "from tensorflow.keras.layers import Dense\n",
    "from tensorflow.keras.layers import LSTM\n",
    "from tensorflow.keras.layers import ReLU\n",
    "from tensorflow.keras.layers import Dropout\n",
    "from tensorflow.keras.activations import tanh\n",
    "from tensorflow.keras.layers import PReLU\n",
    "from tensorflow.keras.layers import BatchNormalization\n",
    "from tensorflow.keras.layers import LeakyReLU\n",
    "from tensorflow.keras.layers import Flatten\n",
    "from tensorflow.keras.optimizers import SGD\n",
    "from tensorflow.keras.losses import MSE, MAE, MAPE\n",
    "from tensorflow.keras.metrics import Accuracy, SparseCategoricalAccuracy\n",
    "from tensorflow.keras.losses import kullback_leibler_divergence, SparseCategoricalCrossentropy, KLDivergence\n",
    "from tensorflow.keras.callbacks import LearningRateScheduler\n",
    "\n",
    "import sys\n",
    "\n",
    "from tensorflow.python.ops.gen_batch_ops import batch\n",
    "\n",
    "import sys\n",
    "import os\n",
    "import sys\n",
    "import platform\n",
    "\n",
    "from tensorflow.python.ops.gen_math_ops import Tanh\n",
    "if platform.node() in ['msbq', 'msdai']:\n",
    "    os.chdir('/home/ms/github/fxpred')\n",
    "    # os.chdir('../.')\n",
    "    sys.path.append(os.path.join(os.getcwd(), 'Transformer'))\n",
    "# from utils import data_read_dict, data_read_concat, data_merge\n",
    "from utils import get_fx_and_metric_data_wo_weekend, mde\n",
    "from utils_NN_opt_learning_rate import opt_learn_rate_plot\n",
    "from benchmark_utils import actual_pred_plot, ts_train_test_normalize\n",
    "\n",
    "\n",
    "name = 'LSTM_univariate2_classification2'"
   ]
  },
  {
   "cell_type": "code",
   "execution_count": 2,
   "id": "numerous-coaching",
   "metadata": {},
   "outputs": [],
   "source": [
    "dtype = np.float32  # np.float64\n",
    "tf.keras.backend.set_floatx('float32')\n",
    "# %% read in data and adapt\n",
    "df = get_fx_and_metric_data_wo_weekend(dtype=dtype)\n",
    "target = 'EURUSD BGNE Curncy Bid Close'\n",
    "target_column = list(df.columns).index(target)\n",
    "# df = df.loc[(df.iloc[:, :4] != 0).all(axis=1)]\n",
    "df_close = get_fx_and_metric_data_wo_weekend(dtype=dtype, pct_change=False)\n",
    "df = df.iloc[:, target_column : target_column + 1]"
   ]
  },
  {
   "cell_type": "code",
   "execution_count": 3,
   "id": "bright-bacteria",
   "metadata": {},
   "outputs": [],
   "source": [
    "np.random.seed(42)\n",
    "# df = df.iloc[np.random.choice(list(range(df.shape[0])), size=df.shape[0], replace=False), :]\n"
   ]
  },
  {
   "cell_type": "code",
   "execution_count": 4,
   "id": "dated-aquarium",
   "metadata": {},
   "outputs": [
    {
     "data": {
      "text/html": [
       "<div>\n",
       "<style scoped>\n",
       "    .dataframe tbody tr th:only-of-type {\n",
       "        vertical-align: middle;\n",
       "    }\n",
       "\n",
       "    .dataframe tbody tr th {\n",
       "        vertical-align: top;\n",
       "    }\n",
       "\n",
       "    .dataframe thead th {\n",
       "        text-align: right;\n",
       "    }\n",
       "</style>\n",
       "<table border=\"1\" class=\"dataframe\">\n",
       "  <thead>\n",
       "    <tr style=\"text-align: right;\">\n",
       "      <th></th>\n",
       "      <th>EURUSD BGNE Curncy Bid Close</th>\n",
       "      <th>strategy</th>\n",
       "    </tr>\n",
       "    <tr>\n",
       "      <th>Dates</th>\n",
       "      <th></th>\n",
       "      <th></th>\n",
       "    </tr>\n",
       "  </thead>\n",
       "  <tbody>\n",
       "    <tr>\n",
       "      <th>2020-11-01 19:10:00</th>\n",
       "      <td>0.000000</td>\n",
       "      <td>1</td>\n",
       "    </tr>\n",
       "    <tr>\n",
       "      <th>2020-11-01 19:20:00</th>\n",
       "      <td>0.000275</td>\n",
       "      <td>2</td>\n",
       "    </tr>\n",
       "    <tr>\n",
       "      <th>2020-11-01 19:30:00</th>\n",
       "      <td>-0.000069</td>\n",
       "      <td>0</td>\n",
       "    </tr>\n",
       "    <tr>\n",
       "      <th>2020-11-01 19:40:00</th>\n",
       "      <td>0.000034</td>\n",
       "      <td>2</td>\n",
       "    </tr>\n",
       "    <tr>\n",
       "      <th>2020-11-01 19:50:00</th>\n",
       "      <td>0.000026</td>\n",
       "      <td>2</td>\n",
       "    </tr>\n",
       "  </tbody>\n",
       "</table>\n",
       "</div>"
      ],
      "text/plain": [
       "                     EURUSD BGNE Curncy Bid Close  strategy\n",
       "Dates                                                      \n",
       "2020-11-01 19:10:00                      0.000000         1\n",
       "2020-11-01 19:20:00                      0.000275         2\n",
       "2020-11-01 19:30:00                     -0.000069         0\n",
       "2020-11-01 19:40:00                      0.000034         2\n",
       "2020-11-01 19:50:00                      0.000026         2"
      ]
     },
     "execution_count": 4,
     "metadata": {},
     "output_type": "execute_result"
    }
   ],
   "source": [
    "# create a list of our conditions #!!! \n",
    "conditions = [\n",
    "    (df[target] <= -0.00000001),\n",
    "    (df[target] > -0.00000001) & (df[target] <= 0.00000001),\n",
    "    (df[target] > 0.00000001)\n",
    "]\n",
    "\n",
    "# create a list of the values we want to assign for each condition #!!! \n",
    "values = ['sell', 'hold', 'buy']\n",
    "values = [0, 1, 2]\n",
    "\n",
    "# create a new column and use np.select to assign values to it using our lists as arguments #!!! \n",
    "df['strategy'] = np.select(conditions, values)\n",
    "df.strategy = df.strategy.astype(np.int32)\n",
    "\n",
    "# display updated DataFrame #!!! \n",
    "df.head()"
   ]
  },
  {
   "cell_type": "code",
   "execution_count": 5,
   "id": "basic-exhibition",
   "metadata": {},
   "outputs": [
    {
     "data": {
      "image/png": "[encoded data removed]",
      "text/plain": [
       "<Figure size 432x288 with 1 Axes>"
      ]
     },
     "metadata": {
      "needs_background": "light"
     },
     "output_type": "display_data"
    }
   ],
   "source": [
    "df['EURUSD BGNE Curncy Bid Close'].plot()\n",
    "plt.title('Return of closing price')\n",
    "plt.show()"
   ]
  },
  {
   "cell_type": "code",
   "execution_count": 6,
   "id": "featured-capacity",
   "metadata": {},
   "outputs": [],
   "source": [
    "lag = 256\n",
    "h = 1\n",
    "X_train, y_train, X_val, y_val , X_test, y_test, sc, sc_target, index_train, index_val, index_test, X_train_index, y_train_index = \\\n",
    "    ts_train_test_normalize(df, lag, h, df.columns.to_list().index('strategy'), dtype=dtype)"
   ]
  },
  {
   "cell_type": "code",
   "execution_count": 7,
   "id": "intellectual-calendar",
   "metadata": {},
   "outputs": [
    {
     "name": "stdout",
     "output_type": "stream",
     "text": [
      "(33562,)\n",
      "(33305, 256, 2)\n",
      "(33305, 1)\n"
     ]
    }
   ],
   "source": [
    "print(index_train.shape)\n",
    "print(X_train.shape)\n",
    "print(y_train.shape)"
   ]
  },
  {
   "cell_type": "code",
   "execution_count": 8,
   "id": "individual-cisco",
   "metadata": {},
   "outputs": [
    {
     "data": {
      "text/plain": [
       "0.0"
      ]
     },
     "execution_count": 8,
     "metadata": {},
     "output_type": "execute_result"
    }
   ],
   "source": [
    "a = np.array([sc.inverse_transform(X_train[i,:]) for i in range(X_train.shape[0])])\n",
    "b = np.concatenate([sc.inverse_transform(X_train[:,i])[:,np.newaxis] for i in range(lag)], axis=1)\n",
    "a.shape == b.shape\n",
    "np.abs(a - b).sum()"
   ]
  },
  {
   "cell_type": "code",
   "execution_count": 9,
   "id": "chicken-scheduling",
   "metadata": {},
   "outputs": [
    {
     "data": {
      "text/plain": [
       "0.002651539101570699"
      ]
     },
     "execution_count": 9,
     "metadata": {},
     "output_type": "execute_result"
    }
   ],
   "source": [
    "np.abs(a[:,-1] - df.loc[index_train].iloc[lag - 1:-2].values).sum()"
   ]
  },
  {
   "cell_type": "code",
   "execution_count": 10,
   "id": "promotional-sleep",
   "metadata": {},
   "outputs": [],
   "source": [
    "# assert ((df.values[:X_train.shape[0]] - sc.inverse_transform(X_train)[:,0])**2).sum() < 1e-10\n",
    "# assert ((df.values[lag - 1:lag - 1 + X_train.shape[0]] - sc.inverse_transform(X_train)[:,-1])**2).sum() < 1e-10\n",
    "\n",
    "# assert ((df.iloc[-X_test.shape[0] - lag - h:][:-lag - h].values - sc.inverse_transform(X_test)[:,0])**2).sum() < 1e-11\n",
    "# assert index_test[0] == df.iloc[-X_test.shape[0] - lag - h:].index[0]\n",
    "# for i in range(lag):\n",
    "#     assert ((df.iloc[-X_test.shape[0] - lag - h:][i:-(lag + h -i)].values - sc.inverse_transform(X_test)[:,i])**2).sum() < 1e-10\n",
    "\n",
    "# assert (sc_target.inverse_transform(X_train[:, 0, 1]) == df.iloc[:X_train.shape[0], 1].values).all()\n",
    "# assert (sc_target.inverse_transform(X_train[:, -1, 1]) == df.iloc[lag - 1:lag - 1 + X_train.shape[0], 1].values).all()\n",
    "\n",
    "# assert (sc_target.inverse_transform(X_val[:, 0, 1]) == df.iloc[X_train.shape[0] + lag + 1: lag + 1 + X_train.shape[0] + X_val.shape[0], 1].values).all()\n",
    "# assert (sc_target.inverse_transform(X_val[:, -1, 1]) == df.iloc[X_train.shape[0] + lag + 1 + lag - 1: lag + 1 + lag - 1 + X_train.shape[0] + X_val.shape[0], 1].values).all()\n",
    "# # # assert (sc_target.inverse_transform(X_val[:, -1, 1]) == df.iloc[127:127 + X_train.shape[0], 1].values).all()\n",
    "# # print(sc.inverse_transform(X_test)[-10:, :4, 0])\n",
    "# # print(index_test[-4:])\n",
    "# # df.iloc[-10:, 0]\n",
    "# a = (sc.inverse_transform(X_train)[:, 0] == df.iloc[:23081])\n",
    "# np.sum((df.iloc[:23081].loc[np.invert(a).iloc[:, 0]] - sc.inverse_transform(X_train)[np.invert(a).iloc[:, 0], 0]) ** 2)\n"
   ]
  },
  {
   "cell_type": "code",
   "execution_count": 11,
   "id": "hispanic-locking",
   "metadata": {},
   "outputs": [],
   "source": [
    "X_train = X_train#.astype(dtype)\n",
    "X_val = X_val#.astype(dtype)\n",
    "X_test = X_test#.astype(dtype)\n",
    "y_train = sc_target.inverse_transform(y_train).round()\n",
    "y_val = sc_target.inverse_transform(y_val).round()\n",
    "y_test = sc_target.inverse_transform(y_test).round()"
   ]
  },
  {
   "cell_type": "code",
   "execution_count": 12,
   "id": "descending-cheese",
   "metadata": {},
   "outputs": [],
   "source": [
    "def LSTM_model():\n",
    "    # The LSTM architecture\n",
    "    act_fct = 'tanh'\n",
    "    dr = 0.5\n",
    "    my_LSTM_model = Sequential()\n",
    "    my_LSTM_model.add(LSTM(units=128, activation=act_fct, return_sequences=True, dropout=dr))\n",
    "    my_LSTM_model.add(BatchNormalization())\n",
    "    my_LSTM_model.add(LSTM(units=128, activation=act_fct, return_sequences=True, dropout=dr))\n",
    "    my_LSTM_model.add(BatchNormalization())\n",
    "    my_LSTM_model.add(LSTM(units=128, activation=act_fct, return_sequences=True, dropout=dr))\n",
    "    my_LSTM_model.add(BatchNormalization())\n",
    "    my_LSTM_model.add(LSTM(units=128, activation=act_fct, return_sequences=True, dropout=dr))\n",
    "    my_LSTM_model.add(BatchNormalization())\n",
    "    my_LSTM_model.add(LSTM(units=128, activation=act_fct, return_sequences=True, dropout=dr))\n",
    "    my_LSTM_model.add(BatchNormalization())\n",
    "    my_LSTM_model.add(Flatten())\n",
    "#     my_LSTM_model.add(Dense(units=128, activation=loss_fct))\n",
    "#     my_LSTM_model.add(Dropout(0.25))\n",
    "    my_LSTM_model.add(Dense(units=3, activation='softmax'))\n",
    "    return my_LSTM_model"
   ]
  },
  {
   "cell_type": "code",
   "execution_count": 13,
   "id": "personal-ecology",
   "metadata": {},
   "outputs": [],
   "source": [
    "def predictions(my_model, X_test, sc=None):\n",
    "    LSTM_prediction = my_model.predict(X_test)\n",
    "    if sc is not None:\n",
    "        LSTM_prediction = sc.inverse_transform(LSTM_prediction)\n",
    "    return LSTM_prediction"
   ]
  },
  {
   "cell_type": "code",
   "execution_count": 14,
   "id": "compound-irish",
   "metadata": {},
   "outputs": [],
   "source": [
    "def earlyStopping():\n",
    "    return tf.keras.callbacks.EarlyStopping(\n",
    "        monitor=\"val_loss\",\n",
    "        min_delta=0,\n",
    "        patience=10,\n",
    "        verbose=0,\n",
    "        mode=\"auto\",\n",
    "        baseline=None,\n",
    "        restore_best_weights=True,\n",
    "    )\n",
    "if not os.path.exists('Benchmark/trained_models'):\n",
    "    os.mkdir('Benchmark/trained_models')\n",
    "model_checkpoints = tf.keras.callbacks.ModelCheckpoint(\n",
    "    'Benchmark/trained_models/%s____{epoch:04}.hdf5'%name,\n",
    "    monitor='val_loss',\n",
    "    save_best_only=False,\n",
    "    verbose=1\n",
    ")\n",
    "def learning_rate_scheduler(epoch):\n",
    "    if epoch < 10:\n",
    "        return 0.001\n",
    "    elif epoch < 20:\n",
    "        return 0.0005\n",
    "    elif epoch < 50:\n",
    "        return 0.0001\n",
    "    elif epoch < 100:\n",
    "        return 0.00001\n",
    "    else:\n",
    "        return 0.000001"
   ]
  },
  {
   "cell_type": "code",
   "execution_count": 15,
   "id": "clean-cornwall",
   "metadata": {},
   "outputs": [
    {
     "name": "stdout",
     "output_type": "stream",
     "text": [
      "Epoch 1/100\n",
      "1041/1041 [==============================] - 42s 36ms/step - loss: 1.4641 - kullback_leibler_divergence: 4.4246 - accuracy: 0.4800 - val_loss: 0.8427 - val_kullback_leibler_divergence: 2.6125 - val_accuracy: 0.4891\n",
      "\n",
      "Epoch 00001: saving model to Benchmark/trained_models/LSTM_univariate2_classification____0001.hdf5\n",
      "Epoch 2/100\n",
      "1041/1041 [==============================] - 37s 36ms/step - loss: 0.8341 - kullback_leibler_divergence: 2.8289 - accuracy: 0.4852 - val_loss: 0.8852 - val_kullback_leibler_divergence: 2.6208 - val_accuracy: 0.4619\n",
      "\n",
      "Epoch 00002: saving model to Benchmark/trained_models/LSTM_univariate2_classification____0002.hdf5\n",
      "Epoch 3/100\n",
      "1041/1041 [==============================] - 37s 35ms/step - loss: 0.8418 - kullback_leibler_divergence: 2.8773 - accuracy: 0.4898 - val_loss: 0.8878 - val_kullback_leibler_divergence: 3.0691 - val_accuracy: 0.4863\n",
      "\n",
      "Epoch 00003: saving model to Benchmark/trained_models/LSTM_univariate2_classification____0003.hdf5\n",
      "Epoch 4/100\n",
      "1041/1041 [==============================] - 37s 35ms/step - loss: 0.8430 - kullback_leibler_divergence: 2.8572 - accuracy: 0.4897 - val_loss: 0.8653 - val_kullback_leibler_divergence: 2.7205 - val_accuracy: 0.4766\n",
      "\n",
      "Epoch 00004: saving model to Benchmark/trained_models/LSTM_univariate2_classification____0004.hdf5\n",
      "Epoch 5/100\n",
      "1041/1041 [==============================] - 37s 35ms/step - loss: 0.8357 - kullback_leibler_divergence: 2.8537 - accuracy: 0.4894 - val_loss: 0.8675 - val_kullback_leibler_divergence: 2.8475 - val_accuracy: 0.4876\n",
      "\n",
      "Epoch 00005: saving model to Benchmark/trained_models/LSTM_univariate2_classification____0005.hdf5\n",
      "Epoch 6/100\n",
      "1041/1041 [==============================] - 36s 35ms/step - loss: 0.8249 - kullback_leibler_divergence: 2.8158 - accuracy: 0.4846 - val_loss: 0.8310 - val_kullback_leibler_divergence: 2.7243 - val_accuracy: 0.4860\n",
      "\n",
      "Epoch 00006: saving model to Benchmark/trained_models/LSTM_univariate2_classification____0006.hdf5\n",
      "Epoch 7/100\n",
      "1041/1041 [==============================] - 37s 36ms/step - loss: 0.8130 - kullback_leibler_divergence: 2.8001 - accuracy: 0.4898 - val_loss: 0.8427 - val_kullback_leibler_divergence: 2.6446 - val_accuracy: 0.4794\n",
      "\n",
      "Epoch 00007: saving model to Benchmark/trained_models/LSTM_univariate2_classification____0007.hdf5\n",
      "Epoch 8/100\n",
      "1041/1041 [==============================] - 37s 36ms/step - loss: 0.8039 - kullback_leibler_divergence: 2.7765 - accuracy: 0.4908 - val_loss: 0.8175 - val_kullback_leibler_divergence: 2.4954 - val_accuracy: 0.4817\n",
      "\n",
      "Epoch 00008: saving model to Benchmark/trained_models/LSTM_univariate2_classification____0008.hdf5\n",
      "Epoch 9/100\n",
      "1041/1041 [==============================] - 37s 35ms/step - loss: 0.7979 - kullback_leibler_divergence: 2.7799 - accuracy: 0.4900 - val_loss: 0.8237 - val_kullback_leibler_divergence: 2.7763 - val_accuracy: 0.4860\n",
      "\n",
      "Epoch 00009: saving model to Benchmark/trained_models/LSTM_univariate2_classification____0009.hdf5\n",
      "Epoch 10/100\n",
      "1041/1041 [==============================] - 37s 35ms/step - loss: 0.7944 - kullback_leibler_divergence: 2.7807 - accuracy: 0.4920 - val_loss: 0.8201 - val_kullback_leibler_divergence: 2.5455 - val_accuracy: 0.4860\n",
      "\n",
      "Epoch 00010: saving model to Benchmark/trained_models/LSTM_univariate2_classification____0010.hdf5\n",
      "Epoch 11/100\n",
      "1041/1041 [==============================] - 36s 35ms/step - loss: 0.7893 - kullback_leibler_divergence: 2.8192 - accuracy: 0.4924 - val_loss: 0.8113 - val_kullback_leibler_divergence: 2.7337 - val_accuracy: 0.4845\n",
      "\n",
      "Epoch 00011: saving model to Benchmark/trained_models/LSTM_univariate2_classification____0011.hdf5\n",
      "Epoch 12/100\n",
      "1041/1041 [==============================] - 37s 36ms/step - loss: 0.7877 - kullback_leibler_divergence: 2.8405 - accuracy: 0.4942 - val_loss: 0.8073 - val_kullback_leibler_divergence: 2.6845 - val_accuracy: 0.4853\n",
      "\n",
      "Epoch 00012: saving model to Benchmark/trained_models/LSTM_univariate2_classification____0012.hdf5\n",
      "Epoch 13/100\n",
      "1041/1041 [==============================] - 37s 36ms/step - loss: 0.7876 - kullback_leibler_divergence: 2.8281 - accuracy: 0.4927 - val_loss: 0.8077 - val_kullback_leibler_divergence: 2.7054 - val_accuracy: 0.4881\n",
      "\n",
      "Epoch 00013: saving model to Benchmark/trained_models/LSTM_univariate2_classification____0013.hdf5\n",
      "Epoch 14/100\n",
      "1041/1041 [==============================] - 37s 35ms/step - loss: 0.7870 - kullback_leibler_divergence: 2.8191 - accuracy: 0.4961 - val_loss: 0.8096 - val_kullback_leibler_divergence: 2.9081 - val_accuracy: 0.4868\n",
      "\n",
      "Epoch 00014: saving model to Benchmark/trained_models/LSTM_univariate2_classification____0014.hdf5\n",
      "Epoch 15/100\n",
      "1041/1041 [==============================] - 37s 35ms/step - loss: 0.7871 - kullback_leibler_divergence: 2.8309 - accuracy: 0.4979 - val_loss: 0.8106 - val_kullback_leibler_divergence: 2.7197 - val_accuracy: 0.4896\n",
      "\n",
      "Epoch 00015: saving model to Benchmark/trained_models/LSTM_univariate2_classification____0015.hdf5\n",
      "Epoch 16/100\n",
      "1041/1041 [==============================] - 37s 35ms/step - loss: 0.7860 - kullback_leibler_divergence: 2.8327 - accuracy: 0.4974 - val_loss: 0.8090 - val_kullback_leibler_divergence: 2.7623 - val_accuracy: 0.4916\n",
      "\n",
      "Epoch 00016: saving model to Benchmark/trained_models/LSTM_univariate2_classification____0016.hdf5\n",
      "Epoch 17/100\n",
      "1041/1041 [==============================] - 37s 35ms/step - loss: 0.7861 - kullback_leibler_divergence: 2.8419 - accuracy: 0.4957 - val_loss: 0.8097 - val_kullback_leibler_divergence: 2.8418 - val_accuracy: 0.4799\n",
      "\n",
      "Epoch 00017: saving model to Benchmark/trained_models/LSTM_univariate2_classification____0017.hdf5\n",
      "Epoch 18/100\n",
      "1041/1041 [==============================] - 37s 35ms/step - loss: 0.7846 - kullback_leibler_divergence: 2.8525 - accuracy: 0.4991 - val_loss: 0.8080 - val_kullback_leibler_divergence: 2.6823 - val_accuracy: 0.4843\n",
      "\n",
      "Epoch 00018: saving model to Benchmark/trained_models/LSTM_univariate2_classification____0018.hdf5\n",
      "Epoch 19/100\n",
      "1041/1041 [==============================] - 37s 36ms/step - loss: 0.7843 - kullback_leibler_divergence: 2.8479 - accuracy: 0.4988 - val_loss: 0.8085 - val_kullback_leibler_divergence: 2.7693 - val_accuracy: 0.4876\n",
      "\n",
      "Epoch 00019: saving model to Benchmark/trained_models/LSTM_univariate2_classification____0019.hdf5\n",
      "Epoch 20/100\n",
      "1041/1041 [==============================] - 37s 36ms/step - loss: 0.7839 - kullback_leibler_divergence: 2.8617 - accuracy: 0.4985 - val_loss: 0.8098 - val_kullback_leibler_divergence: 2.8172 - val_accuracy: 0.4901\n",
      "\n",
      "Epoch 00020: saving model to Benchmark/trained_models/LSTM_univariate2_classification____0020.hdf5\n",
      "Epoch 21/100\n",
      "1041/1041 [==============================] - 37s 36ms/step - loss: 0.7803 - kullback_leibler_divergence: 2.8585 - accuracy: 0.5109 - val_loss: 0.8059 - val_kullback_leibler_divergence: 2.7341 - val_accuracy: 0.4954\n",
      "\n",
      "Epoch 00021: saving model to Benchmark/trained_models/LSTM_univariate2_classification____0021.hdf5\n",
      "Epoch 22/100\n",
      "1041/1041 [==============================] - 37s 35ms/step - loss: 0.7799 - kullback_leibler_divergence: 2.8763 - accuracy: 0.5119 - val_loss: 0.8054 - val_kullback_leibler_divergence: 2.7386 - val_accuracy: 0.4924\n",
      "\n",
      "Epoch 00022: saving model to Benchmark/trained_models/LSTM_univariate2_classification____0022.hdf5\n",
      "Epoch 23/100\n",
      "1041/1041 [==============================] - 37s 35ms/step - loss: 0.7789 - kullback_leibler_divergence: 2.8841 - accuracy: 0.5120 - val_loss: 0.8071 - val_kullback_leibler_divergence: 2.8104 - val_accuracy: 0.4970\n",
      "\n",
      "Epoch 00023: saving model to Benchmark/trained_models/LSTM_univariate2_classification____0023.hdf5\n",
      "Epoch 24/100\n",
      "1041/1041 [==============================] - 37s 35ms/step - loss: 0.7788 - kullback_leibler_divergence: 2.8993 - accuracy: 0.5125 - val_loss: 0.8065 - val_kullback_leibler_divergence: 2.7439 - val_accuracy: 0.4985\n",
      "\n",
      "Epoch 00024: saving model to Benchmark/trained_models/LSTM_univariate2_classification____0024.hdf5\n",
      "Epoch 25/100\n",
      "1041/1041 [==============================] - 37s 35ms/step - loss: 0.7782 - kullback_leibler_divergence: 2.8973 - accuracy: 0.5142 - val_loss: 0.8064 - val_kullback_leibler_divergence: 2.6824 - val_accuracy: 0.5020\n",
      "\n",
      "Epoch 00025: saving model to Benchmark/trained_models/LSTM_univariate2_classification____0025.hdf5\n",
      "Epoch 26/100\n",
      "1041/1041 [==============================] - 36s 35ms/step - loss: 0.7779 - kullback_leibler_divergence: 2.9029 - accuracy: 0.5184 - val_loss: 0.8083 - val_kullback_leibler_divergence: 2.7719 - val_accuracy: 0.4957\n",
      "\n",
      "Epoch 00026: saving model to Benchmark/trained_models/LSTM_univariate2_classification____0026.hdf5\n",
      "Epoch 27/100\n",
      "1041/1041 [==============================] - 37s 35ms/step - loss: 0.7781 - kullback_leibler_divergence: 2.8956 - accuracy: 0.5192 - val_loss: 0.8079 - val_kullback_leibler_divergence: 2.7167 - val_accuracy: 0.4939\n",
      "\n",
      "Epoch 00027: saving model to Benchmark/trained_models/LSTM_univariate2_classification____0027.hdf5\n",
      "Epoch 28/100\n",
      "1041/1041 [==============================] - 37s 35ms/step - loss: 0.7785 - kullback_leibler_divergence: 2.9020 - accuracy: 0.5175 - val_loss: 0.8079 - val_kullback_leibler_divergence: 2.6798 - val_accuracy: 0.4919\n",
      "\n",
      "Epoch 00028: saving model to Benchmark/trained_models/LSTM_univariate2_classification____0028.hdf5\n",
      "Epoch 29/100\n",
      "1041/1041 [==============================] - 37s 36ms/step - loss: 0.7775 - kullback_leibler_divergence: 2.8921 - accuracy: 0.5213 - val_loss: 0.8100 - val_kullback_leibler_divergence: 2.7397 - val_accuracy: 0.4929\n",
      "\n",
      "Epoch 00029: saving model to Benchmark/trained_models/LSTM_univariate2_classification____0029.hdf5\n",
      "Epoch 30/100\n",
      "1041/1041 [==============================] - 36s 35ms/step - loss: 0.7777 - kullback_leibler_divergence: 2.9116 - accuracy: 0.5164 - val_loss: 0.8101 - val_kullback_leibler_divergence: 2.7667 - val_accuracy: 0.4954\n",
      "\n",
      "Epoch 00030: saving model to Benchmark/trained_models/LSTM_univariate2_classification____0030.hdf5\n",
      "Epoch 31/100\n",
      "1041/1041 [==============================] - 36s 35ms/step - loss: 0.7764 - kullback_leibler_divergence: 2.9097 - accuracy: 0.5248 - val_loss: 0.8095 - val_kullback_leibler_divergence: 2.7246 - val_accuracy: 0.4970\n",
      "\n",
      "Epoch 00031: saving model to Benchmark/trained_models/LSTM_univariate2_classification____0031.hdf5\n",
      "Epoch 32/100\n",
      "1041/1041 [==============================] - 36s 35ms/step - loss: 0.7756 - kullback_leibler_divergence: 2.9218 - accuracy: 0.5211 - val_loss: 0.8103 - val_kullback_leibler_divergence: 2.6694 - val_accuracy: 0.4919\n",
      "\n",
      "Epoch 00032: saving model to Benchmark/trained_models/LSTM_univariate2_classification____0032.hdf5\n",
      "Epoch 33/100\n",
      "1041/1041 [==============================] - 36s 35ms/step - loss: 0.7764 - kullback_leibler_divergence: 2.9263 - accuracy: 0.5183 - val_loss: 0.8105 - val_kullback_leibler_divergence: 2.7191 - val_accuracy: 0.4909\n",
      "\n",
      "Epoch 00033: saving model to Benchmark/trained_models/LSTM_univariate2_classification____0033.hdf5\n",
      "Epoch 34/100\n",
      "1041/1041 [==============================] - 37s 35ms/step - loss: 0.7764 - kullback_leibler_divergence: 2.9177 - accuracy: 0.5214 - val_loss: 0.8121 - val_kullback_leibler_divergence: 2.7326 - val_accuracy: 0.4949\n",
      "\n",
      "Epoch 00034: saving model to Benchmark/trained_models/LSTM_univariate2_classification____0034.hdf5\n",
      "Epoch 35/100\n",
      "1041/1041 [==============================] - 37s 35ms/step - loss: 0.7745 - kullback_leibler_divergence: 2.9356 - accuracy: 0.5266 - val_loss: 0.8124 - val_kullback_leibler_divergence: 2.6892 - val_accuracy: 0.4878\n",
      "\n",
      "Epoch 00035: saving model to Benchmark/trained_models/LSTM_univariate2_classification____0035.hdf5\n",
      "Epoch 36/100\n",
      "1041/1041 [==============================] - 36s 35ms/step - loss: 0.7754 - kullback_leibler_divergence: 2.9307 - accuracy: 0.5209 - val_loss: 0.8120 - val_kullback_leibler_divergence: 2.7052 - val_accuracy: 0.4919\n",
      "\n",
      "Epoch 00036: saving model to Benchmark/trained_models/LSTM_univariate2_classification____0036.hdf5\n",
      "Epoch 37/100\n",
      "1041/1041 [==============================] - 36s 35ms/step - loss: 0.7748 - kullback_leibler_divergence: 2.9433 - accuracy: 0.5260 - val_loss: 0.8139 - val_kullback_leibler_divergence: 2.7063 - val_accuracy: 0.4964\n",
      "\n",
      "Epoch 00037: saving model to Benchmark/trained_models/LSTM_univariate2_classification____0037.hdf5\n",
      "Epoch 38/100\n",
      "1041/1041 [==============================] - 36s 35ms/step - loss: 0.7736 - kullback_leibler_divergence: 2.9287 - accuracy: 0.5275 - val_loss: 0.8138 - val_kullback_leibler_divergence: 2.8059 - val_accuracy: 0.4972\n",
      "\n",
      "Epoch 00038: saving model to Benchmark/trained_models/LSTM_univariate2_classification____0038.hdf5\n",
      "Epoch 39/100\n",
      "1041/1041 [==============================] - 37s 35ms/step - loss: 0.7753 - kullback_leibler_divergence: 2.9470 - accuracy: 0.5216 - val_loss: 0.8117 - val_kullback_leibler_divergence: 2.7228 - val_accuracy: 0.4962\n",
      "\n",
      "Epoch 00039: saving model to Benchmark/trained_models/LSTM_univariate2_classification____0039.hdf5\n",
      "Epoch 40/100\n",
      "1041/1041 [==============================] - 37s 35ms/step - loss: 0.7751 - kullback_leibler_divergence: 2.9154 - accuracy: 0.5258 - val_loss: 0.8147 - val_kullback_leibler_divergence: 2.8418 - val_accuracy: 0.4982\n",
      "\n",
      "Epoch 00040: saving model to Benchmark/trained_models/LSTM_univariate2_classification____0040.hdf5\n",
      "Epoch 41/100\n",
      "1041/1041 [==============================] - 36s 35ms/step - loss: 0.7741 - kullback_leibler_divergence: 2.9585 - accuracy: 0.5267 - val_loss: 0.8132 - val_kullback_leibler_divergence: 2.6897 - val_accuracy: 0.5005\n",
      "\n",
      "Epoch 00041: saving model to Benchmark/trained_models/LSTM_univariate2_classification____0041.hdf5\n",
      "Epoch 42/100\n",
      "1041/1041 [==============================] - 36s 35ms/step - loss: 0.7732 - kullback_leibler_divergence: 2.9489 - accuracy: 0.5287 - val_loss: 0.8141 - val_kullback_leibler_divergence: 2.7416 - val_accuracy: 0.4926\n",
      "\n",
      "Epoch 00042: saving model to Benchmark/trained_models/LSTM_univariate2_classification____0042.hdf5\n",
      "Epoch 43/100\n",
      "1041/1041 [==============================] - 37s 35ms/step - loss: 0.7723 - kullback_leibler_divergence: 2.9448 - accuracy: 0.5300 - val_loss: 0.8165 - val_kullback_leibler_divergence: 2.7609 - val_accuracy: 0.4891\n",
      "\n",
      "Epoch 00043: saving model to Benchmark/trained_models/LSTM_univariate2_classification____0043.hdf5\n",
      "Epoch 44/100\n",
      "1041/1041 [==============================] - 36s 35ms/step - loss: 0.7740 - kullback_leibler_divergence: 2.9451 - accuracy: 0.5263 - val_loss: 0.8154 - val_kullback_leibler_divergence: 2.7408 - val_accuracy: 0.4901\n",
      "\n",
      "Epoch 00044: saving model to Benchmark/trained_models/LSTM_univariate2_classification____0044.hdf5\n",
      "Epoch 45/100\n",
      "1041/1041 [==============================] - 36s 35ms/step - loss: 0.7728 - kullback_leibler_divergence: 2.9475 - accuracy: 0.5268 - val_loss: 0.8161 - val_kullback_leibler_divergence: 2.7615 - val_accuracy: 0.4995\n",
      "\n",
      "Epoch 00045: saving model to Benchmark/trained_models/LSTM_univariate2_classification____0045.hdf5\n",
      "Epoch 46/100\n",
      "1041/1041 [==============================] - 37s 35ms/step - loss: 0.7722 - kullback_leibler_divergence: 2.9493 - accuracy: 0.5315 - val_loss: 0.8180 - val_kullback_leibler_divergence: 2.7836 - val_accuracy: 0.4914\n",
      "\n",
      "Epoch 00046: saving model to Benchmark/trained_models/LSTM_univariate2_classification____0046.hdf5\n",
      "Epoch 47/100\n",
      "1041/1041 [==============================] - 37s 35ms/step - loss: 0.7728 - kullback_leibler_divergence: 2.9495 - accuracy: 0.5303 - val_loss: 0.8194 - val_kullback_leibler_divergence: 2.8125 - val_accuracy: 0.4919\n",
      "\n",
      "Epoch 00047: saving model to Benchmark/trained_models/LSTM_univariate2_classification____0047.hdf5\n",
      "Epoch 48/100\n",
      "1041/1041 [==============================] - 37s 35ms/step - loss: 0.7710 - kullback_leibler_divergence: 2.9585 - accuracy: 0.5322 - val_loss: 0.8187 - val_kullback_leibler_divergence: 2.7867 - val_accuracy: 0.4921\n",
      "\n",
      "Epoch 00048: saving model to Benchmark/trained_models/LSTM_univariate2_classification____0048.hdf5\n",
      "Epoch 49/100\n",
      "1041/1041 [==============================] - 37s 35ms/step - loss: 0.7718 - kullback_leibler_divergence: 2.9613 - accuracy: 0.5299 - val_loss: 0.8196 - val_kullback_leibler_divergence: 2.7824 - val_accuracy: 0.4921\n",
      "\n",
      "Epoch 00049: saving model to Benchmark/trained_models/LSTM_univariate2_classification____0049.hdf5\n",
      "Epoch 50/100\n",
      "1041/1041 [==============================] - 36s 35ms/step - loss: 0.7721 - kullback_leibler_divergence: 2.9733 - accuracy: 0.5287 - val_loss: 0.8209 - val_kullback_leibler_divergence: 2.7998 - val_accuracy: 0.4893\n",
      "\n",
      "Epoch 00050: saving model to Benchmark/trained_models/LSTM_univariate2_classification____0050.hdf5\n",
      "Epoch 51/100\n",
      "1041/1041 [==============================] - 37s 35ms/step - loss: 0.7695 - kullback_leibler_divergence: 2.9594 - accuracy: 0.5368 - val_loss: 0.8207 - val_kullback_leibler_divergence: 2.7912 - val_accuracy: 0.4901\n",
      "\n",
      "Epoch 00051: saving model to Benchmark/trained_models/LSTM_univariate2_classification____0051.hdf5\n",
      "Epoch 52/100\n",
      "1041/1041 [==============================] - 37s 35ms/step - loss: 0.7697 - kullback_leibler_divergence: 2.9699 - accuracy: 0.5334 - val_loss: 0.8211 - val_kullback_leibler_divergence: 2.7877 - val_accuracy: 0.4888\n",
      "\n",
      "Epoch 00052: saving model to Benchmark/trained_models/LSTM_univariate2_classification____0052.hdf5\n",
      "Epoch 53/100\n",
      "1041/1041 [==============================] - 37s 35ms/step - loss: 0.7684 - kullback_leibler_divergence: 2.9769 - accuracy: 0.5348 - val_loss: 0.8212 - val_kullback_leibler_divergence: 2.7804 - val_accuracy: 0.4876\n",
      "\n",
      "Epoch 00053: saving model to Benchmark/trained_models/LSTM_univariate2_classification____0053.hdf5\n",
      "Epoch 54/100\n",
      "1041/1041 [==============================] - 37s 35ms/step - loss: 0.7696 - kullback_leibler_divergence: 2.9768 - accuracy: 0.5347 - val_loss: 0.8216 - val_kullback_leibler_divergence: 2.7867 - val_accuracy: 0.4909\n",
      "\n",
      "Epoch 00054: saving model to Benchmark/trained_models/LSTM_univariate2_classification____0054.hdf5\n",
      "Epoch 55/100\n",
      "1041/1041 [==============================] - 37s 35ms/step - loss: 0.7695 - kullback_leibler_divergence: 2.9800 - accuracy: 0.5384 - val_loss: 0.8218 - val_kullback_leibler_divergence: 2.7866 - val_accuracy: 0.4911\n",
      "\n",
      "Epoch 00055: saving model to Benchmark/trained_models/LSTM_univariate2_classification____0055.hdf5\n",
      "Epoch 56/100\n",
      "1041/1041 [==============================] - 36s 35ms/step - loss: 0.7696 - kullback_leibler_divergence: 2.9778 - accuracy: 0.5344 - val_loss: 0.8221 - val_kullback_leibler_divergence: 2.7872 - val_accuracy: 0.4909\n",
      "\n",
      "Epoch 00056: saving model to Benchmark/trained_models/LSTM_univariate2_classification____0056.hdf5\n",
      "Epoch 57/100\n",
      "1041/1041 [==============================] - 37s 35ms/step - loss: 0.7694 - kullback_leibler_divergence: 2.9824 - accuracy: 0.5344 - val_loss: 0.8223 - val_kullback_leibler_divergence: 2.7886 - val_accuracy: 0.4888\n",
      "\n",
      "Epoch 00057: saving model to Benchmark/trained_models/LSTM_univariate2_classification____0057.hdf5\n",
      "Epoch 58/100\n",
      "1041/1041 [==============================] - 37s 36ms/step - loss: 0.7697 - kullback_leibler_divergence: 2.9817 - accuracy: 0.5358 - val_loss: 0.8225 - val_kullback_leibler_divergence: 2.7898 - val_accuracy: 0.4888\n",
      "\n",
      "Epoch 00058: saving model to Benchmark/trained_models/LSTM_univariate2_classification____0058.hdf5\n",
      "Epoch 59/100\n",
      "1041/1041 [==============================] - 37s 35ms/step - loss: 0.7694 - kullback_leibler_divergence: 2.9820 - accuracy: 0.5365 - val_loss: 0.8227 - val_kullback_leibler_divergence: 2.7927 - val_accuracy: 0.4886\n",
      "\n",
      "Epoch 00059: saving model to Benchmark/trained_models/LSTM_univariate2_classification____0059.hdf5\n",
      "Epoch 60/100\n",
      "1041/1041 [==============================] - 37s 35ms/step - loss: 0.7691 - kullback_leibler_divergence: 2.9878 - accuracy: 0.5320 - val_loss: 0.8226 - val_kullback_leibler_divergence: 2.7820 - val_accuracy: 0.4896\n",
      "\n",
      "Epoch 00060: saving model to Benchmark/trained_models/LSTM_univariate2_classification____0060.hdf5\n",
      "Epoch 61/100\n",
      "1041/1041 [==============================] - 37s 36ms/step - loss: 0.7686 - kullback_leibler_divergence: 2.9846 - accuracy: 0.5364 - val_loss: 0.8225 - val_kullback_leibler_divergence: 2.7689 - val_accuracy: 0.4876\n",
      "\n",
      "Epoch 00061: saving model to Benchmark/trained_models/LSTM_univariate2_classification____0061.hdf5\n",
      "Epoch 62/100\n",
      "1041/1041 [==============================] - 36s 35ms/step - loss: 0.7679 - kullback_leibler_divergence: 2.9805 - accuracy: 0.5377 - val_loss: 0.8230 - val_kullback_leibler_divergence: 2.7825 - val_accuracy: 0.4893\n",
      "\n",
      "Epoch 00062: saving model to Benchmark/trained_models/LSTM_univariate2_classification____0062.hdf5\n",
      "Epoch 63/100\n",
      "1041/1041 [==============================] - 37s 36ms/step - loss: 0.7690 - kullback_leibler_divergence: 2.9756 - accuracy: 0.5351 - val_loss: 0.8226 - val_kullback_leibler_divergence: 2.7812 - val_accuracy: 0.4909\n",
      "\n",
      "Epoch 00063: saving model to Benchmark/trained_models/LSTM_univariate2_classification____0063.hdf5\n",
      "Epoch 64/100\n",
      "1041/1041 [==============================] - 37s 35ms/step - loss: 0.7678 - kullback_leibler_divergence: 2.9906 - accuracy: 0.5359 - val_loss: 0.8226 - val_kullback_leibler_divergence: 2.7767 - val_accuracy: 0.4916\n",
      "\n",
      "Epoch 00064: saving model to Benchmark/trained_models/LSTM_univariate2_classification____0064.hdf5\n",
      "Epoch 65/100\n",
      "1041/1041 [==============================] - 37s 35ms/step - loss: 0.7687 - kullback_leibler_divergence: 2.9918 - accuracy: 0.5360 - val_loss: 0.8228 - val_kullback_leibler_divergence: 2.7760 - val_accuracy: 0.4883\n",
      "\n",
      "Epoch 00065: saving model to Benchmark/trained_models/LSTM_univariate2_classification____0065.hdf5\n",
      "Epoch 66/100\n",
      "1041/1041 [==============================] - 37s 35ms/step - loss: 0.7694 - kullback_leibler_divergence: 2.9898 - accuracy: 0.5341 - val_loss: 0.8227 - val_kullback_leibler_divergence: 2.7811 - val_accuracy: 0.4888\n",
      "\n",
      "Epoch 00066: saving model to Benchmark/trained_models/LSTM_univariate2_classification____0066.hdf5\n",
      "Epoch 67/100\n",
      "1041/1041 [==============================] - 37s 35ms/step - loss: 0.7672 - kullback_leibler_divergence: 2.9906 - accuracy: 0.5396 - val_loss: 0.8232 - val_kullback_leibler_divergence: 2.7921 - val_accuracy: 0.4901\n",
      "\n",
      "Epoch 00067: saving model to Benchmark/trained_models/LSTM_univariate2_classification____0067.hdf5\n",
      "Epoch 68/100\n",
      "1041/1041 [==============================] - 37s 35ms/step - loss: 0.7682 - kullback_leibler_divergence: 2.9991 - accuracy: 0.5380 - val_loss: 0.8230 - val_kullback_leibler_divergence: 2.7828 - val_accuracy: 0.4926\n",
      "\n",
      "Epoch 00068: saving model to Benchmark/trained_models/LSTM_univariate2_classification____0068.hdf5\n",
      "Epoch 69/100\n",
      "1041/1041 [==============================] - 37s 35ms/step - loss: 0.7663 - kullback_leibler_divergence: 2.9917 - accuracy: 0.5436 - val_loss: 0.8236 - val_kullback_leibler_divergence: 2.7852 - val_accuracy: 0.4904\n",
      "\n",
      "Epoch 00069: saving model to Benchmark/trained_models/LSTM_univariate2_classification____0069.hdf5\n",
      "Epoch 70/100\n",
      "1041/1041 [==============================] - 36s 35ms/step - loss: 0.7678 - kullback_leibler_divergence: 2.9903 - accuracy: 0.5388 - val_loss: 0.8233 - val_kullback_leibler_divergence: 2.7824 - val_accuracy: 0.4891\n",
      "\n",
      "Epoch 00070: saving model to Benchmark/trained_models/LSTM_univariate2_classification____0070.hdf5\n",
      "Epoch 71/100\n",
      "1041/1041 [==============================] - 37s 35ms/step - loss: 0.7679 - kullback_leibler_divergence: 2.9952 - accuracy: 0.5407 - val_loss: 0.8237 - val_kullback_leibler_divergence: 2.7804 - val_accuracy: 0.4886\n",
      "\n",
      "Epoch 00071: saving model to Benchmark/trained_models/LSTM_univariate2_classification____0071.hdf5\n",
      "Epoch 72/100\n",
      "1041/1041 [==============================] - 37s 36ms/step - loss: 0.7672 - kullback_leibler_divergence: 2.9912 - accuracy: 0.5426 - val_loss: 0.8239 - val_kullback_leibler_divergence: 2.7799 - val_accuracy: 0.4888\n",
      "\n",
      "Epoch 00072: saving model to Benchmark/trained_models/LSTM_univariate2_classification____0072.hdf5\n",
      "Epoch 73/100\n",
      "1041/1041 [==============================] - 37s 35ms/step - loss: 0.7695 - kullback_leibler_divergence: 2.9958 - accuracy: 0.5352 - val_loss: 0.8238 - val_kullback_leibler_divergence: 2.7853 - val_accuracy: 0.4919\n",
      "\n",
      "Epoch 00073: saving model to Benchmark/trained_models/LSTM_univariate2_classification____0073.hdf5\n",
      "Epoch 74/100\n",
      "1041/1041 [==============================] - 36s 35ms/step - loss: 0.7687 - kullback_leibler_divergence: 2.9935 - accuracy: 0.5351 - val_loss: 0.8238 - val_kullback_leibler_divergence: 2.7880 - val_accuracy: 0.4911\n",
      "\n",
      "Epoch 00074: saving model to Benchmark/trained_models/LSTM_univariate2_classification____0074.hdf5\n",
      "Epoch 75/100\n",
      "1041/1041 [==============================] - 37s 35ms/step - loss: 0.7679 - kullback_leibler_divergence: 2.9876 - accuracy: 0.5355 - val_loss: 0.8237 - val_kullback_leibler_divergence: 2.7910 - val_accuracy: 0.4898\n",
      "\n",
      "Epoch 00075: saving model to Benchmark/trained_models/LSTM_univariate2_classification____0075.hdf5\n",
      "Epoch 76/100\n",
      "1041/1041 [==============================] - 37s 35ms/step - loss: 0.7674 - kullback_leibler_divergence: 2.9988 - accuracy: 0.5382 - val_loss: 0.8243 - val_kullback_leibler_divergence: 2.7993 - val_accuracy: 0.4888\n",
      "\n",
      "Epoch 00076: saving model to Benchmark/trained_models/LSTM_univariate2_classification____0076.hdf5\n",
      "Epoch 77/100\n",
      "1041/1041 [==============================] - 37s 35ms/step - loss: 0.7685 - kullback_leibler_divergence: 3.0027 - accuracy: 0.5337 - val_loss: 0.8242 - val_kullback_leibler_divergence: 2.7953 - val_accuracy: 0.4898\n",
      "\n",
      "Epoch 00077: saving model to Benchmark/trained_models/LSTM_univariate2_classification____0077.hdf5\n",
      "Epoch 78/100\n",
      "1041/1041 [==============================] - 37s 35ms/step - loss: 0.7670 - kullback_leibler_divergence: 2.9967 - accuracy: 0.5345 - val_loss: 0.8241 - val_kullback_leibler_divergence: 2.7999 - val_accuracy: 0.4904\n",
      "\n",
      "Epoch 00078: saving model to Benchmark/trained_models/LSTM_univariate2_classification____0078.hdf5\n",
      "Epoch 79/100\n",
      "1041/1041 [==============================] - 37s 36ms/step - loss: 0.7683 - kullback_leibler_divergence: 2.9985 - accuracy: 0.5358 - val_loss: 0.8242 - val_kullback_leibler_divergence: 2.8069 - val_accuracy: 0.4914\n",
      "\n",
      "Epoch 00079: saving model to Benchmark/trained_models/LSTM_univariate2_classification____0079.hdf5\n",
      "Epoch 80/100\n",
      "1041/1041 [==============================] - 37s 35ms/step - loss: 0.7675 - kullback_leibler_divergence: 3.0021 - accuracy: 0.5354 - val_loss: 0.8247 - val_kullback_leibler_divergence: 2.8165 - val_accuracy: 0.4916\n",
      "\n",
      "Epoch 00080: saving model to Benchmark/trained_models/LSTM_univariate2_classification____0080.hdf5\n",
      "Epoch 81/100\n",
      "1041/1041 [==============================] - 36s 35ms/step - loss: 0.7682 - kullback_leibler_divergence: 2.9977 - accuracy: 0.5396 - val_loss: 0.8248 - val_kullback_leibler_divergence: 2.8140 - val_accuracy: 0.4898\n",
      "\n",
      "Epoch 00081: saving model to Benchmark/trained_models/LSTM_univariate2_classification____0081.hdf5\n",
      "Epoch 82/100\n",
      "1041/1041 [==============================] - 37s 36ms/step - loss: 0.7673 - kullback_leibler_divergence: 2.9997 - accuracy: 0.5387 - val_loss: 0.8246 - val_kullback_leibler_divergence: 2.8066 - val_accuracy: 0.4942\n",
      "\n",
      "Epoch 00082: saving model to Benchmark/trained_models/LSTM_univariate2_classification____0082.hdf5\n",
      "Epoch 83/100\n",
      "1041/1041 [==============================] - 37s 35ms/step - loss: 0.7665 - kullback_leibler_divergence: 3.0042 - accuracy: 0.5387 - val_loss: 0.8249 - val_kullback_leibler_divergence: 2.8135 - val_accuracy: 0.4921\n",
      "\n",
      "Epoch 00083: saving model to Benchmark/trained_models/LSTM_univariate2_classification____0083.hdf5\n",
      "Epoch 84/100\n",
      "1041/1041 [==============================] - 37s 36ms/step - loss: 0.7664 - kullback_leibler_divergence: 3.0006 - accuracy: 0.5403 - val_loss: 0.8246 - val_kullback_leibler_divergence: 2.8087 - val_accuracy: 0.4947\n",
      "\n",
      "Epoch 00084: saving model to Benchmark/trained_models/LSTM_univariate2_classification____0084.hdf5\n",
      "Epoch 85/100\n",
      "1041/1041 [==============================] - 37s 36ms/step - loss: 0.7667 - kullback_leibler_divergence: 3.0100 - accuracy: 0.5376 - val_loss: 0.8247 - val_kullback_leibler_divergence: 2.8098 - val_accuracy: 0.4934\n",
      "\n",
      "Epoch 00085: saving model to Benchmark/trained_models/LSTM_univariate2_classification____0085.hdf5\n",
      "Epoch 86/100\n",
      "1041/1041 [==============================] - 36s 35ms/step - loss: 0.7666 - kullback_leibler_divergence: 3.0088 - accuracy: 0.5390 - val_loss: 0.8250 - val_kullback_leibler_divergence: 2.8076 - val_accuracy: 0.4924\n",
      "\n",
      "Epoch 00086: saving model to Benchmark/trained_models/LSTM_univariate2_classification____0086.hdf5\n",
      "Epoch 87/100\n",
      "1041/1041 [==============================] - 37s 36ms/step - loss: 0.7663 - kullback_leibler_divergence: 3.0057 - accuracy: 0.5405 - val_loss: 0.8250 - val_kullback_leibler_divergence: 2.8090 - val_accuracy: 0.4934\n",
      "\n",
      "Epoch 00087: saving model to Benchmark/trained_models/LSTM_univariate2_classification____0087.hdf5\n",
      "Epoch 88/100\n",
      "1041/1041 [==============================] - 37s 35ms/step - loss: 0.7665 - kullback_leibler_divergence: 3.0058 - accuracy: 0.5396 - val_loss: 0.8255 - val_kullback_leibler_divergence: 2.8162 - val_accuracy: 0.4909\n",
      "\n",
      "Epoch 00088: saving model to Benchmark/trained_models/LSTM_univariate2_classification____0088.hdf5\n",
      "Epoch 89/100\n",
      "1041/1041 [==============================] - 37s 35ms/step - loss: 0.7674 - kullback_leibler_divergence: 3.0204 - accuracy: 0.5384 - val_loss: 0.8250 - val_kullback_leibler_divergence: 2.8001 - val_accuracy: 0.4924\n",
      "\n",
      "Epoch 00089: saving model to Benchmark/trained_models/LSTM_univariate2_classification____0089.hdf5\n",
      "Epoch 90/100\n",
      "1041/1041 [==============================] - 37s 35ms/step - loss: 0.7682 - kullback_leibler_divergence: 3.0073 - accuracy: 0.5314 - val_loss: 0.8246 - val_kullback_leibler_divergence: 2.7982 - val_accuracy: 0.4952\n",
      "\n",
      "Epoch 00090: saving model to Benchmark/trained_models/LSTM_univariate2_classification____0090.hdf5\n",
      "Epoch 91/100\n",
      "1041/1041 [==============================] - 37s 36ms/step - loss: 0.7667 - kullback_leibler_divergence: 3.0030 - accuracy: 0.5426 - val_loss: 0.8251 - val_kullback_leibler_divergence: 2.8032 - val_accuracy: 0.4964\n",
      "\n",
      "Epoch 00091: saving model to Benchmark/trained_models/LSTM_univariate2_classification____0091.hdf5\n",
      "Epoch 92/100\n",
      "1041/1041 [==============================] - 37s 35ms/step - loss: 0.7670 - kullback_leibler_divergence: 3.0093 - accuracy: 0.5418 - val_loss: 0.8254 - val_kullback_leibler_divergence: 2.8060 - val_accuracy: 0.4959\n",
      "\n",
      "Epoch 00092: saving model to Benchmark/trained_models/LSTM_univariate2_classification____0092.hdf5\n",
      "Epoch 93/100\n",
      "1041/1041 [==============================] - 37s 35ms/step - loss: 0.7689 - kullback_leibler_divergence: 3.0016 - accuracy: 0.5347 - val_loss: 0.8249 - val_kullback_leibler_divergence: 2.7951 - val_accuracy: 0.4947\n",
      "\n",
      "Epoch 00093: saving model to Benchmark/trained_models/LSTM_univariate2_classification____0093.hdf5\n",
      "Epoch 94/100\n",
      "1041/1041 [==============================] - 37s 35ms/step - loss: 0.7671 - kullback_leibler_divergence: 3.0018 - accuracy: 0.5397 - val_loss: 0.8251 - val_kullback_leibler_divergence: 2.8010 - val_accuracy: 0.4952\n",
      "\n",
      "Epoch 00094: saving model to Benchmark/trained_models/LSTM_univariate2_classification____0094.hdf5\n",
      "Epoch 95/100\n",
      "1041/1041 [==============================] - 37s 35ms/step - loss: 0.7662 - kullback_leibler_divergence: 3.0073 - accuracy: 0.5419 - val_loss: 0.8256 - val_kullback_leibler_divergence: 2.8108 - val_accuracy: 0.4934\n",
      "\n",
      "Epoch 00095: saving model to Benchmark/trained_models/LSTM_univariate2_classification____0095.hdf5\n",
      "Epoch 96/100\n",
      "1041/1041 [==============================] - 37s 35ms/step - loss: 0.7666 - kullback_leibler_divergence: 3.0105 - accuracy: 0.5379 - val_loss: 0.8256 - val_kullback_leibler_divergence: 2.8123 - val_accuracy: 0.4929\n",
      "\n",
      "Epoch 00096: saving model to Benchmark/trained_models/LSTM_univariate2_classification____0096.hdf5\n",
      "Epoch 97/100\n",
      "1041/1041 [==============================] - 37s 35ms/step - loss: 0.7664 - kullback_leibler_divergence: 3.0132 - accuracy: 0.5402 - val_loss: 0.8257 - val_kullback_leibler_divergence: 2.8060 - val_accuracy: 0.4957\n",
      "\n",
      "Epoch 00097: saving model to Benchmark/trained_models/LSTM_univariate2_classification____0097.hdf5\n",
      "Epoch 98/100\n",
      "1041/1041 [==============================] - 37s 35ms/step - loss: 0.7666 - kullback_leibler_divergence: 3.0088 - accuracy: 0.5385 - val_loss: 0.8258 - val_kullback_leibler_divergence: 2.8061 - val_accuracy: 0.4886\n",
      "\n",
      "Epoch 00098: saving model to Benchmark/trained_models/LSTM_univariate2_classification____0098.hdf5\n",
      "Epoch 99/100\n",
      "1041/1041 [==============================] - 37s 36ms/step - loss: 0.7666 - kullback_leibler_divergence: 3.0177 - accuracy: 0.5379 - val_loss: 0.8260 - val_kullback_leibler_divergence: 2.8016 - val_accuracy: 0.4904\n",
      "\n",
      "Epoch 00099: saving model to Benchmark/trained_models/LSTM_univariate2_classification____0099.hdf5\n",
      "Epoch 100/100\n",
      "1041/1041 [==============================] - 37s 35ms/step - loss: 0.7664 - kullback_leibler_divergence: 3.0065 - accuracy: 0.5383 - val_loss: 0.8259 - val_kullback_leibler_divergence: 2.8091 - val_accuracy: 0.4911\n",
      "\n",
      "Epoch 00100: saving model to Benchmark/trained_models/LSTM_univariate2_classification____0100.hdf5\n"
     ]
    }
   ],
   "source": [
    "from tensorflow.keras.optimizers import Adam\n",
    "my_LSTM_model = LSTM_model()\n",
    "my_LSTM_model.compile(\n",
    "    optimizer=Adam(\n",
    "        learning_rate=0.05\n",
    "    ),\n",
    "    loss=SparseCategoricalCrossentropy(from_logits=False),\n",
    "#     loss='accuracy',\n",
    "    metrics=['kullback_leibler_divergence', 'accuracy'],\n",
    ")\n",
    "\n",
    "history = my_LSTM_model.fit(\n",
    "    X_train, y_train,\n",
    "    epochs=100,\n",
    "    batch_size=32,\n",
    "    validation_data=(X_val, y_val),\n",
    "    verbose=1,\n",
    "    shuffle=True,\n",
    "    callbacks=[\n",
    "        # earlyStopping(),\n",
    "        LearningRateScheduler(learning_rate_scheduler),\n",
    "        model_checkpoints,\n",
    "        tf.keras.callbacks.TerminateOnNaN()\n",
    "    ]\n",
    ")"
   ]
  },
  {
   "cell_type": "code",
   "execution_count": 16,
   "id": "terminal-gallery",
   "metadata": {},
   "outputs": [],
   "source": [
    "with open(f'Benchmark/trained_models/{name}____history.pkl', 'wb') as f:\n",
    "    pickle.dump(history.history, f)"
   ]
  },
  {
   "cell_type": "code",
   "execution_count": 17,
   "id": "cognitive-compression",
   "metadata": {},
   "outputs": [],
   "source": [
    "if 'my_LSTM_model' not in globals():\n",
    "    model_last = sorted([i for i in os.listdir('Benchmark/trained_models/') if name in i and 'hdf5' in i])[-1]\n",
    "    my_LSTM_model = tf.keras.models.load_model(\n",
    "        os.path.join('Benchmark/trained_models', model_last),\n",
    "        custom_objects={'kl_divergence': kullback_leibler_divergence}\n",
    "    )\n",
    "if 'history' not in globals():\n",
    "    with open(f'Benchmark/trained_models/{name}____history.pkl', 'rb') as f:\n",
    "        history = pickle.load(f)\n",
    "if hasattr(history, 'history'):\n",
    "    history = history.history"
   ]
  },
  {
   "cell_type": "code",
   "execution_count": null,
   "id": "smooth-shadow",
   "metadata": {},
   "outputs": [],
   "source": []
  },
  {
   "cell_type": "code",
   "execution_count": 18,
   "id": "herbal-touch",
   "metadata": {},
   "outputs": [
    {
     "data": {
      "image/png": "[encoded data removed]",
      "text/plain": [
       "<Figure size 432x288 with 1 Axes>"
      ]
     },
     "metadata": {
      "needs_background": "light"
     },
     "output_type": "display_data"
    }
   ],
   "source": [
    "plt.plot(history['loss'], label='train')\n",
    "plt.plot(history['val_loss'], label='test')\n",
    "plt.legend()\n",
    "plt.show()"
   ]
  },
  {
   "cell_type": "code",
   "execution_count": 19,
   "id": "important-incidence",
   "metadata": {},
   "outputs": [
    {
     "data": {
      "image/png": "[encoded data removed]",
      "text/plain": [
       "<Figure size 432x288 with 1 Axes>"
      ]
     },
     "metadata": {
      "needs_background": "light"
     },
     "output_type": "display_data"
    }
   ],
   "source": [
    "plt.plot(history['accuracy'], label='train')\n",
    "plt.plot(history['val_accuracy'], label='test')\n",
    "plt.legend()\n",
    "plt.show()"
   ]
  },
  {
   "cell_type": "code",
   "execution_count": 20,
   "id": "broadband-canberra",
   "metadata": {},
   "outputs": [],
   "source": [
    "y_pred = my_LSTM_model.predict(X_train).argmax(axis=1)"
   ]
  },
  {
   "cell_type": "code",
   "execution_count": 22,
   "id": "collected-pulse",
   "metadata": {},
   "outputs": [
    {
     "data": {
      "text/plain": [
       "<sklearn.metrics._plot.confusion_matrix.ConfusionMatrixDisplay at 0x7fd9ce013fd0>"
      ]
     },
     "execution_count": 22,
     "metadata": {},
     "output_type": "execute_result"
    },
    {
     "data": {
      "image/png": "[encoded data removed]",
      "text/plain": [
       "<Figure size 432x288 with 2 Axes>"
      ]
     },
     "metadata": {
      "needs_background": "light"
     },
     "output_type": "display_data"
    }
   ],
   "source": [
    "from sklearn.metrics import classification_report, confusion_matrix, ConfusionMatrixDisplay\n",
    "cm = confusion_matrix(y_train, y_pred)\n",
    "ConfusionMatrixDisplay(cm).plot()"
   ]
  },
  {
   "cell_type": "code",
   "execution_count": 23,
   "id": "combined-investigation",
   "metadata": {},
   "outputs": [
    {
     "data": {
      "image/png": "[encoded data removed]",
      "text/plain": [
       "<Figure size 432x288 with 1 Axes>"
      ]
     },
     "metadata": {
      "needs_background": "light"
     },
     "output_type": "display_data"
    }
   ],
   "source": [
    "plt.plot(history['kullback_leibler_divergence'], label='train')\n",
    "plt.plot(history['val_kullback_leibler_divergence'], label='test')\n",
    "plt.legend()\n",
    "plt.show()"
   ]
  },
  {
   "cell_type": "code",
   "execution_count": 24,
   "id": "medieval-terrace",
   "metadata": {},
   "outputs": [
    {
     "name": "stdout",
     "output_type": "stream",
     "text": [
      "Model: \"sequential\"\n",
      "_________________________________________________________________\n",
      "Layer (type)                 Output Shape              Param #   \n",
      "=================================================================\n",
      "lstm (LSTM)                  (None, 256, 64)           17152     \n",
      "_________________________________________________________________\n",
      "batch_normalization (BatchNo (None, 256, 64)           256       \n",
      "_________________________________________________________________\n",
      "lstm_1 (LSTM)                (None, 256, 64)           33024     \n",
      "_________________________________________________________________\n",
      "batch_normalization_1 (Batch (None, 256, 64)           256       \n",
      "_________________________________________________________________\n",
      "lstm_2 (LSTM)                (None, 256, 64)           33024     \n",
      "_________________________________________________________________\n",
      "batch_normalization_2 (Batch (None, 256, 64)           256       \n",
      "_________________________________________________________________\n",
      "lstm_3 (LSTM)                (None, 256, 64)           33024     \n",
      "_________________________________________________________________\n",
      "batch_normalization_3 (Batch (None, 256, 64)           256       \n",
      "_________________________________________________________________\n",
      "lstm_4 (LSTM)                (None, 256, 64)           33024     \n",
      "_________________________________________________________________\n",
      "batch_normalization_4 (Batch (None, 256, 64)           256       \n",
      "_________________________________________________________________\n",
      "flatten (Flatten)            (None, 16384)             0         \n",
      "_________________________________________________________________\n",
      "dense (Dense)                (None, 128)               2097280   \n",
      "_________________________________________________________________\n",
      "dense_1 (Dense)              (None, 3)                 387       \n",
      "=================================================================\n",
      "Total params: 2,248,195\n",
      "Trainable params: 2,247,555\n",
      "Non-trainable params: 640\n",
      "_________________________________________________________________\n"
     ]
    }
   ],
   "source": [
    "my_LSTM_model.summary()"
   ]
  },
  {
   "cell_type": "code",
   "execution_count": 25,
   "id": "greenhouse-application",
   "metadata": {},
   "outputs": [
    {
     "name": "stdout",
     "output_type": "stream",
     "text": [
      "Epoch 1/100\n"
     ]
    },
    {
     "ename": "ValueError",
     "evalue": "in user code:\n\n    /home/ms/github/venv/fxpred3/lib/python3.8/site-packages/tensorflow/python/keras/engine/training.py:860 train_function  *\n        return step_function(self, iterator)\n    /home/ms/github/venv/fxpred3/lib/python3.8/site-packages/tensorflow/python/keras/engine/training.py:850 step_function  **\n        outputs = model.distribute_strategy.run(run_step, args=(data,))\n    /home/ms/github/venv/fxpred3/lib/python3.8/site-packages/tensorflow/python/distribute/distribute_lib.py:1286 run\n        return self._extended.call_for_each_replica(fn, args=args, kwargs=kwargs)\n    /home/ms/github/venv/fxpred3/lib/python3.8/site-packages/tensorflow/python/distribute/distribute_lib.py:2844 call_for_each_replica\n        return self._call_for_each_replica(fn, args, kwargs)\n    /home/ms/github/venv/fxpred3/lib/python3.8/site-packages/tensorflow/python/distribute/distribute_lib.py:3619 _call_for_each_replica\n        return fn(*args, **kwargs)\n    /home/ms/github/venv/fxpred3/lib/python3.8/site-packages/tensorflow/python/keras/engine/training.py:843 run_step  **\n        outputs = model.train_step(data)\n    /home/ms/github/venv/fxpred3/lib/python3.8/site-packages/tensorflow/python/keras/engine/training.py:800 train_step\n        y_pred = self(x, training=True)\n    /home/ms/github/venv/fxpred3/lib/python3.8/site-packages/tensorflow/python/keras/engine/base_layer.py:1040 __call__\n        input_spec.assert_input_compatibility(self.input_spec, inputs, self.name)\n    /home/ms/github/venv/fxpred3/lib/python3.8/site-packages/tensorflow/python/keras/engine/input_spec.py:267 assert_input_compatibility\n        raise ValueError('Input ' + str(input_index) +\n\n    ValueError: Input 0 is incompatible with layer sequential: expected shape=(None, None, 2), found shape=(None, 256, 1)\n",
     "output_type": "error",
     "traceback": [
      "\u001b[0;31m---------------------------------------------------------------------------\u001b[0m",
      "\u001b[0;31mValueError\u001b[0m                                Traceback (most recent call last)",
      "\u001b[0;32m<ipython-input-25-367bfe750bb6>\u001b[0m in \u001b[0;36m<module>\u001b[0;34m\u001b[0m\n\u001b[0;32m----> 1\u001b[0;31m opt_learn_rate_plot(\n\u001b[0m\u001b[1;32m      2\u001b[0m     \u001b[0mmy_LSTM_model\u001b[0m\u001b[0;34m,\u001b[0m\u001b[0;34m\u001b[0m\u001b[0;34m\u001b[0m\u001b[0m\n\u001b[1;32m      3\u001b[0m     \u001b[0mX_train\u001b[0m\u001b[0;34m[\u001b[0m\u001b[0;34m...\u001b[0m\u001b[0;34m,\u001b[0m \u001b[0;34m:\u001b[0m\u001b[0;36m1\u001b[0m\u001b[0;34m]\u001b[0m\u001b[0;34m,\u001b[0m\u001b[0;34m\u001b[0m\u001b[0;34m\u001b[0m\u001b[0m\n\u001b[1;32m      4\u001b[0m     \u001b[0my_train\u001b[0m\u001b[0;34m,\u001b[0m\u001b[0;34m\u001b[0m\u001b[0;34m\u001b[0m\u001b[0m\n\u001b[1;32m      5\u001b[0m     \u001b[0;36m10\u001b[0m\u001b[0;34m**\u001b[0m\u001b[0;34m-\u001b[0m\u001b[0;36m6\u001b[0m\u001b[0;34m,\u001b[0m\u001b[0;34m\u001b[0m\u001b[0;34m\u001b[0m\u001b[0m\n",
      "\u001b[0;32m~/github/fxpred/Transformer/utils_NN_opt_learning_rate.py\u001b[0m in \u001b[0;36mopt_learn_rate_plot\u001b[0;34m(model, X, y, lr0, lr1, s, batch_size, steps_per_epoch, custom_objects)\u001b[0m\n\u001b[1;32m     36\u001b[0m         \u001b[0;32mreturn\u001b[0m \u001b[0mexp_increade_fn\u001b[0m\u001b[0;34m\u001b[0m\u001b[0;34m\u001b[0m\u001b[0m\n\u001b[1;32m     37\u001b[0m \u001b[0;34m\u001b[0m\u001b[0m\n\u001b[0;32m---> 38\u001b[0;31m     history = tmp_model.fit(\n\u001b[0m\u001b[1;32m     39\u001b[0m         \u001b[0mX\u001b[0m\u001b[0;34m,\u001b[0m \u001b[0my\u001b[0m\u001b[0;34m,\u001b[0m\u001b[0;34m\u001b[0m\u001b[0;34m\u001b[0m\u001b[0m\n\u001b[1;32m     40\u001b[0m         \u001b[0mepochs\u001b[0m\u001b[0;34m=\u001b[0m\u001b[0ms\u001b[0m\u001b[0;34m,\u001b[0m\u001b[0;34m\u001b[0m\u001b[0;34m\u001b[0m\u001b[0m\n",
      "\u001b[0;32m~/github/venv/fxpred3/lib/python3.8/site-packages/tensorflow/python/keras/engine/training.py\u001b[0m in \u001b[0;36mfit\u001b[0;34m(self, x, y, batch_size, epochs, verbose, callbacks, validation_split, validation_data, shuffle, class_weight, sample_weight, initial_epoch, steps_per_epoch, validation_steps, validation_batch_size, validation_freq, max_queue_size, workers, use_multiprocessing)\u001b[0m\n\u001b[1;32m   1186\u001b[0m                 _r=1):\n\u001b[1;32m   1187\u001b[0m               \u001b[0mcallbacks\u001b[0m\u001b[0;34m.\u001b[0m\u001b[0mon_train_batch_begin\u001b[0m\u001b[0;34m(\u001b[0m\u001b[0mstep\u001b[0m\u001b[0;34m)\u001b[0m\u001b[0;34m\u001b[0m\u001b[0;34m\u001b[0m\u001b[0m\n\u001b[0;32m-> 1188\u001b[0;31m               \u001b[0mtmp_logs\u001b[0m \u001b[0;34m=\u001b[0m \u001b[0mself\u001b[0m\u001b[0;34m.\u001b[0m\u001b[0mtrain_function\u001b[0m\u001b[0;34m(\u001b[0m\u001b[0miterator\u001b[0m\u001b[0;34m)\u001b[0m\u001b[0;34m\u001b[0m\u001b[0;34m\u001b[0m\u001b[0m\n\u001b[0m\u001b[1;32m   1189\u001b[0m               \u001b[0;32mif\u001b[0m \u001b[0mdata_handler\u001b[0m\u001b[0;34m.\u001b[0m\u001b[0mshould_sync\u001b[0m\u001b[0;34m:\u001b[0m\u001b[0;34m\u001b[0m\u001b[0;34m\u001b[0m\u001b[0m\n\u001b[1;32m   1190\u001b[0m                 \u001b[0mcontext\u001b[0m\u001b[0;34m.\u001b[0m\u001b[0masync_wait\u001b[0m\u001b[0;34m(\u001b[0m\u001b[0;34m)\u001b[0m\u001b[0;34m\u001b[0m\u001b[0;34m\u001b[0m\u001b[0m\n",
      "\u001b[0;32m~/github/venv/fxpred3/lib/python3.8/site-packages/tensorflow/python/eager/def_function.py\u001b[0m in \u001b[0;36m__call__\u001b[0;34m(self, *args, **kwds)\u001b[0m\n\u001b[1;32m    883\u001b[0m \u001b[0;34m\u001b[0m\u001b[0m\n\u001b[1;32m    884\u001b[0m       \u001b[0;32mwith\u001b[0m \u001b[0mOptionalXlaContext\u001b[0m\u001b[0;34m(\u001b[0m\u001b[0mself\u001b[0m\u001b[0;34m.\u001b[0m\u001b[0m_jit_compile\u001b[0m\u001b[0;34m)\u001b[0m\u001b[0;34m:\u001b[0m\u001b[0;34m\u001b[0m\u001b[0;34m\u001b[0m\u001b[0m\n\u001b[0;32m--> 885\u001b[0;31m         \u001b[0mresult\u001b[0m \u001b[0;34m=\u001b[0m \u001b[0mself\u001b[0m\u001b[0;34m.\u001b[0m\u001b[0m_call\u001b[0m\u001b[0;34m(\u001b[0m\u001b[0;34m*\u001b[0m\u001b[0margs\u001b[0m\u001b[0;34m,\u001b[0m \u001b[0;34m**\u001b[0m\u001b[0mkwds\u001b[0m\u001b[0;34m)\u001b[0m\u001b[0;34m\u001b[0m\u001b[0;34m\u001b[0m\u001b[0m\n\u001b[0m\u001b[1;32m    886\u001b[0m \u001b[0;34m\u001b[0m\u001b[0m\n\u001b[1;32m    887\u001b[0m       \u001b[0mnew_tracing_count\u001b[0m \u001b[0;34m=\u001b[0m \u001b[0mself\u001b[0m\u001b[0;34m.\u001b[0m\u001b[0mexperimental_get_tracing_count\u001b[0m\u001b[0;34m(\u001b[0m\u001b[0;34m)\u001b[0m\u001b[0;34m\u001b[0m\u001b[0;34m\u001b[0m\u001b[0m\n",
      "\u001b[0;32m~/github/venv/fxpred3/lib/python3.8/site-packages/tensorflow/python/eager/def_function.py\u001b[0m in \u001b[0;36m_call\u001b[0;34m(self, *args, **kwds)\u001b[0m\n\u001b[1;32m    927\u001b[0m       \u001b[0;31m# This is the first call of __call__, so we have to initialize.\u001b[0m\u001b[0;34m\u001b[0m\u001b[0;34m\u001b[0m\u001b[0;34m\u001b[0m\u001b[0m\n\u001b[1;32m    928\u001b[0m       \u001b[0minitializers\u001b[0m \u001b[0;34m=\u001b[0m \u001b[0;34m[\u001b[0m\u001b[0;34m]\u001b[0m\u001b[0;34m\u001b[0m\u001b[0;34m\u001b[0m\u001b[0m\n\u001b[0;32m--> 929\u001b[0;31m       \u001b[0mself\u001b[0m\u001b[0;34m.\u001b[0m\u001b[0m_initialize\u001b[0m\u001b[0;34m(\u001b[0m\u001b[0margs\u001b[0m\u001b[0;34m,\u001b[0m \u001b[0mkwds\u001b[0m\u001b[0;34m,\u001b[0m \u001b[0madd_initializers_to\u001b[0m\u001b[0;34m=\u001b[0m\u001b[0minitializers\u001b[0m\u001b[0;34m)\u001b[0m\u001b[0;34m\u001b[0m\u001b[0;34m\u001b[0m\u001b[0m\n\u001b[0m\u001b[1;32m    930\u001b[0m     \u001b[0;32mfinally\u001b[0m\u001b[0;34m:\u001b[0m\u001b[0;34m\u001b[0m\u001b[0;34m\u001b[0m\u001b[0m\n\u001b[1;32m    931\u001b[0m       \u001b[0;31m# At this point we know that the initialization is complete (or less\u001b[0m\u001b[0;34m\u001b[0m\u001b[0;34m\u001b[0m\u001b[0;34m\u001b[0m\u001b[0m\n",
      "\u001b[0;32m~/github/venv/fxpred3/lib/python3.8/site-packages/tensorflow/python/eager/def_function.py\u001b[0m in \u001b[0;36m_initialize\u001b[0;34m(self, args, kwds, add_initializers_to)\u001b[0m\n\u001b[1;32m    757\u001b[0m     \u001b[0mself\u001b[0m\u001b[0;34m.\u001b[0m\u001b[0m_graph_deleter\u001b[0m \u001b[0;34m=\u001b[0m \u001b[0mFunctionDeleter\u001b[0m\u001b[0;34m(\u001b[0m\u001b[0mself\u001b[0m\u001b[0;34m.\u001b[0m\u001b[0m_lifted_initializer_graph\u001b[0m\u001b[0;34m)\u001b[0m\u001b[0;34m\u001b[0m\u001b[0;34m\u001b[0m\u001b[0m\n\u001b[1;32m    758\u001b[0m     self._concrete_stateful_fn = (\n\u001b[0;32m--> 759\u001b[0;31m         self._stateful_fn._get_concrete_function_internal_garbage_collected(  # pylint: disable=protected-access\n\u001b[0m\u001b[1;32m    760\u001b[0m             *args, **kwds))\n\u001b[1;32m    761\u001b[0m \u001b[0;34m\u001b[0m\u001b[0m\n",
      "\u001b[0;32m~/github/venv/fxpred3/lib/python3.8/site-packages/tensorflow/python/eager/function.py\u001b[0m in \u001b[0;36m_get_concrete_function_internal_garbage_collected\u001b[0;34m(self, *args, **kwargs)\u001b[0m\n\u001b[1;32m   3057\u001b[0m       \u001b[0margs\u001b[0m\u001b[0;34m,\u001b[0m \u001b[0mkwargs\u001b[0m \u001b[0;34m=\u001b[0m \u001b[0;32mNone\u001b[0m\u001b[0;34m,\u001b[0m \u001b[0;32mNone\u001b[0m\u001b[0;34m\u001b[0m\u001b[0;34m\u001b[0m\u001b[0m\n\u001b[1;32m   3058\u001b[0m     \u001b[0;32mwith\u001b[0m \u001b[0mself\u001b[0m\u001b[0;34m.\u001b[0m\u001b[0m_lock\u001b[0m\u001b[0;34m:\u001b[0m\u001b[0;34m\u001b[0m\u001b[0;34m\u001b[0m\u001b[0m\n\u001b[0;32m-> 3059\u001b[0;31m       \u001b[0mgraph_function\u001b[0m\u001b[0;34m,\u001b[0m \u001b[0m_\u001b[0m \u001b[0;34m=\u001b[0m \u001b[0mself\u001b[0m\u001b[0;34m.\u001b[0m\u001b[0m_maybe_define_function\u001b[0m\u001b[0;34m(\u001b[0m\u001b[0margs\u001b[0m\u001b[0;34m,\u001b[0m \u001b[0mkwargs\u001b[0m\u001b[0;34m)\u001b[0m\u001b[0;34m\u001b[0m\u001b[0;34m\u001b[0m\u001b[0m\n\u001b[0m\u001b[1;32m   3060\u001b[0m     \u001b[0;32mreturn\u001b[0m \u001b[0mgraph_function\u001b[0m\u001b[0;34m\u001b[0m\u001b[0;34m\u001b[0m\u001b[0m\n\u001b[1;32m   3061\u001b[0m \u001b[0;34m\u001b[0m\u001b[0m\n",
      "\u001b[0;32m~/github/venv/fxpred3/lib/python3.8/site-packages/tensorflow/python/eager/function.py\u001b[0m in \u001b[0;36m_maybe_define_function\u001b[0;34m(self, args, kwargs)\u001b[0m\n\u001b[1;32m   3454\u001b[0m \u001b[0;34m\u001b[0m\u001b[0m\n\u001b[1;32m   3455\u001b[0m           \u001b[0mself\u001b[0m\u001b[0;34m.\u001b[0m\u001b[0m_function_cache\u001b[0m\u001b[0;34m.\u001b[0m\u001b[0mmissed\u001b[0m\u001b[0;34m.\u001b[0m\u001b[0madd\u001b[0m\u001b[0;34m(\u001b[0m\u001b[0mcall_context_key\u001b[0m\u001b[0;34m)\u001b[0m\u001b[0;34m\u001b[0m\u001b[0;34m\u001b[0m\u001b[0m\n\u001b[0;32m-> 3456\u001b[0;31m           \u001b[0mgraph_function\u001b[0m \u001b[0;34m=\u001b[0m \u001b[0mself\u001b[0m\u001b[0;34m.\u001b[0m\u001b[0m_create_graph_function\u001b[0m\u001b[0;34m(\u001b[0m\u001b[0margs\u001b[0m\u001b[0;34m,\u001b[0m \u001b[0mkwargs\u001b[0m\u001b[0;34m)\u001b[0m\u001b[0;34m\u001b[0m\u001b[0;34m\u001b[0m\u001b[0m\n\u001b[0m\u001b[1;32m   3457\u001b[0m           \u001b[0mself\u001b[0m\u001b[0;34m.\u001b[0m\u001b[0m_function_cache\u001b[0m\u001b[0;34m.\u001b[0m\u001b[0mprimary\u001b[0m\u001b[0;34m[\u001b[0m\u001b[0mcache_key\u001b[0m\u001b[0;34m]\u001b[0m \u001b[0;34m=\u001b[0m \u001b[0mgraph_function\u001b[0m\u001b[0;34m\u001b[0m\u001b[0;34m\u001b[0m\u001b[0m\n\u001b[1;32m   3458\u001b[0m \u001b[0;34m\u001b[0m\u001b[0m\n",
      "\u001b[0;32m~/github/venv/fxpred3/lib/python3.8/site-packages/tensorflow/python/eager/function.py\u001b[0m in \u001b[0;36m_create_graph_function\u001b[0;34m(self, args, kwargs, override_flat_arg_shapes)\u001b[0m\n\u001b[1;32m   3289\u001b[0m     \u001b[0marg_names\u001b[0m \u001b[0;34m=\u001b[0m \u001b[0mbase_arg_names\u001b[0m \u001b[0;34m+\u001b[0m \u001b[0mmissing_arg_names\u001b[0m\u001b[0;34m\u001b[0m\u001b[0;34m\u001b[0m\u001b[0m\n\u001b[1;32m   3290\u001b[0m     graph_function = ConcreteFunction(\n\u001b[0;32m-> 3291\u001b[0;31m         func_graph_module.func_graph_from_py_func(\n\u001b[0m\u001b[1;32m   3292\u001b[0m             \u001b[0mself\u001b[0m\u001b[0;34m.\u001b[0m\u001b[0m_name\u001b[0m\u001b[0;34m,\u001b[0m\u001b[0;34m\u001b[0m\u001b[0;34m\u001b[0m\u001b[0m\n\u001b[1;32m   3293\u001b[0m             \u001b[0mself\u001b[0m\u001b[0;34m.\u001b[0m\u001b[0m_python_function\u001b[0m\u001b[0;34m,\u001b[0m\u001b[0;34m\u001b[0m\u001b[0;34m\u001b[0m\u001b[0m\n",
      "\u001b[0;32m~/github/venv/fxpred3/lib/python3.8/site-packages/tensorflow/python/framework/func_graph.py\u001b[0m in \u001b[0;36mfunc_graph_from_py_func\u001b[0;34m(name, python_func, args, kwargs, signature, func_graph, autograph, autograph_options, add_control_dependencies, arg_names, op_return_value, collections, capture_by_value, override_flat_arg_shapes, acd_record_initial_resource_uses)\u001b[0m\n\u001b[1;32m   1005\u001b[0m         \u001b[0m_\u001b[0m\u001b[0;34m,\u001b[0m \u001b[0moriginal_func\u001b[0m \u001b[0;34m=\u001b[0m \u001b[0mtf_decorator\u001b[0m\u001b[0;34m.\u001b[0m\u001b[0munwrap\u001b[0m\u001b[0;34m(\u001b[0m\u001b[0mpython_func\u001b[0m\u001b[0;34m)\u001b[0m\u001b[0;34m\u001b[0m\u001b[0;34m\u001b[0m\u001b[0m\n\u001b[1;32m   1006\u001b[0m \u001b[0;34m\u001b[0m\u001b[0m\n\u001b[0;32m-> 1007\u001b[0;31m       \u001b[0mfunc_outputs\u001b[0m \u001b[0;34m=\u001b[0m \u001b[0mpython_func\u001b[0m\u001b[0;34m(\u001b[0m\u001b[0;34m*\u001b[0m\u001b[0mfunc_args\u001b[0m\u001b[0;34m,\u001b[0m \u001b[0;34m**\u001b[0m\u001b[0mfunc_kwargs\u001b[0m\u001b[0;34m)\u001b[0m\u001b[0;34m\u001b[0m\u001b[0;34m\u001b[0m\u001b[0m\n\u001b[0m\u001b[1;32m   1008\u001b[0m \u001b[0;34m\u001b[0m\u001b[0m\n\u001b[1;32m   1009\u001b[0m       \u001b[0;31m# invariant: `func_outputs` contains only Tensors, CompositeTensors,\u001b[0m\u001b[0;34m\u001b[0m\u001b[0;34m\u001b[0m\u001b[0;34m\u001b[0m\u001b[0m\n",
      "\u001b[0;32m~/github/venv/fxpred3/lib/python3.8/site-packages/tensorflow/python/eager/def_function.py\u001b[0m in \u001b[0;36mwrapped_fn\u001b[0;34m(*args, **kwds)\u001b[0m\n\u001b[1;32m    666\u001b[0m         \u001b[0;31m# the function a weak reference to itself to avoid a reference cycle.\u001b[0m\u001b[0;34m\u001b[0m\u001b[0;34m\u001b[0m\u001b[0;34m\u001b[0m\u001b[0m\n\u001b[1;32m    667\u001b[0m         \u001b[0;32mwith\u001b[0m \u001b[0mOptionalXlaContext\u001b[0m\u001b[0;34m(\u001b[0m\u001b[0mcompile_with_xla\u001b[0m\u001b[0;34m)\u001b[0m\u001b[0;34m:\u001b[0m\u001b[0;34m\u001b[0m\u001b[0;34m\u001b[0m\u001b[0m\n\u001b[0;32m--> 668\u001b[0;31m           \u001b[0mout\u001b[0m \u001b[0;34m=\u001b[0m \u001b[0mweak_wrapped_fn\u001b[0m\u001b[0;34m(\u001b[0m\u001b[0;34m)\u001b[0m\u001b[0;34m.\u001b[0m\u001b[0m__wrapped__\u001b[0m\u001b[0;34m(\u001b[0m\u001b[0;34m*\u001b[0m\u001b[0margs\u001b[0m\u001b[0;34m,\u001b[0m \u001b[0;34m**\u001b[0m\u001b[0mkwds\u001b[0m\u001b[0;34m)\u001b[0m\u001b[0;34m\u001b[0m\u001b[0;34m\u001b[0m\u001b[0m\n\u001b[0m\u001b[1;32m    669\u001b[0m         \u001b[0;32mreturn\u001b[0m \u001b[0mout\u001b[0m\u001b[0;34m\u001b[0m\u001b[0;34m\u001b[0m\u001b[0m\n\u001b[1;32m    670\u001b[0m \u001b[0;34m\u001b[0m\u001b[0m\n",
      "\u001b[0;32m~/github/venv/fxpred3/lib/python3.8/site-packages/tensorflow/python/framework/func_graph.py\u001b[0m in \u001b[0;36mwrapper\u001b[0;34m(*args, **kwargs)\u001b[0m\n\u001b[1;32m    992\u001b[0m           \u001b[0;32mexcept\u001b[0m \u001b[0mException\u001b[0m \u001b[0;32mas\u001b[0m \u001b[0me\u001b[0m\u001b[0;34m:\u001b[0m  \u001b[0;31m# pylint:disable=broad-except\u001b[0m\u001b[0;34m\u001b[0m\u001b[0;34m\u001b[0m\u001b[0m\n\u001b[1;32m    993\u001b[0m             \u001b[0;32mif\u001b[0m \u001b[0mhasattr\u001b[0m\u001b[0;34m(\u001b[0m\u001b[0me\u001b[0m\u001b[0;34m,\u001b[0m \u001b[0;34m\"ag_error_metadata\"\u001b[0m\u001b[0;34m)\u001b[0m\u001b[0;34m:\u001b[0m\u001b[0;34m\u001b[0m\u001b[0;34m\u001b[0m\u001b[0m\n\u001b[0;32m--> 994\u001b[0;31m               \u001b[0;32mraise\u001b[0m \u001b[0me\u001b[0m\u001b[0;34m.\u001b[0m\u001b[0mag_error_metadata\u001b[0m\u001b[0;34m.\u001b[0m\u001b[0mto_exception\u001b[0m\u001b[0;34m(\u001b[0m\u001b[0me\u001b[0m\u001b[0;34m)\u001b[0m\u001b[0;34m\u001b[0m\u001b[0;34m\u001b[0m\u001b[0m\n\u001b[0m\u001b[1;32m    995\u001b[0m             \u001b[0;32melse\u001b[0m\u001b[0;34m:\u001b[0m\u001b[0;34m\u001b[0m\u001b[0;34m\u001b[0m\u001b[0m\n\u001b[1;32m    996\u001b[0m               \u001b[0;32mraise\u001b[0m\u001b[0;34m\u001b[0m\u001b[0;34m\u001b[0m\u001b[0m\n",
      "\u001b[0;31mValueError\u001b[0m: in user code:\n\n    /home/ms/github/venv/fxpred3/lib/python3.8/site-packages/tensorflow/python/keras/engine/training.py:860 train_function  *\n        return step_function(self, iterator)\n    /home/ms/github/venv/fxpred3/lib/python3.8/site-packages/tensorflow/python/keras/engine/training.py:850 step_function  **\n        outputs = model.distribute_strategy.run(run_step, args=(data,))\n    /home/ms/github/venv/fxpred3/lib/python3.8/site-packages/tensorflow/python/distribute/distribute_lib.py:1286 run\n        return self._extended.call_for_each_replica(fn, args=args, kwargs=kwargs)\n    /home/ms/github/venv/fxpred3/lib/python3.8/site-packages/tensorflow/python/distribute/distribute_lib.py:2844 call_for_each_replica\n        return self._call_for_each_replica(fn, args, kwargs)\n    /home/ms/github/venv/fxpred3/lib/python3.8/site-packages/tensorflow/python/distribute/distribute_lib.py:3619 _call_for_each_replica\n        return fn(*args, **kwargs)\n    /home/ms/github/venv/fxpred3/lib/python3.8/site-packages/tensorflow/python/keras/engine/training.py:843 run_step  **\n        outputs = model.train_step(data)\n    /home/ms/github/venv/fxpred3/lib/python3.8/site-packages/tensorflow/python/keras/engine/training.py:800 train_step\n        y_pred = self(x, training=True)\n    /home/ms/github/venv/fxpred3/lib/python3.8/site-packages/tensorflow/python/keras/engine/base_layer.py:1040 __call__\n        input_spec.assert_input_compatibility(self.input_spec, inputs, self.name)\n    /home/ms/github/venv/fxpred3/lib/python3.8/site-packages/tensorflow/python/keras/engine/input_spec.py:267 assert_input_compatibility\n        raise ValueError('Input ' + str(input_index) +\n\n    ValueError: Input 0 is incompatible with layer sequential: expected shape=(None, None, 2), found shape=(None, 256, 1)\n"
     ]
    }
   ],
   "source": [
    "opt_learn_rate_plot(\n",
    "    my_LSTM_model,\n",
    "    X_train[..., :1],\n",
    "    y_train,\n",
    "    10**-6,\n",
    "    10**1,\n",
    "    100,\n",
    "    batch_size=64,\n",
    "    steps_per_epoch=1,\n",
    "    custom_objects={'kl_divergence': kullback_leibler_divergence}\n",
    ")"
   ]
  },
  {
   "cell_type": "markdown",
   "id": "private-painting",
   "metadata": {},
   "source": [
    "## Econmetric measures"
   ]
  },
  {
   "cell_type": "markdown",
   "id": "senior-plaza",
   "metadata": {},
   "source": [
    "Definition of cumulated returns"
   ]
  },
  {
   "cell_type": "code",
   "execution_count": 26,
   "id": "dying-cable",
   "metadata": {},
   "outputs": [],
   "source": [
    "def cumulated_return(y_pred, ret, start_capital=1000, dtype=None):\n",
    "    assert y_pred.flatten().shape == ret.flatten().shape\n",
    "    balance = [start_capital]\n",
    "    signal = 0\n",
    "    for i, d in enumerate(y_pred[:-1]):\n",
    "        signal = signal if d == 1 else d\n",
    "        if signal == 0:\n",
    "            balance.append(balance[-1])\n",
    "        elif signal == 2:\n",
    "            balance.append(balance[-1] * ret[i])\n",
    "        else:\n",
    "            raise ValueError()\n",
    "    balance = np.array(balance, dtype=dtype)\n",
    "    return balance"
   ]
  },
  {
   "cell_type": "code",
   "execution_count": 27,
   "id": "fancy-poetry",
   "metadata": {},
   "outputs": [
    {
     "data": {
      "text/plain": [
       "(33305, 256, 2)"
      ]
     },
     "execution_count": 27,
     "metadata": {},
     "output_type": "execute_result"
    }
   ],
   "source": [
    "X_train.shape"
   ]
  },
  {
   "cell_type": "code",
   "execution_count": 28,
   "id": "varied-ratio",
   "metadata": {},
   "outputs": [
    {
     "ename": "ValueError",
     "evalue": "operands could not be broadcast together with shapes (33432,) (33304,) ",
     "output_type": "error",
     "traceback": [
      "\u001b[0;31m---------------------------------------------------------------------------\u001b[0m",
      "\u001b[0;31mValueError\u001b[0m                                Traceback (most recent call last)",
      "\u001b[0;32m<ipython-input-28-2a9dcd51c7eb>\u001b[0m in \u001b[0;36m<module>\u001b[0;34m\u001b[0m\n\u001b[1;32m     13\u001b[0m \u001b[0mb\u001b[0m \u001b[0;34m=\u001b[0m \u001b[0mnp\u001b[0m\u001b[0;34m.\u001b[0m\u001b[0mconcatenate\u001b[0m\u001b[0;34m(\u001b[0m\u001b[0;34m[\u001b[0m\u001b[0msc\u001b[0m\u001b[0;34m.\u001b[0m\u001b[0minverse_transform\u001b[0m\u001b[0;34m(\u001b[0m\u001b[0mi\u001b[0m\u001b[0;34m)\u001b[0m\u001b[0;34m[\u001b[0m\u001b[0mnp\u001b[0m\u001b[0;34m.\u001b[0m\u001b[0mnewaxis\u001b[0m\u001b[0;34m]\u001b[0m \u001b[0;32mfor\u001b[0m \u001b[0mi\u001b[0m \u001b[0;32min\u001b[0m \u001b[0meval\u001b[0m\u001b[0;34m(\u001b[0m\u001b[0;34mf\"X_{tmp_type}\"\u001b[0m\u001b[0;34m)\u001b[0m\u001b[0;34m]\u001b[0m\u001b[0;34m,\u001b[0m \u001b[0maxis\u001b[0m\u001b[0;34m=\u001b[0m\u001b[0;36m0\u001b[0m\u001b[0;34m)\u001b[0m\u001b[0;34m[\u001b[0m\u001b[0;34m:\u001b[0m\u001b[0;34m,\u001b[0m \u001b[0;34m-\u001b[0m\u001b[0;36m1\u001b[0m\u001b[0;34m,\u001b[0m \u001b[0;36m1\u001b[0m\u001b[0;34m]\u001b[0m\u001b[0;34m\u001b[0m\u001b[0;34m\u001b[0m\u001b[0m\n\u001b[1;32m     14\u001b[0m \u001b[0mcc\u001b[0m \u001b[0;34m=\u001b[0m \u001b[0mdf\u001b[0m\u001b[0;34m.\u001b[0m\u001b[0mloc\u001b[0m\u001b[0;34m[\u001b[0m\u001b[0meval\u001b[0m\u001b[0;34m(\u001b[0m\u001b[0;34mf\"index_{tmp_type}\"\u001b[0m\u001b[0;34m)\u001b[0m\u001b[0;34m]\u001b[0m\u001b[0;34m.\u001b[0m\u001b[0miloc\u001b[0m\u001b[0;34m[\u001b[0m\u001b[0;36m127\u001b[0m\u001b[0;34m:\u001b[0m\u001b[0;34m-\u001b[0m\u001b[0;36m2\u001b[0m\u001b[0;34m,\u001b[0m \u001b[0;36m1\u001b[0m\u001b[0;34m]\u001b[0m\u001b[0;34m.\u001b[0m\u001b[0mvalues\u001b[0m\u001b[0;34m\u001b[0m\u001b[0;34m\u001b[0m\u001b[0m\n\u001b[0;32m---> 15\u001b[0;31m \u001b[0mprint\u001b[0m\u001b[0;34m(\u001b[0m\u001b[0mnp\u001b[0m\u001b[0;34m.\u001b[0m\u001b[0mabs\u001b[0m\u001b[0;34m(\u001b[0m\u001b[0mcc\u001b[0m\u001b[0;34m[\u001b[0m\u001b[0;36m1\u001b[0m\u001b[0;34m:\u001b[0m\u001b[0;34m]\u001b[0m \u001b[0;34m-\u001b[0m \u001b[0ma\u001b[0m\u001b[0;34m[\u001b[0m\u001b[0;34m:\u001b[0m\u001b[0;34m-\u001b[0m\u001b[0;36m1\u001b[0m\u001b[0;34m]\u001b[0m\u001b[0;34m)\u001b[0m\u001b[0;34m.\u001b[0m\u001b[0msum\u001b[0m\u001b[0;34m(\u001b[0m\u001b[0maxis\u001b[0m\u001b[0;34m=\u001b[0m\u001b[0;36m0\u001b[0m\u001b[0;34m)\u001b[0m\u001b[0;34m)\u001b[0m\u001b[0;34m\u001b[0m\u001b[0;34m\u001b[0m\u001b[0m\n\u001b[0m\u001b[1;32m     16\u001b[0m \u001b[0mprint\u001b[0m\u001b[0;34m(\u001b[0m\u001b[0mnp\u001b[0m\u001b[0;34m.\u001b[0m\u001b[0mabs\u001b[0m\u001b[0;34m(\u001b[0m\u001b[0mcc\u001b[0m \u001b[0;34m-\u001b[0m \u001b[0mb\u001b[0m\u001b[0;34m)\u001b[0m\u001b[0;34m.\u001b[0m\u001b[0msum\u001b[0m\u001b[0;34m(\u001b[0m\u001b[0maxis\u001b[0m\u001b[0;34m=\u001b[0m\u001b[0;36m0\u001b[0m\u001b[0;34m)\u001b[0m\u001b[0;34m)\u001b[0m\u001b[0;34m\u001b[0m\u001b[0;34m\u001b[0m\u001b[0m\n",
      "\u001b[0;31mValueError\u001b[0m: operands could not be broadcast together with shapes (33432,) (33304,) "
     ]
    }
   ],
   "source": [
    "#!!! for testing purposes\n",
    "tmp_type = 'train'\n",
    "\n",
    "X = np.concatenate([sc.inverse_transform(i)[np.newaxis] for i in eval(f\"X_{tmp_type}\")], axis=0)\n",
    "for i in range(lag):\n",
    "    diff = np.abs(df.loc[eval(f\"index_{tmp_type}\")].iloc[i:-(lag - i + 1)].values - X[:,-(lag - i)]).sum(axis=0)\n",
    "    assert diff[0] < 1e-6 and diff[1] < 0.5, 'df and X inversed are not the same'\n",
    "\n",
    "X_ret_testing = np.concatenate([sc.inverse_transform(i)[np.newaxis] for i in eval(f\"X_{tmp_type}\")], axis=0)[:, -1, 0]\n",
    "y_testing = np.concatenate([sc.inverse_transform(i)[np.newaxis] for i in eval(f\"X_{tmp_type}\")], axis=0)[:, -1, 1]\n",
    "\n",
    "a = sc_target.inverse_transform(eval(f\"y_{tmp_type}\")).flatten()\n",
    "b = np.concatenate([sc.inverse_transform(i)[np.newaxis] for i in eval(f\"X_{tmp_type}\")], axis=0)[:, -1, 1]\n",
    "cc = df.loc[eval(f\"index_{tmp_type}\")].iloc[127:-2, 1].values\n",
    "print(np.abs(cc[1:] - a[:-1]).sum(axis=0))\n",
    "print(np.abs(cc - b).sum(axis=0))"
   ]
  },
  {
   "cell_type": "code",
   "execution_count": null,
   "id": "dietary-union",
   "metadata": {},
   "outputs": [],
   "source": [
    "print((index_train[0:-129] == X_train_index[:, 0]).all())\n",
    "print((index_train[127:-2] == X_train_index[:, -1]).all())"
   ]
  },
  {
   "cell_type": "markdown",
   "id": "correct-netherlands",
   "metadata": {},
   "source": [
    "## read in data for econmic metric"
   ]
  },
  {
   "cell_type": "code",
   "execution_count": null,
   "id": "systematic-border",
   "metadata": {},
   "outputs": [],
   "source": [
    "tmp_type = 'train'\n",
    "X_ret_testing = np.concatenate([sc.inverse_transform(i)[np.newaxis] for i in eval(f\"X_{tmp_type}\")], axis=0)[:, -1, 0] + 1\n",
    "y_testing = np.concatenate([sc.inverse_transform(i)[np.newaxis] for i in eval(f\"X_{tmp_type}\")], axis=0)[:, -1, 1].round()\n",
    "\n",
    "df_testing = df.loc[eval(f\"index_{tmp_type}\")].iloc[127:-2]\n",
    "df_close_testing = df_close.loc[eval(f\"index_{tmp_type}\")].iloc[127:-2]\n",
    "X_ret_testing.shape[0] == df_testing.shape[0]"
   ]
  },
  {
   "cell_type": "code",
   "execution_count": 29,
   "id": "boxed-zimbabwe",
   "metadata": {},
   "outputs": [
    {
     "ename": "ValueError",
     "evalue": "",
     "output_type": "error",
     "traceback": [
      "\u001b[0;31m---------------------------------------------------------------------------\u001b[0m",
      "\u001b[0;31mValueError\u001b[0m                                Traceback (most recent call last)",
      "\u001b[0;32m<ipython-input-29-f3a2c89b6cae>\u001b[0m in \u001b[0;36m<module>\u001b[0;34m\u001b[0m\n\u001b[0;32m----> 1\u001b[0;31m assert np.abs(cumulated_return(y_testing, X_ret_testing) - \\\n\u001b[0m\u001b[1;32m      2\u001b[0m               cumulated_return(df_testing.values[:, 1], df_testing.values[:, 0] + 1)).sum() < 1e-10, \"cumulated return of df and X are not the same\"\n",
      "\u001b[0;32m<ipython-input-26-6471bb5114f9>\u001b[0m in \u001b[0;36mcumulated_return\u001b[0;34m(y_pred, ret, start_capital, dtype)\u001b[0m\n\u001b[1;32m     10\u001b[0m             \u001b[0mbalance\u001b[0m\u001b[0;34m.\u001b[0m\u001b[0mappend\u001b[0m\u001b[0;34m(\u001b[0m\u001b[0mbalance\u001b[0m\u001b[0;34m[\u001b[0m\u001b[0;34m-\u001b[0m\u001b[0;36m1\u001b[0m\u001b[0;34m]\u001b[0m \u001b[0;34m*\u001b[0m \u001b[0mret\u001b[0m\u001b[0;34m[\u001b[0m\u001b[0mi\u001b[0m\u001b[0;34m]\u001b[0m\u001b[0;34m)\u001b[0m\u001b[0;34m\u001b[0m\u001b[0;34m\u001b[0m\u001b[0m\n\u001b[1;32m     11\u001b[0m         \u001b[0;32melse\u001b[0m\u001b[0;34m:\u001b[0m\u001b[0;34m\u001b[0m\u001b[0;34m\u001b[0m\u001b[0m\n\u001b[0;32m---> 12\u001b[0;31m             \u001b[0;32mraise\u001b[0m \u001b[0mValueError\u001b[0m\u001b[0;34m(\u001b[0m\u001b[0;34m)\u001b[0m\u001b[0;34m\u001b[0m\u001b[0;34m\u001b[0m\u001b[0m\n\u001b[0m\u001b[1;32m     13\u001b[0m     \u001b[0mbalance\u001b[0m \u001b[0;34m=\u001b[0m \u001b[0mnp\u001b[0m\u001b[0;34m.\u001b[0m\u001b[0marray\u001b[0m\u001b[0;34m(\u001b[0m\u001b[0mbalance\u001b[0m\u001b[0;34m,\u001b[0m \u001b[0mdtype\u001b[0m\u001b[0;34m=\u001b[0m\u001b[0mdtype\u001b[0m\u001b[0;34m)\u001b[0m\u001b[0;34m\u001b[0m\u001b[0;34m\u001b[0m\u001b[0m\n\u001b[1;32m     14\u001b[0m     \u001b[0;32mreturn\u001b[0m \u001b[0mbalance\u001b[0m\u001b[0;34m\u001b[0m\u001b[0;34m\u001b[0m\u001b[0m\n",
      "\u001b[0;31mValueError\u001b[0m: "
     ]
    }
   ],
   "source": [
    "assert np.abs(cumulated_return(y_testing, X_ret_testing) - \\\n",
    "              cumulated_return(df_testing.values[:, 1], df_testing.values[:, 0] + 1)).sum() < 1e-10, \"cumulated return of df and X are not the same\""
   ]
  },
  {
   "cell_type": "code",
   "execution_count": 30,
   "id": "complimentary-pharmacology",
   "metadata": {},
   "outputs": [
    {
     "name": "stdout",
     "output_type": "stream",
     "text": [
      "0.0\n",
      "0.9628884551869089\n",
      "1.0\n"
     ]
    },
    {
     "ename": "NameError",
     "evalue": "name 'df_testing' is not defined",
     "output_type": "error",
     "traceback": [
      "\u001b[0;31m---------------------------------------------------------------------------\u001b[0m",
      "\u001b[0;31mNameError\u001b[0m                                 Traceback (most recent call last)",
      "\u001b[0;32m<ipython-input-30-43cdc3df6cc7>\u001b[0m in \u001b[0;36m<module>\u001b[0;34m\u001b[0m\n\u001b[1;32m      4\u001b[0m \u001b[0mprint\u001b[0m\u001b[0;34m(\u001b[0m\u001b[0;34m(\u001b[0m\u001b[0mnp\u001b[0m\u001b[0;34m.\u001b[0m\u001b[0mequal\u001b[0m\u001b[0;34m(\u001b[0m\u001b[0;34m(\u001b[0m\u001b[0my_testing\u001b[0m\u001b[0;34m.\u001b[0m\u001b[0mflatten\u001b[0m\u001b[0;34m(\u001b[0m\u001b[0;34m)\u001b[0m \u001b[0;34m==\u001b[0m \u001b[0;36m2\u001b[0m\u001b[0;34m)\u001b[0m\u001b[0;34m,\u001b[0m \u001b[0mX_ret_testing\u001b[0m \u001b[0;34m-\u001b[0m\u001b[0;36m1\u001b[0m \u001b[0;34m>=\u001b[0m \u001b[0;36m0.00000001\u001b[0m\u001b[0;34m)\u001b[0m\u001b[0;34m)\u001b[0m\u001b[0;34m.\u001b[0m\u001b[0mmean\u001b[0m\u001b[0;34m(\u001b[0m\u001b[0;34m)\u001b[0m\u001b[0;34m)\u001b[0m\u001b[0;34m\u001b[0m\u001b[0;34m\u001b[0m\u001b[0m\n\u001b[1;32m      5\u001b[0m \u001b[0;34m\u001b[0m\u001b[0m\n\u001b[0;32m----> 6\u001b[0;31m \u001b[0mprint\u001b[0m\u001b[0;34m(\u001b[0m\u001b[0;34m(\u001b[0m\u001b[0mnp\u001b[0m\u001b[0;34m.\u001b[0m\u001b[0mequal\u001b[0m\u001b[0;34m(\u001b[0m\u001b[0;34m(\u001b[0m\u001b[0mdf_testing\u001b[0m\u001b[0;34m.\u001b[0m\u001b[0mvalues\u001b[0m\u001b[0;34m[\u001b[0m\u001b[0;34m:\u001b[0m\u001b[0;34m,\u001b[0m \u001b[0;36m1\u001b[0m\u001b[0;34m]\u001b[0m \u001b[0;34m==\u001b[0m \u001b[0;36m0\u001b[0m\u001b[0;34m)\u001b[0m\u001b[0;34m,\u001b[0m \u001b[0mdf_testing\u001b[0m\u001b[0;34m.\u001b[0m\u001b[0mvalues\u001b[0m\u001b[0;34m[\u001b[0m\u001b[0;34m:\u001b[0m\u001b[0;34m,\u001b[0m \u001b[0;36m0\u001b[0m\u001b[0;34m]\u001b[0m \u001b[0;34m<\u001b[0m \u001b[0;34m-\u001b[0m\u001b[0;36m0.00000001\u001b[0m\u001b[0;34m)\u001b[0m\u001b[0;34m)\u001b[0m\u001b[0;34m.\u001b[0m\u001b[0mmean\u001b[0m\u001b[0;34m(\u001b[0m\u001b[0;34m)\u001b[0m\u001b[0;34m)\u001b[0m\u001b[0;34m\u001b[0m\u001b[0;34m\u001b[0m\u001b[0m\n\u001b[0m\u001b[1;32m      7\u001b[0m \u001b[0mprint\u001b[0m\u001b[0;34m(\u001b[0m\u001b[0;34m(\u001b[0m\u001b[0mnp\u001b[0m\u001b[0;34m.\u001b[0m\u001b[0mequal\u001b[0m\u001b[0;34m(\u001b[0m\u001b[0;34m(\u001b[0m\u001b[0mdf_testing\u001b[0m\u001b[0;34m.\u001b[0m\u001b[0mvalues\u001b[0m\u001b[0;34m[\u001b[0m\u001b[0;34m:\u001b[0m\u001b[0;34m,\u001b[0m \u001b[0;36m1\u001b[0m\u001b[0;34m]\u001b[0m \u001b[0;34m==\u001b[0m \u001b[0;36m1\u001b[0m\u001b[0;34m)\u001b[0m\u001b[0;34m,\u001b[0m \u001b[0mnp\u001b[0m\u001b[0;34m.\u001b[0m\u001b[0mlogical_and\u001b[0m\u001b[0;34m(\u001b[0m\u001b[0mdf_testing\u001b[0m\u001b[0;34m.\u001b[0m\u001b[0mvalues\u001b[0m\u001b[0;34m[\u001b[0m\u001b[0;34m:\u001b[0m\u001b[0;34m,\u001b[0m \u001b[0;36m0\u001b[0m\u001b[0;34m]\u001b[0m \u001b[0;34m>=\u001b[0m \u001b[0;34m-\u001b[0m\u001b[0;36m0.00000001\u001b[0m\u001b[0;34m,\u001b[0m \u001b[0mdf_testing\u001b[0m\u001b[0;34m.\u001b[0m\u001b[0mvalues\u001b[0m\u001b[0;34m[\u001b[0m\u001b[0;34m:\u001b[0m\u001b[0;34m,\u001b[0m \u001b[0;36m0\u001b[0m\u001b[0;34m]\u001b[0m \u001b[0;34m<\u001b[0m \u001b[0;36m0.00000001\u001b[0m \u001b[0;34m)\u001b[0m\u001b[0;34m)\u001b[0m\u001b[0;34m)\u001b[0m\u001b[0;34m.\u001b[0m\u001b[0mmean\u001b[0m\u001b[0;34m(\u001b[0m\u001b[0;34m)\u001b[0m\u001b[0;34m)\u001b[0m\u001b[0;34m\u001b[0m\u001b[0;34m\u001b[0m\u001b[0m\n\u001b[1;32m      8\u001b[0m \u001b[0mprint\u001b[0m\u001b[0;34m(\u001b[0m\u001b[0;34m(\u001b[0m\u001b[0mnp\u001b[0m\u001b[0;34m.\u001b[0m\u001b[0mequal\u001b[0m\u001b[0;34m(\u001b[0m\u001b[0;34m(\u001b[0m\u001b[0mdf_testing\u001b[0m\u001b[0;34m.\u001b[0m\u001b[0mvalues\u001b[0m\u001b[0;34m[\u001b[0m\u001b[0;34m:\u001b[0m\u001b[0;34m,\u001b[0m \u001b[0;36m1\u001b[0m\u001b[0;34m]\u001b[0m \u001b[0;34m==\u001b[0m \u001b[0;36m2\u001b[0m\u001b[0;34m)\u001b[0m\u001b[0;34m,\u001b[0m \u001b[0mdf_testing\u001b[0m\u001b[0;34m.\u001b[0m\u001b[0mvalues\u001b[0m\u001b[0;34m[\u001b[0m\u001b[0;34m:\u001b[0m\u001b[0;34m,\u001b[0m \u001b[0;36m0\u001b[0m\u001b[0;34m]\u001b[0m \u001b[0;34m>=\u001b[0m \u001b[0;36m0.00000001\u001b[0m\u001b[0;34m)\u001b[0m\u001b[0;34m)\u001b[0m\u001b[0;34m.\u001b[0m\u001b[0mmean\u001b[0m\u001b[0;34m(\u001b[0m\u001b[0;34m)\u001b[0m\u001b[0;34m)\u001b[0m\u001b[0;34m\u001b[0m\u001b[0;34m\u001b[0m\u001b[0m\n",
      "\u001b[0;31mNameError\u001b[0m: name 'df_testing' is not defined"
     ]
    }
   ],
   "source": [
    "# Test eq\n",
    "print((np.equal((y_testing.flatten() == 0), X_ret_testing -1 < - 0.00000001)).mean())\n",
    "print((np.equal((y_testing.flatten() == 1), np.logical_and(X_ret_testing -1 >= -0.00000001, X_ret_testing -1 < 0.00000001 ))).mean())\n",
    "print((np.equal((y_testing.flatten() == 2), X_ret_testing -1 >= 0.00000001)).mean())\n",
    "\n",
    "print((np.equal((df_testing.values[:, 1] == 0), df_testing.values[:, 0] < -0.00000001)).mean())\n",
    "print((np.equal((df_testing.values[:, 1] == 1), np.logical_and(df_testing.values[:, 0] >= -0.00000001, df_testing.values[:, 0] < 0.00000001 ))).mean())\n",
    "print((np.equal((df_testing.values[:, 1] == 2), df_testing.values[:, 0] >= 0.00000001)).mean())"
   ]
  },
  {
   "cell_type": "code",
   "execution_count": 31,
   "id": "massive-quick",
   "metadata": {},
   "outputs": [],
   "source": [
    "# y_pred = predictions(\n",
    "#     my_LSTM_model,\n",
    "#     eval(f\"X_{tmp_type}\")[..., :1]\n",
    "# )\n",
    "# y_pred = np.argmax(y_pred, axis=1)\n",
    "from copy import deepcopy\n",
    "y_pred = deepcopy(y_testing)\n",
    "np.random.shuffle(y_pred)"
   ]
  },
  {
   "cell_type": "code",
   "execution_count": 32,
   "id": "assured-relaxation",
   "metadata": {},
   "outputs": [
    {
     "ename": "ValueError",
     "evalue": "",
     "output_type": "error",
     "traceback": [
      "\u001b[0;31m---------------------------------------------------------------------------\u001b[0m",
      "\u001b[0;31mValueError\u001b[0m                                Traceback (most recent call last)",
      "\u001b[0;32m<ipython-input-32-796725c71ddf>\u001b[0m in \u001b[0;36m<module>\u001b[0;34m\u001b[0m\n\u001b[1;32m      1\u001b[0m \u001b[0;32mfor\u001b[0m \u001b[0m_\u001b[0m \u001b[0;32min\u001b[0m \u001b[0mrange\u001b[0m\u001b[0;34m(\u001b[0m\u001b[0;36m10\u001b[0m\u001b[0;34m)\u001b[0m\u001b[0;34m:\u001b[0m\u001b[0;34m\u001b[0m\u001b[0;34m\u001b[0m\u001b[0m\n\u001b[1;32m      2\u001b[0m     \u001b[0mnp\u001b[0m\u001b[0;34m.\u001b[0m\u001b[0mrandom\u001b[0m\u001b[0;34m.\u001b[0m\u001b[0mshuffle\u001b[0m\u001b[0;34m(\u001b[0m\u001b[0my_pred\u001b[0m\u001b[0;34m)\u001b[0m\u001b[0;34m\u001b[0m\u001b[0;34m\u001b[0m\u001b[0m\n\u001b[0;32m----> 3\u001b[0;31m     \u001b[0mplt\u001b[0m\u001b[0;34m.\u001b[0m\u001b[0mplot\u001b[0m\u001b[0;34m(\u001b[0m\u001b[0mcumulated_return\u001b[0m\u001b[0;34m(\u001b[0m\u001b[0my_pred\u001b[0m\u001b[0;34m,\u001b[0m \u001b[0mX_ret_testing\u001b[0m\u001b[0;34m,\u001b[0m \u001b[0;36m1000\u001b[0m\u001b[0;34m)\u001b[0m\u001b[0;34m,\u001b[0m \u001b[0mcolor\u001b[0m\u001b[0;34m=\u001b[0m\u001b[0;34m'grey'\u001b[0m\u001b[0;34m,\u001b[0m \u001b[0mlw\u001b[0m\u001b[0;34m=\u001b[0m\u001b[0;36m0.5\u001b[0m\u001b[0;34m)\u001b[0m\u001b[0;34m\u001b[0m\u001b[0;34m\u001b[0m\u001b[0m\n\u001b[0m\u001b[1;32m      4\u001b[0m \u001b[0ma\u001b[0m \u001b[0;34m=\u001b[0m \u001b[0mcumulated_return\u001b[0m\u001b[0;34m(\u001b[0m\u001b[0my_testing\u001b[0m\u001b[0;34m,\u001b[0m \u001b[0mX_ret_testing\u001b[0m\u001b[0;34m,\u001b[0m \u001b[0;36m1000\u001b[0m\u001b[0;34m)\u001b[0m\u001b[0;34m\u001b[0m\u001b[0;34m\u001b[0m\u001b[0m\n\u001b[1;32m      5\u001b[0m \u001b[0mplt\u001b[0m\u001b[0;34m.\u001b[0m\u001b[0mplot\u001b[0m\u001b[0;34m(\u001b[0m\u001b[0ma\u001b[0m\u001b[0;34m[\u001b[0m\u001b[0;36m1\u001b[0m\u001b[0;34m:\u001b[0m\u001b[0;34m]\u001b[0m\u001b[0;34m,\u001b[0m \u001b[0mlabel\u001b[0m\u001b[0;34m=\u001b[0m\u001b[0;34m'cumulated_return'\u001b[0m\u001b[0;34m)\u001b[0m\u001b[0;34m\u001b[0m\u001b[0;34m\u001b[0m\u001b[0m\n",
      "\u001b[0;32m<ipython-input-26-6471bb5114f9>\u001b[0m in \u001b[0;36mcumulated_return\u001b[0;34m(y_pred, ret, start_capital, dtype)\u001b[0m\n\u001b[1;32m     10\u001b[0m             \u001b[0mbalance\u001b[0m\u001b[0;34m.\u001b[0m\u001b[0mappend\u001b[0m\u001b[0;34m(\u001b[0m\u001b[0mbalance\u001b[0m\u001b[0;34m[\u001b[0m\u001b[0;34m-\u001b[0m\u001b[0;36m1\u001b[0m\u001b[0;34m]\u001b[0m \u001b[0;34m*\u001b[0m \u001b[0mret\u001b[0m\u001b[0;34m[\u001b[0m\u001b[0mi\u001b[0m\u001b[0;34m]\u001b[0m\u001b[0;34m)\u001b[0m\u001b[0;34m\u001b[0m\u001b[0;34m\u001b[0m\u001b[0m\n\u001b[1;32m     11\u001b[0m         \u001b[0;32melse\u001b[0m\u001b[0;34m:\u001b[0m\u001b[0;34m\u001b[0m\u001b[0;34m\u001b[0m\u001b[0m\n\u001b[0;32m---> 12\u001b[0;31m             \u001b[0;32mraise\u001b[0m \u001b[0mValueError\u001b[0m\u001b[0;34m(\u001b[0m\u001b[0;34m)\u001b[0m\u001b[0;34m\u001b[0m\u001b[0;34m\u001b[0m\u001b[0m\n\u001b[0m\u001b[1;32m     13\u001b[0m     \u001b[0mbalance\u001b[0m \u001b[0;34m=\u001b[0m \u001b[0mnp\u001b[0m\u001b[0;34m.\u001b[0m\u001b[0marray\u001b[0m\u001b[0;34m(\u001b[0m\u001b[0mbalance\u001b[0m\u001b[0;34m,\u001b[0m \u001b[0mdtype\u001b[0m\u001b[0;34m=\u001b[0m\u001b[0mdtype\u001b[0m\u001b[0;34m)\u001b[0m\u001b[0;34m\u001b[0m\u001b[0;34m\u001b[0m\u001b[0m\n\u001b[1;32m     14\u001b[0m     \u001b[0;32mreturn\u001b[0m \u001b[0mbalance\u001b[0m\u001b[0;34m\u001b[0m\u001b[0;34m\u001b[0m\u001b[0m\n",
      "\u001b[0;31mValueError\u001b[0m: "
     ]
    }
   ],
   "source": [
    "for _ in range(10):\n",
    "    np.random.shuffle(y_pred)\n",
    "    plt.plot(cumulated_return(y_pred, X_ret_testing, 1000), color='grey', lw=0.5)\n",
    "a = cumulated_return(y_testing, X_ret_testing, 1000)\n",
    "plt.plot(a[1:], label='cumulated_return')\n",
    "a = cumulated_return(y_train, X_ret_testing, 1000)\n",
    "plt.plot(a[1:], label='y_train')\n",
    "plt.semilogy()\n",
    "plt.legend()\n",
    "plt.show()"
   ]
  },
  {
   "cell_type": "code",
   "execution_count": 33,
   "id": "congressional-somewhere",
   "metadata": {},
   "outputs": [
    {
     "data": {
      "text/plain": [
       "Index(['EURUSD BGNE Curncy Bid Close', 'strategy'], dtype='object')"
      ]
     },
     "execution_count": 33,
     "metadata": {},
     "output_type": "execute_result"
    }
   ],
   "source": [
    "df.columns"
   ]
  },
  {
   "cell_type": "code",
   "execution_count": 34,
   "id": "oriental-damage",
   "metadata": {},
   "outputs": [
    {
     "ename": "KeyError",
     "evalue": "\"None of [Float64Index([ 1.604410803224576e+18,   1.60441135298039e+18,\\n              1.6044120401751572e+18, 1.6044125899309711e+18,\\n               1.604413139686785e+18, 1.6044138268815524e+18,\\n              1.6044143766373663e+18, 1.6044150638321336e+18,\\n              1.6044156135879475e+18, 1.6044161633437614e+18,\\n              ...\\n              1.6315452383695995e+18, 1.6315457881254134e+18,\\n              1.6315463378812273e+18, 1.6315470250759946e+18,\\n              1.6315475748318085e+18,  1.631548262026576e+18,\\n              1.6315488117823898e+18, 1.6315493615382036e+18,\\n               1.631550048732971e+18,  1.631550598488785e+18],\\n             dtype='float64', name='Dates', length=33305)] are in the [index]\"",
     "output_type": "error",
     "traceback": [
      "\u001b[0;31m---------------------------------------------------------------------------\u001b[0m",
      "\u001b[0;31mKeyError\u001b[0m                                  Traceback (most recent call last)",
      "\u001b[0;32m<ipython-input-34-550692d6f4b1>\u001b[0m in \u001b[0;36m<module>\u001b[0;34m\u001b[0m\n\u001b[1;32m      1\u001b[0m \u001b[0;32mif\u001b[0m \u001b[0mtmp_type\u001b[0m \u001b[0;34m==\u001b[0m \u001b[0;34m'train'\u001b[0m\u001b[0;34m:\u001b[0m\u001b[0;34m\u001b[0m\u001b[0;34m\u001b[0m\u001b[0m\n\u001b[0;32m----> 2\u001b[0;31m     \u001b[0mdf_tmp\u001b[0m \u001b[0;34m=\u001b[0m \u001b[0mdf\u001b[0m\u001b[0;34m.\u001b[0m\u001b[0mloc\u001b[0m\u001b[0;34m[\u001b[0m\u001b[0mX_train_index\u001b[0m\u001b[0;34m[\u001b[0m\u001b[0;34m:\u001b[0m\u001b[0;34m,\u001b[0m \u001b[0;34m-\u001b[0m\u001b[0;36m1\u001b[0m\u001b[0;34m]\u001b[0m\u001b[0;34m]\u001b[0m\u001b[0;34m.\u001b[0m\u001b[0mloc\u001b[0m\u001b[0;34m[\u001b[0m\u001b[0;34m:\u001b[0m\u001b[0;34m,\u001b[0m \u001b[0mtarget\u001b[0m\u001b[0;34m]\u001b[0m\u001b[0;34m.\u001b[0m\u001b[0mvalues\u001b[0m \u001b[0;34m+\u001b[0m \u001b[0;36m1\u001b[0m\u001b[0;34m\u001b[0m\u001b[0;34m\u001b[0m\u001b[0m\n\u001b[0m\u001b[1;32m      3\u001b[0m     \u001b[0mdf_close_tmp\u001b[0m \u001b[0;34m=\u001b[0m \u001b[0mdf_close\u001b[0m\u001b[0;34m.\u001b[0m\u001b[0mloc\u001b[0m\u001b[0;34m[\u001b[0m\u001b[0mX_train_index\u001b[0m\u001b[0;34m[\u001b[0m\u001b[0;34m:\u001b[0m\u001b[0;34m,\u001b[0m \u001b[0;34m-\u001b[0m\u001b[0;36m1\u001b[0m\u001b[0;34m]\u001b[0m\u001b[0;34m]\u001b[0m\u001b[0;34m.\u001b[0m\u001b[0miloc\u001b[0m\u001b[0;34m[\u001b[0m\u001b[0;34m:\u001b[0m\u001b[0;34m,\u001b[0m \u001b[0mtarget_column\u001b[0m \u001b[0;34m:\u001b[0m \u001b[0mtarget_column\u001b[0m \u001b[0;34m+\u001b[0m \u001b[0;36m1\u001b[0m\u001b[0;34m]\u001b[0m\u001b[0;34m.\u001b[0m\u001b[0mvalues\u001b[0m\u001b[0;34m\u001b[0m\u001b[0;34m\u001b[0m\u001b[0m\n\u001b[1;32m      4\u001b[0m     \u001b[0mprint\u001b[0m\u001b[0;34m(\u001b[0m\u001b[0mdf_close_tmp\u001b[0m\u001b[0;34m[\u001b[0m\u001b[0;34m-\u001b[0m\u001b[0;36m1\u001b[0m\u001b[0;34m]\u001b[0m \u001b[0;34m/\u001b[0m \u001b[0mdf_close_tmp\u001b[0m\u001b[0;34m[\u001b[0m\u001b[0;36m0\u001b[0m\u001b[0;34m]\u001b[0m \u001b[0;34m*\u001b[0m \u001b[0;36m1000\u001b[0m\u001b[0;34m)\u001b[0m\u001b[0;34m\u001b[0m\u001b[0;34m\u001b[0m\u001b[0m\n\u001b[1;32m      5\u001b[0m     \u001b[0mprint\u001b[0m\u001b[0;34m(\u001b[0m\u001b[0mdf_tmp\u001b[0m\u001b[0;34m.\u001b[0m\u001b[0mprod\u001b[0m\u001b[0;34m(\u001b[0m\u001b[0;34m)\u001b[0m \u001b[0;34m*\u001b[0m \u001b[0;36m1000\u001b[0m\u001b[0;34m)\u001b[0m\u001b[0;34m\u001b[0m\u001b[0;34m\u001b[0m\u001b[0m\n",
      "\u001b[0;32m~/github/venv/fxpred3/lib/python3.8/site-packages/pandas/core/indexing.py\u001b[0m in \u001b[0;36m__getitem__\u001b[0;34m(self, key)\u001b[0m\n\u001b[1;32m    893\u001b[0m \u001b[0;34m\u001b[0m\u001b[0m\n\u001b[1;32m    894\u001b[0m             \u001b[0mmaybe_callable\u001b[0m \u001b[0;34m=\u001b[0m \u001b[0mcom\u001b[0m\u001b[0;34m.\u001b[0m\u001b[0mapply_if_callable\u001b[0m\u001b[0;34m(\u001b[0m\u001b[0mkey\u001b[0m\u001b[0;34m,\u001b[0m \u001b[0mself\u001b[0m\u001b[0;34m.\u001b[0m\u001b[0mobj\u001b[0m\u001b[0;34m)\u001b[0m\u001b[0;34m\u001b[0m\u001b[0;34m\u001b[0m\u001b[0m\n\u001b[0;32m--> 895\u001b[0;31m             \u001b[0;32mreturn\u001b[0m \u001b[0mself\u001b[0m\u001b[0;34m.\u001b[0m\u001b[0m_getitem_axis\u001b[0m\u001b[0;34m(\u001b[0m\u001b[0mmaybe_callable\u001b[0m\u001b[0;34m,\u001b[0m \u001b[0maxis\u001b[0m\u001b[0;34m=\u001b[0m\u001b[0maxis\u001b[0m\u001b[0;34m)\u001b[0m\u001b[0;34m\u001b[0m\u001b[0;34m\u001b[0m\u001b[0m\n\u001b[0m\u001b[1;32m    896\u001b[0m \u001b[0;34m\u001b[0m\u001b[0m\n\u001b[1;32m    897\u001b[0m     \u001b[0;32mdef\u001b[0m \u001b[0m_is_scalar_access\u001b[0m\u001b[0;34m(\u001b[0m\u001b[0mself\u001b[0m\u001b[0;34m,\u001b[0m \u001b[0mkey\u001b[0m\u001b[0;34m:\u001b[0m \u001b[0mTuple\u001b[0m\u001b[0;34m)\u001b[0m\u001b[0;34m:\u001b[0m\u001b[0;34m\u001b[0m\u001b[0;34m\u001b[0m\u001b[0m\n",
      "\u001b[0;32m~/github/venv/fxpred3/lib/python3.8/site-packages/pandas/core/indexing.py\u001b[0m in \u001b[0;36m_getitem_axis\u001b[0;34m(self, key, axis)\u001b[0m\n\u001b[1;32m   1111\u001b[0m                     \u001b[0;32mraise\u001b[0m \u001b[0mValueError\u001b[0m\u001b[0;34m(\u001b[0m\u001b[0;34m\"Cannot index with multidimensional key\"\u001b[0m\u001b[0;34m)\u001b[0m\u001b[0;34m\u001b[0m\u001b[0;34m\u001b[0m\u001b[0m\n\u001b[1;32m   1112\u001b[0m \u001b[0;34m\u001b[0m\u001b[0m\n\u001b[0;32m-> 1113\u001b[0;31m                 \u001b[0;32mreturn\u001b[0m \u001b[0mself\u001b[0m\u001b[0;34m.\u001b[0m\u001b[0m_getitem_iterable\u001b[0m\u001b[0;34m(\u001b[0m\u001b[0mkey\u001b[0m\u001b[0;34m,\u001b[0m \u001b[0maxis\u001b[0m\u001b[0;34m=\u001b[0m\u001b[0maxis\u001b[0m\u001b[0;34m)\u001b[0m\u001b[0;34m\u001b[0m\u001b[0;34m\u001b[0m\u001b[0m\n\u001b[0m\u001b[1;32m   1114\u001b[0m \u001b[0;34m\u001b[0m\u001b[0m\n\u001b[1;32m   1115\u001b[0m             \u001b[0;31m# nested tuple slicing\u001b[0m\u001b[0;34m\u001b[0m\u001b[0;34m\u001b[0m\u001b[0;34m\u001b[0m\u001b[0m\n",
      "\u001b[0;32m~/github/venv/fxpred3/lib/python3.8/site-packages/pandas/core/indexing.py\u001b[0m in \u001b[0;36m_getitem_iterable\u001b[0;34m(self, key, axis)\u001b[0m\n\u001b[1;32m   1051\u001b[0m \u001b[0;34m\u001b[0m\u001b[0m\n\u001b[1;32m   1052\u001b[0m         \u001b[0;31m# A collection of keys\u001b[0m\u001b[0;34m\u001b[0m\u001b[0;34m\u001b[0m\u001b[0;34m\u001b[0m\u001b[0m\n\u001b[0;32m-> 1053\u001b[0;31m         \u001b[0mkeyarr\u001b[0m\u001b[0;34m,\u001b[0m \u001b[0mindexer\u001b[0m \u001b[0;34m=\u001b[0m \u001b[0mself\u001b[0m\u001b[0;34m.\u001b[0m\u001b[0m_get_listlike_indexer\u001b[0m\u001b[0;34m(\u001b[0m\u001b[0mkey\u001b[0m\u001b[0;34m,\u001b[0m \u001b[0maxis\u001b[0m\u001b[0;34m,\u001b[0m \u001b[0mraise_missing\u001b[0m\u001b[0;34m=\u001b[0m\u001b[0;32mFalse\u001b[0m\u001b[0;34m)\u001b[0m\u001b[0;34m\u001b[0m\u001b[0;34m\u001b[0m\u001b[0m\n\u001b[0m\u001b[1;32m   1054\u001b[0m         return self.obj._reindex_with_indexers(\n\u001b[1;32m   1055\u001b[0m             \u001b[0;34m{\u001b[0m\u001b[0maxis\u001b[0m\u001b[0;34m:\u001b[0m \u001b[0;34m[\u001b[0m\u001b[0mkeyarr\u001b[0m\u001b[0;34m,\u001b[0m \u001b[0mindexer\u001b[0m\u001b[0;34m]\u001b[0m\u001b[0;34m}\u001b[0m\u001b[0;34m,\u001b[0m \u001b[0mcopy\u001b[0m\u001b[0;34m=\u001b[0m\u001b[0;32mTrue\u001b[0m\u001b[0;34m,\u001b[0m \u001b[0mallow_dups\u001b[0m\u001b[0;34m=\u001b[0m\u001b[0;32mTrue\u001b[0m\u001b[0;34m\u001b[0m\u001b[0;34m\u001b[0m\u001b[0m\n",
      "\u001b[0;32m~/github/venv/fxpred3/lib/python3.8/site-packages/pandas/core/indexing.py\u001b[0m in \u001b[0;36m_get_listlike_indexer\u001b[0;34m(self, key, axis, raise_missing)\u001b[0m\n\u001b[1;32m   1264\u001b[0m             \u001b[0mkeyarr\u001b[0m\u001b[0;34m,\u001b[0m \u001b[0mindexer\u001b[0m\u001b[0;34m,\u001b[0m \u001b[0mnew_indexer\u001b[0m \u001b[0;34m=\u001b[0m \u001b[0max\u001b[0m\u001b[0;34m.\u001b[0m\u001b[0m_reindex_non_unique\u001b[0m\u001b[0;34m(\u001b[0m\u001b[0mkeyarr\u001b[0m\u001b[0;34m)\u001b[0m\u001b[0;34m\u001b[0m\u001b[0;34m\u001b[0m\u001b[0m\n\u001b[1;32m   1265\u001b[0m \u001b[0;34m\u001b[0m\u001b[0m\n\u001b[0;32m-> 1266\u001b[0;31m         \u001b[0mself\u001b[0m\u001b[0;34m.\u001b[0m\u001b[0m_validate_read_indexer\u001b[0m\u001b[0;34m(\u001b[0m\u001b[0mkeyarr\u001b[0m\u001b[0;34m,\u001b[0m \u001b[0mindexer\u001b[0m\u001b[0;34m,\u001b[0m \u001b[0maxis\u001b[0m\u001b[0;34m,\u001b[0m \u001b[0mraise_missing\u001b[0m\u001b[0;34m=\u001b[0m\u001b[0mraise_missing\u001b[0m\u001b[0;34m)\u001b[0m\u001b[0;34m\u001b[0m\u001b[0;34m\u001b[0m\u001b[0m\n\u001b[0m\u001b[1;32m   1267\u001b[0m         \u001b[0;32mreturn\u001b[0m \u001b[0mkeyarr\u001b[0m\u001b[0;34m,\u001b[0m \u001b[0mindexer\u001b[0m\u001b[0;34m\u001b[0m\u001b[0;34m\u001b[0m\u001b[0m\n\u001b[1;32m   1268\u001b[0m \u001b[0;34m\u001b[0m\u001b[0m\n",
      "\u001b[0;32m~/github/venv/fxpred3/lib/python3.8/site-packages/pandas/core/indexing.py\u001b[0m in \u001b[0;36m_validate_read_indexer\u001b[0;34m(self, key, indexer, axis, raise_missing)\u001b[0m\n\u001b[1;32m   1306\u001b[0m             \u001b[0;32mif\u001b[0m \u001b[0mmissing\u001b[0m \u001b[0;34m==\u001b[0m \u001b[0mlen\u001b[0m\u001b[0;34m(\u001b[0m\u001b[0mindexer\u001b[0m\u001b[0;34m)\u001b[0m\u001b[0;34m:\u001b[0m\u001b[0;34m\u001b[0m\u001b[0;34m\u001b[0m\u001b[0m\n\u001b[1;32m   1307\u001b[0m                 \u001b[0maxis_name\u001b[0m \u001b[0;34m=\u001b[0m \u001b[0mself\u001b[0m\u001b[0;34m.\u001b[0m\u001b[0mobj\u001b[0m\u001b[0;34m.\u001b[0m\u001b[0m_get_axis_name\u001b[0m\u001b[0;34m(\u001b[0m\u001b[0maxis\u001b[0m\u001b[0;34m)\u001b[0m\u001b[0;34m\u001b[0m\u001b[0;34m\u001b[0m\u001b[0m\n\u001b[0;32m-> 1308\u001b[0;31m                 \u001b[0;32mraise\u001b[0m \u001b[0mKeyError\u001b[0m\u001b[0;34m(\u001b[0m\u001b[0;34mf\"None of [{key}] are in the [{axis_name}]\"\u001b[0m\u001b[0;34m)\u001b[0m\u001b[0;34m\u001b[0m\u001b[0;34m\u001b[0m\u001b[0m\n\u001b[0m\u001b[1;32m   1309\u001b[0m \u001b[0;34m\u001b[0m\u001b[0m\n\u001b[1;32m   1310\u001b[0m             \u001b[0max\u001b[0m \u001b[0;34m=\u001b[0m \u001b[0mself\u001b[0m\u001b[0;34m.\u001b[0m\u001b[0mobj\u001b[0m\u001b[0;34m.\u001b[0m\u001b[0m_get_axis\u001b[0m\u001b[0;34m(\u001b[0m\u001b[0maxis\u001b[0m\u001b[0;34m)\u001b[0m\u001b[0;34m\u001b[0m\u001b[0;34m\u001b[0m\u001b[0m\n",
      "\u001b[0;31mKeyError\u001b[0m: \"None of [Float64Index([ 1.604410803224576e+18,   1.60441135298039e+18,\\n              1.6044120401751572e+18, 1.6044125899309711e+18,\\n               1.604413139686785e+18, 1.6044138268815524e+18,\\n              1.6044143766373663e+18, 1.6044150638321336e+18,\\n              1.6044156135879475e+18, 1.6044161633437614e+18,\\n              ...\\n              1.6315452383695995e+18, 1.6315457881254134e+18,\\n              1.6315463378812273e+18, 1.6315470250759946e+18,\\n              1.6315475748318085e+18,  1.631548262026576e+18,\\n              1.6315488117823898e+18, 1.6315493615382036e+18,\\n               1.631550048732971e+18,  1.631550598488785e+18],\\n             dtype='float64', name='Dates', length=33305)] are in the [index]\""
     ]
    }
   ],
   "source": [
    "if tmp_type == 'train':\n",
    "    df_tmp = df.loc[X_train_index[:, -1]].loc[:, target].values + 1\n",
    "    df_close_tmp = df_close.loc[X_train_index[:, -1]].iloc[:, target_column : target_column + 1].values\n",
    "    print(df_close_tmp[-1] / df_close_tmp[0] * 1000)\n",
    "    print(df_tmp.prod() * 1000)\n",
    "    print(X_ret_testing.prod() * 1000)\n",
    "    print(cumulated_return(y_testing * 0 + 2, X_ret_testing, 1000)[-1])"
   ]
  },
  {
   "cell_type": "code",
   "execution_count": 35,
   "id": "signed-carnival",
   "metadata": {},
   "outputs": [
    {
     "name": "stdout",
     "output_type": "stream",
     "text": [
      "-0.0\n"
     ]
    },
    {
     "ename": "ValueError",
     "evalue": "",
     "output_type": "error",
     "traceback": [
      "\u001b[0;31m---------------------------------------------------------------------------\u001b[0m",
      "\u001b[0;31mValueError\u001b[0m                                Traceback (most recent call last)",
      "\u001b[0;32m<ipython-input-35-c2bc56bfef29>\u001b[0m in \u001b[0;36m<module>\u001b[0;34m\u001b[0m\n\u001b[1;32m      2\u001b[0m \u001b[0my_tmp\u001b[0m \u001b[0;34m=\u001b[0m \u001b[0my_testing\u001b[0m\u001b[0;34m[\u001b[0m\u001b[0;36m1\u001b[0m\u001b[0;34m:\u001b[0m\u001b[0;34m]\u001b[0m \u001b[0;34m*\u001b[0m \u001b[0;36m1\u001b[0m\u001b[0;34m\u001b[0m\u001b[0;34m\u001b[0m\u001b[0m\n\u001b[1;32m      3\u001b[0m \u001b[0my_tmp\u001b[0m\u001b[0;34m[\u001b[0m\u001b[0;36m1\u001b[0m\u001b[0;34m:\u001b[0m\u001b[0;34m:\u001b[0m\u001b[0;36m3\u001b[0m\u001b[0;34m]\u001b[0m \u001b[0;34m=\u001b[0m \u001b[0;36m2\u001b[0m\u001b[0;34m\u001b[0m\u001b[0;34m\u001b[0m\u001b[0m\n\u001b[0;32m----> 4\u001b[0;31m \u001b[0mprint\u001b[0m\u001b[0;34m(\u001b[0m\u001b[0mcumulated_return\u001b[0m\u001b[0;34m(\u001b[0m\u001b[0my_tmp\u001b[0m\u001b[0;34m,\u001b[0m \u001b[0mX_ret_testing\u001b[0m\u001b[0;34m[\u001b[0m\u001b[0;36m1\u001b[0m\u001b[0;34m:\u001b[0m\u001b[0;34m]\u001b[0m\u001b[0;34m,\u001b[0m \u001b[0;36m1000\u001b[0m\u001b[0;34m)\u001b[0m\u001b[0;34m[\u001b[0m\u001b[0;34m-\u001b[0m\u001b[0;36m1\u001b[0m\u001b[0;34m]\u001b[0m\u001b[0;34m)\u001b[0m\u001b[0;34m\u001b[0m\u001b[0;34m\u001b[0m\u001b[0m\n\u001b[0m\u001b[1;32m      5\u001b[0m \u001b[0my_tmp\u001b[0m \u001b[0;34m=\u001b[0m \u001b[0my_train\u001b[0m \u001b[0;34m*\u001b[0m \u001b[0;36m1\u001b[0m\u001b[0;34m\u001b[0m\u001b[0;34m\u001b[0m\u001b[0m\n\u001b[1;32m      6\u001b[0m \u001b[0my_tmp\u001b[0m\u001b[0;34m[\u001b[0m\u001b[0;36m1\u001b[0m\u001b[0;34m:\u001b[0m\u001b[0;34m:\u001b[0m\u001b[0;36m3\u001b[0m\u001b[0;34m]\u001b[0m \u001b[0;34m=\u001b[0m \u001b[0;36m2\u001b[0m\u001b[0;34m\u001b[0m\u001b[0;34m\u001b[0m\u001b[0m\n",
      "\u001b[0;32m<ipython-input-26-6471bb5114f9>\u001b[0m in \u001b[0;36mcumulated_return\u001b[0;34m(y_pred, ret, start_capital, dtype)\u001b[0m\n\u001b[1;32m     10\u001b[0m             \u001b[0mbalance\u001b[0m\u001b[0;34m.\u001b[0m\u001b[0mappend\u001b[0m\u001b[0;34m(\u001b[0m\u001b[0mbalance\u001b[0m\u001b[0;34m[\u001b[0m\u001b[0;34m-\u001b[0m\u001b[0;36m1\u001b[0m\u001b[0;34m]\u001b[0m \u001b[0;34m*\u001b[0m \u001b[0mret\u001b[0m\u001b[0;34m[\u001b[0m\u001b[0mi\u001b[0m\u001b[0;34m]\u001b[0m\u001b[0;34m)\u001b[0m\u001b[0;34m\u001b[0m\u001b[0;34m\u001b[0m\u001b[0m\n\u001b[1;32m     11\u001b[0m         \u001b[0;32melse\u001b[0m\u001b[0;34m:\u001b[0m\u001b[0;34m\u001b[0m\u001b[0;34m\u001b[0m\u001b[0m\n\u001b[0;32m---> 12\u001b[0;31m             \u001b[0;32mraise\u001b[0m \u001b[0mValueError\u001b[0m\u001b[0;34m(\u001b[0m\u001b[0;34m)\u001b[0m\u001b[0;34m\u001b[0m\u001b[0;34m\u001b[0m\u001b[0m\n\u001b[0m\u001b[1;32m     13\u001b[0m     \u001b[0mbalance\u001b[0m \u001b[0;34m=\u001b[0m \u001b[0mnp\u001b[0m\u001b[0;34m.\u001b[0m\u001b[0marray\u001b[0m\u001b[0;34m(\u001b[0m\u001b[0mbalance\u001b[0m\u001b[0;34m,\u001b[0m \u001b[0mdtype\u001b[0m\u001b[0;34m=\u001b[0m\u001b[0mdtype\u001b[0m\u001b[0;34m)\u001b[0m\u001b[0;34m\u001b[0m\u001b[0;34m\u001b[0m\u001b[0m\n\u001b[1;32m     14\u001b[0m     \u001b[0;32mreturn\u001b[0m \u001b[0mbalance\u001b[0m\u001b[0;34m\u001b[0m\u001b[0;34m\u001b[0m\u001b[0m\n",
      "\u001b[0;31mValueError\u001b[0m: "
     ]
    }
   ],
   "source": [
    "print(X_ret_testing[1::3].prod()* 1000)\n",
    "y_tmp = y_testing[1:] * 1\n",
    "y_tmp[1::3] = 2\n",
    "print(cumulated_return(y_tmp, X_ret_testing[1:], 1000)[-1])\n",
    "y_tmp = y_train * 1\n",
    "y_tmp[1::3] = 2\n",
    "print(cumulated_return(y_tmp[:-1], X_ret_testing[1:], 1000)[-1])"
   ]
  },
  {
   "cell_type": "code",
   "execution_count": 36,
   "id": "threatened-range",
   "metadata": {},
   "outputs": [
    {
     "name": "stdout",
     "output_type": "stream",
     "text": [
      "train\n"
     ]
    },
    {
     "ename": "ValueError",
     "evalue": "in user code:\n\n    /home/ms/github/venv/fxpred3/lib/python3.8/site-packages/tensorflow/python/keras/engine/training.py:1579 predict_function  *\n        return step_function(self, iterator)\n    /home/ms/github/venv/fxpred3/lib/python3.8/site-packages/tensorflow/python/keras/engine/training.py:1569 step_function  **\n        outputs = model.distribute_strategy.run(run_step, args=(data,))\n    /home/ms/github/venv/fxpred3/lib/python3.8/site-packages/tensorflow/python/distribute/distribute_lib.py:1286 run\n        return self._extended.call_for_each_replica(fn, args=args, kwargs=kwargs)\n    /home/ms/github/venv/fxpred3/lib/python3.8/site-packages/tensorflow/python/distribute/distribute_lib.py:2844 call_for_each_replica\n        return self._call_for_each_replica(fn, args, kwargs)\n    /home/ms/github/venv/fxpred3/lib/python3.8/site-packages/tensorflow/python/distribute/distribute_lib.py:3619 _call_for_each_replica\n        return fn(*args, **kwargs)\n    /home/ms/github/venv/fxpred3/lib/python3.8/site-packages/tensorflow/python/keras/engine/training.py:1562 run_step  **\n        outputs = model.predict_step(data)\n    /home/ms/github/venv/fxpred3/lib/python3.8/site-packages/tensorflow/python/keras/engine/training.py:1535 predict_step\n        return self(x, training=False)\n    /home/ms/github/venv/fxpred3/lib/python3.8/site-packages/tensorflow/python/keras/engine/base_layer.py:1040 __call__\n        input_spec.assert_input_compatibility(self.input_spec, inputs, self.name)\n    /home/ms/github/venv/fxpred3/lib/python3.8/site-packages/tensorflow/python/keras/engine/input_spec.py:267 assert_input_compatibility\n        raise ValueError('Input ' + str(input_index) +\n\n    ValueError: Input 0 is incompatible with layer sequential: expected shape=(None, None, 2), found shape=(None, 256, 1)\n",
     "output_type": "error",
     "traceback": [
      "\u001b[0;31m---------------------------------------------------------------------------\u001b[0m",
      "\u001b[0;31mValueError\u001b[0m                                Traceback (most recent call last)",
      "\u001b[0;32m<ipython-input-36-4da88f29b18b>\u001b[0m in \u001b[0;36m<module>\u001b[0;34m\u001b[0m\n\u001b[1;32m      3\u001b[0m \u001b[0;34m\u001b[0m\u001b[0m\n\u001b[1;32m      4\u001b[0m \u001b[0my\u001b[0m \u001b[0;34m=\u001b[0m \u001b[0meval\u001b[0m\u001b[0;34m(\u001b[0m\u001b[0;34mf\"y_{tmp_type}\"\u001b[0m\u001b[0;34m)\u001b[0m\u001b[0;34m\u001b[0m\u001b[0;34m\u001b[0m\u001b[0m\n\u001b[0;32m----> 5\u001b[0;31m y_pred = np.argmax(predictions(\n\u001b[0m\u001b[1;32m      6\u001b[0m     \u001b[0mmy_LSTM_model\u001b[0m\u001b[0;34m,\u001b[0m\u001b[0;34m\u001b[0m\u001b[0;34m\u001b[0m\u001b[0m\n\u001b[1;32m      7\u001b[0m     \u001b[0meval\u001b[0m\u001b[0;34m(\u001b[0m\u001b[0;34mf\"X_{tmp_type}\"\u001b[0m\u001b[0;34m)\u001b[0m\u001b[0;34m[\u001b[0m\u001b[0;34m...\u001b[0m\u001b[0;34m,\u001b[0m \u001b[0;34m:\u001b[0m\u001b[0;36m1\u001b[0m\u001b[0;34m]\u001b[0m\u001b[0;34m\u001b[0m\u001b[0;34m\u001b[0m\u001b[0m\n",
      "\u001b[0;32m<ipython-input-13-2378bc9e1ff5>\u001b[0m in \u001b[0;36mpredictions\u001b[0;34m(my_model, X_test, sc)\u001b[0m\n\u001b[1;32m      1\u001b[0m \u001b[0;32mdef\u001b[0m \u001b[0mpredictions\u001b[0m\u001b[0;34m(\u001b[0m\u001b[0mmy_model\u001b[0m\u001b[0;34m,\u001b[0m \u001b[0mX_test\u001b[0m\u001b[0;34m,\u001b[0m \u001b[0msc\u001b[0m\u001b[0;34m=\u001b[0m\u001b[0;32mNone\u001b[0m\u001b[0;34m)\u001b[0m\u001b[0;34m:\u001b[0m\u001b[0;34m\u001b[0m\u001b[0;34m\u001b[0m\u001b[0m\n\u001b[0;32m----> 2\u001b[0;31m     \u001b[0mLSTM_prediction\u001b[0m \u001b[0;34m=\u001b[0m \u001b[0mmy_model\u001b[0m\u001b[0;34m.\u001b[0m\u001b[0mpredict\u001b[0m\u001b[0;34m(\u001b[0m\u001b[0mX_test\u001b[0m\u001b[0;34m)\u001b[0m\u001b[0;34m\u001b[0m\u001b[0;34m\u001b[0m\u001b[0m\n\u001b[0m\u001b[1;32m      3\u001b[0m     \u001b[0;32mif\u001b[0m \u001b[0msc\u001b[0m \u001b[0;32mis\u001b[0m \u001b[0;32mnot\u001b[0m \u001b[0;32mNone\u001b[0m\u001b[0;34m:\u001b[0m\u001b[0;34m\u001b[0m\u001b[0;34m\u001b[0m\u001b[0m\n\u001b[1;32m      4\u001b[0m         \u001b[0mLSTM_prediction\u001b[0m \u001b[0;34m=\u001b[0m \u001b[0msc\u001b[0m\u001b[0;34m.\u001b[0m\u001b[0minverse_transform\u001b[0m\u001b[0;34m(\u001b[0m\u001b[0mLSTM_prediction\u001b[0m\u001b[0;34m)\u001b[0m\u001b[0;34m\u001b[0m\u001b[0;34m\u001b[0m\u001b[0m\n\u001b[1;32m      5\u001b[0m     \u001b[0;32mreturn\u001b[0m \u001b[0mLSTM_prediction\u001b[0m\u001b[0;34m\u001b[0m\u001b[0;34m\u001b[0m\u001b[0m\n",
      "\u001b[0;32m~/github/venv/fxpred3/lib/python3.8/site-packages/tensorflow/python/keras/engine/training.py\u001b[0m in \u001b[0;36mpredict\u001b[0;34m(self, x, batch_size, verbose, steps, callbacks, max_queue_size, workers, use_multiprocessing)\u001b[0m\n\u001b[1;32m   1735\u001b[0m           \u001b[0;32mfor\u001b[0m \u001b[0mstep\u001b[0m \u001b[0;32min\u001b[0m \u001b[0mdata_handler\u001b[0m\u001b[0;34m.\u001b[0m\u001b[0msteps\u001b[0m\u001b[0;34m(\u001b[0m\u001b[0;34m)\u001b[0m\u001b[0;34m:\u001b[0m\u001b[0;34m\u001b[0m\u001b[0;34m\u001b[0m\u001b[0m\n\u001b[1;32m   1736\u001b[0m             \u001b[0mcallbacks\u001b[0m\u001b[0;34m.\u001b[0m\u001b[0mon_predict_batch_begin\u001b[0m\u001b[0;34m(\u001b[0m\u001b[0mstep\u001b[0m\u001b[0;34m)\u001b[0m\u001b[0;34m\u001b[0m\u001b[0;34m\u001b[0m\u001b[0m\n\u001b[0;32m-> 1737\u001b[0;31m             \u001b[0mtmp_batch_outputs\u001b[0m \u001b[0;34m=\u001b[0m \u001b[0mself\u001b[0m\u001b[0;34m.\u001b[0m\u001b[0mpredict_function\u001b[0m\u001b[0;34m(\u001b[0m\u001b[0miterator\u001b[0m\u001b[0;34m)\u001b[0m\u001b[0;34m\u001b[0m\u001b[0;34m\u001b[0m\u001b[0m\n\u001b[0m\u001b[1;32m   1738\u001b[0m             \u001b[0;32mif\u001b[0m \u001b[0mdata_handler\u001b[0m\u001b[0;34m.\u001b[0m\u001b[0mshould_sync\u001b[0m\u001b[0;34m:\u001b[0m\u001b[0;34m\u001b[0m\u001b[0;34m\u001b[0m\u001b[0m\n\u001b[1;32m   1739\u001b[0m               \u001b[0mcontext\u001b[0m\u001b[0;34m.\u001b[0m\u001b[0masync_wait\u001b[0m\u001b[0;34m(\u001b[0m\u001b[0;34m)\u001b[0m\u001b[0;34m\u001b[0m\u001b[0;34m\u001b[0m\u001b[0m\n",
      "\u001b[0;32m~/github/venv/fxpred3/lib/python3.8/site-packages/tensorflow/python/eager/def_function.py\u001b[0m in \u001b[0;36m__call__\u001b[0;34m(self, *args, **kwds)\u001b[0m\n\u001b[1;32m    883\u001b[0m \u001b[0;34m\u001b[0m\u001b[0m\n\u001b[1;32m    884\u001b[0m       \u001b[0;32mwith\u001b[0m \u001b[0mOptionalXlaContext\u001b[0m\u001b[0;34m(\u001b[0m\u001b[0mself\u001b[0m\u001b[0;34m.\u001b[0m\u001b[0m_jit_compile\u001b[0m\u001b[0;34m)\u001b[0m\u001b[0;34m:\u001b[0m\u001b[0;34m\u001b[0m\u001b[0;34m\u001b[0m\u001b[0m\n\u001b[0;32m--> 885\u001b[0;31m         \u001b[0mresult\u001b[0m \u001b[0;34m=\u001b[0m \u001b[0mself\u001b[0m\u001b[0;34m.\u001b[0m\u001b[0m_call\u001b[0m\u001b[0;34m(\u001b[0m\u001b[0;34m*\u001b[0m\u001b[0margs\u001b[0m\u001b[0;34m,\u001b[0m \u001b[0;34m**\u001b[0m\u001b[0mkwds\u001b[0m\u001b[0;34m)\u001b[0m\u001b[0;34m\u001b[0m\u001b[0;34m\u001b[0m\u001b[0m\n\u001b[0m\u001b[1;32m    886\u001b[0m \u001b[0;34m\u001b[0m\u001b[0m\n\u001b[1;32m    887\u001b[0m       \u001b[0mnew_tracing_count\u001b[0m \u001b[0;34m=\u001b[0m \u001b[0mself\u001b[0m\u001b[0;34m.\u001b[0m\u001b[0mexperimental_get_tracing_count\u001b[0m\u001b[0;34m(\u001b[0m\u001b[0;34m)\u001b[0m\u001b[0;34m\u001b[0m\u001b[0;34m\u001b[0m\u001b[0m\n",
      "\u001b[0;32m~/github/venv/fxpred3/lib/python3.8/site-packages/tensorflow/python/eager/def_function.py\u001b[0m in \u001b[0;36m_call\u001b[0;34m(self, *args, **kwds)\u001b[0m\n\u001b[1;32m    918\u001b[0m       \u001b[0;31m# In this case we have not created variables on the first call. So we can\u001b[0m\u001b[0;34m\u001b[0m\u001b[0;34m\u001b[0m\u001b[0;34m\u001b[0m\u001b[0m\n\u001b[1;32m    919\u001b[0m       \u001b[0;31m# run the first trace but we should fail if variables are created.\u001b[0m\u001b[0;34m\u001b[0m\u001b[0;34m\u001b[0m\u001b[0;34m\u001b[0m\u001b[0m\n\u001b[0;32m--> 920\u001b[0;31m       \u001b[0mresults\u001b[0m \u001b[0;34m=\u001b[0m \u001b[0mself\u001b[0m\u001b[0;34m.\u001b[0m\u001b[0m_stateful_fn\u001b[0m\u001b[0;34m(\u001b[0m\u001b[0;34m*\u001b[0m\u001b[0margs\u001b[0m\u001b[0;34m,\u001b[0m \u001b[0;34m**\u001b[0m\u001b[0mkwds\u001b[0m\u001b[0;34m)\u001b[0m\u001b[0;34m\u001b[0m\u001b[0;34m\u001b[0m\u001b[0m\n\u001b[0m\u001b[1;32m    921\u001b[0m       \u001b[0;32mif\u001b[0m \u001b[0mself\u001b[0m\u001b[0;34m.\u001b[0m\u001b[0m_created_variables\u001b[0m\u001b[0;34m:\u001b[0m\u001b[0;34m\u001b[0m\u001b[0;34m\u001b[0m\u001b[0m\n\u001b[1;32m    922\u001b[0m         raise ValueError(\"Creating variables on a non-first call to a function\"\n",
      "\u001b[0;32m~/github/venv/fxpred3/lib/python3.8/site-packages/tensorflow/python/eager/function.py\u001b[0m in \u001b[0;36m__call__\u001b[0;34m(self, *args, **kwargs)\u001b[0m\n\u001b[1;32m   3029\u001b[0m     \u001b[0;32mwith\u001b[0m \u001b[0mself\u001b[0m\u001b[0;34m.\u001b[0m\u001b[0m_lock\u001b[0m\u001b[0;34m:\u001b[0m\u001b[0;34m\u001b[0m\u001b[0;34m\u001b[0m\u001b[0m\n\u001b[1;32m   3030\u001b[0m       (graph_function,\n\u001b[0;32m-> 3031\u001b[0;31m        filtered_flat_args) = self._maybe_define_function(args, kwargs)\n\u001b[0m\u001b[1;32m   3032\u001b[0m     return graph_function._call_flat(\n\u001b[1;32m   3033\u001b[0m         filtered_flat_args, captured_inputs=graph_function.captured_inputs)  # pylint: disable=protected-access\n",
      "\u001b[0;32m~/github/venv/fxpred3/lib/python3.8/site-packages/tensorflow/python/eager/function.py\u001b[0m in \u001b[0;36m_maybe_define_function\u001b[0;34m(self, args, kwargs)\u001b[0m\n\u001b[1;32m   3450\u001b[0m               \u001b[0mself\u001b[0m\u001b[0;34m.\u001b[0m\u001b[0minput_signature\u001b[0m \u001b[0;32mis\u001b[0m \u001b[0;32mNone\u001b[0m \u001b[0;32mand\u001b[0m\u001b[0;34m\u001b[0m\u001b[0;34m\u001b[0m\u001b[0m\n\u001b[1;32m   3451\u001b[0m               call_context_key in self._function_cache.missed):\n\u001b[0;32m-> 3452\u001b[0;31m             return self._define_function_with_shape_relaxation(\n\u001b[0m\u001b[1;32m   3453\u001b[0m                 args, kwargs, flat_args, filtered_flat_args, cache_key_context)\n\u001b[1;32m   3454\u001b[0m \u001b[0;34m\u001b[0m\u001b[0m\n",
      "\u001b[0;32m~/github/venv/fxpred3/lib/python3.8/site-packages/tensorflow/python/eager/function.py\u001b[0m in \u001b[0;36m_define_function_with_shape_relaxation\u001b[0;34m(self, args, kwargs, flat_args, filtered_flat_args, cache_key_context)\u001b[0m\n\u001b[1;32m   3372\u001b[0m           expand_composites=True)\n\u001b[1;32m   3373\u001b[0m \u001b[0;34m\u001b[0m\u001b[0m\n\u001b[0;32m-> 3374\u001b[0;31m     graph_function = self._create_graph_function(\n\u001b[0m\u001b[1;32m   3375\u001b[0m         args, kwargs, override_flat_arg_shapes=relaxed_arg_shapes)\n\u001b[1;32m   3376\u001b[0m     \u001b[0mself\u001b[0m\u001b[0;34m.\u001b[0m\u001b[0m_function_cache\u001b[0m\u001b[0;34m.\u001b[0m\u001b[0marg_relaxed\u001b[0m\u001b[0;34m[\u001b[0m\u001b[0mrank_only_cache_key\u001b[0m\u001b[0;34m]\u001b[0m \u001b[0;34m=\u001b[0m \u001b[0mgraph_function\u001b[0m\u001b[0;34m\u001b[0m\u001b[0;34m\u001b[0m\u001b[0m\n",
      "\u001b[0;32m~/github/venv/fxpred3/lib/python3.8/site-packages/tensorflow/python/eager/function.py\u001b[0m in \u001b[0;36m_create_graph_function\u001b[0;34m(self, args, kwargs, override_flat_arg_shapes)\u001b[0m\n\u001b[1;32m   3289\u001b[0m     \u001b[0marg_names\u001b[0m \u001b[0;34m=\u001b[0m \u001b[0mbase_arg_names\u001b[0m \u001b[0;34m+\u001b[0m \u001b[0mmissing_arg_names\u001b[0m\u001b[0;34m\u001b[0m\u001b[0;34m\u001b[0m\u001b[0m\n\u001b[1;32m   3290\u001b[0m     graph_function = ConcreteFunction(\n\u001b[0;32m-> 3291\u001b[0;31m         func_graph_module.func_graph_from_py_func(\n\u001b[0m\u001b[1;32m   3292\u001b[0m             \u001b[0mself\u001b[0m\u001b[0;34m.\u001b[0m\u001b[0m_name\u001b[0m\u001b[0;34m,\u001b[0m\u001b[0;34m\u001b[0m\u001b[0;34m\u001b[0m\u001b[0m\n\u001b[1;32m   3293\u001b[0m             \u001b[0mself\u001b[0m\u001b[0;34m.\u001b[0m\u001b[0m_python_function\u001b[0m\u001b[0;34m,\u001b[0m\u001b[0;34m\u001b[0m\u001b[0;34m\u001b[0m\u001b[0m\n",
      "\u001b[0;32m~/github/venv/fxpred3/lib/python3.8/site-packages/tensorflow/python/framework/func_graph.py\u001b[0m in \u001b[0;36mfunc_graph_from_py_func\u001b[0;34m(name, python_func, args, kwargs, signature, func_graph, autograph, autograph_options, add_control_dependencies, arg_names, op_return_value, collections, capture_by_value, override_flat_arg_shapes, acd_record_initial_resource_uses)\u001b[0m\n\u001b[1;32m   1005\u001b[0m         \u001b[0m_\u001b[0m\u001b[0;34m,\u001b[0m \u001b[0moriginal_func\u001b[0m \u001b[0;34m=\u001b[0m \u001b[0mtf_decorator\u001b[0m\u001b[0;34m.\u001b[0m\u001b[0munwrap\u001b[0m\u001b[0;34m(\u001b[0m\u001b[0mpython_func\u001b[0m\u001b[0;34m)\u001b[0m\u001b[0;34m\u001b[0m\u001b[0;34m\u001b[0m\u001b[0m\n\u001b[1;32m   1006\u001b[0m \u001b[0;34m\u001b[0m\u001b[0m\n\u001b[0;32m-> 1007\u001b[0;31m       \u001b[0mfunc_outputs\u001b[0m \u001b[0;34m=\u001b[0m \u001b[0mpython_func\u001b[0m\u001b[0;34m(\u001b[0m\u001b[0;34m*\u001b[0m\u001b[0mfunc_args\u001b[0m\u001b[0;34m,\u001b[0m \u001b[0;34m**\u001b[0m\u001b[0mfunc_kwargs\u001b[0m\u001b[0;34m)\u001b[0m\u001b[0;34m\u001b[0m\u001b[0;34m\u001b[0m\u001b[0m\n\u001b[0m\u001b[1;32m   1008\u001b[0m \u001b[0;34m\u001b[0m\u001b[0m\n\u001b[1;32m   1009\u001b[0m       \u001b[0;31m# invariant: `func_outputs` contains only Tensors, CompositeTensors,\u001b[0m\u001b[0;34m\u001b[0m\u001b[0;34m\u001b[0m\u001b[0;34m\u001b[0m\u001b[0m\n",
      "\u001b[0;32m~/github/venv/fxpred3/lib/python3.8/site-packages/tensorflow/python/eager/def_function.py\u001b[0m in \u001b[0;36mwrapped_fn\u001b[0;34m(*args, **kwds)\u001b[0m\n\u001b[1;32m    666\u001b[0m         \u001b[0;31m# the function a weak reference to itself to avoid a reference cycle.\u001b[0m\u001b[0;34m\u001b[0m\u001b[0;34m\u001b[0m\u001b[0;34m\u001b[0m\u001b[0m\n\u001b[1;32m    667\u001b[0m         \u001b[0;32mwith\u001b[0m \u001b[0mOptionalXlaContext\u001b[0m\u001b[0;34m(\u001b[0m\u001b[0mcompile_with_xla\u001b[0m\u001b[0;34m)\u001b[0m\u001b[0;34m:\u001b[0m\u001b[0;34m\u001b[0m\u001b[0;34m\u001b[0m\u001b[0m\n\u001b[0;32m--> 668\u001b[0;31m           \u001b[0mout\u001b[0m \u001b[0;34m=\u001b[0m \u001b[0mweak_wrapped_fn\u001b[0m\u001b[0;34m(\u001b[0m\u001b[0;34m)\u001b[0m\u001b[0;34m.\u001b[0m\u001b[0m__wrapped__\u001b[0m\u001b[0;34m(\u001b[0m\u001b[0;34m*\u001b[0m\u001b[0margs\u001b[0m\u001b[0;34m,\u001b[0m \u001b[0;34m**\u001b[0m\u001b[0mkwds\u001b[0m\u001b[0;34m)\u001b[0m\u001b[0;34m\u001b[0m\u001b[0;34m\u001b[0m\u001b[0m\n\u001b[0m\u001b[1;32m    669\u001b[0m         \u001b[0;32mreturn\u001b[0m \u001b[0mout\u001b[0m\u001b[0;34m\u001b[0m\u001b[0;34m\u001b[0m\u001b[0m\n\u001b[1;32m    670\u001b[0m \u001b[0;34m\u001b[0m\u001b[0m\n",
      "\u001b[0;32m~/github/venv/fxpred3/lib/python3.8/site-packages/tensorflow/python/framework/func_graph.py\u001b[0m in \u001b[0;36mwrapper\u001b[0;34m(*args, **kwargs)\u001b[0m\n\u001b[1;32m    992\u001b[0m           \u001b[0;32mexcept\u001b[0m \u001b[0mException\u001b[0m \u001b[0;32mas\u001b[0m \u001b[0me\u001b[0m\u001b[0;34m:\u001b[0m  \u001b[0;31m# pylint:disable=broad-except\u001b[0m\u001b[0;34m\u001b[0m\u001b[0;34m\u001b[0m\u001b[0m\n\u001b[1;32m    993\u001b[0m             \u001b[0;32mif\u001b[0m \u001b[0mhasattr\u001b[0m\u001b[0;34m(\u001b[0m\u001b[0me\u001b[0m\u001b[0;34m,\u001b[0m \u001b[0;34m\"ag_error_metadata\"\u001b[0m\u001b[0;34m)\u001b[0m\u001b[0;34m:\u001b[0m\u001b[0;34m\u001b[0m\u001b[0;34m\u001b[0m\u001b[0m\n\u001b[0;32m--> 994\u001b[0;31m               \u001b[0;32mraise\u001b[0m \u001b[0me\u001b[0m\u001b[0;34m.\u001b[0m\u001b[0mag_error_metadata\u001b[0m\u001b[0;34m.\u001b[0m\u001b[0mto_exception\u001b[0m\u001b[0;34m(\u001b[0m\u001b[0me\u001b[0m\u001b[0;34m)\u001b[0m\u001b[0;34m\u001b[0m\u001b[0;34m\u001b[0m\u001b[0m\n\u001b[0m\u001b[1;32m    995\u001b[0m             \u001b[0;32melse\u001b[0m\u001b[0;34m:\u001b[0m\u001b[0;34m\u001b[0m\u001b[0;34m\u001b[0m\u001b[0m\n\u001b[1;32m    996\u001b[0m               \u001b[0;32mraise\u001b[0m\u001b[0;34m\u001b[0m\u001b[0;34m\u001b[0m\u001b[0m\n",
      "\u001b[0;31mValueError\u001b[0m: in user code:\n\n    /home/ms/github/venv/fxpred3/lib/python3.8/site-packages/tensorflow/python/keras/engine/training.py:1579 predict_function  *\n        return step_function(self, iterator)\n    /home/ms/github/venv/fxpred3/lib/python3.8/site-packages/tensorflow/python/keras/engine/training.py:1569 step_function  **\n        outputs = model.distribute_strategy.run(run_step, args=(data,))\n    /home/ms/github/venv/fxpred3/lib/python3.8/site-packages/tensorflow/python/distribute/distribute_lib.py:1286 run\n        return self._extended.call_for_each_replica(fn, args=args, kwargs=kwargs)\n    /home/ms/github/venv/fxpred3/lib/python3.8/site-packages/tensorflow/python/distribute/distribute_lib.py:2844 call_for_each_replica\n        return self._call_for_each_replica(fn, args, kwargs)\n    /home/ms/github/venv/fxpred3/lib/python3.8/site-packages/tensorflow/python/distribute/distribute_lib.py:3619 _call_for_each_replica\n        return fn(*args, **kwargs)\n    /home/ms/github/venv/fxpred3/lib/python3.8/site-packages/tensorflow/python/keras/engine/training.py:1562 run_step  **\n        outputs = model.predict_step(data)\n    /home/ms/github/venv/fxpred3/lib/python3.8/site-packages/tensorflow/python/keras/engine/training.py:1535 predict_step\n        return self(x, training=False)\n    /home/ms/github/venv/fxpred3/lib/python3.8/site-packages/tensorflow/python/keras/engine/base_layer.py:1040 __call__\n        input_spec.assert_input_compatibility(self.input_spec, inputs, self.name)\n    /home/ms/github/venv/fxpred3/lib/python3.8/site-packages/tensorflow/python/keras/engine/input_spec.py:267 assert_input_compatibility\n        raise ValueError('Input ' + str(input_index) +\n\n    ValueError: Input 0 is incompatible with layer sequential: expected shape=(None, None, 2), found shape=(None, 256, 1)\n"
     ]
    }
   ],
   "source": [
    "tmp_type = 'train'\n",
    "print(tmp_type)\n",
    "\n",
    "y = eval(f\"y_{tmp_type}\")\n",
    "y_pred = np.argmax(predictions(\n",
    "    my_LSTM_model,\n",
    "    eval(f\"X_{tmp_type}\")[..., :1]\n",
    "), axis=1)\n",
    "# actual_pred_plot(y_pred, eval(f'y_{tmp_type}'))\n",
    "# plt.show()\n",
    "print(f'Accuracy: {Accuracy()(y.flatten(), y_pred.flatten()).numpy()}')\n",
    "print(f'Accuracy: {SparseCategoricalAccuracy()(y.astype(dtype), y_pred.reshape(y.shape).astype(dtype)).numpy()}')\n",
    "print(f'KL_Divergence: {kullback_leibler_divergence(y.flatten().astype(dtype), y_pred.flatten().astype(dtype)).numpy()}')\n",
    "print(classification_report(y, y_pred))\n",
    "print(confusion_matrix(y, y_pred))\n",
    "\n",
    "X_ret = sc.inverse_transform(eval(f\"X_{tmp_type}\"))[:, -1, 0] + 1\n",
    "plt.plot(eval(f\"index_{tmp_type}\")[127:-2][1:], cumulated_return(y_pred[:-1], X_ret[1:], dtype=dtype), label='predicted')\n",
    "\n",
    "p = [i[1]/y.shape[0] for i in sorted(Counter(y.flatten()).items(), key=lambda x: x[0])]\n",
    "x = np.concatenate(\n",
    "    [\n",
    "        cumulated_return(\n",
    "            np.random.choice([0, 1, 2], size=y_pred[:-1].shape, p=p),\n",
    "            X_ret[1:],\n",
    "            dtype=dtype\n",
    "        )[:,np.newaxis] for i in range(50)\n",
    "    ], axis=-1\n",
    ")\n",
    "plt.plot(eval(f\"index_{tmp_type}\")[127:-2][1:], x.mean(axis=-1), label='random', color='gray')\n",
    "plt.plot(eval(f\"index_{tmp_type}\")[127:-2][1:], x.mean(axis=-1) + x.std(axis=-1), label='random_q75', color='gray', linestyle='--')\n",
    "plt.plot(eval(f\"index_{tmp_type}\")[127:-2][1:], cumulated_return(y_pred[:-1] * 0 + 2, X_ret[1:], dtype=dtype), label='buy&HODL')\n",
    "plt.plot(eval(f\"index_{tmp_type}\")[127:-2][1:], cumulated_return(y[:-1], X_ret[1:], dtype=dtype), label='oracle')\n",
    "plt.legend()\n",
    "plt.semilogy()\n",
    "plt.show()\n"
   ]
  },
  {
   "cell_type": "code",
   "execution_count": 37,
   "id": "rubber-jungle",
   "metadata": {},
   "outputs": [
    {
     "name": "stdout",
     "output_type": "stream",
     "text": [
      "val\n"
     ]
    },
    {
     "ename": "ValueError",
     "evalue": "in user code:\n\n    /home/ms/github/venv/fxpred3/lib/python3.8/site-packages/tensorflow/python/keras/engine/training.py:1579 predict_function  *\n        return step_function(self, iterator)\n    /home/ms/github/venv/fxpred3/lib/python3.8/site-packages/tensorflow/python/keras/engine/training.py:1569 step_function  **\n        outputs = model.distribute_strategy.run(run_step, args=(data,))\n    /home/ms/github/venv/fxpred3/lib/python3.8/site-packages/tensorflow/python/distribute/distribute_lib.py:1286 run\n        return self._extended.call_for_each_replica(fn, args=args, kwargs=kwargs)\n    /home/ms/github/venv/fxpred3/lib/python3.8/site-packages/tensorflow/python/distribute/distribute_lib.py:2844 call_for_each_replica\n        return self._call_for_each_replica(fn, args, kwargs)\n    /home/ms/github/venv/fxpred3/lib/python3.8/site-packages/tensorflow/python/distribute/distribute_lib.py:3619 _call_for_each_replica\n        return fn(*args, **kwargs)\n    /home/ms/github/venv/fxpred3/lib/python3.8/site-packages/tensorflow/python/keras/engine/training.py:1562 run_step  **\n        outputs = model.predict_step(data)\n    /home/ms/github/venv/fxpred3/lib/python3.8/site-packages/tensorflow/python/keras/engine/training.py:1535 predict_step\n        return self(x, training=False)\n    /home/ms/github/venv/fxpred3/lib/python3.8/site-packages/tensorflow/python/keras/engine/base_layer.py:1040 __call__\n        input_spec.assert_input_compatibility(self.input_spec, inputs, self.name)\n    /home/ms/github/venv/fxpred3/lib/python3.8/site-packages/tensorflow/python/keras/engine/input_spec.py:267 assert_input_compatibility\n        raise ValueError('Input ' + str(input_index) +\n\n    ValueError: Input 0 is incompatible with layer sequential: expected shape=(None, None, 2), found shape=(None, 256, 1)\n",
     "output_type": "error",
     "traceback": [
      "\u001b[0;31m---------------------------------------------------------------------------\u001b[0m",
      "\u001b[0;31mValueError\u001b[0m                                Traceback (most recent call last)",
      "\u001b[0;32m<ipython-input-37-39fe7be387c4>\u001b[0m in \u001b[0;36m<module>\u001b[0;34m\u001b[0m\n\u001b[1;32m      3\u001b[0m \u001b[0;34m\u001b[0m\u001b[0m\n\u001b[1;32m      4\u001b[0m \u001b[0my\u001b[0m \u001b[0;34m=\u001b[0m \u001b[0meval\u001b[0m\u001b[0;34m(\u001b[0m\u001b[0;34mf\"y_{tmp_type}\"\u001b[0m\u001b[0;34m)\u001b[0m\u001b[0;34m\u001b[0m\u001b[0;34m\u001b[0m\u001b[0m\n\u001b[0;32m----> 5\u001b[0;31m y_pred = np.argmax(predictions(\n\u001b[0m\u001b[1;32m      6\u001b[0m     \u001b[0mmy_LSTM_model\u001b[0m\u001b[0;34m,\u001b[0m\u001b[0;34m\u001b[0m\u001b[0;34m\u001b[0m\u001b[0m\n\u001b[1;32m      7\u001b[0m     \u001b[0meval\u001b[0m\u001b[0;34m(\u001b[0m\u001b[0;34mf\"X_{tmp_type}\"\u001b[0m\u001b[0;34m)\u001b[0m\u001b[0;34m[\u001b[0m\u001b[0;34m...\u001b[0m\u001b[0;34m,\u001b[0m \u001b[0;34m:\u001b[0m\u001b[0;36m1\u001b[0m\u001b[0;34m]\u001b[0m\u001b[0;34m\u001b[0m\u001b[0;34m\u001b[0m\u001b[0m\n",
      "\u001b[0;32m<ipython-input-13-2378bc9e1ff5>\u001b[0m in \u001b[0;36mpredictions\u001b[0;34m(my_model, X_test, sc)\u001b[0m\n\u001b[1;32m      1\u001b[0m \u001b[0;32mdef\u001b[0m \u001b[0mpredictions\u001b[0m\u001b[0;34m(\u001b[0m\u001b[0mmy_model\u001b[0m\u001b[0;34m,\u001b[0m \u001b[0mX_test\u001b[0m\u001b[0;34m,\u001b[0m \u001b[0msc\u001b[0m\u001b[0;34m=\u001b[0m\u001b[0;32mNone\u001b[0m\u001b[0;34m)\u001b[0m\u001b[0;34m:\u001b[0m\u001b[0;34m\u001b[0m\u001b[0;34m\u001b[0m\u001b[0m\n\u001b[0;32m----> 2\u001b[0;31m     \u001b[0mLSTM_prediction\u001b[0m \u001b[0;34m=\u001b[0m \u001b[0mmy_model\u001b[0m\u001b[0;34m.\u001b[0m\u001b[0mpredict\u001b[0m\u001b[0;34m(\u001b[0m\u001b[0mX_test\u001b[0m\u001b[0;34m)\u001b[0m\u001b[0;34m\u001b[0m\u001b[0;34m\u001b[0m\u001b[0m\n\u001b[0m\u001b[1;32m      3\u001b[0m     \u001b[0;32mif\u001b[0m \u001b[0msc\u001b[0m \u001b[0;32mis\u001b[0m \u001b[0;32mnot\u001b[0m \u001b[0;32mNone\u001b[0m\u001b[0;34m:\u001b[0m\u001b[0;34m\u001b[0m\u001b[0;34m\u001b[0m\u001b[0m\n\u001b[1;32m      4\u001b[0m         \u001b[0mLSTM_prediction\u001b[0m \u001b[0;34m=\u001b[0m \u001b[0msc\u001b[0m\u001b[0;34m.\u001b[0m\u001b[0minverse_transform\u001b[0m\u001b[0;34m(\u001b[0m\u001b[0mLSTM_prediction\u001b[0m\u001b[0;34m)\u001b[0m\u001b[0;34m\u001b[0m\u001b[0;34m\u001b[0m\u001b[0m\n\u001b[1;32m      5\u001b[0m     \u001b[0;32mreturn\u001b[0m \u001b[0mLSTM_prediction\u001b[0m\u001b[0;34m\u001b[0m\u001b[0;34m\u001b[0m\u001b[0m\n",
      "\u001b[0;32m~/github/venv/fxpred3/lib/python3.8/site-packages/tensorflow/python/keras/engine/training.py\u001b[0m in \u001b[0;36mpredict\u001b[0;34m(self, x, batch_size, verbose, steps, callbacks, max_queue_size, workers, use_multiprocessing)\u001b[0m\n\u001b[1;32m   1735\u001b[0m           \u001b[0;32mfor\u001b[0m \u001b[0mstep\u001b[0m \u001b[0;32min\u001b[0m \u001b[0mdata_handler\u001b[0m\u001b[0;34m.\u001b[0m\u001b[0msteps\u001b[0m\u001b[0;34m(\u001b[0m\u001b[0;34m)\u001b[0m\u001b[0;34m:\u001b[0m\u001b[0;34m\u001b[0m\u001b[0;34m\u001b[0m\u001b[0m\n\u001b[1;32m   1736\u001b[0m             \u001b[0mcallbacks\u001b[0m\u001b[0;34m.\u001b[0m\u001b[0mon_predict_batch_begin\u001b[0m\u001b[0;34m(\u001b[0m\u001b[0mstep\u001b[0m\u001b[0;34m)\u001b[0m\u001b[0;34m\u001b[0m\u001b[0;34m\u001b[0m\u001b[0m\n\u001b[0;32m-> 1737\u001b[0;31m             \u001b[0mtmp_batch_outputs\u001b[0m \u001b[0;34m=\u001b[0m \u001b[0mself\u001b[0m\u001b[0;34m.\u001b[0m\u001b[0mpredict_function\u001b[0m\u001b[0;34m(\u001b[0m\u001b[0miterator\u001b[0m\u001b[0;34m)\u001b[0m\u001b[0;34m\u001b[0m\u001b[0;34m\u001b[0m\u001b[0m\n\u001b[0m\u001b[1;32m   1738\u001b[0m             \u001b[0;32mif\u001b[0m \u001b[0mdata_handler\u001b[0m\u001b[0;34m.\u001b[0m\u001b[0mshould_sync\u001b[0m\u001b[0;34m:\u001b[0m\u001b[0;34m\u001b[0m\u001b[0;34m\u001b[0m\u001b[0m\n\u001b[1;32m   1739\u001b[0m               \u001b[0mcontext\u001b[0m\u001b[0;34m.\u001b[0m\u001b[0masync_wait\u001b[0m\u001b[0;34m(\u001b[0m\u001b[0;34m)\u001b[0m\u001b[0;34m\u001b[0m\u001b[0;34m\u001b[0m\u001b[0m\n",
      "\u001b[0;32m~/github/venv/fxpred3/lib/python3.8/site-packages/tensorflow/python/eager/def_function.py\u001b[0m in \u001b[0;36m__call__\u001b[0;34m(self, *args, **kwds)\u001b[0m\n\u001b[1;32m    883\u001b[0m \u001b[0;34m\u001b[0m\u001b[0m\n\u001b[1;32m    884\u001b[0m       \u001b[0;32mwith\u001b[0m \u001b[0mOptionalXlaContext\u001b[0m\u001b[0;34m(\u001b[0m\u001b[0mself\u001b[0m\u001b[0;34m.\u001b[0m\u001b[0m_jit_compile\u001b[0m\u001b[0;34m)\u001b[0m\u001b[0;34m:\u001b[0m\u001b[0;34m\u001b[0m\u001b[0;34m\u001b[0m\u001b[0m\n\u001b[0;32m--> 885\u001b[0;31m         \u001b[0mresult\u001b[0m \u001b[0;34m=\u001b[0m \u001b[0mself\u001b[0m\u001b[0;34m.\u001b[0m\u001b[0m_call\u001b[0m\u001b[0;34m(\u001b[0m\u001b[0;34m*\u001b[0m\u001b[0margs\u001b[0m\u001b[0;34m,\u001b[0m \u001b[0;34m**\u001b[0m\u001b[0mkwds\u001b[0m\u001b[0;34m)\u001b[0m\u001b[0;34m\u001b[0m\u001b[0;34m\u001b[0m\u001b[0m\n\u001b[0m\u001b[1;32m    886\u001b[0m \u001b[0;34m\u001b[0m\u001b[0m\n\u001b[1;32m    887\u001b[0m       \u001b[0mnew_tracing_count\u001b[0m \u001b[0;34m=\u001b[0m \u001b[0mself\u001b[0m\u001b[0;34m.\u001b[0m\u001b[0mexperimental_get_tracing_count\u001b[0m\u001b[0;34m(\u001b[0m\u001b[0;34m)\u001b[0m\u001b[0;34m\u001b[0m\u001b[0;34m\u001b[0m\u001b[0m\n",
      "\u001b[0;32m~/github/venv/fxpred3/lib/python3.8/site-packages/tensorflow/python/eager/def_function.py\u001b[0m in \u001b[0;36m_call\u001b[0;34m(self, *args, **kwds)\u001b[0m\n\u001b[1;32m    918\u001b[0m       \u001b[0;31m# In this case we have not created variables on the first call. So we can\u001b[0m\u001b[0;34m\u001b[0m\u001b[0;34m\u001b[0m\u001b[0;34m\u001b[0m\u001b[0m\n\u001b[1;32m    919\u001b[0m       \u001b[0;31m# run the first trace but we should fail if variables are created.\u001b[0m\u001b[0;34m\u001b[0m\u001b[0;34m\u001b[0m\u001b[0;34m\u001b[0m\u001b[0m\n\u001b[0;32m--> 920\u001b[0;31m       \u001b[0mresults\u001b[0m \u001b[0;34m=\u001b[0m \u001b[0mself\u001b[0m\u001b[0;34m.\u001b[0m\u001b[0m_stateful_fn\u001b[0m\u001b[0;34m(\u001b[0m\u001b[0;34m*\u001b[0m\u001b[0margs\u001b[0m\u001b[0;34m,\u001b[0m \u001b[0;34m**\u001b[0m\u001b[0mkwds\u001b[0m\u001b[0;34m)\u001b[0m\u001b[0;34m\u001b[0m\u001b[0;34m\u001b[0m\u001b[0m\n\u001b[0m\u001b[1;32m    921\u001b[0m       \u001b[0;32mif\u001b[0m \u001b[0mself\u001b[0m\u001b[0;34m.\u001b[0m\u001b[0m_created_variables\u001b[0m\u001b[0;34m:\u001b[0m\u001b[0;34m\u001b[0m\u001b[0;34m\u001b[0m\u001b[0m\n\u001b[1;32m    922\u001b[0m         raise ValueError(\"Creating variables on a non-first call to a function\"\n",
      "\u001b[0;32m~/github/venv/fxpred3/lib/python3.8/site-packages/tensorflow/python/eager/function.py\u001b[0m in \u001b[0;36m__call__\u001b[0;34m(self, *args, **kwargs)\u001b[0m\n\u001b[1;32m   3029\u001b[0m     \u001b[0;32mwith\u001b[0m \u001b[0mself\u001b[0m\u001b[0;34m.\u001b[0m\u001b[0m_lock\u001b[0m\u001b[0;34m:\u001b[0m\u001b[0;34m\u001b[0m\u001b[0;34m\u001b[0m\u001b[0m\n\u001b[1;32m   3030\u001b[0m       (graph_function,\n\u001b[0;32m-> 3031\u001b[0;31m        filtered_flat_args) = self._maybe_define_function(args, kwargs)\n\u001b[0m\u001b[1;32m   3032\u001b[0m     return graph_function._call_flat(\n\u001b[1;32m   3033\u001b[0m         filtered_flat_args, captured_inputs=graph_function.captured_inputs)  # pylint: disable=protected-access\n",
      "\u001b[0;32m~/github/venv/fxpred3/lib/python3.8/site-packages/tensorflow/python/eager/function.py\u001b[0m in \u001b[0;36m_maybe_define_function\u001b[0;34m(self, args, kwargs)\u001b[0m\n\u001b[1;32m   3450\u001b[0m               \u001b[0mself\u001b[0m\u001b[0;34m.\u001b[0m\u001b[0minput_signature\u001b[0m \u001b[0;32mis\u001b[0m \u001b[0;32mNone\u001b[0m \u001b[0;32mand\u001b[0m\u001b[0;34m\u001b[0m\u001b[0;34m\u001b[0m\u001b[0m\n\u001b[1;32m   3451\u001b[0m               call_context_key in self._function_cache.missed):\n\u001b[0;32m-> 3452\u001b[0;31m             return self._define_function_with_shape_relaxation(\n\u001b[0m\u001b[1;32m   3453\u001b[0m                 args, kwargs, flat_args, filtered_flat_args, cache_key_context)\n\u001b[1;32m   3454\u001b[0m \u001b[0;34m\u001b[0m\u001b[0m\n",
      "\u001b[0;32m~/github/venv/fxpred3/lib/python3.8/site-packages/tensorflow/python/eager/function.py\u001b[0m in \u001b[0;36m_define_function_with_shape_relaxation\u001b[0;34m(self, args, kwargs, flat_args, filtered_flat_args, cache_key_context)\u001b[0m\n\u001b[1;32m   3372\u001b[0m           expand_composites=True)\n\u001b[1;32m   3373\u001b[0m \u001b[0;34m\u001b[0m\u001b[0m\n\u001b[0;32m-> 3374\u001b[0;31m     graph_function = self._create_graph_function(\n\u001b[0m\u001b[1;32m   3375\u001b[0m         args, kwargs, override_flat_arg_shapes=relaxed_arg_shapes)\n\u001b[1;32m   3376\u001b[0m     \u001b[0mself\u001b[0m\u001b[0;34m.\u001b[0m\u001b[0m_function_cache\u001b[0m\u001b[0;34m.\u001b[0m\u001b[0marg_relaxed\u001b[0m\u001b[0;34m[\u001b[0m\u001b[0mrank_only_cache_key\u001b[0m\u001b[0;34m]\u001b[0m \u001b[0;34m=\u001b[0m \u001b[0mgraph_function\u001b[0m\u001b[0;34m\u001b[0m\u001b[0;34m\u001b[0m\u001b[0m\n",
      "\u001b[0;32m~/github/venv/fxpred3/lib/python3.8/site-packages/tensorflow/python/eager/function.py\u001b[0m in \u001b[0;36m_create_graph_function\u001b[0;34m(self, args, kwargs, override_flat_arg_shapes)\u001b[0m\n\u001b[1;32m   3289\u001b[0m     \u001b[0marg_names\u001b[0m \u001b[0;34m=\u001b[0m \u001b[0mbase_arg_names\u001b[0m \u001b[0;34m+\u001b[0m \u001b[0mmissing_arg_names\u001b[0m\u001b[0;34m\u001b[0m\u001b[0;34m\u001b[0m\u001b[0m\n\u001b[1;32m   3290\u001b[0m     graph_function = ConcreteFunction(\n\u001b[0;32m-> 3291\u001b[0;31m         func_graph_module.func_graph_from_py_func(\n\u001b[0m\u001b[1;32m   3292\u001b[0m             \u001b[0mself\u001b[0m\u001b[0;34m.\u001b[0m\u001b[0m_name\u001b[0m\u001b[0;34m,\u001b[0m\u001b[0;34m\u001b[0m\u001b[0;34m\u001b[0m\u001b[0m\n\u001b[1;32m   3293\u001b[0m             \u001b[0mself\u001b[0m\u001b[0;34m.\u001b[0m\u001b[0m_python_function\u001b[0m\u001b[0;34m,\u001b[0m\u001b[0;34m\u001b[0m\u001b[0;34m\u001b[0m\u001b[0m\n",
      "\u001b[0;32m~/github/venv/fxpred3/lib/python3.8/site-packages/tensorflow/python/framework/func_graph.py\u001b[0m in \u001b[0;36mfunc_graph_from_py_func\u001b[0;34m(name, python_func, args, kwargs, signature, func_graph, autograph, autograph_options, add_control_dependencies, arg_names, op_return_value, collections, capture_by_value, override_flat_arg_shapes, acd_record_initial_resource_uses)\u001b[0m\n\u001b[1;32m   1005\u001b[0m         \u001b[0m_\u001b[0m\u001b[0;34m,\u001b[0m \u001b[0moriginal_func\u001b[0m \u001b[0;34m=\u001b[0m \u001b[0mtf_decorator\u001b[0m\u001b[0;34m.\u001b[0m\u001b[0munwrap\u001b[0m\u001b[0;34m(\u001b[0m\u001b[0mpython_func\u001b[0m\u001b[0;34m)\u001b[0m\u001b[0;34m\u001b[0m\u001b[0;34m\u001b[0m\u001b[0m\n\u001b[1;32m   1006\u001b[0m \u001b[0;34m\u001b[0m\u001b[0m\n\u001b[0;32m-> 1007\u001b[0;31m       \u001b[0mfunc_outputs\u001b[0m \u001b[0;34m=\u001b[0m \u001b[0mpython_func\u001b[0m\u001b[0;34m(\u001b[0m\u001b[0;34m*\u001b[0m\u001b[0mfunc_args\u001b[0m\u001b[0;34m,\u001b[0m \u001b[0;34m**\u001b[0m\u001b[0mfunc_kwargs\u001b[0m\u001b[0;34m)\u001b[0m\u001b[0;34m\u001b[0m\u001b[0;34m\u001b[0m\u001b[0m\n\u001b[0m\u001b[1;32m   1008\u001b[0m \u001b[0;34m\u001b[0m\u001b[0m\n\u001b[1;32m   1009\u001b[0m       \u001b[0;31m# invariant: `func_outputs` contains only Tensors, CompositeTensors,\u001b[0m\u001b[0;34m\u001b[0m\u001b[0;34m\u001b[0m\u001b[0;34m\u001b[0m\u001b[0m\n",
      "\u001b[0;32m~/github/venv/fxpred3/lib/python3.8/site-packages/tensorflow/python/eager/def_function.py\u001b[0m in \u001b[0;36mwrapped_fn\u001b[0;34m(*args, **kwds)\u001b[0m\n\u001b[1;32m    666\u001b[0m         \u001b[0;31m# the function a weak reference to itself to avoid a reference cycle.\u001b[0m\u001b[0;34m\u001b[0m\u001b[0;34m\u001b[0m\u001b[0;34m\u001b[0m\u001b[0m\n\u001b[1;32m    667\u001b[0m         \u001b[0;32mwith\u001b[0m \u001b[0mOptionalXlaContext\u001b[0m\u001b[0;34m(\u001b[0m\u001b[0mcompile_with_xla\u001b[0m\u001b[0;34m)\u001b[0m\u001b[0;34m:\u001b[0m\u001b[0;34m\u001b[0m\u001b[0;34m\u001b[0m\u001b[0m\n\u001b[0;32m--> 668\u001b[0;31m           \u001b[0mout\u001b[0m \u001b[0;34m=\u001b[0m \u001b[0mweak_wrapped_fn\u001b[0m\u001b[0;34m(\u001b[0m\u001b[0;34m)\u001b[0m\u001b[0;34m.\u001b[0m\u001b[0m__wrapped__\u001b[0m\u001b[0;34m(\u001b[0m\u001b[0;34m*\u001b[0m\u001b[0margs\u001b[0m\u001b[0;34m,\u001b[0m \u001b[0;34m**\u001b[0m\u001b[0mkwds\u001b[0m\u001b[0;34m)\u001b[0m\u001b[0;34m\u001b[0m\u001b[0;34m\u001b[0m\u001b[0m\n\u001b[0m\u001b[1;32m    669\u001b[0m         \u001b[0;32mreturn\u001b[0m \u001b[0mout\u001b[0m\u001b[0;34m\u001b[0m\u001b[0;34m\u001b[0m\u001b[0m\n\u001b[1;32m    670\u001b[0m \u001b[0;34m\u001b[0m\u001b[0m\n",
      "\u001b[0;32m~/github/venv/fxpred3/lib/python3.8/site-packages/tensorflow/python/framework/func_graph.py\u001b[0m in \u001b[0;36mwrapper\u001b[0;34m(*args, **kwargs)\u001b[0m\n\u001b[1;32m    992\u001b[0m           \u001b[0;32mexcept\u001b[0m \u001b[0mException\u001b[0m \u001b[0;32mas\u001b[0m \u001b[0me\u001b[0m\u001b[0;34m:\u001b[0m  \u001b[0;31m# pylint:disable=broad-except\u001b[0m\u001b[0;34m\u001b[0m\u001b[0;34m\u001b[0m\u001b[0m\n\u001b[1;32m    993\u001b[0m             \u001b[0;32mif\u001b[0m \u001b[0mhasattr\u001b[0m\u001b[0;34m(\u001b[0m\u001b[0me\u001b[0m\u001b[0;34m,\u001b[0m \u001b[0;34m\"ag_error_metadata\"\u001b[0m\u001b[0;34m)\u001b[0m\u001b[0;34m:\u001b[0m\u001b[0;34m\u001b[0m\u001b[0;34m\u001b[0m\u001b[0m\n\u001b[0;32m--> 994\u001b[0;31m               \u001b[0;32mraise\u001b[0m \u001b[0me\u001b[0m\u001b[0;34m.\u001b[0m\u001b[0mag_error_metadata\u001b[0m\u001b[0;34m.\u001b[0m\u001b[0mto_exception\u001b[0m\u001b[0;34m(\u001b[0m\u001b[0me\u001b[0m\u001b[0;34m)\u001b[0m\u001b[0;34m\u001b[0m\u001b[0;34m\u001b[0m\u001b[0m\n\u001b[0m\u001b[1;32m    995\u001b[0m             \u001b[0;32melse\u001b[0m\u001b[0;34m:\u001b[0m\u001b[0;34m\u001b[0m\u001b[0;34m\u001b[0m\u001b[0m\n\u001b[1;32m    996\u001b[0m               \u001b[0;32mraise\u001b[0m\u001b[0;34m\u001b[0m\u001b[0;34m\u001b[0m\u001b[0m\n",
      "\u001b[0;31mValueError\u001b[0m: in user code:\n\n    /home/ms/github/venv/fxpred3/lib/python3.8/site-packages/tensorflow/python/keras/engine/training.py:1579 predict_function  *\n        return step_function(self, iterator)\n    /home/ms/github/venv/fxpred3/lib/python3.8/site-packages/tensorflow/python/keras/engine/training.py:1569 step_function  **\n        outputs = model.distribute_strategy.run(run_step, args=(data,))\n    /home/ms/github/venv/fxpred3/lib/python3.8/site-packages/tensorflow/python/distribute/distribute_lib.py:1286 run\n        return self._extended.call_for_each_replica(fn, args=args, kwargs=kwargs)\n    /home/ms/github/venv/fxpred3/lib/python3.8/site-packages/tensorflow/python/distribute/distribute_lib.py:2844 call_for_each_replica\n        return self._call_for_each_replica(fn, args, kwargs)\n    /home/ms/github/venv/fxpred3/lib/python3.8/site-packages/tensorflow/python/distribute/distribute_lib.py:3619 _call_for_each_replica\n        return fn(*args, **kwargs)\n    /home/ms/github/venv/fxpred3/lib/python3.8/site-packages/tensorflow/python/keras/engine/training.py:1562 run_step  **\n        outputs = model.predict_step(data)\n    /home/ms/github/venv/fxpred3/lib/python3.8/site-packages/tensorflow/python/keras/engine/training.py:1535 predict_step\n        return self(x, training=False)\n    /home/ms/github/venv/fxpred3/lib/python3.8/site-packages/tensorflow/python/keras/engine/base_layer.py:1040 __call__\n        input_spec.assert_input_compatibility(self.input_spec, inputs, self.name)\n    /home/ms/github/venv/fxpred3/lib/python3.8/site-packages/tensorflow/python/keras/engine/input_spec.py:267 assert_input_compatibility\n        raise ValueError('Input ' + str(input_index) +\n\n    ValueError: Input 0 is incompatible with layer sequential: expected shape=(None, None, 2), found shape=(None, 256, 1)\n"
     ]
    }
   ],
   "source": [
    "tmp_type = 'val'\n",
    "print(tmp_type)\n",
    "\n",
    "y = eval(f\"y_{tmp_type}\")\n",
    "y_pred = np.argmax(predictions(\n",
    "    my_LSTM_model,\n",
    "    eval(f\"X_{tmp_type}\")[..., :1]\n",
    "), axis=1)\n",
    "# actual_pred_plot(y_pred, eval(f'y_{tmp_type}'))\n",
    "# plt.show()\n",
    "print(f'Accuracy: {Accuracy()(y.flatten(), y_pred.flatten()).numpy()}')\n",
    "print(f'Accuracy: {SparseCategoricalAccuracy()(y.astype(dtype), y_pred.reshape(y.shape).astype(dtype)).numpy()}')\n",
    "print(f'KL_Divergence: {kullback_leibler_divergence(y.flatten().astype(dtype), y_pred.flatten().astype(dtype)).numpy()}')\n",
    "print(classification_report(y, y_pred))\n",
    "print(confusion_matrix(y, y_pred))\n",
    "\n",
    "X_ret = sc.inverse_transform(eval(f\"X_{tmp_type}\"))[:, -1, 0] + 1\n",
    "plt.plot(eval(f\"index_{tmp_type}\")[127:-2][1:], cumulated_return(y_pred[:-1], X_ret[1:], dtype=dtype), label='predicted')\n",
    "\n",
    "p = [i[1]/y.shape[0] for i in sorted(Counter(y.flatten()).items(), key=lambda x: x[0])]\n",
    "x = np.concatenate(\n",
    "    [\n",
    "        cumulated_return(\n",
    "            np.random.choice([0, 1, 2], size=y_pred[:-1].shape, p=p),\n",
    "            X_ret[1:],\n",
    "            dtype=dtype\n",
    "        )[:,np.newaxis] for i in range(50)\n",
    "    ], axis=-1\n",
    ")\n",
    "plt.plot(eval(f\"index_{tmp_type}\")[127:-2][1:], x.mean(axis=-1), label='random', color='gray')\n",
    "plt.plot(eval(f\"index_{tmp_type}\")[127:-2][1:], x.mean(axis=-1) + x.std(axis=-1), label='random_q75', color='gray', linestyle='--')\n",
    "plt.plot(eval(f\"index_{tmp_type}\")[127:-2][1:], cumulated_return(y_pred[:-1] * 0 + 2, X_ret[1:], dtype=dtype), label='buy&HODL')\n",
    "plt.plot(eval(f\"index_{tmp_type}\")[127:-2][1:], cumulated_return(y[:-1], X_ret[1:], dtype=dtype), label='oracle')\n",
    "plt.legend()\n",
    "plt.semilogy()\n",
    "plt.show()\n"
   ]
  },
  {
   "cell_type": "code",
   "execution_count": null,
   "id": "champion-eagle",
   "metadata": {},
   "outputs": [],
   "source": [
    "tmp_type = 'test'\n",
    "print(tmp_type)\n",
    "\n",
    "y = eval(f\"y_{tmp_type}\")\n",
    "y_pred = np.argmax(predictions(\n",
    "    my_LSTM_model,\n",
    "    eval(f\"X_{tmp_type}\")[..., :1]\n",
    "), axis=1)\n",
    "# actual_pred_plot(y_pred, eval(f'y_{tmp_type}'))\n",
    "# plt.show()\n",
    "print(f'Accuracy: {Accuracy()(y.flatten(), y_pred.flatten()).numpy()}')\n",
    "print(f'Accuracy: {SparseCategoricalAccuracy()(y.astype(dtype), y_pred.reshape(y.shape).astype(dtype)).numpy()}')\n",
    "print(f'KL_Divergence: {kullback_leibler_divergence(y.flatten().astype(dtype), y_pred.flatten().astype(dtype)).numpy()}')\n",
    "print(classification_report(y, y_pred))\n",
    "print(confusion_matrix(y, y_pred))\n",
    "\n",
    "X_ret = sc.inverse_transform(eval(f\"X_{tmp_type}\"))[:, -1, 0] + 1\n",
    "plt.plot(eval(f\"index_{tmp_type}\")[127:-2][1:], cumulated_return(y_pred[:-1], X_ret[1:], dtype=dtype), label='predicted')\n",
    "\n",
    "p = [i[1]/y.shape[0] for i in sorted(Counter(y.flatten()).items(), key=lambda x: x[0])]\n",
    "x = np.concatenate(\n",
    "    [\n",
    "        cumulated_return(\n",
    "            np.random.choice([0, 1, 2], size=y_pred[:-1].shape, p=p),\n",
    "            X_ret[1:],\n",
    "            dtype=dtype\n",
    "        )[:,np.newaxis] for i in range(50)\n",
    "    ], axis=-1\n",
    ")\n",
    "plt.plot(eval(f\"index_{tmp_type}\")[127:-2][1:], x.mean(axis=-1), label='random', color='gray')\n",
    "plt.plot(eval(f\"index_{tmp_type}\")[127:-2][1:], x.mean(axis=-1) + x.std(axis=-1), label='random_q75', color='gray', linestyle='--')\n",
    "plt.plot(eval(f\"index_{tmp_type}\")[127:-2][1:], cumulated_return(y_pred[:-1] * 0 + 2, X_ret[1:], dtype=dtype), label='buy&HODL')\n",
    "plt.plot(eval(f\"index_{tmp_type}\")[127:-2][1:], cumulated_return(y[:-1], X_ret[1:], dtype=dtype), label='oracle')\n",
    "plt.legend()\n",
    "plt.semilogy()\n",
    "plt.show()\n"
   ]
  },
  {
   "cell_type": "markdown",
   "id": "religious-interest",
   "metadata": {},
   "source": [
    "cumulated_return(y_pred, X_ret, dtype=dtype)"
   ]
  },
  {
   "cell_type": "code",
   "execution_count": null,
   "id": "closed-picture",
   "metadata": {},
   "outputs": [],
   "source": [
    "x = cumulated_return(y_pred[:-1], X_ret[1:], dtype=dtype)\n",
    "\n",
    "(x[-1] / x[0]) / (np.std(x[1:] / x[:-1]) * np.sqrt(6 * 24 * 250))"
   ]
  },
  {
   "cell_type": "code",
   "execution_count": null,
   "id": "crude-quebec",
   "metadata": {},
   "outputs": [],
   "source": [
    "# ax1 = fig.add_subplot(211)\n",
    "# ax1.plot(index_train[X_train.shape[1]:], df_train[target], label='Training data')\n",
    "# ax1.plot(index_val[X_train.shape[1]:], df_val[target], label='Validation data')\n",
    "# ax1.plot(index_test[X_train.shape[1]:], df_test[target], label='Test data')\n",
    "# ax1.set_xlabel('Dates')\n",
    "# ax1.set_ylabel('Normalized Closing Returns')\n",
    "# ax1.set_title(\"Close Price\", fontsize=18)\n",
    "# ax1.legend(loc=\"best\", fontsize=12)"
   ]
  }
 ],
 "metadata": {
  "kernelspec": {
   "display_name": "fxpred3",
   "language": "python",
   "name": "fxpred3"
  },
  "language_info": {
   "codemirror_mode": {
    "name": "ipython",
    "version": 3
   },
   "file_extension": ".py",
   "mimetype": "text/x-python",
   "name": "python",
   "nbconvert_exporter": "python",
   "pygments_lexer": "ipython3",
   "version": "3.8.10"
  }
 },
 "nbformat": 4,
 "nbformat_minor": 5
}
