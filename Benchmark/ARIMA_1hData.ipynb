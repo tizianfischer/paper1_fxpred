{
 "cells": [
  {
   "cell_type": "markdown",
   "metadata": {},
   "source": [
    "## Benchmark: ARIMA"
   ]
  },
  {
   "cell_type": "code",
   "execution_count": 1,
   "metadata": {},
   "outputs": [
    {
     "name": "stderr",
     "output_type": "stream",
     "text": [
      "/home/ms/github/venv/fxpred3/lib/python3.8/site-packages/pandas/core/frame.py:4305: SettingWithCopyWarning: \n",
      "A value is trying to be set on a copy of a slice from a DataFrame\n",
      "\n",
      "See the caveats in the documentation: https://pandas.pydata.org/pandas-docs/stable/user_guide/indexing.html#returning-a-view-versus-a-copy\n",
      "  return super().drop(\n"
     ]
    }
   ],
   "source": [
    "import matplotlib.pyplot as plt\n",
    "import numpy as np\n",
    "import pandas as pd\n",
    "from sklearn.model_selection import train_test_split\n",
    "from sklearn.preprocessing import MinMaxScaler, StandardScaler\n",
    "from sklearn.metrics import mean_squared_error, mean_absolute_error\n",
    "from tensorflow.keras.losses import MSE, MAE, MAPE\n",
    "\n",
    "%matplotlib inline\n",
    "import os\n",
    "import sys\n",
    "import platform\n",
    "if platform.node() in ['msbq']:\n",
    "    os.chdir('/home/ms/github/fxpred')\n",
    "    # os.chdir('../.')\n",
    "    sys.path.append(os.path.join(os.getcwd(), 'Transformer'))\n",
    "from utils import get_fx_and_metric_data, get_fx_and_metric_data_wo_weekend, mde\n",
    "from benchmark_utils import ts_train_test_normalize\n"
   ]
  },
  {
   "cell_type": "markdown",
   "metadata": {},
   "source": [
    "Functions"
   ]
  },
  {
   "cell_type": "code",
   "execution_count": 2,
   "metadata": {},
   "outputs": [],
   "source": [
    "def actual_pred_plot(preds, y_test):\n",
    "    '''\n",
    "    Plot the actual vs. prediction\n",
    "    '''\n",
    "    actual_pred = pd.DataFrame(columns = ['Adj. Close', 'prediction'])\n",
    "    actual_pred['prediction'] = preds[:,0]\n",
    "    actual_pred['Adj. Close'] = y_test[:,0]  #.loc['2019':,'Adj Close'][0:len(preds)]\n",
    "\n",
    "    from tensorflow.keras.metrics import MeanSquaredError\n",
    "    m = MeanSquaredError()\n",
    "    m.update_state(np.array(actual_pred['Adj. Close']),np.array(actual_pred['prediction']))\n",
    "    return (m.result().numpy(), actual_pred.plot() )"
   ]
  },
  {
   "cell_type": "code",
   "execution_count": 45,
   "metadata": {},
   "outputs": [],
   "source": [
    "from utils import data_merge, data_read_dict\n",
    "def __get_fx_and_metric_data_wo_weekend(\n",
    "    *,\n",
    "    pct_change:bool=True,\n",
    "    dtype:np.float=None,\n",
    "    directory='data',\n",
    "    directory_metrics=None,\n",
    "    sep=',',\n",
    "    enddate='2022-02-01'\n",
    ") -> pd.DataFrame:\n",
    "    \"\"\"Gets the FX spot rates and combines data with metrics, without missing values on weekends (and bank holidays).\n",
    "\n",
    "    Args:\n",
    "        pct_change (bool, optional): Returns percantage change. Defaults to True.\n",
    "        dtype (numpy.float, optional): data type of data, options 'numpy.floatX'. Defaults to None.\n",
    "\n",
    "    Returns:\n",
    "        pd.DataFrame: Spot rates and metrics in one pandas.DataFrame\n",
    "    \"\"\"\n",
    "    path = os.path.join(directory, '10min Dataset Spot.csv')\n",
    "    df = pd.read_csv(path, delimiter=sep)\n",
    "    df['Dates'] = pd.to_datetime(df['Dates'], format='%d.%m.%y %H:%M')\n",
    "    df.set_index('Dates', inplace=True)\n",
    "    # df = df.asfreq('600S')\n",
    "    if pct_change:\n",
    "        df = df.pct_change()[1:]\n",
    "    # assert len(set(np.diff(df.index.values))) == 1\n",
    "\n",
    "    FX_Fundamentals_path = os.path.join(directory, '10min Dataset Rest.csv')\n",
    "    df2 = pd.read_csv(FX_Fundamentals_path, delimiter=sep)\n",
    "    df2.replace(to_replace=0, method='ffill', inplace=True) # Replace 0 to avoid dividing by 0 later on\n",
    "    df2.drop('UXA1 Comdty Trade Open', axis=1, inplace=True)\n",
    "    df2['Dates'] = pd.to_datetime(df2['Dates'], format='%d.%m.%y %H:%M')\n",
    "    df2.sort_values('Dates', inplace=True)\n",
    "    df2.sort_values('Dates')\n",
    "    df2.index = df2['Dates']\n",
    "\n",
    "    # df3\n",
    "    df3 = pd.merge(df, df2, left_index=True, right_index=True)\n",
    "    df3['Dates'] = pd.to_datetime(df3['Dates'], format='%d.%m.%y %H:%M')\n",
    "    df3.index = df3['Dates']\n",
    "\n",
    "    df_metrics = data_merge(data_read_dict(os.path.join(directory_metrics, 'bbg')))\n",
    "    df_metrics.shape\n",
    "    # excluding eurgbp for now\n",
    "    df_metrics = df_metrics.loc[:, [i for i in df_metrics.columns if i.split('___')[0].lower() != 'eurgbp']]\n",
    "#     df_merged = pd.merge(df3, df_metrics, left_index=True, right_index=True, how='outer')\n",
    "    df_merged = df3.join(df_metrics)\n",
    "    \n",
    "    # Deleting all rows that have missing values in df and df2 columns\n",
    "    df_merged = df_merged.loc[~df_merged.loc[:, set(df.columns.append(df2.columns))].isna().all(axis=1)]\n",
    "\n",
    "    # Deleting all columns with duplicated data that occur on the weekend\n",
    "    #(np.diff(df_merged.loc[:, df.columns], prepend=-9999) == 0).mean(axis=1) < 0.95\n",
    "    duplicates = df_merged.loc[:, df.columns].duplicated()\n",
    "    weekend = [i.weekday() in [5, 6] for i in df_merged.index]\n",
    "    # sum(duplicates)\n",
    "    # sum(weekend)\n",
    "    # sum(duplicates & weekend)\n",
    "    # sum(duplicates | weekend)\n",
    "    df_merged = df_merged.loc[~(duplicates & weekend), :]\n",
    "\n",
    "    df = df_merged[:]\n",
    "    df.drop('Dates', axis=1, inplace=True)\n",
    "    # df = df.asfreq('600S')\n",
    "    df = df.ffill()\n",
    "    df = df.loc[(df.index >= '2020-11-01') & (df.index < enddate), :]\n",
    "    #TODO: There will still be NA values (metric values) in the beginning, possible fixes:\n",
    "    df = df.bfill()  # back fill\n",
    "    # df.dropna(how='all', axis=0, inplace=True)  # Drop all rows with NaN values\"\n",
    "    # df.fillna(0, inplace=True)  # impute all NaNs with 0\n",
    "    df = df.astype(dtype)    \n",
    "    del df_merged, df2, df3\n",
    "    return df"
   ]
  },
  {
   "cell_type": "markdown",
   "metadata": {},
   "source": [
    "### Data"
   ]
  },
  {
   "cell_type": "code",
   "execution_count": 46,
   "metadata": {},
   "outputs": [
    {
     "name": "stderr",
     "output_type": "stream",
     "text": [
      "/home/ms/github/venv/fxpred3/lib/python3.8/site-packages/pandas/core/frame.py:4305: SettingWithCopyWarning: \n",
      "A value is trying to be set on a copy of a slice from a DataFrame\n",
      "\n",
      "See the caveats in the documentation: https://pandas.pydata.org/pandas-docs/stable/user_guide/indexing.html#returning-a-view-versus-a-copy\n",
      "  return super().drop(\n"
     ]
    }
   ],
   "source": [
    "df = __get_fx_and_metric_data_wo_weekend(dtype=np.float32, directory='data/1h_Dataset', directory_metrics='data')"
   ]
  },
  {
   "cell_type": "markdown",
   "metadata": {},
   "source": [
    "## Create training and test data for RNN/LSTM"
   ]
  },
  {
   "cell_type": "code",
   "execution_count": 49,
   "metadata": {},
   "outputs": [],
   "source": [
    "target_column = list(df.columns).index('EURUSD BGNE Curncy Bid Close')\n",
    "lag = 1\n",
    "h = 1\n",
    "dtype = np.float32  # np.float64\n",
    "X_train, y_train, X_val, y_val , X_test, y_test, sc, sc_target, index_train, index_val, index_test, X_train_index, y_train_index = \\\n",
    "    ts_train_test_normalize(df, lag, h, target_column, dtype=dtype)"
   ]
  },
  {
   "cell_type": "code",
   "execution_count": 50,
   "metadata": {},
   "outputs": [
    {
     "data": {
      "text/plain": [
       "(806, 1)"
      ]
     },
     "execution_count": 50,
     "metadata": {},
     "output_type": "execute_result"
    }
   ],
   "source": [
    "y_test.shape"
   ]
  },
  {
   "cell_type": "markdown",
   "metadata": {},
   "source": [
    "## ARIMA"
   ]
  },
  {
   "cell_type": "code",
   "execution_count": 51,
   "metadata": {},
   "outputs": [],
   "source": [
    "from statsmodels.graphics.tsaplots import plot_pacf, plot_acf\n",
    "from statsmodels.tsa.arima_process import ArmaProcess\n",
    "from statsmodels.tsa.stattools import pacf\n",
    "from statsmodels.tsa.stattools import grangercausalitytests\n",
    "from statsmodels.tsa.stattools import adfuller\n",
    "from statsmodels.regression.linear_model import yule_walker\n",
    "\n",
    "#from statsmodels.tsa.stattools import adfuller\n",
    "import matplotlib.pyplot as plt\n",
    "import numpy as np\n",
    "import statsmodels.api as sm\n",
    "import pmdarima as pmd"
   ]
  },
  {
   "cell_type": "code",
   "execution_count": 52,
   "metadata": {},
   "outputs": [
    {
     "name": "stdout",
     "output_type": "stream",
     "text": [
      "p-value: 0.0\n",
      "Differencing is not necessary\n"
     ]
    }
   ],
   "source": [
    "p = adfuller(X_train[:, 0, target_column])[1]\n",
    "print(\"p-value:\", p)\n",
    "print(f\"Differencing is {'' if p > 0.05 else 'not '}necessary\")"
   ]
  },
  {
   "cell_type": "code",
   "execution_count": 53,
   "metadata": {},
   "outputs": [
    {
     "data": {
      "image/png": "[encoded data removed]",
      "text/plain": [
       "<Figure size 432x288 with 1 Axes>"
      ]
     },
     "metadata": {
      "needs_background": "light"
     },
     "output_type": "display_data"
    },
    {
     "data": {
      "image/png": "[encoded data removed]",
      "text/plain": [
       "<Figure size 432x288 with 1 Axes>"
      ]
     },
     "metadata": {
      "needs_background": "light"
     },
     "output_type": "display_data"
    }
   ],
   "source": [
    "plot_acf(X_train[:, 0, target_column], lags=5000)  # ACF\n",
    "# plt.ylim(0, 0.2)\n",
    "plt.show()\n",
    "plot_pacf(X_train[:, 0, target_column])\n",
    "# plt.ylim(-0.1, 0.1)\n",
    "plt.show()"
   ]
  },
  {
   "cell_type": "code",
   "execution_count": 54,
   "metadata": {},
   "outputs": [
    {
     "data": {
      "text/plain": [
       "({'ssr_ftest': (7.249741985905782, 0.007109408215744998, 6461.0, 1),\n",
       "  'ssr_chi2test': (7.253108218061442, 0.007077839512403737, 1),\n",
       "  'lrtest': (7.249041985174699, 0.007093884901760969, 1),\n",
       "  'params_ftest': (7.2497419859030074, 0.0071094082157558205, 6461.0, 1.0)},\n",
       " [<statsmodels.regression.linear_model.RegressionResultsWrapper at 0x7f8186af10d0>,\n",
       "  <statsmodels.regression.linear_model.RegressionResultsWrapper at 0x7f81900ed520>,\n",
       "  array([[0., 1., 0.]])])"
      ]
     },
     "execution_count": 54,
     "metadata": {},
     "output_type": "execute_result"
    }
   ],
   "source": [
    "g = grangercausalitytests(X_train[:, 0, target_column:(target_column+2)], maxlag =10, verbose = 0)\n",
    "g[1]"
   ]
  },
  {
   "cell_type": "code",
   "execution_count": 55,
   "metadata": {},
   "outputs": [
    {
     "name": "stdout",
     "output_type": "stream",
     "text": [
      "ndiffs: 0\n",
      "nsdiffs: 0\n"
     ]
    }
   ],
   "source": [
    "print(f\"ndiffs: {pmd.arima.ndiffs(X_train[:, 0, target_column])}\")\n",
    "print(f\"nsdiffs: {pmd.arima.nsdiffs(X_train[:, 0, target_column], m=2)}\")"
   ]
  },
  {
   "cell_type": "code",
   "execution_count": 62,
   "metadata": {},
   "outputs": [
    {
     "name": "stdout",
     "output_type": "stream",
     "text": [
      "Performing stepwise search to minimize aic\n",
      " ARIMA(0,0,0)(0,0,0)[0] intercept   : AIC=18352.867, Time=0.07 sec\n",
      " ARIMA(1,0,0)(0,0,0)[0] intercept   : AIC=18353.956, Time=0.20 sec\n",
      " ARIMA(0,0,1)(0,0,0)[0] intercept   : AIC=18353.944, Time=0.24 sec\n",
      " ARIMA(0,0,0)(0,0,0)[0]             : AIC=18350.867, Time=0.04 sec\n",
      " ARIMA(1,0,1)(0,0,0)[0] intercept   : AIC=18356.395, Time=1.16 sec\n",
      "\n",
      "Best model:  ARIMA(0,0,0)(0,0,0)[0]          \n",
      "Total fit time: 1.713 seconds\n"
     ]
    },
    {
     "data": {
      "text/plain": [
       "ARIMA(order=(0, 0, 0), scoring_args={}, suppress_warnings=True,\n",
       "      with_intercept=False)"
      ]
     },
     "execution_count": 62,
     "metadata": {},
     "output_type": "execute_result"
    }
   ],
   "source": [
    "# # see https://www.pluralsight.com/guides/advanced-time-series-modeling-(arima)-models-in-python\n",
    "arima = pmd.auto_arima(\n",
    "    X_train[:, 0, target_column],\n",
    "    d=pmd.arima.ndiffs(X_train[:, 0, target_column]),\n",
    "    start_p=0,\n",
    "    max_p=20,\n",
    "    start_q=0,\n",
    "    max_q=20,\n",
    "    start_P=0,\n",
    "    start_Q=0,\n",
    "    max_P=3,\n",
    "    max_Q=3,\n",
    "    test='adf',\n",
    "    trace=True\n",
    ")\n",
    "arima"
   ]
  },
  {
   "cell_type": "code",
   "execution_count": 63,
   "metadata": {},
   "outputs": [],
   "source": [
    "# arima_order = arima.get_params()['order']\n",
    "arima_order = (1, 0, 1)\n",
    "# arima_order_season = arima.get_params()['seasonal_order']\n",
    "arima_order_season = (0, 0, 0, 0)"
   ]
  },
  {
   "cell_type": "code",
   "execution_count": 64,
   "metadata": {},
   "outputs": [
    {
     "name": "stdout",
     "output_type": "stream",
     "text": [
      "                               SARIMAX Results                                \n",
      "==============================================================================\n",
      "Dep. Variable:                      y   No. Observations:                 6465\n",
      "Model:                 ARIMA(1, 0, 1)   Log Likelihood               -9174.198\n",
      "Date:                Tue, 31 May 2022   AIC                          18356.395\n",
      "Time:                        16:55:36   BIC                          18383.492\n",
      "Sample:                             0   HQIC                         18365.770\n",
      "                               - 6465                                         \n",
      "Covariance Type:                  opg                                         \n",
      "==============================================================================\n",
      "                 coef    std err          z      P>|z|      [0.025      0.975]\n",
      "------------------------------------------------------------------------------\n",
      "const      -6.617e-05      0.012     -0.006      0.996      -0.023       0.023\n",
      "ar.L1          0.9682      0.080     12.058      0.000       0.811       1.126\n",
      "ma.L1         -0.9703      0.078    -12.454      0.000      -1.123      -0.818\n",
      "sigma2         1.0002      0.009    113.437      0.000       0.983       1.018\n",
      "===================================================================================\n",
      "Ljung-Box (L1) (Q):                   0.62   Jarque-Bera (JB):             10691.28\n",
      "Prob(Q):                              0.43   Prob(JB):                         0.00\n",
      "Heteroskedasticity (H):               0.59   Skew:                            -0.35\n",
      "Prob(H) (two-sided):                  0.00   Kurtosis:                         9.26\n",
      "===================================================================================\n",
      "\n",
      "Warnings:\n",
      "[1] Covariance matrix calculated using the outer product of gradients (complex-step).\n"
     ]
    }
   ],
   "source": [
    "mod = sm.tsa.arima.ARIMA(\n",
    "    X_train[:,0, target_column],\n",
    "#     exog=X_train[:,0, [i for i in range(min(10, X_train.shape[2])) if i !=3]],\n",
    "    order=arima_order,\n",
    "    seasonal_order=arima_order_season\n",
    ")\n",
    "model_train = mod.fit()\n",
    "print(model_train.summary())"
   ]
  },
  {
   "cell_type": "code",
   "execution_count": 65,
   "metadata": {},
   "outputs": [
    {
     "data": {
      "text/plain": [
       "7.303035301742256e-05"
      ]
     },
     "execution_count": 65,
     "metadata": {},
     "output_type": "execute_result"
    }
   ],
   "source": [
    "from sklearn.metrics import r2_score\n",
    "r2_score(X_train[:,0, target_column], model_train.predict())"
   ]
  },
  {
   "cell_type": "code",
   "execution_count": 66,
   "metadata": {},
   "outputs": [],
   "source": [
    "y_train_pred = model_train.predict()\n",
    "# y_train_pred = sc_target.inverse_transform(y_train_pred)"
   ]
  },
  {
   "cell_type": "code",
   "execution_count": 67,
   "metadata": {},
   "outputs": [],
   "source": [
    "m_min = np.min([y_train.min(), y_train_pred[y_train_pred != 0].min()])\n",
    "m_max = np.max([y_train.max(), y_train_pred.max()])"
   ]
  },
  {
   "cell_type": "code",
   "execution_count": 68,
   "metadata": {},
   "outputs": [
    {
     "data": {
      "image/png": "[encoded data removed]",
      "text/plain": [
       "<Figure size 432x288 with 1 Axes>"
      ]
     },
     "metadata": {
      "needs_background": "light"
     },
     "output_type": "display_data"
    }
   ],
   "source": [
    "pd.Series(\n",
    "    data=y_train[:, 0],\n",
    "    index=index_train[-y_train_pred.shape[0]:],\n",
    ").plot()\n",
    "pd.Series(\n",
    "    data=y_train_pred,\n",
    "    index=index_train[-y_train_pred.shape[0]:],\n",
    ").plot()\n",
    "plt.ylim(m_min, m_max)\n",
    "plt.show()"
   ]
  },
  {
   "cell_type": "code",
   "execution_count": 69,
   "metadata": {},
   "outputs": [],
   "source": [
    "y_pred_error = pd.Series(\n",
    "    data=y_train_pred.flatten() - y_train.flatten(),\n",
    "    index=index_train[-y_train_pred.shape[0]:],\n",
    ").iloc[1:]"
   ]
  },
  {
   "cell_type": "code",
   "execution_count": 70,
   "metadata": {},
   "outputs": [
    {
     "data": {
      "image/png": "[encoded data removed]",
      "text/plain": [
       "<Figure size 432x288 with 1 Axes>"
      ]
     },
     "metadata": {
      "needs_background": "light"
     },
     "output_type": "display_data"
    },
    {
     "data": {
      "text/plain": [
       "Text(0.5, 1.0, 'QQ-lot for y_train_pred - y_train')"
      ]
     },
     "execution_count": 70,
     "metadata": {},
     "output_type": "execute_result"
    },
    {
     "data": {
      "image/png": "[encoded data removed]",
      "text/plain": [
       "<Figure size 432x288 with 1 Axes>"
      ]
     },
     "metadata": {
      "needs_background": "light"
     },
     "output_type": "display_data"
    }
   ],
   "source": [
    "# y_pred_error.plot()\n",
    "# plt.show()\n",
    "plt.scatter(y_train_pred[1:], y_train[1:])\n",
    "plt.xlabel('y_train_pred')\n",
    "plt.ylabel('y_train')\n",
    "plt.show()\n",
    "import statsmodels.api as smi\n",
    "smi.qqplot(y_pred_error[1:], line = \"r\")\n",
    "plt.title('QQ-lot for y_train_pred - y_train')\n",
    "# pylab.show()"
   ]
  },
  {
   "cell_type": "code",
   "execution_count": 71,
   "metadata": {},
   "outputs": [
    {
     "name": "stdout",
     "output_type": "stream",
     "text": [
      "mse: 1.000282859938569\n",
      "mae: 0.6844156793275731\n",
      "mape: 124.6995037647225\n",
      "mde: 0.2386191840873444\n"
     ]
    }
   ],
   "source": [
    "y = y_train\n",
    "# y = sc_target.inverse_transform(y_train)\n",
    "y_pred = y_train_pred\n",
    "# y_pred = sc_target.inverse_transform(y_train_pred)\n",
    "print(f'mse: {MSE(y.flatten(), y_pred.flatten()).numpy()}')\n",
    "print(f'mae: {MAE(y.flatten(), y_pred.flatten()).numpy()}')\n",
    "print(f'mape: {MAPE(y.flatten(), y_pred.flatten()).numpy()}')\n",
    "# print(f'mde: {1 - np.mean(np.diff(y.flatten()) * (y_pred.flatten() - y.flatten())[1:] >= 0)}')\n",
    "print(f'mde: {mde(y, y_pred)}')"
   ]
  },
  {
   "cell_type": "code",
   "execution_count": 72,
   "metadata": {},
   "outputs": [
    {
     "name": "stdout",
     "output_type": "stream",
     "text": [
      "mse: 4.991333021233067e-07\n",
      "mae: 0.00048346697145786787\n",
      "mape: 171.36512154932632\n",
      "mde: 0.2386191840873444\n"
     ]
    }
   ],
   "source": [
    "# y = y_train\n",
    "y = sc_target.inverse_transform(y_train)\n",
    "# y_pred = y_train_pred\n",
    "y_pred = sc_target.inverse_transform(y_train_pred)\n",
    "print(f'mse: {MSE(y.flatten(), y_pred.flatten()).numpy()}')\n",
    "print(f'mae: {MAE(y.flatten(), y_pred.flatten()).numpy()}')\n",
    "print(f'mape: {MAPE(y.flatten(), y_pred.flatten()).numpy()}')\n",
    "# print(f'mde: {1 - np.mean(np.diff(y.flatten()) * (y_pred.flatten() - y.flatten())[1:] >= 0)}')\n",
    "print(f'mde: {mde(y, y_pred)}')"
   ]
  },
  {
   "cell_type": "code",
   "execution_count": 73,
   "metadata": {},
   "outputs": [
    {
     "name": "stdout",
     "output_type": "stream",
     "text": [
      "                               SARIMAX Results                                \n",
      "==============================================================================\n",
      "Dep. Variable:                      y   No. Observations:                  806\n",
      "Model:                 ARIMA(1, 0, 1)   Log Likelihood               -1170.714\n",
      "Date:                Tue, 31 May 2022   AIC                           2341.428\n",
      "Time:                        16:55:42   BIC                           2341.428\n",
      "Sample:                             0   HQIC                          2341.428\n",
      "                                - 806                                         \n",
      "Covariance Type:                  opg                                         \n",
      "==================================================================================\n",
      "                     coef    std err          z      P>|z|      [0.025      0.975]\n",
      "----------------------------------------------------------------------------------\n",
      "const (fixed)  -6.617e-05        nan        nan        nan         nan         nan\n",
      "ar.L1 (fixed)      0.9682        nan        nan        nan         nan         nan\n",
      "ma.L1 (fixed)     -0.9703        nan        nan        nan         nan         nan\n",
      "sigma2 (fixed)     1.0002        nan        nan        nan         nan         nan\n",
      "===================================================================================\n",
      "Ljung-Box (L1) (Q):                   1.18   Jarque-Bera (JB):               503.39\n",
      "Prob(Q):                              0.28   Prob(JB):                         0.00\n",
      "Heteroskedasticity (H):               0.77   Skew:                             0.32\n",
      "Prob(H) (two-sided):                  0.03   Kurtosis:                         6.82\n",
      "===================================================================================\n",
      "\n",
      "Warnings:\n",
      "[1] Covariance matrix calculated using the outer product of gradients (complex-step).\n"
     ]
    }
   ],
   "source": [
    "mod2 = sm.tsa.arima.ARIMA(\n",
    "    X_test[:, 0, target_column],\n",
    "#     exog=X_test[:,0, [i for i in range(min(10, X_test.shape[2])) if i !=3]],\n",
    "    order=arima_order,\n",
    "    seasonal_order=arima_order_season\n",
    ")\n",
    "with mod2.fix_params(dict(zip(model_train.param_names, model_train.params))):\n",
    "    model_test = mod2.fit()\n",
    "print(model_test.summary())"
   ]
  },
  {
   "cell_type": "markdown",
   "metadata": {},
   "source": [
    "Get model for test data."
   ]
  },
  {
   "cell_type": "code",
   "execution_count": 74,
   "metadata": {},
   "outputs": [
    {
     "data": {
      "text/plain": [
       "(1.0671582, <AxesSubplot:>)"
      ]
     },
     "execution_count": 74,
     "metadata": {},
     "output_type": "execute_result"
    },
    {
     "data": {
      "image/png": "[encoded data removed]",
      "text/plain": [
       "<Figure size 432x288 with 1 Axes>"
      ]
     },
     "metadata": {
      "needs_background": "light"
     },
     "output_type": "display_data"
    }
   ],
   "source": [
    "actual_pred_plot(model_test.predict().reshape([-1,1]), X_test[:, 0, 3:4])"
   ]
  },
  {
   "cell_type": "code",
   "execution_count": 75,
   "metadata": {},
   "outputs": [
    {
     "data": {
      "text/plain": [
       "<AxesSubplot:xlabel='Dates'>"
      ]
     },
     "execution_count": 75,
     "metadata": {},
     "output_type": "execute_result"
    },
    {
     "data": {
      "image/png": "[encoded data removed]",
      "text/plain": [
       "<Figure size 432x288 with 1 Axes>"
      ]
     },
     "metadata": {
      "needs_background": "light"
     },
     "output_type": "display_data"
    }
   ],
   "source": [
    "y_test_pred = pd.Series(\n",
    "    data=model_test.predict(),\n",
    "    index=index_test[-model_test.predict().shape[0]:],\n",
    ")\n",
    "y_test_pred.plot()"
   ]
  },
  {
   "cell_type": "code",
   "execution_count": 76,
   "metadata": {},
   "outputs": [
    {
     "name": "stdout",
     "output_type": "stream",
     "text": [
      "mse: 5.312779863096462e-07\n",
      "mae: 0.0005092834692273312\n",
      "mape: 135.06692091368666\n",
      "mde: 0.28100922032329\n"
     ]
    }
   ],
   "source": [
    "# y = y_test\n",
    "y = sc_target.inverse_transform(y_test)\n",
    "# y_pred = y_test_pred.values\n",
    "y_pred = sc_target.inverse_transform(y_test_pred.values)\n",
    "print(f'mse: {MSE(y.flatten(), y_pred.flatten()).numpy()}')\n",
    "print(f'mae: {MAE(y.flatten(), y_pred.flatten()).numpy()}')\n",
    "print(f'mape: {MAPE(y.flatten(), y_pred.flatten()).numpy()}')\n",
    "# print(f'mde: {1 - np.mean(np.diff(y.flatten()) * (y_pred.flatten() - y.flatten())[1:] >= 0)}')\n",
    "print(f'mde: {mde(y, y_pred)}')"
   ]
  },
  {
   "cell_type": "code",
   "execution_count": null,
   "metadata": {},
   "outputs": [],
   "source": []
  },
  {
   "cell_type": "code",
   "execution_count": null,
   "metadata": {},
   "outputs": [],
   "source": []
  }
 ],
 "metadata": {
  "kernelspec": {
   "display_name": "fxpred3",
   "language": "python",
   "name": "fxpred3"
  },
  "language_info": {
   "codemirror_mode": {
    "name": "ipython",
    "version": 3
   },
   "file_extension": ".py",
   "mimetype": "text/x-python",
   "name": "python",
   "nbconvert_exporter": "python",
   "pygments_lexer": "ipython3",
   "version": "3.8.10"
  }
 },
 "nbformat": 4,
 "nbformat_minor": 4
}
