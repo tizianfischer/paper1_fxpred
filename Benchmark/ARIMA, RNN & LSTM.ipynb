{
 "cells": [
  {
   "cell_type": "markdown",
   "metadata": {},
   "source": [
    "## Benchmark: ARIMA, RNN & LSTM"
   ]
  },
  {
   "cell_type": "code",
   "execution_count": 1,
   "metadata": {},
   "outputs": [],
   "source": [
    "import matplotlib.pyplot as plt\n",
    "import numpy as np\n",
    "from sklearn.model_selection import train_test_split\n",
    "from sklearn.preprocessing import MinMaxScaler\n",
    "%matplotlib inline"
   ]
  },
  {
   "cell_type": "markdown",
   "metadata": {},
   "source": [
    "Functions"
   ]
  },
  {
   "cell_type": "code",
   "execution_count": 27,
   "metadata": {},
   "outputs": [],
   "source": [
    "def actual_pred_plot(preds, y_test):\n",
    "    '''\n",
    "    Plot the actual vs. prediction\n",
    "    '''\n",
    "    actual_pred = pd.DataFrame(columns = ['Adj. Close', 'prediction'])\n",
    "    actual_pred['prediction'] = preds[:,0]\n",
    "    actual_pred['Adj. Close'] = y_test[:,0]  #.loc['2019':,'Adj Close'][0:len(preds)]\n",
    "\n",
    "    from tensorflow.keras.metrics import MeanSquaredError\n",
    "    m = MeanSquaredError()\n",
    "    m.update_state(np.array(actual_pred['Adj. Close']),np.array(actual_pred['prediction']))\n",
    "    return (m.result().numpy(), actual_pred.plot() )"
   ]
  },
  {
   "cell_type": "markdown",
   "metadata": {},
   "source": [
    "### Data"
   ]
  },
  {
   "cell_type": "code",
   "execution_count": 28,
   "metadata": {},
   "outputs": [
    {
     "data": {
      "text/html": [
       "<div>\n",
       "<style scoped>\n",
       "    .dataframe tbody tr th:only-of-type {\n",
       "        vertical-align: middle;\n",
       "    }\n",
       "\n",
       "    .dataframe tbody tr th {\n",
       "        vertical-align: top;\n",
       "    }\n",
       "\n",
       "    .dataframe thead th {\n",
       "        text-align: right;\n",
       "    }\n",
       "</style>\n",
       "<table border=\"1\" class=\"dataframe\">\n",
       "  <thead>\n",
       "    <tr style=\"text-align: right;\">\n",
       "      <th></th>\n",
       "      <th>EURUSD BGNE Curncy Bid Open</th>\n",
       "      <th>EURUSD BGNE Curncy Bid Close</th>\n",
       "      <th>EURUSD BGNE Curncy Bid High</th>\n",
       "      <th>EURUSD BGNE Curncy Bid Low</th>\n",
       "      <th>EURUSD BGNE Curncy Bid Number Ticks</th>\n",
       "      <th>EURUSD BGNE Curncy Ask Open</th>\n",
       "      <th>EURUSD BGNE Curncy Ask Close</th>\n",
       "      <th>EURUSD BGNE Curncy Ask High</th>\n",
       "      <th>EURUSD BGNE Curncy Ask Low</th>\n",
       "      <th>EURUSD BGNE Curncy Ask Number Ticks</th>\n",
       "      <th>...</th>\n",
       "      <th>G 1 Comdty Trade Open</th>\n",
       "      <th>UB1 Comdty Trade Open</th>\n",
       "      <th>FF1 Comdty Trade Open</th>\n",
       "      <th>OE1 Comdty Trade Open</th>\n",
       "      <th>TU1 Comdty Trade Open</th>\n",
       "      <th>KE1 Comdty Trade Open</th>\n",
       "      <th>DU1 Comdty Trade Open</th>\n",
       "      <th>UXY1 Comdty Trade Open</th>\n",
       "      <th>CN1 Comdty Trade Open</th>\n",
       "      <th>KAA1 Comdty Trade Open</th>\n",
       "    </tr>\n",
       "    <tr>\n",
       "      <th>Dates</th>\n",
       "      <th></th>\n",
       "      <th></th>\n",
       "      <th></th>\n",
       "      <th></th>\n",
       "      <th></th>\n",
       "      <th></th>\n",
       "      <th></th>\n",
       "      <th></th>\n",
       "      <th></th>\n",
       "      <th></th>\n",
       "      <th></th>\n",
       "      <th></th>\n",
       "      <th></th>\n",
       "      <th></th>\n",
       "      <th></th>\n",
       "      <th></th>\n",
       "      <th></th>\n",
       "      <th></th>\n",
       "      <th></th>\n",
       "      <th></th>\n",
       "      <th></th>\n",
       "    </tr>\n",
       "  </thead>\n",
       "  <tbody>\n",
       "    <tr>\n",
       "      <th>2020-01-10 00:00:00</th>\n",
       "      <td>1.17231</td>\n",
       "      <td>1.17281</td>\n",
       "      <td>1.17290</td>\n",
       "      <td>1.17215</td>\n",
       "      <td>1264</td>\n",
       "      <td>1.17250</td>\n",
       "      <td>1.17291</td>\n",
       "      <td>1.17298</td>\n",
       "      <td>1.17234</td>\n",
       "      <td>1264</td>\n",
       "      <td>...</td>\n",
       "      <td>136.56</td>\n",
       "      <td>223.82</td>\n",
       "      <td>99.9150</td>\n",
       "      <td>135.28</td>\n",
       "      <td>110.480469</td>\n",
       "      <td>112.08</td>\n",
       "      <td>112.305</td>\n",
       "      <td>159.921875</td>\n",
       "      <td>152.26</td>\n",
       "      <td>133.12</td>\n",
       "    </tr>\n",
       "    <tr>\n",
       "      <th>2020-01-10 00:10:00</th>\n",
       "      <td>1.17281</td>\n",
       "      <td>1.17280</td>\n",
       "      <td>1.17287</td>\n",
       "      <td>1.17264</td>\n",
       "      <td>1269</td>\n",
       "      <td>1.17292</td>\n",
       "      <td>1.17288</td>\n",
       "      <td>1.17296</td>\n",
       "      <td>1.17275</td>\n",
       "      <td>1269</td>\n",
       "      <td>...</td>\n",
       "      <td>136.56</td>\n",
       "      <td>223.82</td>\n",
       "      <td>99.9175</td>\n",
       "      <td>135.28</td>\n",
       "      <td>110.468750</td>\n",
       "      <td>112.08</td>\n",
       "      <td>112.305</td>\n",
       "      <td>159.750000</td>\n",
       "      <td>152.26</td>\n",
       "      <td>133.12</td>\n",
       "    </tr>\n",
       "    <tr>\n",
       "      <th>2020-01-10 00:20:00</th>\n",
       "      <td>1.17278</td>\n",
       "      <td>1.17300</td>\n",
       "      <td>1.17305</td>\n",
       "      <td>1.17277</td>\n",
       "      <td>1380</td>\n",
       "      <td>1.17289</td>\n",
       "      <td>1.17308</td>\n",
       "      <td>1.17314</td>\n",
       "      <td>1.17286</td>\n",
       "      <td>1380</td>\n",
       "      <td>...</td>\n",
       "      <td>136.56</td>\n",
       "      <td>223.82</td>\n",
       "      <td>99.9175</td>\n",
       "      <td>135.28</td>\n",
       "      <td>110.468750</td>\n",
       "      <td>112.08</td>\n",
       "      <td>112.305</td>\n",
       "      <td>159.750000</td>\n",
       "      <td>152.26</td>\n",
       "      <td>133.12</td>\n",
       "    </tr>\n",
       "    <tr>\n",
       "      <th>2020-01-10 00:30:00</th>\n",
       "      <td>1.17300</td>\n",
       "      <td>1.17303</td>\n",
       "      <td>1.17307</td>\n",
       "      <td>1.17298</td>\n",
       "      <td>1330</td>\n",
       "      <td>1.17308</td>\n",
       "      <td>1.17311</td>\n",
       "      <td>1.17314</td>\n",
       "      <td>1.17307</td>\n",
       "      <td>1330</td>\n",
       "      <td>...</td>\n",
       "      <td>136.56</td>\n",
       "      <td>223.82</td>\n",
       "      <td>99.9175</td>\n",
       "      <td>135.28</td>\n",
       "      <td>110.468750</td>\n",
       "      <td>112.08</td>\n",
       "      <td>112.305</td>\n",
       "      <td>159.750000</td>\n",
       "      <td>152.26</td>\n",
       "      <td>133.12</td>\n",
       "    </tr>\n",
       "    <tr>\n",
       "      <th>2020-01-10 00:40:00</th>\n",
       "      <td>1.17303</td>\n",
       "      <td>1.17297</td>\n",
       "      <td>1.17309</td>\n",
       "      <td>1.17283</td>\n",
       "      <td>1351</td>\n",
       "      <td>1.17311</td>\n",
       "      <td>1.17309</td>\n",
       "      <td>1.17317</td>\n",
       "      <td>1.17290</td>\n",
       "      <td>1351</td>\n",
       "      <td>...</td>\n",
       "      <td>136.56</td>\n",
       "      <td>223.82</td>\n",
       "      <td>99.9175</td>\n",
       "      <td>135.28</td>\n",
       "      <td>110.468750</td>\n",
       "      <td>112.08</td>\n",
       "      <td>112.305</td>\n",
       "      <td>159.734375</td>\n",
       "      <td>152.26</td>\n",
       "      <td>133.12</td>\n",
       "    </tr>\n",
       "    <tr>\n",
       "      <th>2020-01-10 00:50:00</th>\n",
       "      <td>1.17300</td>\n",
       "      <td>1.17302</td>\n",
       "      <td>1.17311</td>\n",
       "      <td>1.17283</td>\n",
       "      <td>1283</td>\n",
       "      <td>1.17308</td>\n",
       "      <td>1.17311</td>\n",
       "      <td>1.17319</td>\n",
       "      <td>1.17292</td>\n",
       "      <td>1283</td>\n",
       "      <td>...</td>\n",
       "      <td>136.56</td>\n",
       "      <td>223.82</td>\n",
       "      <td>99.9175</td>\n",
       "      <td>135.28</td>\n",
       "      <td>110.468750</td>\n",
       "      <td>112.08</td>\n",
       "      <td>112.305</td>\n",
       "      <td>159.796875</td>\n",
       "      <td>152.26</td>\n",
       "      <td>133.12</td>\n",
       "    </tr>\n",
       "    <tr>\n",
       "      <th>2020-01-10 01:00:00</th>\n",
       "      <td>1.17300</td>\n",
       "      <td>1.17281</td>\n",
       "      <td>1.17301</td>\n",
       "      <td>1.17264</td>\n",
       "      <td>1326</td>\n",
       "      <td>1.17308</td>\n",
       "      <td>1.17288</td>\n",
       "      <td>1.17309</td>\n",
       "      <td>1.17272</td>\n",
       "      <td>1326</td>\n",
       "      <td>...</td>\n",
       "      <td>136.56</td>\n",
       "      <td>223.82</td>\n",
       "      <td>99.9175</td>\n",
       "      <td>135.28</td>\n",
       "      <td>110.468750</td>\n",
       "      <td>112.08</td>\n",
       "      <td>112.305</td>\n",
       "      <td>159.750000</td>\n",
       "      <td>152.26</td>\n",
       "      <td>133.12</td>\n",
       "    </tr>\n",
       "    <tr>\n",
       "      <th>2020-01-10 01:10:00</th>\n",
       "      <td>1.17282</td>\n",
       "      <td>1.17287</td>\n",
       "      <td>1.17295</td>\n",
       "      <td>1.17274</td>\n",
       "      <td>1319</td>\n",
       "      <td>1.17287</td>\n",
       "      <td>1.17295</td>\n",
       "      <td>1.17301</td>\n",
       "      <td>1.17281</td>\n",
       "      <td>1319</td>\n",
       "      <td>...</td>\n",
       "      <td>136.56</td>\n",
       "      <td>223.82</td>\n",
       "      <td>99.9175</td>\n",
       "      <td>135.28</td>\n",
       "      <td>110.468750</td>\n",
       "      <td>112.08</td>\n",
       "      <td>112.305</td>\n",
       "      <td>159.765625</td>\n",
       "      <td>152.26</td>\n",
       "      <td>133.12</td>\n",
       "    </tr>\n",
       "    <tr>\n",
       "      <th>2020-01-10 01:20:00</th>\n",
       "      <td>1.17289</td>\n",
       "      <td>1.17294</td>\n",
       "      <td>1.17318</td>\n",
       "      <td>1.17286</td>\n",
       "      <td>1358</td>\n",
       "      <td>1.17295</td>\n",
       "      <td>1.17299</td>\n",
       "      <td>1.17325</td>\n",
       "      <td>1.17294</td>\n",
       "      <td>1358</td>\n",
       "      <td>...</td>\n",
       "      <td>136.56</td>\n",
       "      <td>223.82</td>\n",
       "      <td>99.9175</td>\n",
       "      <td>135.28</td>\n",
       "      <td>110.472656</td>\n",
       "      <td>112.08</td>\n",
       "      <td>112.305</td>\n",
       "      <td>159.781250</td>\n",
       "      <td>152.26</td>\n",
       "      <td>133.12</td>\n",
       "    </tr>\n",
       "    <tr>\n",
       "      <th>2020-01-10 01:30:00</th>\n",
       "      <td>1.17294</td>\n",
       "      <td>1.17259</td>\n",
       "      <td>1.17296</td>\n",
       "      <td>1.17251</td>\n",
       "      <td>1464</td>\n",
       "      <td>1.17300</td>\n",
       "      <td>1.17268</td>\n",
       "      <td>1.17303</td>\n",
       "      <td>1.17257</td>\n",
       "      <td>1464</td>\n",
       "      <td>...</td>\n",
       "      <td>136.56</td>\n",
       "      <td>223.82</td>\n",
       "      <td>99.9175</td>\n",
       "      <td>135.28</td>\n",
       "      <td>110.472656</td>\n",
       "      <td>112.08</td>\n",
       "      <td>112.305</td>\n",
       "      <td>159.796875</td>\n",
       "      <td>152.26</td>\n",
       "      <td>133.12</td>\n",
       "    </tr>\n",
       "  </tbody>\n",
       "</table>\n",
       "<p>10 rows × 434 columns</p>\n",
       "</div>"
      ],
      "text/plain": [
       "                     EURUSD BGNE Curncy Bid Open  \\\n",
       "Dates                                              \n",
       "2020-01-10 00:00:00                      1.17231   \n",
       "2020-01-10 00:10:00                      1.17281   \n",
       "2020-01-10 00:20:00                      1.17278   \n",
       "2020-01-10 00:30:00                      1.17300   \n",
       "2020-01-10 00:40:00                      1.17303   \n",
       "2020-01-10 00:50:00                      1.17300   \n",
       "2020-01-10 01:00:00                      1.17300   \n",
       "2020-01-10 01:10:00                      1.17282   \n",
       "2020-01-10 01:20:00                      1.17289   \n",
       "2020-01-10 01:30:00                      1.17294   \n",
       "\n",
       "                     EURUSD BGNE Curncy Bid Close  \\\n",
       "Dates                                               \n",
       "2020-01-10 00:00:00                       1.17281   \n",
       "2020-01-10 00:10:00                       1.17280   \n",
       "2020-01-10 00:20:00                       1.17300   \n",
       "2020-01-10 00:30:00                       1.17303   \n",
       "2020-01-10 00:40:00                       1.17297   \n",
       "2020-01-10 00:50:00                       1.17302   \n",
       "2020-01-10 01:00:00                       1.17281   \n",
       "2020-01-10 01:10:00                       1.17287   \n",
       "2020-01-10 01:20:00                       1.17294   \n",
       "2020-01-10 01:30:00                       1.17259   \n",
       "\n",
       "                     EURUSD BGNE Curncy Bid High  EURUSD BGNE Curncy Bid Low  \\\n",
       "Dates                                                                          \n",
       "2020-01-10 00:00:00                      1.17290                     1.17215   \n",
       "2020-01-10 00:10:00                      1.17287                     1.17264   \n",
       "2020-01-10 00:20:00                      1.17305                     1.17277   \n",
       "2020-01-10 00:30:00                      1.17307                     1.17298   \n",
       "2020-01-10 00:40:00                      1.17309                     1.17283   \n",
       "2020-01-10 00:50:00                      1.17311                     1.17283   \n",
       "2020-01-10 01:00:00                      1.17301                     1.17264   \n",
       "2020-01-10 01:10:00                      1.17295                     1.17274   \n",
       "2020-01-10 01:20:00                      1.17318                     1.17286   \n",
       "2020-01-10 01:30:00                      1.17296                     1.17251   \n",
       "\n",
       "                     EURUSD BGNE Curncy Bid Number Ticks  \\\n",
       "Dates                                                      \n",
       "2020-01-10 00:00:00                                 1264   \n",
       "2020-01-10 00:10:00                                 1269   \n",
       "2020-01-10 00:20:00                                 1380   \n",
       "2020-01-10 00:30:00                                 1330   \n",
       "2020-01-10 00:40:00                                 1351   \n",
       "2020-01-10 00:50:00                                 1283   \n",
       "2020-01-10 01:00:00                                 1326   \n",
       "2020-01-10 01:10:00                                 1319   \n",
       "2020-01-10 01:20:00                                 1358   \n",
       "2020-01-10 01:30:00                                 1464   \n",
       "\n",
       "                     EURUSD BGNE Curncy Ask Open  \\\n",
       "Dates                                              \n",
       "2020-01-10 00:00:00                      1.17250   \n",
       "2020-01-10 00:10:00                      1.17292   \n",
       "2020-01-10 00:20:00                      1.17289   \n",
       "2020-01-10 00:30:00                      1.17308   \n",
       "2020-01-10 00:40:00                      1.17311   \n",
       "2020-01-10 00:50:00                      1.17308   \n",
       "2020-01-10 01:00:00                      1.17308   \n",
       "2020-01-10 01:10:00                      1.17287   \n",
       "2020-01-10 01:20:00                      1.17295   \n",
       "2020-01-10 01:30:00                      1.17300   \n",
       "\n",
       "                     EURUSD BGNE Curncy Ask Close  \\\n",
       "Dates                                               \n",
       "2020-01-10 00:00:00                       1.17291   \n",
       "2020-01-10 00:10:00                       1.17288   \n",
       "2020-01-10 00:20:00                       1.17308   \n",
       "2020-01-10 00:30:00                       1.17311   \n",
       "2020-01-10 00:40:00                       1.17309   \n",
       "2020-01-10 00:50:00                       1.17311   \n",
       "2020-01-10 01:00:00                       1.17288   \n",
       "2020-01-10 01:10:00                       1.17295   \n",
       "2020-01-10 01:20:00                       1.17299   \n",
       "2020-01-10 01:30:00                       1.17268   \n",
       "\n",
       "                     EURUSD BGNE Curncy Ask High  EURUSD BGNE Curncy Ask Low  \\\n",
       "Dates                                                                          \n",
       "2020-01-10 00:00:00                      1.17298                     1.17234   \n",
       "2020-01-10 00:10:00                      1.17296                     1.17275   \n",
       "2020-01-10 00:20:00                      1.17314                     1.17286   \n",
       "2020-01-10 00:30:00                      1.17314                     1.17307   \n",
       "2020-01-10 00:40:00                      1.17317                     1.17290   \n",
       "2020-01-10 00:50:00                      1.17319                     1.17292   \n",
       "2020-01-10 01:00:00                      1.17309                     1.17272   \n",
       "2020-01-10 01:10:00                      1.17301                     1.17281   \n",
       "2020-01-10 01:20:00                      1.17325                     1.17294   \n",
       "2020-01-10 01:30:00                      1.17303                     1.17257   \n",
       "\n",
       "                     EURUSD BGNE Curncy Ask Number Ticks  ...  \\\n",
       "Dates                                                     ...   \n",
       "2020-01-10 00:00:00                                 1264  ...   \n",
       "2020-01-10 00:10:00                                 1269  ...   \n",
       "2020-01-10 00:20:00                                 1380  ...   \n",
       "2020-01-10 00:30:00                                 1330  ...   \n",
       "2020-01-10 00:40:00                                 1351  ...   \n",
       "2020-01-10 00:50:00                                 1283  ...   \n",
       "2020-01-10 01:00:00                                 1326  ...   \n",
       "2020-01-10 01:10:00                                 1319  ...   \n",
       "2020-01-10 01:20:00                                 1358  ...   \n",
       "2020-01-10 01:30:00                                 1464  ...   \n",
       "\n",
       "                     G 1 Comdty Trade Open  UB1 Comdty Trade Open  \\\n",
       "Dates                                                               \n",
       "2020-01-10 00:00:00                 136.56                 223.82   \n",
       "2020-01-10 00:10:00                 136.56                 223.82   \n",
       "2020-01-10 00:20:00                 136.56                 223.82   \n",
       "2020-01-10 00:30:00                 136.56                 223.82   \n",
       "2020-01-10 00:40:00                 136.56                 223.82   \n",
       "2020-01-10 00:50:00                 136.56                 223.82   \n",
       "2020-01-10 01:00:00                 136.56                 223.82   \n",
       "2020-01-10 01:10:00                 136.56                 223.82   \n",
       "2020-01-10 01:20:00                 136.56                 223.82   \n",
       "2020-01-10 01:30:00                 136.56                 223.82   \n",
       "\n",
       "                     FF1 Comdty Trade Open  OE1 Comdty Trade Open  \\\n",
       "Dates                                                               \n",
       "2020-01-10 00:00:00                99.9150                 135.28   \n",
       "2020-01-10 00:10:00                99.9175                 135.28   \n",
       "2020-01-10 00:20:00                99.9175                 135.28   \n",
       "2020-01-10 00:30:00                99.9175                 135.28   \n",
       "2020-01-10 00:40:00                99.9175                 135.28   \n",
       "2020-01-10 00:50:00                99.9175                 135.28   \n",
       "2020-01-10 01:00:00                99.9175                 135.28   \n",
       "2020-01-10 01:10:00                99.9175                 135.28   \n",
       "2020-01-10 01:20:00                99.9175                 135.28   \n",
       "2020-01-10 01:30:00                99.9175                 135.28   \n",
       "\n",
       "                     TU1 Comdty Trade Open  KE1 Comdty Trade Open  \\\n",
       "Dates                                                               \n",
       "2020-01-10 00:00:00             110.480469                 112.08   \n",
       "2020-01-10 00:10:00             110.468750                 112.08   \n",
       "2020-01-10 00:20:00             110.468750                 112.08   \n",
       "2020-01-10 00:30:00             110.468750                 112.08   \n",
       "2020-01-10 00:40:00             110.468750                 112.08   \n",
       "2020-01-10 00:50:00             110.468750                 112.08   \n",
       "2020-01-10 01:00:00             110.468750                 112.08   \n",
       "2020-01-10 01:10:00             110.468750                 112.08   \n",
       "2020-01-10 01:20:00             110.472656                 112.08   \n",
       "2020-01-10 01:30:00             110.472656                 112.08   \n",
       "\n",
       "                     DU1 Comdty Trade Open  UXY1 Comdty Trade Open  \\\n",
       "Dates                                                                \n",
       "2020-01-10 00:00:00                112.305              159.921875   \n",
       "2020-01-10 00:10:00                112.305              159.750000   \n",
       "2020-01-10 00:20:00                112.305              159.750000   \n",
       "2020-01-10 00:30:00                112.305              159.750000   \n",
       "2020-01-10 00:40:00                112.305              159.734375   \n",
       "2020-01-10 00:50:00                112.305              159.796875   \n",
       "2020-01-10 01:00:00                112.305              159.750000   \n",
       "2020-01-10 01:10:00                112.305              159.765625   \n",
       "2020-01-10 01:20:00                112.305              159.781250   \n",
       "2020-01-10 01:30:00                112.305              159.796875   \n",
       "\n",
       "                     CN1 Comdty Trade Open  KAA1 Comdty Trade Open  \n",
       "Dates                                                               \n",
       "2020-01-10 00:00:00                 152.26                  133.12  \n",
       "2020-01-10 00:10:00                 152.26                  133.12  \n",
       "2020-01-10 00:20:00                 152.26                  133.12  \n",
       "2020-01-10 00:30:00                 152.26                  133.12  \n",
       "2020-01-10 00:40:00                 152.26                  133.12  \n",
       "2020-01-10 00:50:00                 152.26                  133.12  \n",
       "2020-01-10 01:00:00                 152.26                  133.12  \n",
       "2020-01-10 01:10:00                 152.26                  133.12  \n",
       "2020-01-10 01:20:00                 152.26                  133.12  \n",
       "2020-01-10 01:30:00                 152.26                  133.12  \n",
       "\n",
       "[10 rows x 434 columns]"
      ]
     },
     "execution_count": 28,
     "metadata": {},
     "output_type": "execute_result"
    }
   ],
   "source": [
    "import pandas as pd\n",
    "\n",
    "IBM_path = '../data/10min Dataset.csv'\n",
    "\n",
    "# df = pd.read_csv(IBM_path, delimiter=';', usecols=['Dates', 'EURUSD BGNE Curncy Bid Open', 'EURUSD BGNE Curncy Bid Close', 'EURUSD BGNE Curncy Bid High', 'EURUSD BGNE Curncy Bid Low', 'EURUSD BGNE Curncy Bid Number Ticks', 'EURUSD BGNE Curncy Ask Open', 'EURUSD BGNE Curncy Ask Close', 'EURUSD BGNE Curncy Ask High', 'EURUSD BGNE Curncy Ask Low', 'EURUSD BGNE Curncy Ask Number Ticks', 'USDJPY BGNE Curncy Bid Open', 'USDJPY BGNE Curncy Bid Close', 'USDJPY BGNE Curncy Bid High', 'USDJPY BGNE Curncy Bid Low', 'USDJPY BGNE Curncy Bid Number Ticks', 'USDJPY BGNE Curncy Ask Open', 'USDJPY BGNE Curncy Ask Close', 'USDJPY BGNE Curncy Ask High', 'USDJPY BGNE Curncy Ask Low', 'USDJPY BGNE Curncy Ask Number Ticks', 'GBPUSD BGNE Curncy Bid Open', 'GBPUSD BGNE Curncy Bid Close', 'GBPUSD BGNE Curncy Bid High', 'GBPUSD BGNE Curncy Bid Low', 'GBPUSD BGNE Curncy Bid Number Ticks', 'GBPUSD BGNE Curncy Ask Open', 'GBPUSD BGNE Curncy Ask Close', 'GBPUSD BGNE Curncy Ask High', 'GBPUSD BGNE Curncy Ask Low', 'GBPUSD BGNE Curncy Ask Number Ticks', 'AUDUSD BGNE Curncy Bid Open', 'AUDUSD BGNE Curncy Bid Close', 'AUDUSD BGNE Curncy Bid High', 'AUDUSD BGNE Curncy Bid Low', 'AUDUSD BGNE Curncy Bid Number Ticks', 'AUDUSD BGNE Curncy Ask Open', 'AUDUSD BGNE Curncy Ask Close', 'AUDUSD BGNE Curncy Ask High', 'AUDUSD BGNE Curncy Ask Low', 'AUDUSD BGNE Curncy Ask Number Ticks', 'USDCAD BGNE Curncy Bid Open', 'USDCAD BGNE Curncy Bid Close', 'USDCAD BGNE Curncy Bid High', 'USDCAD BGNE Curncy Bid Low', 'USDCAD BGNE Curncy Bid Number Ticks', 'USDCAD BGNE Curncy Ask Open', 'USDCAD BGNE Curncy Ask Close', 'USDCAD BGNE Curncy Ask High', 'USDCAD BGNE Curncy Ask Low', 'USDCAD BGNE Curncy Ask Number Ticks', 'USDCHF BGNE Curncy Bid Open', 'USDCHF BGNE Curncy Bid Close', 'USDCHF BGNE Curncy Bid High', 'USDCHF BGNE Curncy Bid Low', 'USDCHF BGNE Curncy Bid Number Ticks', 'USDCHF BGNE Curncy Ask Open', 'USDCHF BGNE Curncy Ask Close', 'USDCHF BGNE Curncy Ask High', 'USDCHF BGNE Curncy Ask Low', 'USDCHF BGNE Curncy Ask Number Ticks', 'NZDUSD BGNE Curncy Bid Open', 'NZDUSD BGNE Curncy Bid Close', 'NZDUSD BGNE Curncy Bid High', 'NZDUSD BGNE Curncy Bid Low', 'NZDUSD BGNE Curncy Bid Number Ticks', 'NZDUSD BGNE Curncy Ask Open', 'NZDUSD BGNE Curncy Ask Close', 'NZDUSD BGNE Curncy Ask High', 'NZDUSD BGNE Curncy Ask Low', 'NZDUSD BGNE Curncy Ask Number Ticks', 'EURJPY BGNE Curncy Bid Open', 'EURJPY BGNE Curncy Bid Close', 'EURJPY BGNE Curncy Bid High', 'EURJPY BGNE Curncy Bid Low', 'EURJPY BGNE Curncy Bid Number Ticks', 'EURJPY BGNE Curncy Ask Open', 'EURJPY BGNE Curncy Ask Close', 'EURJPY BGNE Curncy Ask High', 'EURJPY BGNE Curncy Ask Low', 'EURJPY BGNE Curncy Ask Number Ticks', 'GBPJPY BGNE Curncy Bid Open', 'GBPJPY BGNE Curncy Bid Close', 'GBPJPY BGNE Curncy Bid High', 'GBPJPY BGNE Curncy Bid Low', 'GBPJPY BGNE Curncy Bid Number Ticks', 'GBPJPY BGNE Curncy Ask Open', 'GBPJPY BGNE Curncy Ask Close', 'GBPJPY BGNE Curncy Ask High', 'GBPJPY BGNE Curncy Ask Low', 'GBPJPY BGNE Curncy Ask Number Ticks', 'EURGBP BGNE Curncy Bid Open', 'EURGBP BGNE Curncy Bid Close', 'EURGBP BGNE Curncy Bid High', 'EURGBP BGNE Curncy Bid Low', 'EURGBP BGNE Curncy Bid Number Ticks', 'EURGBP BGNE Curncy Ask Open', 'EURGBP BGNE Curncy Ask Close', 'EURGBP BGNE Curncy Ask High', 'EURGBP BGNE Curncy Ask Low', 'EURGBP BGNE Curncy Ask Number Ticks', 'AUDJPY BGNE Curncy Bid Open', 'AUDJPY BGNE Curncy Bid Close', 'AUDJPY BGNE Curncy Bid High', 'AUDJPY BGNE Curncy Bid Low', 'AUDJPY BGNE Curncy Bid Number Ticks', 'AUDJPY BGNE Curncy Ask Open', 'AUDJPY BGNE Curncy Ask Close', 'AUDJPY BGNE Curncy Ask High', 'AUDJPY BGNE Curncy Ask Low', 'AUDJPY BGNE Curncy Ask Number Ticks', 'EURAUD BGNE Curncy Bid Open', 'EURAUD BGNE Curncy Bid Close', 'EURAUD BGNE Curncy Bid High', 'EURAUD BGNE Curncy Bid Low', 'EURAUD BGNE Curncy Bid Number Ticks', 'EURAUD BGNE Curncy Ask Open', 'EURAUD BGNE Curncy Ask Close', 'EURAUD BGNE Curncy Ask High', 'EURAUD BGNE Curncy Ask Low', 'EURAUD BGNE Curncy Ask Number Ticks', 'EURCHF BGNE Curncy Bid Open', 'EURCHF BGNE Curncy Bid Close', 'EURCHF BGNE Curncy Bid High', 'EURCHF BGNE Curncy Bid Low', 'EURCHF BGNE Curncy Bid Number Ticks', 'EURCHF BGNE Curncy Ask Open', 'EURCHF BGNE Curncy Ask Close', 'EURCHF BGNE Curncy Ask High', 'EURCHF BGNE Curncy Ask Low', 'EURCHF BGNE Curncy Ask Number Ticks', 'AUDNZD BGNE Curncy Bid Open', 'AUDNZD BGNE Curncy Bid Close', 'AUDNZD BGNE Curncy Bid High', 'AUDNZD BGNE Curncy Bid Low', 'AUDNZD BGNE Curncy Bid Number Ticks', 'AUDNZD BGNE Curncy Ask Open', 'AUDNZD BGNE Curncy Ask Close', 'AUDNZD BGNE Curncy Ask High', 'AUDNZD BGNE Curncy Ask Low', 'AUDNZD BGNE Curncy Ask Number Ticks', 'NZDJPY BGNE Curncy Bid Open', 'NZDJPY BGNE Curncy Bid Close', 'NZDJPY BGNE Curncy Bid High', 'NZDJPY BGNE Curncy Bid Low', 'NZDJPY BGNE Curncy Bid Number Ticks', 'NZDJPY BGNE Curncy Ask Open', 'NZDJPY BGNE Curncy Ask Close', 'NZDJPY BGNE Curncy Ask High', 'NZDJPY BGNE Curncy Ask Low', 'NZDJPY BGNE Curncy Ask Number Ticks', 'GBPAUD BGNE Curncy Bid Open', 'GBPAUD BGNE Curncy Bid Close', 'GBPAUD BGNE Curncy Bid High', 'GBPAUD BGNE Curncy Bid Low', 'GBPAUD BGNE Curncy Bid Number Ticks', 'GBPAUD BGNE Curncy Ask Open', 'GBPAUD BGNE Curncy Ask Close', 'GBPAUD BGNE Curncy Ask High', 'GBPAUD BGNE Curncy Ask Low', 'GBPAUD BGNE Curncy Ask Number Ticks', 'GBPCAD BGNE Curncy Bid Open', 'GBPCAD BGNE Curncy Bid Close', 'GBPCAD BGNE Curncy Bid High', 'GBPCAD BGNE Curncy Bid Low', 'GBPCAD BGNE Curncy Bid Number Ticks', 'GBPCAD BGNE Curncy Ask Open', 'GBPCAD BGNE Curncy Ask Close', 'GBPCAD BGNE Curncy Ask High', 'GBPCAD BGNE Curncy Ask Low', 'GBPCAD BGNE Curncy Ask Number Ticks', 'EURNZD BGNE Curncy Bid Open', 'EURNZD BGNE Curncy Bid Close', 'EURNZD BGNE Curncy Bid High', 'EURNZD BGNE Curncy Bid Low', 'EURNZD BGNE Curncy Bid Number Ticks', 'EURNZD BGNE Curncy Ask Open', 'EURNZD BGNE Curncy Ask Close', 'EURNZD BGNE Curncy Ask High', 'EURNZD BGNE Curncy Ask Low', 'EURNZD BGNE Curncy Ask Number Ticks', 'AUDCAD BGNE Curncy Bid Open', 'AUDCAD BGNE Curncy Bid Close', 'AUDCAD BGNE Curncy Bid High', 'AUDCAD BGNE Curncy Bid Low', 'AUDCAD BGNE Curncy Bid Number Ticks', 'AUDCAD BGNE Curncy Ask Open', 'AUDCAD BGNE Curncy Ask Close', 'AUDCAD BGNE Curncy Ask High', 'AUDCAD BGNE Curncy Ask Low', 'AUDCAD BGNE Curncy Ask Number Ticks', 'GBPCHF BGNE Curncy Bid Open', 'GBPCHF BGNE Curncy Bid Close', 'GBPCHF BGNE Curncy Bid High', 'GBPCHF BGNE Curncy Bid Low', 'GBPCHF BGNE Curncy Bid Number Ticks', 'GBPCHF BGNE Curncy Ask Open', 'GBPCHF BGNE Curncy Ask Close', 'GBPCHF BGNE Curncy Ask High', 'GBPCHF BGNE Curncy Ask Low', 'GBPCHF BGNE Curncy Ask Number Ticks', 'EURUSDV1M Curncy 44278 Open', 'USDJPYV1M Curncy  Open', 'GBPUSDV1M Curncy  Open', 'AUDUSDV1M Curncy  Open', 'USDCADV1M Curncy  Open', 'USDCHFV1M Curncy  Open', 'NZDUSDV1M Curncy  Open', 'EURJPYV1M Curncy  Open', 'GBPJPYV1M Curncy  Open', 'EURGBPV1M Curncy  Open', 'AUDJPYV1M Curncy  Open', 'EURAUDV1M Curncy  Open', 'EURCHFV1M Curncy  Open', 'AUDNZDV1M Curncy  Open', 'NZDJPYV1M Curncy  Open', 'GBPAUDV1M Curncy  Open', 'GBPCADV1M Curncy  Open', 'EURNZDV1M Curncy  Open', 'AUDCADV1M Curncy  Open', 'GBPCHFV1M Curncy  Open', 'EURUSDV3M Curncy Trade Open', 'USDJPYV3M Curncy Trade Open', 'GBPUSDV3M Curncy Trade Open', 'AUDUSDV3M Curncy Trade Open', 'USDCADV3M Curncy Trade Open', 'USDCHFV3M Curncy Trade Open', 'NZDUSDV3M Curncy Trade Open', 'EURJPYV3M Curncy Trade Open', 'GBPJPYV3M Curncy Trade Open', 'EURGBPV3M Curncy Trade Open', 'AUDJPYV3M Curncy Trade Open', 'EURAUDV3M Curncy Trade Open', 'EURCHFV3M Curncy Trade Open', 'AUDNZDV3M Curncy Trade Open', 'NZDJPYV3M Curncy Trade Open', 'GBPAUDV3M Curncy Trade Open', 'GBPCADV3M Curncy Trade Open', 'EURNZDV3M Curncy Trade Open', 'AUDCADV3M Curncy Trade Open', 'GBPCHFV3M Curncy Trade Open', 'EURUSDV1Y Curncy Trade Open', 'USDJPYV1Y Curncy Trade Open', 'GBPUSDV1Y Curncy Trade Open', 'AUDUSDV1Y Curncy Trade Open', 'USDCADV1Y Curncy Trade Open', 'USDCHFV1Y Curncy Trade Open', 'NZDUSDV1Y Curncy Trade Open', 'EURJPYV1Y Curncy Trade Open', 'GBPJPYV1Y Curncy Trade Open', 'EURGBPV1Y Curncy Trade Open', 'AUDJPYV1Y Curncy Trade Open', 'EURAUDV1Y Curncy Trade Open', 'EURCHFV1Y Curncy Trade Open', 'AUDNZDV1Y Curncy Trade Open', 'NZDJPYV1Y Curncy Trade Open', 'GBPAUDV1Y Curncy Trade Open', 'GBPCADV1Y Curncy Trade Open', 'EURNZDV1Y Curncy Trade Open', 'AUDCADV1Y Curncy Trade Open', 'GBPCHFV1Y Curncy Trade Open', 'EURUSD25R1M Curncy Trade Open', 'USDJPY25R1M Curncy Trade Open', 'GBPUSD25R1M Curncy Trade Open', 'AUDUSD25R1M Curncy Trade Open', 'USDCAD25R1M Curncy Trade Open', 'USDCHF25R1M Curncy Trade Open', 'NZDUSD25R1M Curncy Trade Open', 'EURJPY25R1M Curncy Trade Open', 'GBPJPY25R1M Curncy Trade Open', 'EURGBP25R1M Curncy Trade Open', 'AUDJPY25R1M Curncy Trade Open', 'EURAUD25R1M Curncy Trade Open', 'EURCHF25R1M Curncy Trade Open', 'AUDNZD25R1M Curncy Trade Open', 'NZDJPY25R1M Curncy Trade Open', 'GBPAUD25R1M Curncy Trade Open', 'GBPCAD25R1M Curncy Trade Open', 'EURNZD25R1M Curncy Trade Open', 'AUDCAD25R1M Curncy Trade Open', 'GBPCHF25R1M Curncy Trade Open', 'EURUSD25R3M Curncy 44278 Open', 'USDJPY25R3M Curncy  Open', 'GBPUSD25R3M Curncy  Open', 'AUDUSD25R3M Curncy  Open', 'USDCAD25R3M Curncy  Open', 'USDCHF25R3M Curncy  Open', 'NZDUSD25R3M Curncy  Open', 'EURJPY25R3M Curncy  Open', 'GBPJPY25R3M Curncy  Open', 'EURGBP25R3M Curncy  Open', 'AUDJPY25R3M Curncy  Open', 'EURAUD25R3M Curncy  Open', 'EURCHF25R3M Curncy  Open', 'AUDNZD25R3M Curncy  Open', 'NZDJPY25R3M Curncy  Open', 'GBPAUD25R3M Curncy  Open', 'GBPCAD25R3M Curncy  Open', 'EURNZD25R3M Curncy  Open', 'AUDCAD25R3M Curncy  Open', 'GBPCHF25R3M Curncy  Open', 'EURUSDCR Curncy Trade Open', 'USDJPYCR Curncy Trade Open', 'GBPUSDCR Curncy Trade Open', 'AUDUSDCR Curncy Trade Open', 'USDCADCR Curncy Trade Open', 'USDCHFCR Curncy Trade Open', 'NZDUSDCR Curncy Trade Open', 'EURJPYCR Curncy Trade Open', 'GBPJPYCR Curncy Trade Open', 'EURGBPCR Curncy Trade Open', 'AUDJPYCR Curncy Trade Open', 'EURAUDCR Curncy Trade Open', 'EURCHFCR Curncy Trade Open', 'AUDNZDCR Curncy Trade Open', 'NZDJPYCR Curncy Trade Open', 'GBPAUDCR Curncy Trade Open', 'GBPCADCR Curncy Trade Open', 'EURNZDCR Curncy Trade Open', 'AUDCADCR Curncy Trade Open', 'GBPCHFCR Curncy Trade Open', 'EURUSD1M Curncy Trade Open', 'USDJPY1M Curncy Trade Open', 'GBPUSD1M Curncy Trade Open', 'AUDUSD1M Curncy Trade Open', 'USDCAD1M Curncy Trade Open', 'USDCHF1M Curncy Trade Open', 'NZDUSD1M Curncy Trade Open', 'EURJPY1M Curncy Trade Open', 'GBPJPY1M Curncy Trade Open', 'EURGBP1M Curncy Trade Open', 'AUDJPY1M Curncy Trade Open', 'EURAUD1M Curncy Trade Open', 'EURCHF1M Curncy Trade Open', 'AUDNZD1M Curncy Trade Open', 'NZDJPY1M Curncy Trade Open', 'GBPAUD1M Curncy Trade Open', 'GBPCAD1M Curncy Trade Open', 'EURNZD1M Curncy Trade Open', 'AUDCAD1M Curncy Trade Open', 'GBPCHF1M Curncy Trade Open', 'EURUSD3M Curncy Trade Open', 'USDJPY3M Curncy Trade Open', 'GBPUSD3M Curncy Trade Open', 'AUDUSD3M Curncy Trade Open', 'USDCAD3M Curncy Trade Open', 'USDCHF3M Curncy Trade Open', 'NZDUSD3M Curncy Trade Open', 'EURJPY3M Curncy Trade Open', 'GBPJPY3M Curncy Trade Open', 'EURGBP3M Curncy Trade Open', 'AUDJPY3M Curncy Trade Open', 'EURAUD3M Curncy Trade Open', 'EURCHF3M Curncy Trade Open', 'AUDNZD3M Curncy Trade Open', 'NZDJPY3M Curncy Trade Open', 'GBPAUD3M Curncy Trade Open', 'GBPCAD3M Curncy Trade Open', 'EURNZD3M Curncy Trade Open', 'AUDCAD3M Curncy Trade Open', 'GBPCHF3M Curncy Trade Open', 'CL1 Comdty Trade Open', 'CO1 Comdty Trade Open', 'HG1 Comdty Trade Open', 'UXA1 Comdty Trade Open', 'NG1 Comdty Trade Open', 'GC1 Comdty Trade Open', 'LB1 Comdty Trade Open', 'C 1 Comdty Trade Open', 'S 1 Comdty Trade Open', 'HRC1 Comdty Trade Open', 'XB1 Comdty Trade Open', 'MO1 Comdty Trade Open', 'IOE1 Comdty Trade Open', 'SCO1 Comdty Trade Open', 'SB1 Comdty Trade Open', 'W 1 Comdty Trade Open', 'HO1 Comdty Trade Open', 'KO1 Comdty Trade Open', 'BO1 Comdty Trade Open', 'SI1 Comdty Trade Open', 'USSW10 BGN Curncy Trade Open', 'EUSA10 BGN Curncy Trade Open', 'USSW5 BGN Curncy Trade Open', 'USSW30 BGN Curncy Trade Open', 'USSP10 BGN Curncy Trade Open', 'USSWAP10 BGN Curncy Trade Open', 'EUSA5 BGN Curncy Trade Open', 'EUSA30 BGN Curncy Trade Open', 'USSP30 BGN Curncy Trade Open', 'USSW2 BGN Curncy Trade Open', 'USSWAP5 BGN Curncy Trade Open', 'EUSA20 BGN Curncy Trade Open', 'USSP5 BGN Curncy Trade Open', 'USSW3 BGN Curncy Trade Open', 'USSWIT10 BGN Curncy Trade Open', 'JYBSC BGN Curncy Trade Open', 'JYSW10 BGN Curncy Trade Open', 'ADSWAP10 BGN Curncy Trade Open', 'PZSW5 BGN Curncy Trade Open', 'ES1 Index Trade Open', 'NQ1 Index Trade Open', 'VG1 Index Trade Open', 'GX1 Index Trade Open', 'UX1 Index Trade Open', 'NK1 Index Trade Open', 'RTY1 Index Trade Open', 'XU1 Index Trade Open', 'MES1 Index Trade Open', 'DM1 Index Trade Open', 'TP1 Index Trade Open', 'NH1 Index Trade Open', 'IH1 Index Trade Open', 'XP1 Index Trade Open', 'SP1 Index Trade Open', 'Z 1 Index Trade Open', 'TY1 Comdty Trade Open', 'RX1 Comdty Trade Open', 'JB1 Comdty Trade Open', 'US1 Comdty Trade Open', 'IK1 Comdty Trade Open', 'ED1 Comdty Trade Open', 'WN1 Comdty Trade Open', 'YM1 Comdty Trade Open', 'FV1 Comdty Trade Open', 'G 1 Comdty Trade Open', 'UB1 Comdty Trade Open', 'FF1 Comdty Trade Open', 'OE1 Comdty Trade Open', 'TU1 Comdty Trade Open', 'KE1 Comdty Trade Open', 'DU1 Comdty Trade Open', 'UXY1 Comdty Trade Open', 'CN1 Comdty Trade Open', 'KAA1 Comdty Trade Open'])\n",
    "AMZN = pd.read_csv(IBM_path, delimiter=';')\n",
    "\n",
    "# AMZN = yf.download('AMZN') for all \n",
    "df = pd.read_csv(IBM_path, delimiter=';')\n",
    "df[\"Dates\"] = pd.to_datetime(df['Dates'])\n",
    "df.set_index('Dates', inplace=True)\n",
    "df.head(10)"
   ]
  },
  {
   "cell_type": "code",
   "execution_count": 29,
   "metadata": {},
   "outputs": [
    {
     "data": {
      "text/plain": [
       "<AxesSubplot:xlabel='Dates'>"
      ]
     },
     "execution_count": 29,
     "metadata": {},
     "output_type": "execute_result"
    },
    {
     "data": {
      "image/png": "[encoded data removed]",
      "text/plain": [
       "<Figure size 432x288 with 1 Axes>"
      ]
     },
     "metadata": {
      "needs_background": "light"
     },
     "output_type": "display_data"
    }
   ],
   "source": [
    "df['EURUSD BGNE Curncy Bid Close'].plot()"
   ]
  },
  {
   "cell_type": "code",
   "execution_count": 30,
   "metadata": {},
   "outputs": [
    {
     "data": {
      "text/plain": [
       "{numpy.timedelta64(-27993000000000000,'ns'),\n",
       " numpy.timedelta64(-27906600000000000,'ns'),\n",
       " numpy.timedelta64(-25487400000000000,'ns'),\n",
       " numpy.timedelta64(-25314600000000000,'ns'),\n",
       " numpy.timedelta64(-22981800000000000,'ns'),\n",
       " numpy.timedelta64(-5097000000000000,'ns'),\n",
       " numpy.timedelta64(-4924200000000000,'ns'),\n",
       " numpy.timedelta64(-2591400000000000,'ns'),\n",
       " numpy.timedelta64(-2505000000000000,'ns'),\n",
       " numpy.timedelta64(600000000000,'ns'),\n",
       " numpy.timedelta64(2333400000000000,'ns'),\n",
       " numpy.timedelta64(2419800000000000,'ns'),\n",
       " numpy.timedelta64(2506200000000000,'ns'),\n",
       " numpy.timedelta64(2592600000000000,'ns')}"
      ]
     },
     "execution_count": 30,
     "metadata": {},
     "output_type": "execute_result"
    }
   ],
   "source": [
    "df = df.iloc[::-1, :].bfill().iloc[::-1, :]\n",
    "df.dropna(how='any', axis=0, inplace=True) # Drop all rows with NaN values\"\n",
    "set(np.diff(df.index.values))"
   ]
  },
  {
   "cell_type": "markdown",
   "metadata": {},
   "source": [
    "## Create training and test data for RNN/LSTM"
   ]
  },
  {
   "cell_type": "code",
   "execution_count": 31,
   "metadata": {},
   "outputs": [],
   "source": [
    "def ts_train_test_normalize(df,time_steps,for_periods):\n",
    "    '''\n",
    "    input: \n",
    "      data: dataframe with dates and price data\n",
    "    output:\n",
    "      X_train, y_train: data from 2020/11/2-2020/12/31\n",
    "      X_test:  data from 2021 -\n",
    "      sc:      insantiated MinMaxScaler object fit to the training data\n",
    "    '''    # create training and test set\n",
    "    target_column = 3\n",
    "    times = sorted(df.index.values)\n",
    "    last_10pct = sorted(df.index.values)[-int(0.1*len(times))] # Last 10% of series\n",
    "    last_20pct = sorted(df.index.values)[-int(0.2*len(times))] # Last 20% of series\n",
    "\n",
    "    ts_train = df[(df.index < last_20pct)]  # Training data are 80% of total data\n",
    "    ts_test = df[(df.index >= last_20pct) & (df.index < last_10pct)]\n",
    "\n",
    "    ts_train_len = len(ts_train)\n",
    "    ts_test_len = len(ts_test)\n",
    "\n",
    "    '''Normalize price columns'''\n",
    "    df = (df - df.mean()) / (df.max() - df.min())\n",
    "    df.columns[np.isnan(df).any(axis=0)]\n",
    "    \n",
    "    sc = MinMaxScaler().fit(ts_train)\n",
    "    sc_target = MinMaxScaler().fit(ts_train.iloc[:, target_column:target_column+1])\n",
    "    ts_train_scaled = sc.transform(ts_train)\n",
    "    # create training data of s samples and t time steps\n",
    "    X_train = []\n",
    "    y_train = []\n",
    "    y_train_stacked = []\n",
    "    for i in range(time_steps,ts_train_len-1): \n",
    "        X_train.append(ts_train_scaled[i-time_steps:i])\n",
    "        y_train.append(ts_train_scaled[i:i+for_periods,target_column])\n",
    "    X_train, y_train = np.array(X_train), np.array(y_train)\n",
    "\n",
    "    # Reshaping X_train for efficient modelling\n",
    "#     X_train = np.reshape(X_train, (X_train.shape[0],X_train.shape[1],1))\n",
    "\n",
    "    ts_test_scaled = sc.transform(ts_test)\n",
    "    # Preparing X_test\n",
    "    X_test = []\n",
    "    y_test = []\n",
    "    for i in range(time_steps,ts_test_len-for_periods):\n",
    "        X_test.append(ts_test_scaled[i-time_steps:i])\n",
    "        y_test.append(ts_test_scaled[i:i+for_periods,target_column])\n",
    "    \n",
    "    X_test, y_test = np.array(X_test), np.array(y_test)\n",
    "#     X_test = np.reshape(X_test, (X_test.shape[0], X_test.shape[1],1))\n",
    "\n",
    "    return X_train, y_train , X_test, y_test, sc, sc_target"
   ]
  },
  {
   "cell_type": "code",
   "execution_count": 32,
   "metadata": {},
   "outputs": [],
   "source": [
    "X_train, y_train, X_test, y_test, sc, sc_target = ts_train_test_normalize(df,5,2)"
   ]
  },
  {
   "cell_type": "code",
   "execution_count": 37,
   "metadata": {},
   "outputs": [
    {
     "name": "stdout",
     "output_type": "stream",
     "text": [
      "Epoch 1/10\n",
      "133/133 [==============================] - 2s 7ms/step - loss: 0.0329\n",
      "Epoch 2/10\n",
      "133/133 [==============================] - 1s 7ms/step - loss: 0.0079\n",
      "Epoch 3/10\n",
      "133/133 [==============================] - 1s 6ms/step - loss: 0.0056\n",
      "Epoch 4/10\n",
      "133/133 [==============================] - 1s 7ms/step - loss: 0.0042\n",
      "Epoch 5/10\n",
      "133/133 [==============================] - 1s 6ms/step - loss: 0.0034\n",
      "Epoch 6/10\n",
      "133/133 [==============================] - 1s 6ms/step - loss: 0.0029\n",
      "Epoch 7/10\n",
      "133/133 [==============================] - 1s 6ms/step - loss: 0.0025\n",
      "Epoch 8/10\n",
      "133/133 [==============================] - 1s 6ms/step - loss: 0.0022\n",
      "Epoch 9/10\n",
      "133/133 [==============================] - 1s 6ms/step - loss: 0.0020\n",
      "Epoch 10/10\n",
      "133/133 [==============================] - 1s 6ms/step - loss: 0.0018\n"
     ]
    },
    {
     "data": {
      "text/plain": [
       "(0.40633276, <AxesSubplot:>)"
      ]
     },
     "execution_count": 37,
     "metadata": {},
     "output_type": "execute_result"
    },
    {
     "data": {
      "image/png": "[encoded data removed]",
      "text/plain": [
       "<Figure size 432x288 with 1 Axes>"
      ]
     },
     "metadata": {
      "needs_background": "light"
     },
     "output_type": "display_data"
    }
   ],
   "source": [
    "def simple_rnn_model(X_train, y_train, X_test, sc_target):\n",
    "    '''\n",
    "    create single layer rnn model trained on X_train and y_train\n",
    "    and make predictions on the X_test data\n",
    "    '''\n",
    "    # create a model\n",
    "    from tensorflow.keras.models import Sequential\n",
    "    from tensorflow.keras.layers import Dense, SimpleRNN\n",
    "\n",
    "    my_rnn_model = Sequential()\n",
    "    my_rnn_model.add(SimpleRNN(32, return_sequences=True))\n",
    "    #my_rnn_model.add(SimpleRNN(32, return_sequences=True))\n",
    "    #my_rnn_model.add(SimpleRNN(32, return_sequences=True))\n",
    "    my_rnn_model.add(SimpleRNN(32))\n",
    "    my_rnn_model.add(Dense(2)) # The time step of the output\n",
    "\n",
    "    my_rnn_model.compile(optimizer='rmsprop', loss='mean_squared_error')\n",
    "\n",
    "    # fit the RNN model\n",
    "    history = my_rnn_model.fit(X_train, y_train, epochs=10, batch_size=150, verbose=1)\n",
    "\n",
    "    # Finalizing predictions\n",
    "    rnn_predictions = my_rnn_model.predict(X_test)\n",
    "    rnn_predictions = sc_target.inverse_transform(rnn_predictions)\n",
    "    return my_rnn_model, rnn_predictions, history\n",
    "my_rnn_model, rnn_predictions, history = simple_rnn_model(X_train, y_train, X_test, sc_target)\n",
    "actual_pred_plot(rnn_predictions, y_test)"
   ]
  },
  {
   "cell_type": "markdown",
   "metadata": {},
   "source": [
    "## LSTM"
   ]
  },
  {
   "cell_type": "code",
   "execution_count": 40,
   "metadata": {},
   "outputs": [
    {
     "name": "stderr",
     "output_type": "stream",
     "text": [
      "/home/ms/github/venv/fxpred3/lib/python3.8/site-packages/tensorflow/python/keras/optimizer_v2/optimizer_v2.py:374: UserWarning: The `lr` argument is deprecated, use `learning_rate` instead.\n",
      "  warnings.warn(\n"
     ]
    },
    {
     "name": "stdout",
     "output_type": "stream",
     "text": [
      "Epoch 1/5\n",
      "133/133 [==============================] - 2s 3ms/step - loss: 0.0236\n",
      "Epoch 2/5\n",
      "133/133 [==============================] - 0s 3ms/step - loss: 0.0026\n",
      "Epoch 3/5\n",
      "133/133 [==============================] - 0s 3ms/step - loss: 0.0015\n",
      "Epoch 4/5\n",
      "133/133 [==============================] - 0s 3ms/step - loss: 0.0010\n",
      "Epoch 5/5\n",
      "133/133 [==============================] - 0s 3ms/step - loss: 7.3458e-04\n"
     ]
    },
    {
     "data": {
      "text/plain": [
       "(0.40866852, <AxesSubplot:>)"
      ]
     },
     "execution_count": 40,
     "metadata": {},
     "output_type": "execute_result"
    },
    {
     "data": {
      "image/png": "[encoded data removed]",
      "text/plain": [
       "<Figure size 432x288 with 1 Axes>"
      ]
     },
     "metadata": {
      "needs_background": "light"
     },
     "output_type": "display_data"
    }
   ],
   "source": [
    "def LSTM_model(X_train, y_train, X_test, sc):\n",
    "    # create a model\n",
    "    from tensorflow.keras.models import Sequential\n",
    "    from tensorflow.keras.layers import Dense, SimpleRNN, GRU, LSTM\n",
    "    from tensorflow.keras.optimizers import SGD\n",
    "    \n",
    "    # The LSTM architecture\n",
    "    my_LSTM_model = Sequential()\n",
    "    my_LSTM_model.add(LSTM(units=50, return_sequences=True, input_shape=X_train.shape[1:], activation='tanh'))\n",
    "    #my_LSTM_model.add(LSTM(units=50, return_sequences=True, input_shape=(X_train.shape[1],1), activation='tanh'))\n",
    "    #my_LSTM_model.add(LSTM(units=50, return_sequences=True, input_shape=(X_train.shape[1],1), activation='tanh'))\n",
    "    my_LSTM_model.add(LSTM(units=50, activation='tanh'))\n",
    "    my_LSTM_model.add(Dense(units=2))\n",
    "\n",
    "    # Compiling\n",
    "    my_LSTM_model.compile(optimizer=SGD(lr=0.01, decay=1e-7, momentum=0.9, nesterov=False),loss='mean_squared_error')\n",
    "    # Fitting to the training set\n",
    "    my_LSTM_model.fit(X_train,y_train,epochs=5,batch_size=150, verbose=1)\n",
    "\n",
    "    LSTM_prediction = my_LSTM_model.predict(X_test)\n",
    "    LSTM_prediction = sc.inverse_transform(LSTM_prediction)\n",
    "\n",
    "    return my_LSTM_model, LSTM_prediction\n",
    "\n",
    "my_LSTM_model, LSTM_prediction = LSTM_model(X_train, y_train, X_test, sc_target)\n",
    "actual_pred_plot(LSTM_prediction, y_test)"
   ]
  },
  {
   "cell_type": "code",
   "execution_count": 25,
   "metadata": {},
   "outputs": [
    {
     "data": {
      "text/plain": [
       "<AxesSubplot:>"
      ]
     },
     "execution_count": 25,
     "metadata": {},
     "output_type": "execute_result"
    },
    {
     "data": {
      "image/png": "[encoded data removed]",
      "text/plain": [
       "<Figure size 432x288 with 1 Axes>"
      ]
     },
     "metadata": {
      "needs_background": "light"
     },
     "output_type": "display_data"
    }
   ],
   "source": []
  },
  {
   "cell_type": "markdown",
   "metadata": {},
   "source": [
    "## LSTM Regularization\n",
    "!!!Q: how is the "
   ]
  },
  {
   "cell_type": "code",
   "execution_count": 45,
   "metadata": {},
   "outputs": [
    {
     "name": "stderr",
     "output_type": "stream",
     "text": [
      "/home/ms/github/venv/fxpred3/lib/python3.8/site-packages/tensorflow/python/keras/optimizer_v2/optimizer_v2.py:374: UserWarning: The `lr` argument is deprecated, use `learning_rate` instead.\n",
      "  warnings.warn(\n"
     ]
    },
    {
     "name": "stdout",
     "output_type": "stream",
     "text": [
      "Epoch 1/5\n",
      "133/133 [==============================] - 2s 3ms/step - loss: 0.0345\n",
      "Epoch 2/5\n",
      "133/133 [==============================] - 0s 3ms/step - loss: 0.0055\n",
      "Epoch 3/5\n",
      "133/133 [==============================] - 0s 3ms/step - loss: 0.0037\n",
      "Epoch 4/5\n",
      "133/133 [==============================] - 0s 3ms/step - loss: 0.0029\n",
      "Epoch 5/5\n",
      "133/133 [==============================] - 0s 4ms/step - loss: 0.0024\n"
     ]
    },
    {
     "data": {
      "text/plain": [
       "(0.4073032, <AxesSubplot:>)"
      ]
     },
     "execution_count": 45,
     "metadata": {},
     "output_type": "execute_result"
    },
    {
     "data": {
      "image/png": "[encoded data removed]",
      "text/plain": [
       "<Figure size 432x288 with 1 Axes>"
      ]
     },
     "metadata": {
      "needs_background": "light"
     },
     "output_type": "display_data"
    }
   ],
   "source": [
    "def LSTM_model_regularization(X_train, y_train, X_test, sc):\n",
    "    # create a model\n",
    "    from tensorflow.keras.models import Sequential\n",
    "    from tensorflow.keras.layers import Dense, SimpleRNN, GRU, LSTM, Dropout\n",
    "    from tensorflow.keras.optimizers import SGD\n",
    "    \n",
    "    # The LSTM architecture\n",
    "    my_LSTM_model = Sequential()\n",
    "    my_LSTM_model.add(LSTM(units=50, return_sequences=True, input_shape=X_train.shape[1:], activation='tanh'))\n",
    "    #my_LSTM_model.add(LSTM(units=50, return_sequences=True, input_shape=(X_train.shape[1],1), activation='tanh'))\n",
    "    #my_LSTM_model.add(LSTM(units=50, return_sequences=True, input_shape=(X_train.shape[1],1), activation='tanh'))\n",
    "    my_LSTM_model.add(LSTM(units=50, activation='tanh'))\n",
    "    my_LSTM_model.add(Dropout(0.2))\n",
    "    my_LSTM_model.add(Dense(units=2))\n",
    "\n",
    "    # Compiling\n",
    "    my_LSTM_model.compile(optimizer=SGD(lr=0.01, decay=1e-7, momentum=0.9, nesterov=False),loss='mean_squared_error')\n",
    "    # Fitting to the training set\n",
    "    my_LSTM_model.fit(X_train,y_train,epochs=5,batch_size=150, verbose=1)\n",
    "\n",
    "    LSTM_prediction = my_LSTM_model.predict(X_test)\n",
    "    LSTM_prediction = sc.inverse_transform(LSTM_prediction)\n",
    "\n",
    "    return my_LSTM_model, LSTM_prediction\n",
    "\n",
    "my_LSTM_model, LSTM_prediction = LSTM_model_regularization(X_train, y_train, X_test, sc_target)\n",
    "LSTM_prediction[1:10]\n",
    "actual_pred_plot(LSTM_prediction, y_test)"
   ]
  },
  {
   "cell_type": "markdown",
   "metadata": {},
   "source": [
    "## ARIMA"
   ]
  },
  {
   "cell_type": "code",
   "execution_count": 67,
   "metadata": {},
   "outputs": [],
   "source": [
    "from statsmodels.graphics.tsaplots import plot_pacf, plot_acf\n",
    "from statsmodels.tsa.arima_process import ArmaProcess\n",
    "from statsmodels.tsa.stattools import pacf\n",
    "from statsmodels.regression.linear_model import yule_walker\n",
    "#from statsmodels.tsa.stattools import adfuller\n",
    "import matplotlib.pyplot as plt\n",
    "import numpy as np\n",
    "import statsmodels.api as sm"
   ]
  },
  {
   "cell_type": "code",
   "execution_count": 91,
   "metadata": {},
   "outputs": [
    {
     "data": {
      "image/png": "[encoded data removed]",
      "text/plain": [
       "<Figure size 432x288 with 1 Axes>"
      ]
     },
     "metadata": {
      "needs_background": "light"
     },
     "output_type": "display_data"
    },
    {
     "data": {
      "image/png": "[encoded data removed]",
      "text/plain": [
       "<Figure size 432x288 with 1 Axes>"
      ]
     },
     "metadata": {
      "needs_background": "light"
     },
     "output_type": "display_data"
    }
   ],
   "source": [
    "plot_acf(X_train[:, 0, 3], lags=5000)  # ACF\n",
    "plot_pacf(X_train[:, 0, 3])\n",
    "plt.show()"
   ]
  },
  {
   "cell_type": "code",
   "execution_count": 113,
   "metadata": {},
   "outputs": [
    {
     "name": "stdout",
     "output_type": "stream",
     "text": [
      "                               SARIMAX Results                                \n",
      "==============================================================================\n",
      "Dep. Variable:                      y   No. Observations:                19924\n",
      "Model:                 ARIMA(2, 0, 0)   Log Likelihood              107149.544\n",
      "Date:                Mon, 16 Aug 2021   AIC                        -214273.087\n",
      "Time:                        02:02:46   BIC                        -214170.391\n",
      "Sample:                             0   HQIC                       -214239.482\n",
      "                              - 19924                                         \n",
      "Covariance Type:                  opg                                         \n",
      "==============================================================================\n",
      "                 coef    std err          z      P>|z|      [0.025      0.975]\n",
      "------------------------------------------------------------------------------\n",
      "const          0.0186   8.61e-05    216.232      0.000       0.018       0.019\n",
      "x1             0.1145      0.001    113.640      0.000       0.113       0.117\n",
      "x2            -0.0852      0.001    -71.238      0.000      -0.088      -0.083\n",
      "x3             0.8647      0.002    391.770      0.000       0.860       0.869\n",
      "x4            -0.0002   3.16e-05     -7.413      0.000      -0.000      -0.000\n",
      "x5            -0.0610      0.001    -55.702      0.000      -0.063      -0.059\n",
      "x6             0.2531      0.001    236.454      0.000       0.251       0.255\n",
      "x7            -0.9366      0.001  -1465.309      0.000      -0.938      -0.935\n",
      "x8             0.8271      0.002    393.453      0.000       0.823       0.831\n",
      "x9            -0.0002   3.16e-05     -7.413      0.000      -0.000      -0.000\n",
      "ar.L1          0.3853      0.002    246.692      0.000       0.382       0.388\n",
      "ar.L2          0.3556      0.002    234.235      0.000       0.353       0.359\n",
      "sigma2      1.241e-06    3.2e-09    387.994      0.000    1.24e-06    1.25e-06\n",
      "===================================================================================\n",
      "Ljung-Box (L1) (Q):                 187.10   Jarque-Bera (JB):           7538302.12\n",
      "Prob(Q):                              0.00   Prob(JB):                         0.00\n",
      "Heteroskedasticity (H):               1.31   Skew:                            -1.48\n",
      "Prob(H) (two-sided):                  0.00   Kurtosis:                        98.25\n",
      "===================================================================================\n",
      "\n",
      "Warnings:\n",
      "[1] Covariance matrix calculated using the outer product of gradients (complex-step).\n",
      "[2] Covariance matrix is singular or near-singular, with condition number 5.84e+17. Standard errors may be unstable.\n"
     ]
    }
   ],
   "source": [
    "mod = sm.tsa.arima.ARIMA(\n",
    "    X_train[:,0, 3],\n",
    "    exog=X_train[:,0, [i for i in range(min(10, X_train.shape[2])) if i !=3]],\n",
    "    order=(2, 0, 0)\n",
    ")\n",
    "mod_fit = mod.fit()\n",
    "print(mod_fit.summary())"
   ]
  },
  {
   "cell_type": "code",
   "execution_count": 144,
   "metadata": {},
   "outputs": [
    {
     "name": "stdout",
     "output_type": "stream",
     "text": [
      "                               SARIMAX Results                                \n",
      "==============================================================================\n",
      "Dep. Variable:                      y   No. Observations:                 2484\n",
      "Model:                 ARIMA(2, 0, 0)   Log Likelihood               13518.454\n",
      "Date:                Mon, 16 Aug 2021   AIC                         -27036.908\n",
      "Time:                        02:15:26   BIC                         -27036.908\n",
      "Sample:                             0   HQIC                        -27036.908\n",
      "                               - 2484                                         \n",
      "Covariance Type:                  opg                                         \n",
      "==================================================================================\n",
      "                     coef    std err          z      P>|z|      [0.025      0.975]\n",
      "----------------------------------------------------------------------------------\n",
      "const (fixed)      0.0186        nan        nan        nan         nan         nan\n",
      "x1 (fixed)         0.1145        nan        nan        nan         nan         nan\n",
      "x2 (fixed)        -0.0852        nan        nan        nan         nan         nan\n",
      "x3 (fixed)         0.8647        nan        nan        nan         nan         nan\n",
      "x4 (fixed)        -0.0002        nan        nan        nan         nan         nan\n",
      "x5 (fixed)        -0.0610        nan        nan        nan         nan         nan\n",
      "x6 (fixed)         0.2531        nan        nan        nan         nan         nan\n",
      "x7 (fixed)        -0.9366        nan        nan        nan         nan         nan\n",
      "x8 (fixed)         0.8271        nan        nan        nan         nan         nan\n",
      "x9 (fixed)        -0.0002        nan        nan        nan         nan         nan\n",
      "ar.L1 (fixed)      0.3853        nan        nan        nan         nan         nan\n",
      "ar.L2 (fixed)      0.3556        nan        nan        nan         nan         nan\n",
      "sigma2 (fixed)  1.241e-06        nan        nan        nan         nan         nan\n",
      "===================================================================================\n",
      "Ljung-Box (L1) (Q):                   1.19   Jarque-Bera (JB):            180086.89\n",
      "Prob(Q):                              0.28   Prob(JB):                         0.00\n",
      "Heteroskedasticity (H):               1.34   Skew:                            -1.52\n",
      "Prob(H) (two-sided):                  0.00   Kurtosis:                        44.60\n",
      "===================================================================================\n",
      "\n",
      "Warnings:\n",
      "[1] Covariance matrix calculated using the outer product of gradients (complex-step).\n"
     ]
    }
   ],
   "source": [
    "mod2 = sm.tsa.arima.ARIMA(\n",
    "    X_test[:, 0, 3],\n",
    "    exog=X_test[:,0, [i for i in range(min(10, X_test.shape[2])) if i !=3]],\n",
    "    order=(2, 0, 0)\n",
    ")\n",
    "with mod2.fix_params(dict(zip(mod_fit.param_names, mod_fit.params))):\n",
    "    mod2_fit = mod2.fit()\n",
    "print(mod2_fit.summary())"
   ]
  },
  {
   "cell_type": "code",
   "execution_count": 159,
   "metadata": {},
   "outputs": [
    {
     "data": {
      "text/plain": [
       "(1.0885198e-06, <AxesSubplot:>)"
      ]
     },
     "execution_count": 159,
     "metadata": {},
     "output_type": "execute_result"
    },
    {
     "data": {
      "image/png": "[encoded data removed]",
      "text/plain": [
       "<Figure size 432x288 with 1 Axes>"
      ]
     },
     "metadata": {
      "needs_background": "light"
     },
     "output_type": "display_data"
    }
   ],
   "source": [
    "actual_pred_plot(mod2_fit.predict().reshape([-1,1]), X_test[:, 0, 3:4])"
   ]
  },
  {
   "cell_type": "code",
   "execution_count": null,
   "metadata": {},
   "outputs": [],
   "source": []
  }
 ],
 "metadata": {
  "kernelspec": {
   "display_name": "fxpred3",
   "language": "python",
   "name": "fxpred3"
  },
  "language_info": {
   "codemirror_mode": {
    "name": "ipython",
    "version": 3
   },
   "file_extension": ".py",
   "mimetype": "text/x-python",
   "name": "python",
   "nbconvert_exporter": "python",
   "pygments_lexer": "ipython3",
   "version": "3.8.10"
  }
 },
 "nbformat": 4,
 "nbformat_minor": 4
}
