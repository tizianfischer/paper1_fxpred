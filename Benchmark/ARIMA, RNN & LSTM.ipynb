{
 "cells": [
  {
   "cell_type": "markdown",
   "metadata": {},
   "source": [
    "## Benchmark: ARIMA, RNN & LSTM"
   ]
  },
  {
   "cell_type": "code",
   "execution_count": 2,
   "metadata": {},
   "outputs": [],
   "source": [
    "import matplotlib.pyplot as plt\n",
    "import numpy as np\n",
    "from sklearn.model_selection import train_test_split\n",
    "from sklearn.preprocessing import MinMaxScaler\n",
    "%matplotlib inline\n",
    "\n",
    "import sys\n",
    "sys.path.append('../Transformer')\n",
    "from utils import data_read_dict, data_read_concat, data_merge\n"
   ]
  },
  {
   "cell_type": "markdown",
   "metadata": {},
   "source": [
    "Functions"
   ]
  },
  {
   "cell_type": "code",
   "execution_count": 3,
   "metadata": {},
   "outputs": [],
   "source": [
    "def actual_pred_plot(preds, y_test):\n",
    "    '''\n",
    "    Plot the actual vs. prediction\n",
    "    '''\n",
    "    actual_pred = pd.DataFrame(columns = ['Adj. Close', 'prediction'])\n",
    "    actual_pred['prediction'] = preds[:,0]\n",
    "    actual_pred['Adj. Close'] = y_test[:,0]  #.loc['2019':,'Adj Close'][0:len(preds)]\n",
    "\n",
    "    from tensorflow.keras.metrics import MeanSquaredError\n",
    "    m = MeanSquaredError()\n",
    "    m.update_state(np.array(actual_pred['Adj. Close']),np.array(actual_pred['prediction']))\n",
    "    return (m.result().numpy(), actual_pred.plot() )"
   ]
  },
  {
   "cell_type": "markdown",
   "metadata": {},
   "source": [
    "### Data"
   ]
  },
  {
   "cell_type": "code",
   "execution_count": 4,
   "metadata": {},
   "outputs": [
    {
     "data": {
      "text/plain": [
       "{numpy.timedelta64(600000000000,'ns')}"
      ]
     },
     "execution_count": 4,
     "metadata": {},
     "output_type": "execute_result"
    }
   ],
   "source": [
    "import pandas as pd\n",
    "\n",
    "\n",
    "FXSpot_path = '../data/10min Dataset Spot.csv'\n",
    "\n",
    "df = pd.read_csv(FXSpot_path, delimiter=';')\n",
    "\n",
    "df.replace(to_replace=0, method='ffill', inplace=True) # Replace 0 to avoid dividing by 0 later on\n",
    "df['Dates'] = pd.to_datetime(df['Dates'], format='%d.%m.%y %H:%M')\n",
    "df.sort_values('Dates', inplace=True)\n",
    "df.index = df['Dates']\n",
    "'''Calculate percentage change for FX Spot Rates'''\n",
    "df = df.set_index('Dates')\n",
    "df = df.pct_change()\n",
    "'''==============='''\n",
    "FX_Fundamentals_path = '../data/10min Dataset Rest.csv'\n",
    "\n",
    "df2 = pd.read_csv(FX_Fundamentals_path, delimiter=';')\n",
    "\n",
    "df2.replace(to_replace=0, method='ffill', inplace=True) # Replace 0 to avoid dividing by 0 later on\n",
    "df2.drop('UXA1 Comdty Trade Open', axis=1, inplace=True)\n",
    "df2['Dates'] = pd.to_datetime(df2['Dates'], format='%d.%m.%y %H:%M')\n",
    "df2.sort_values('Dates', inplace=True)\n",
    "df2.sort_values('Dates')\n",
    "df2.index = df2['Dates']\n",
    "df_metrics = data_merge(data_read_dict('../data/bbg/'))\n",
    "df_metrics.shape\n",
    "df_metrics\n",
    "\n",
    "df3 = pd.merge(df, df2, left_index=True, right_index=True)\n",
    "df3['Dates'] = pd.to_datetime(df3['Dates'], format='%d.%m.%y %H:%M')\n",
    "df3.index = df3['Dates']\n",
    "\n",
    "df_merged = pd.merge(df3, df_metrics, left_index=True, right_index=True, how='outer')\n",
    "df_merged = df_merged.loc[df_merged.index <= max(df3.Dates),:]\n",
    "df = df_merged[:]\n",
    "df = df.set_index('Dates')\n",
    "\n",
    "df = df.asfreq('600S')\n",
    "df.ffill(inplace=True)\n",
    "df.dropna(how='any', axis=0, inplace=True) # Drop all rows with NaN values\"\n",
    "set(np.diff(df.index.values))"
   ]
  },
  {
   "cell_type": "code",
   "execution_count": 5,
   "metadata": {},
   "outputs": [
    {
     "data": {
      "text/plain": [
       "<AxesSubplot:xlabel='Dates'>"
      ]
     },
     "execution_count": 5,
     "metadata": {},
     "output_type": "execute_result"
    },
    {
     "data": {
      "image/png": "[encoded data removed]",
      "text/plain": [
       "<Figure size 432x288 with 1 Axes>"
      ]
     },
     "metadata": {
      "needs_background": "light"
     },
     "output_type": "display_data"
    }
   ],
   "source": [
    "df['EURUSD BGNE Curncy Bid Close'].plot()"
   ]
  },
  {
   "cell_type": "markdown",
   "metadata": {},
   "source": [
    "## Create training and test data for RNN/LSTM"
   ]
  },
  {
   "cell_type": "code",
   "execution_count": 6,
   "metadata": {},
   "outputs": [],
   "source": [
    "def ts_train_test_normalize(df,time_steps,for_periods):\n",
    "    '''\n",
    "    input: \n",
    "      data: dataframe with dates and price data\n",
    "    output:\n",
    "      X_train, y_train: data from 2020/11/2-2020/12/31\n",
    "      X_test:  data from 2021 -\n",
    "      sc:      insantiated MinMaxScaler object fit to the training data\n",
    "    '''    # create training and test set\n",
    "    target_column = 3\n",
    "    times = sorted(df.index.values)\n",
    "    last_10pct = sorted(df.index.values)[-int(0.1*len(times))] # Last 10% of series\n",
    "    last_20pct = sorted(df.index.values)[-int(0.2*len(times))] # Last 20% of series\n",
    "\n",
    "    ts_train = df[(df.index < last_20pct)]  # Training data are 80% of total data\n",
    "    ts_test = df[(df.index >= last_20pct) & (df.index < last_10pct)]\n",
    "\n",
    "    ts_train_len = len(ts_train)\n",
    "    ts_test_len = len(ts_test)\n",
    "\n",
    "    '''Normalize price columns'''\n",
    "    df = (df - df.mean()) / (df.max() - df.min())\n",
    "    df.columns[np.isnan(df).any(axis=0)]\n",
    "    \n",
    "    sc = MinMaxScaler().fit(ts_train)\n",
    "    sc_target = MinMaxScaler().fit(ts_train.iloc[:, target_column:target_column+1])\n",
    "    ts_train_scaled = sc.transform(ts_train)\n",
    "    # create training data of s samples and t time steps\n",
    "    X_train = []\n",
    "    y_train = []\n",
    "    y_train_stacked = []\n",
    "    for i in range(time_steps,ts_train_len-1): \n",
    "        X_train.append(ts_train_scaled[i-time_steps:i])\n",
    "        y_train.append(ts_train_scaled[i:i+for_periods,target_column])\n",
    "    X_train, y_train = np.array(X_train), np.array(y_train)\n",
    "\n",
    "    # Reshaping X_train for efficient modelling\n",
    "#     X_train = np.reshape(X_train, (X_train.shape[0],X_train.shape[1],1))\n",
    "\n",
    "    ts_test_scaled = sc.transform(ts_test)\n",
    "    # Preparing X_test\n",
    "    X_test = []\n",
    "    y_test = []\n",
    "    for i in range(time_steps,ts_test_len-for_periods):\n",
    "        X_test.append(ts_test_scaled[i-time_steps:i])\n",
    "        y_test.append(ts_test_scaled[i:i+for_periods,target_column])\n",
    "    \n",
    "    X_test, y_test = np.array(X_test), np.array(y_test)\n",
    "#     X_test = np.reshape(X_test, (X_test.shape[0], X_test.shape[1],1))\n",
    "\n",
    "    return X_train, y_train , X_test, y_test, sc, sc_target"
   ]
  },
  {
   "cell_type": "code",
   "execution_count": 27,
   "metadata": {},
   "outputs": [],
   "source": [
    "X_train, y_train, X_test, y_test, sc, sc_target = ts_train_test_normalize(df,5,1)"
   ]
  },
  {
   "cell_type": "code",
   "execution_count": 37,
   "metadata": {},
   "outputs": [
    {
     "name": "stdout",
     "output_type": "stream",
     "text": [
      "Epoch 1/10\n",
      "212/212 [==============================] - 12s 34ms/step - loss: 0.1904\n",
      "Epoch 2/10\n",
      "212/212 [==============================] - 7s 34ms/step - loss: 0.0591\n",
      "Epoch 3/10\n",
      "212/212 [==============================] - 7s 33ms/step - loss: 0.0447\n",
      "Epoch 4/10\n",
      "212/212 [==============================] - 7s 33ms/step - loss: 0.0343\n",
      "Epoch 5/10\n",
      "212/212 [==============================] - 6s 30ms/step - loss: 0.0315\n",
      "Epoch 6/10\n",
      "212/212 [==============================] - 7s 32ms/step - loss: 0.0284\n",
      "Epoch 7/10\n",
      "212/212 [==============================] - 8s 36ms/step - loss: 0.0265\n",
      "Epoch 8/10\n",
      "212/212 [==============================] - 8s 37ms/step - loss: 0.0271\n",
      "Epoch 9/10\n",
      "212/212 [==============================] - 8s 38ms/step - loss: 0.0255\n",
      "Epoch 10/10\n",
      "212/212 [==============================] - 8s 36ms/step - loss: 0.0239\n"
     ]
    },
    {
     "data": {
      "text/plain": [
       "(0.0011100968, <AxesSubplot:>)"
      ]
     },
     "execution_count": 37,
     "metadata": {},
     "output_type": "execute_result"
    },
    {
     "data": {
      "image/png": "[encoded data removed]",
      "text/plain": [
       "<Figure size 432x288 with 1 Axes>"
      ]
     },
     "metadata": {
      "needs_background": "light"
     },
     "output_type": "display_data"
    }
   ],
   "source": [
    "from tensorflow.keras.layers import LayerNormalization\n",
    "def simple_rnn_model(X_train, y_train, X_test, sc_target):\n",
    "    '''\n",
    "    create single layer rnn model trained on X_train and y_train\n",
    "    and make predictions on the X_test data\n",
    "    '''\n",
    "    # create a model\n",
    "    from tensorflow.keras.models import Sequential\n",
    "    from tensorflow.keras.layers import Dense, SimpleRNN\n",
    "\n",
    "    dr = 0\n",
    "    my_rnn_model = Sequential()\n",
    "    my_rnn_model.add(SimpleRNN(128, return_sequences=True, activation='ReLU', dropout=dr))\n",
    "    my_rnn_model.add(LayerNormalization(epsilon=1e-6))\n",
    "    my_rnn_model.add(SimpleRNN(128, return_sequences=True, activation='ReLU', dropout=dr))\n",
    "    my_rnn_model.add(LayerNormalization(epsilon=1e-6))\n",
    "    my_rnn_model.add(SimpleRNN(128, return_sequences=True, activation='ReLU', dropout=dr))\n",
    "    my_rnn_model.add(LayerNormalization(epsilon=1e-6))\n",
    "    my_rnn_model.add(SimpleRNN(128, return_sequences=True, activation='ReLU', dropout=dr))\n",
    "    my_rnn_model.add(LayerNormalization(epsilon=1e-6))\n",
    "    my_rnn_model.add(SimpleRNN(128, return_sequences=True, activation='ReLU', dropout=dr))\n",
    "    my_rnn_model.add(LayerNormalization(epsilon=1e-6))\n",
    "    my_rnn_model.add(SimpleRNN(128, return_sequences=True, activation='ReLU', dropout=dr))\n",
    "    my_rnn_model.add(LayerNormalization(epsilon=1e-6))\n",
    "    my_rnn_model.add(SimpleRNN(64, activation='ReLU'))\n",
    "    my_rnn_model.add(Dense(32, activation='ReLU'))\n",
    "    my_rnn_model.add(Dense(y_train.shape[1])) # The time step of the output\n",
    "\n",
    "#     my_rnn_model.compile(optimizer='rmsprop', loss='mean_squared_error')\n",
    "    my_rnn_model.compile(optimizer='rmsprop', loss='mean_absolute_error')\n",
    "\n",
    "    # fit the RNN model\n",
    "    history = my_rnn_model.fit(X_train, y_train, epochs=10, batch_size=150, verbose=1)\n",
    "\n",
    "    # Finalizing predictions\n",
    "    rnn_predictions = my_rnn_model.predict(X_test)\n",
    "#     rnn_predictions = sc_target.inverse_transform(rnn_predictions)\n",
    "    return my_rnn_model, rnn_predictions, history\n",
    "my_rnn_model, rnn_predictions, history = simple_rnn_model(X_train, y_train, X_test, sc_target)\n",
    "actual_pred_plot(rnn_predictions, y_test)"
   ]
  },
  {
   "cell_type": "code",
   "execution_count": 38,
   "metadata": {},
   "outputs": [
    {
     "name": "stdout",
     "output_type": "stream",
     "text": [
      "Model: \"sequential_12\"\n",
      "_________________________________________________________________\n",
      "Layer (type)                 Output Shape              Param #   \n",
      "=================================================================\n",
      "simple_rnn_42 (SimpleRNN)    (None, 5, 128)            179456    \n",
      "_________________________________________________________________\n",
      "layer_normalization_16 (Laye (None, 5, 128)            256       \n",
      "_________________________________________________________________\n",
      "simple_rnn_43 (SimpleRNN)    (None, 5, 128)            32896     \n",
      "_________________________________________________________________\n",
      "layer_normalization_17 (Laye (None, 5, 128)            256       \n",
      "_________________________________________________________________\n",
      "simple_rnn_44 (SimpleRNN)    (None, 5, 128)            32896     \n",
      "_________________________________________________________________\n",
      "layer_normalization_18 (Laye (None, 5, 128)            256       \n",
      "_________________________________________________________________\n",
      "simple_rnn_45 (SimpleRNN)    (None, 5, 128)            32896     \n",
      "_________________________________________________________________\n",
      "layer_normalization_19 (Laye (None, 5, 128)            256       \n",
      "_________________________________________________________________\n",
      "simple_rnn_46 (SimpleRNN)    (None, 5, 128)            32896     \n",
      "_________________________________________________________________\n",
      "layer_normalization_20 (Laye (None, 5, 128)            256       \n",
      "_________________________________________________________________\n",
      "simple_rnn_47 (SimpleRNN)    (None, 5, 128)            32896     \n",
      "_________________________________________________________________\n",
      "layer_normalization_21 (Laye (None, 5, 128)            256       \n",
      "_________________________________________________________________\n",
      "simple_rnn_48 (SimpleRNN)    (None, 64)                12352     \n",
      "_________________________________________________________________\n",
      "dense_11 (Dense)             (None, 32)                2080      \n",
      "_________________________________________________________________\n",
      "dense_12 (Dense)             (None, 1)                 33        \n",
      "=================================================================\n",
      "Total params: 359,937\n",
      "Trainable params: 359,937\n",
      "Non-trainable params: 0\n",
      "_________________________________________________________________\n",
      "(3963, 1) (3963, 1)\n"
     ]
    }
   ],
   "source": [
    "my_rnn_model.summary()\n",
    "# actual_pred_plot(rnn_predictions, y_test)\n",
    "y_test\n",
    "print(rnn_predictions.shape, y_test.shape)"
   ]
  },
  {
   "cell_type": "code",
   "execution_count": 19,
   "metadata": {},
   "outputs": [
    {
     "data": {
      "text/plain": [
       "(0.0009671505, <AxesSubplot:>)"
      ]
     },
     "execution_count": 19,
     "metadata": {},
     "output_type": "execute_result"
    },
    {
     "data": {
      "image/png": "[encoded data removed]",
      "text/plain": [
       "<Figure size 432x288 with 1 Axes>"
      ]
     },
     "metadata": {
      "needs_background": "light"
     },
     "output_type": "display_data"
    }
   ],
   "source": [
    "actual_pred_plot(my_rnn_model.predict(X_test), y_test)"
   ]
  },
  {
   "cell_type": "markdown",
   "metadata": {},
   "source": [
    "## LSTM"
   ]
  },
  {
   "cell_type": "code",
   "execution_count": null,
   "metadata": {},
   "outputs": [],
   "source": [
    "def LSTM_model(X_train, y_train, X_test, sc):\n",
    "    # create a model\n",
    "    from tensorflow.keras.models import Sequential\n",
    "    from tensorflow.keras.layers import Dense, SimpleRNN, GRU, LSTM\n",
    "    from tensorflow.keras.optimizers import SGD\n",
    "    \n",
    "    # The LSTM architecture\n",
    "    my_LSTM_model = Sequential()\n",
    "    my_LSTM_model.add(LSTM(units=50, return_sequences=True, input_shape=X_train.shape[1:], activation='tanh'))\n",
    "    #my_LSTM_model.add(LSTM(units=50, return_sequences=True, input_shape=(X_train.shape[1],1), activation='tanh'))\n",
    "    #my_LSTM_model.add(LSTM(units=50, return_sequences=True, input_shape=(X_train.shape[1],1), activation='tanh'))\n",
    "    my_LSTM_model.add(LSTM(units=50, activation='tanh'))\n",
    "    my_LSTM_model.add(Dense(units=2))\n",
    "\n",
    "    # Compiling\n",
    "    my_LSTM_model.compile(optimizer=SGD(lr=0.01, decay=1e-7, momentum=0.9, nesterov=False),loss='mean_squared_error')\n",
    "    # Fitting to the training set\n",
    "    my_LSTM_model.fit(X_train,y_train,epochs=5,batch_size=150, verbose=1)\n",
    "\n",
    "    LSTM_prediction = my_LSTM_model.predict(X_test)\n",
    "    LSTM_prediction = sc.inverse_transform(LSTM_prediction)\n",
    "\n",
    "    return my_LSTM_model, LSTM_prediction\n",
    "\n",
    "my_LSTM_model, LSTM_prediction = LSTM_model(X_train, y_train, X_test, sc_target)\n",
    "actual_pred_plot(LSTM_prediction, y_test)"
   ]
  },
  {
   "cell_type": "code",
   "execution_count": null,
   "metadata": {},
   "outputs": [],
   "source": []
  },
  {
   "cell_type": "markdown",
   "metadata": {},
   "source": [
    "## LSTM Regularization\n",
    "!!!Q: how is the "
   ]
  },
  {
   "cell_type": "code",
   "execution_count": null,
   "metadata": {},
   "outputs": [],
   "source": [
    "def LSTM_model_regularization(X_train, y_train, X_test, sc):\n",
    "    # create a model\n",
    "    from tensorflow.keras.models import Sequential\n",
    "    from tensorflow.keras.layers import Dense, SimpleRNN, GRU, LSTM, Dropout\n",
    "    from tensorflow.keras.optimizers import SGD\n",
    "    \n",
    "    # The LSTM architecture\n",
    "    my_LSTM_model = Sequential()\n",
    "    my_LSTM_model.add(LSTM(units=50, return_sequences=True, input_shape=X_train.shape[1:], activation='tanh'))\n",
    "    #my_LSTM_model.add(LSTM(units=50, return_sequences=True, input_shape=(X_train.shape[1],1), activation='tanh'))\n",
    "    #my_LSTM_model.add(LSTM(units=50, return_sequences=True, input_shape=(X_train.shape[1],1), activation='tanh'))\n",
    "    my_LSTM_model.add(LSTM(units=50, activation='tanh'))\n",
    "    my_LSTM_model.add(Dropout(0.2))\n",
    "    my_LSTM_model.add(Dense(units=2))\n",
    "\n",
    "    # Compiling\n",
    "    my_LSTM_model.compile(optimizer=SGD(lr=0.01, decay=1e-7, momentum=0.9, nesterov=False),loss='mean_squared_error')\n",
    "    # Fitting to the training set\n",
    "    my_LSTM_model.fit(X_train,y_train,epochs=5,batch_size=150, verbose=1)\n",
    "\n",
    "    LSTM_prediction = my_LSTM_model.predict(X_test)\n",
    "    LSTM_prediction = sc.inverse_transform(LSTM_prediction)\n",
    "\n",
    "    return my_LSTM_model, LSTM_prediction\n",
    "\n",
    "my_LSTM_model, LSTM_prediction = LSTM_model_regularization(X_train, y_train, X_test, sc_target)\n",
    "LSTM_prediction[1:10]\n",
    "actual_pred_plot(LSTM_prediction, y_test)"
   ]
  },
  {
   "cell_type": "code",
   "execution_count": null,
   "metadata": {},
   "outputs": [],
   "source": []
  }
 ],
 "metadata": {
  "kernelspec": {
   "display_name": "fxpred3",
   "language": "python",
   "name": "fxpred3"
  },
  "language_info": {
   "codemirror_mode": {
    "name": "ipython",
    "version": 3
   },
   "file_extension": ".py",
   "mimetype": "text/x-python",
   "name": "python",
   "nbconvert_exporter": "python",
   "pygments_lexer": "ipython3",
   "version": "3.8.10"
  }
 },
 "nbformat": 4,
 "nbformat_minor": 4
}
