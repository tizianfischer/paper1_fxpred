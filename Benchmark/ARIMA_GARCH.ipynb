{
 "cells": [
  {
   "cell_type": "markdown",
   "metadata": {},
   "source": [
    "## Benchmark: ARIMA"
   ]
  },
  {
   "cell_type": "code",
   "execution_count": 13,
   "metadata": {},
   "outputs": [],
   "source": [
    "import matplotlib.pyplot as plt\n",
    "import numpy as np\n",
    "import pandas as pd\n",
    "from sklearn.model_selection import train_test_split\n",
    "from sklearn.preprocessing import MinMaxScaler\n",
    "from sklearn.metrics import mean_squared_error, mean_absolute_error\n",
    "from tensorflow.keras.losses import MSE, MAE, MAPE\n",
    "from sklearn.preprocessing import StandardScaler\n",
    "\n",
    "%matplotlib inline\n",
    "import os\n",
    "import sys\n",
    "import platform\n",
    "if platform.node() in ['msbq']:\n",
    "    os.chdir('/home/ms/github/fxpred')\n",
    "    # os.chdir('../.')\n",
    "    sys.path.append(os.path.join(os.getcwd(), 'Transformer'))\n",
    "from utils import get_fx_and_metric_data, get_fx_and_metric_data_wo_weekend, mde"
   ]
  },
  {
   "cell_type": "markdown",
   "metadata": {},
   "source": [
    "Functions"
   ]
  },
  {
   "cell_type": "code",
   "execution_count": 14,
   "metadata": {},
   "outputs": [],
   "source": [
    "def actual_pred_plot(preds, y_test):\n",
    "    '''\n",
    "    Plot the actual vs. prediction\n",
    "    '''\n",
    "    actual_pred = pd.DataFrame(columns = ['Adj. Close', 'prediction'])\n",
    "    actual_pred['prediction'] = preds[:,0]\n",
    "    actual_pred['Adj. Close'] = y_test[:,0]  #.loc['2019':,'Adj Close'][0:len(preds)]\n",
    "\n",
    "    from tensorflow.keras.metrics import MeanSquaredError\n",
    "    m = MeanSquaredError()\n",
    "    m.update_state(np.array(actual_pred['Adj. Close']),np.array(actual_pred['prediction']))\n",
    "    return (m.result().numpy(), actual_pred.plot() )"
   ]
  },
  {
   "cell_type": "markdown",
   "metadata": {},
   "source": [
    "### Data"
   ]
  },
  {
   "cell_type": "code",
   "execution_count": 15,
   "metadata": {},
   "outputs": [
    {
     "name": "stderr",
     "output_type": "stream",
     "text": [
      "/home/ms/github/venv/fxpred3/lib/python3.8/site-packages/pandas/core/frame.py:4305: SettingWithCopyWarning: \n",
      "A value is trying to be set on a copy of a slice from a DataFrame\n",
      "\n",
      "See the caveats in the documentation: https://pandas.pydata.org/pandas-docs/stable/user_guide/indexing.html#returning-a-view-versus-a-copy\n",
      "  return super().drop(\n"
     ]
    }
   ],
   "source": [
    "df = get_fx_and_metric_data_wo_weekend(dtype=np.float32)"
   ]
  },
  {
   "cell_type": "markdown",
   "metadata": {},
   "source": [
    "## Create training and test data"
   ]
  },
  {
   "cell_type": "code",
   "execution_count": 16,
   "metadata": {},
   "outputs": [],
   "source": [
    "def ts_train_test_normalize(df,time_steps,for_periods, target_column=1):\n",
    "    '''\n",
    "    input: \n",
    "      data: dataframe with dates and price data\n",
    "    output:\n",
    "      X_train, y_train: data from 2020/11/2-2020/12/31\n",
    "      X_test:  data from 2021 -\n",
    "      sc:      insantiated MinMaxScaler object fit to the training data\n",
    "    '''    # create training and test set\n",
    "    times = sorted(df.index.values)\n",
    "    last_10pct = sorted(df.index.values)[-int(0.1*len(times))] # Last 10% of series\n",
    "    last_20pct = sorted(df.index.values)[-int(0.2*len(times))] # Last 20% of series\n",
    "\n",
    "    ts_train = df[(df.index < last_20pct)]  # Training data are 80% of total data\n",
    "    index_train = df[df.index < last_20pct].index\n",
    "    ts_val = df[(df.index >= last_20pct) & (df.index < last_10pct)]\n",
    "    index_val = df[(df.index >= last_20pct) & (df.index < last_10pct)].index\n",
    "    ts_test = df[(df.index >= last_10pct)]\n",
    "    index_test = df[(df.index >= last_10pct)].index\n",
    "\n",
    "    ts_train_len = len(ts_train)\n",
    "    ts_val_len = len(ts_test)\n",
    "    ts_test_len = len(ts_test)\n",
    "\n",
    "    '''Normalize price columns'''\n",
    "    #   df = (df - df.mean()) / (df.max() - df.min())\n",
    "    #   df.columns[np.isnan(df).any(axis=0)]\n",
    "    \n",
    "    # sc = MinMaxScaler((-1, 1)).fit(ts_train)\n",
    "    sc = StandardScaler().fit(ts_train)\n",
    "    sc_target = StandardScaler().fit(ts_train.iloc[:, target_column:target_column+1])\n",
    "    \n",
    "    ts_train_scaled = ts_train.values  # sc.transform(ts_train)\n",
    "    ts_val_scaled = ts_val.values  # sc.transform(ts_val)\n",
    "    ts_test_scaled = ts_test.values  # sc.transform(ts_test)\n",
    "    \n",
    "    # create training data of s samples and t time steps\n",
    "    X_train = []\n",
    "    y_train = []\n",
    "    y_train_stacked = []\n",
    "    for i in range(time_steps,ts_train_len-1): \n",
    "        X_train.append(ts_train_scaled[i-time_steps:i])\n",
    "        y_train.append(ts_train_scaled[i:i+for_periods, target_column])\n",
    "    X_train, y_train = np.array(X_train), np.array(y_train)\n",
    "\n",
    "    X_val = []\n",
    "    y_val = []\n",
    "    y_val_stacked = []\n",
    "    for i in range(time_steps,ts_val_len-1): \n",
    "        X_val.append(ts_val_scaled[i-time_steps:i])\n",
    "        y_val.append(ts_val_scaled[i:i+for_periods,target_column])\n",
    "    X_val, y_val = np.array(X_val), np.array(y_val)\n",
    "    # Reshaping X_train for efficient modelling\n",
    "    #     X_train = np.reshape(X_train, (X_train.shape[0],X_train.shape[1],1))\n",
    "\n",
    "    # Preparing X_test\n",
    "    X_test = []\n",
    "    y_test = []\n",
    "    for i in range(time_steps,ts_test_len-for_periods):\n",
    "        X_test.append(ts_test_scaled[i-time_steps:i])\n",
    "        y_test.append(ts_test_scaled[i:i+for_periods,target_column])\n",
    "    \n",
    "    X_test, y_test = np.array(X_test), np.array(y_test)\n",
    "    #     X_test = np.reshape(X_test, (X_test.shape[0], X_test.shape[1],1))\n",
    "\n",
    "    return X_train, y_train, X_val, y_val , X_test, y_test, sc, sc_target, index_train, index_val, index_test\n"
   ]
  },
  {
   "cell_type": "code",
   "execution_count": 17,
   "metadata": {},
   "outputs": [],
   "source": [
    "target_column = list(df.columns).index('EURUSD BGNE Curncy Bid Close')\n",
    "X_train, y_train, X_val, y_val , X_test, y_test, sc, sc_target, index_train, index_val, index_test =\\\n",
    "    ts_train_test_normalize(df, 1, 1, target_column)"
   ]
  },
  {
   "cell_type": "code",
   "execution_count": 19,
   "metadata": {},
   "outputs": [],
   "source": [
    "# X_train.tofile('Benchmark/X_train.csv', sep='/n)\n",
    "# X_test.('Benchmark/X_test.csv', sep='/n')\n",
    "np.savetxt('Benchmark/ARIMA_GARCH/X_test.csv', X_test[:, 0, target_column].reshape(-1, 1))\n",
    "np.savetxt('Benchmark/ARIMA_GARCH/X_val.csv', X_val[:, 0, target_column].reshape(-1, 1))\n",
    "np.savetxt('Benchmark/ARIMA_GARCH/X_train.csv', X_train[:, 0, target_column].reshape(-1, 1))\n",
    "\n",
    "# X_test[:, 0, target_column].shape\n",
    "\n",
    "# pd.DataFrame(X_test[:100, 0, target_column].reshape(-1, 1)).to_csv('Benchmark/X_test2.csv')"
   ]
  },
  {
   "cell_type": "markdown",
   "metadata": {},
   "source": [
    "## ARMA-GARCH\n"
   ]
  },
  {
   "cell_type": "code",
   "execution_count": 20,
   "metadata": {},
   "outputs": [],
   "source": [
    "y_train_pred = pd.read_csv('Benchmark/ARIMA_GARCH/X_train_forecast.csv').to_numpy()\n",
    "y_val_pred = pd.read_csv('Benchmark/ARIMA_GARCH/X_val_forecast.csv').to_numpy()\n",
    "y_test_pred = pd.read_csv('Benchmark/ARIMA_GARCH/X_test_forecast.csv').to_numpy()"
   ]
  },
  {
   "cell_type": "code",
   "execution_count": 21,
   "metadata": {},
   "outputs": [
    {
     "name": "stdout",
     "output_type": "stream",
     "text": [
      "(23208, 2)\n",
      "(2899, 2)\n",
      "(2899, 2)\n"
     ]
    }
   ],
   "source": [
    "print(y_train_pred.shape)\n",
    "print(y_val_pred.shape)\n",
    "print(y_test_pred.shape)"
   ]
  },
  {
   "cell_type": "code",
   "execution_count": 22,
   "metadata": {},
   "outputs": [
    {
     "data": {
      "image/png": "[encoded data removed]",
      "text/plain": [
       "<Figure size 432x288 with 1 Axes>"
      ]
     },
     "metadata": {
      "needs_background": "light"
     },
     "output_type": "display_data"
    }
   ],
   "source": [
    "pd.Series(\n",
    "    data=y_train[:, 0],\n",
    "    index=index_train[-y_train_pred.shape[0]:],\n",
    ").plot()\n",
    "pd.Series(\n",
    "    data=y_train_pred[:,0],\n",
    "    index=index_train[-y_train_pred.shape[0]:],\n",
    ").plot()\n",
    "# plt.ylim(m_min, m_max)\n",
    "plt.show()"
   ]
  },
  {
   "cell_type": "code",
   "execution_count": 23,
   "metadata": {},
   "outputs": [],
   "source": [
    "y_pred_error = pd.Series(\n",
    "    data=y_train_pred[:, 0].flatten() - y_train.flatten(),\n",
    "    index=index_train[-y_train_pred.shape[0]:],\n",
    ").iloc[1:]"
   ]
  },
  {
   "cell_type": "code",
   "execution_count": 24,
   "metadata": {},
   "outputs": [
    {
     "data": {
      "image/png": "[encoded data removed]",
      "text/plain": [
       "<Figure size 432x288 with 1 Axes>"
      ]
     },
     "metadata": {
      "needs_background": "light"
     },
     "output_type": "display_data"
    },
    {
     "data": {
      "text/plain": [
       "Text(0.5, 1.0, 'QQ-lot for y_train_pred - y_train')"
      ]
     },
     "execution_count": 24,
     "metadata": {},
     "output_type": "execute_result"
    },
    {
     "data": {
      "image/png": "[encoded data removed]",
      "text/plain": [
       "<Figure size 432x288 with 1 Axes>"
      ]
     },
     "metadata": {
      "needs_background": "light"
     },
     "output_type": "display_data"
    }
   ],
   "source": [
    "# y_pred_error.plot()\n",
    "# plt.show()\n",
    "plt.scatter(y_train_pred[1:, 0], y_train[1:])\n",
    "plt.xlabel('y_train_pred')\n",
    "plt.ylabel('y_train')\n",
    "plt.show()\n",
    "import statsmodels.api as smi\n",
    "smi.qqplot(y_pred_error[1:], line = \"r\")\n",
    "plt.title('QQ-lot for y_train_pred - y_train')\n",
    "# pylab.show()"
   ]
  },
  {
   "cell_type": "code",
   "execution_count": 25,
   "metadata": {},
   "outputs": [
    {
     "name": "stdout",
     "output_type": "stream",
     "text": [
      "mse: 1.1344402176698928e-07\n",
      "mae: 0.0002196127884909987\n",
      "mape: 265.3501623735314\n",
      "mde: 0.24797164770031255\n"
     ]
    }
   ],
   "source": [
    "y = y_train\n",
    "y_pred = y_train_pred[:, 0]\n",
    "print(f'mse: {MSE(y.flatten(), y_pred.flatten()).numpy()}')\n",
    "print(f'mae: {MAE(y.flatten(), y_pred.flatten()).numpy()}')\n",
    "print(f'mape: {MAPE(y.flatten(), y_pred.flatten()).numpy()}')\n",
    "# print(f'mde: {1 - np.mean(np.diff(y.flatten()) * (y_pred.flatten() - y.flatten())[1:] >= 0)}')\n",
    "print(f'mde: {mde(y, y_pred)}')"
   ]
  },
  {
   "cell_type": "code",
   "execution_count": 26,
   "metadata": {},
   "outputs": [
    {
     "name": "stdout",
     "output_type": "stream",
     "text": [
      "mse: 9.232133522921725e-08\n",
      "mae: 0.00019787120767345107\n",
      "mape: 224.49597393675322\n",
      "mde: 0.2420669451005215\n"
     ]
    }
   ],
   "source": [
    "y = y_val\n",
    "y_pred = y_val_pred[:, 0]\n",
    "print(f'mse: {MSE(y.flatten(), y_pred.flatten()).numpy()}')\n",
    "print(f'mae: {MAE(y.flatten(), y_pred.flatten()).numpy()}')\n",
    "print(f'mape: {MAPE(y.flatten(), y_pred.flatten()).numpy()}')\n",
    "# print(f'mde: {1 - np.mean(np.diff(y.flatten()) * (y_pred.flatten() - y.flatten())[1:] >= 0)}')\n",
    "print(f'mde: {mde(y, y_pred)}')"
   ]
  },
  {
   "cell_type": "markdown",
   "metadata": {},
   "source": [
    "Get model for test data."
   ]
  },
  {
   "cell_type": "code",
   "execution_count": 27,
   "metadata": {},
   "outputs": [
    {
     "name": "stdout",
     "output_type": "stream",
     "text": [
      "mse: 7.685756302929351e-08\n",
      "mae: 0.00018871551589661254\n",
      "mape: 207.4922076027666\n",
      "mde: 0.24810011521236652\n"
     ]
    }
   ],
   "source": [
    "y = y_test\n",
    "y_pred = y_test_pred[:, 0]\n",
    "print(f'mse: {MSE(y.flatten(), y_pred.flatten()).numpy()}')\n",
    "print(f'mae: {MAE(y.flatten(), y_pred.flatten()).numpy()}')\n",
    "print(f'mape: {MAPE(y.flatten(), y_pred.flatten()).numpy()}')\n",
    "# print(f'mde: {1 - np.mean(np.diff(y.flatten()) * (y_pred.flatten() - y.flatten())[1:] >= 0)}')\n",
    "print(f'mde: {mde(y, y_pred)}')"
   ]
  },
  {
   "cell_type": "code",
   "execution_count": null,
   "metadata": {},
   "outputs": [],
   "source": []
  }
 ],
 "metadata": {
  "kernelspec": {
   "display_name": "fxpred3",
   "language": "python",
   "name": "fxpred3"
  },
  "language_info": {
   "codemirror_mode": {
    "name": "ipython",
    "version": 3
   },
   "file_extension": ".py",
   "mimetype": "text/x-python",
   "name": "python",
   "nbconvert_exporter": "python",
   "pygments_lexer": "ipython3",
   "version": "3.8.10"
  }
 },
 "nbformat": 4,
 "nbformat_minor": 4
}
