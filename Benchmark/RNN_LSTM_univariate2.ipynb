{
 "cells": [
  {
   "cell_type": "markdown",
   "id": "tested-invention",
   "metadata": {},
   "source": [
    "# A"
   ]
  },
  {
   "cell_type": "code",
   "execution_count": 1,
   "id": "grand-manhattan",
   "metadata": {},
   "outputs": [
    {
     "name": "stderr",
     "output_type": "stream",
     "text": [
      "/home/ms/github/venv/fxpred3/lib/python3.8/site-packages/pandas/core/frame.py:4305: SettingWithCopyWarning: \n",
      "A value is trying to be set on a copy of a slice from a DataFrame\n",
      "\n",
      "See the caveats in the documentation: https://pandas.pydata.org/pandas-docs/stable/user_guide/indexing.html#returning-a-view-versus-a-copy\n",
      "  return super().drop(\n"
     ]
    },
    {
     "data": {
      "text/plain": [
       "'LSTM_univariate2_EURUSD'"
      ]
     },
     "execution_count": 1,
     "metadata": {},
     "output_type": "execute_result"
    }
   ],
   "source": [
    "#!/usr/bin/env python\n",
    "\n",
    "# coding: utf-8\n",
    "\n",
    "# %% Loading Packages\n",
    "import matplotlib.pyplot as plt\n",
    "import numpy as np\n",
    "import pandas as pd\n",
    "from sklearn.model_selection import train_test_split\n",
    "from sklearn.preprocessing import MinMaxScaler\n",
    "from sklearn.preprocessing import StandardScaler\n",
    "# from sklearn.metrics import mean_squared_error, mean_absolute_erIPython.notebook.kernel.execute('nb_name = \"' + IPython.notebook.notebook_name + '\"')ror\n",
    "\n",
    "\n",
    "import tensorflow as tf\n",
    "from tensorflow.keras import Sequential\n",
    "from tensorflow.keras.layers import Dense\n",
    "from tensorflow.keras.layers import LSTM\n",
    "from tensorflow.keras.layers import ReLU\n",
    "from tensorflow.keras.layers import Dropout\n",
    "from tensorflow.keras.activations import tanh\n",
    "from tensorflow.keras.layers import PReLU\n",
    "from tensorflow.keras.layers import BatchNormalization\n",
    "from tensorflow.keras.layers import LeakyReLU\n",
    "from tensorflow.keras.layers import Flatten\n",
    "from tensorflow.keras.optimizers import SGD\n",
    "from tensorflow.keras.losses import MSE, MAE, MAPE\n",
    "from tensorflow.keras.callbacks import LearningRateScheduler\n",
    "\n",
    "import sys\n",
    "\n",
    "from tensorflow.python.ops.gen_batch_ops import batch\n",
    "\n",
    "import sys\n",
    "import os\n",
    "import sys\n",
    "import platform\n",
    "\n",
    "from tensorflow.python.ops.gen_math_ops import Tanh\n",
    "if platform.node() in ['msbq']:\n",
    "    os.chdir('/home/ms/github/fxpred')\n",
    "    # os.chdir('../.')\n",
    "    sys.path.append(os.path.join(os.getcwd(), 'Transformer'))\n",
    "# from utils import data_read_dict, data_read_concat, data_merge\n",
    "from utils import get_fx_and_metric_data_wo_weekend, mde\n",
    "from utils_NN_opt_learning_rate import opt_learn_rate_plot\n",
    "from benchmark_utils import actual_pred_plot, ts_train_test_normalize\n",
    "\n",
    "target = 'EURUSD BGNE Curncy Bid Close'\n",
    "name = f'LSTM_univariate2_{target.split()[0]}'\n",
    "name"
   ]
  },
  {
   "cell_type": "code",
   "execution_count": 2,
   "id": "noted-amplifier",
   "metadata": {},
   "outputs": [],
   "source": [
    "dtype = np.float32  # np.float64\n",
    "tf.keras.backend.set_floatx('float32')\n",
    "# %% read in data and adapt\n",
    "df = get_fx_and_metric_data_wo_weekend(dtype=dtype)\n",
    "target_column = list(df.columns).index(target)\n",
    "# df = df.loc[(df.iloc[:, :4] != 0).all(axis=1)]\n",
    "df_close = get_fx_and_metric_data_wo_weekend(dtype=dtype)\n",
    "df = df.iloc[:, target_column : target_column + 1]"
   ]
  },
  {
   "cell_type": "code",
   "execution_count": 3,
   "id": "quiet-latino",
   "metadata": {},
   "outputs": [],
   "source": [
    "np.random.seed(42)\n",
    "df = df.iloc[np.random.choice(list(range(df.shape[0])), size=df.shape[0], replace=False), :]"
   ]
  },
  {
   "cell_type": "code",
   "execution_count": 4,
   "id": "atmospheric-rochester",
   "metadata": {},
   "outputs": [
    {
     "data": {
      "image/png": "[encoded data removed]",
      "text/plain": [
       "<Figure size 432x288 with 1 Axes>"
      ]
     },
     "metadata": {
      "needs_background": "light"
     },
     "output_type": "display_data"
    }
   ],
   "source": [
    "df[target].plot()\n",
    "plt.title('Return of closing price')\n",
    "plt.show()"
   ]
  },
  {
   "cell_type": "code",
   "execution_count": 5,
   "id": "reflected-particle",
   "metadata": {},
   "outputs": [],
   "source": [
    "lag = 128\n",
    "h = 1\n",
    "X_train, y_train, X_val, y_val , X_test, y_test, sc, sc_target, index_train, index_val, index_test, X_train_index, y_train_index = \\\n",
    "    ts_train_test_normalize(df, lag, h, 0, dtype=dtype)"
   ]
  },
  {
   "cell_type": "code",
   "execution_count": 6,
   "id": "united-thomas",
   "metadata": {},
   "outputs": [],
   "source": [
    "def LSTM_model():\n",
    "    # The LSTM architecture\n",
    "    act_fct = 'tanh'\n",
    "    dr = 0.5\n",
    "    my_LSTM_model = Sequential()\n",
    "    my_LSTM_model.add(LSTM(units=128, activation=act_fct, return_sequences=True, dropout=dr))\n",
    "    my_LSTM_model.add(BatchNormalization())\n",
    "    my_LSTM_model.add(LSTM(units=128, activation=act_fct, return_sequences=True, dropout=dr))\n",
    "    my_LSTM_model.add(BatchNormalization())\n",
    "    my_LSTM_model.add(LSTM(units=128, activation=act_fct, return_sequences=True, dropout=dr))\n",
    "    my_LSTM_model.add(BatchNormalization())\n",
    "    my_LSTM_model.add(LSTM(units=128, activation=act_fct, return_sequences=True, dropout=dr))\n",
    "    my_LSTM_model.add(BatchNormalization())\n",
    "    my_LSTM_model.add(LSTM(units=128, activation=act_fct, return_sequences=True, dropout=dr))\n",
    "    my_LSTM_model.add(BatchNormalization())\n",
    "    my_LSTM_model.add(Flatten())\n",
    "    my_LSTM_model.add(Dense(units=128, activation=act_fct))\n",
    "    my_LSTM_model.add(Dense(units=1))\n",
    "    return my_LSTM_model"
   ]
  },
  {
   "cell_type": "code",
   "execution_count": 7,
   "id": "public-checklist",
   "metadata": {},
   "outputs": [],
   "source": [
    "def predictions(my_model, X_test, sc=None):\n",
    "    LSTM_prediction = my_model.predict(X_test)\n",
    "    if sc is not None:\n",
    "        LSTM_prediction = sc.inverse_transform(LSTM_prediction)\n",
    "    return LSTM_prediction"
   ]
  },
  {
   "cell_type": "code",
   "execution_count": 8,
   "id": "thermal-institution",
   "metadata": {},
   "outputs": [],
   "source": [
    "def earlyStopping():\n",
    "    return tf.keras.callbacks.EarlyStopping(\n",
    "        monitor=\"val_loss\",\n",
    "        min_delta=0,\n",
    "        patience=10,\n",
    "        verbose=0,\n",
    "        mode=\"auto\",\n",
    "        baseline=None,\n",
    "        restore_best_weights=True,\n",
    "    )\n",
    "if not os.path.exists('Benchmark/trained_models'):\n",
    "    os.mkdir('Benchmark/trained_models')\n",
    "model_checkpoints = tf.keras.callbacks.ModelCheckpoint(\n",
    "    'Benchmark/trained_models/%s____{epoch:04}.hdf5'%name,\n",
    "    monitor='val_loss',\n",
    "    save_best_only=False,\n",
    "    verbose=1\n",
    ")\n",
    "def learning_rate_scheduler(epoch):\n",
    "    if epoch < 10:\n",
    "        return 0.001\n",
    "    elif epoch < 20:\n",
    "        return 0.0005\n",
    "    elif epoch < 50:\n",
    "        return 0.0001\n",
    "    elif epoch < 100:\n",
    "        return 0.00001\n",
    "    else:\n",
    "        return 0.000001"
   ]
  },
  {
   "cell_type": "code",
   "execution_count": null,
   "id": "chicken-rough",
   "metadata": {},
   "outputs": [
    {
     "name": "stdout",
     "output_type": "stream",
     "text": [
      "Epoch 1/100\n",
      "1210/1210 [==============================] - 37s 27ms/step - loss: 1.2215 - mean_absolute_error: 0.7265 - mean_absolute_percentage_error: 5971.5513 - val_loss: 1.4008 - val_mean_absolute_error: 0.7428 - val_mean_absolute_percentage_error: 1035.4312\n",
      "\n",
      "Epoch 00001: saving model to Benchmark/trained_models/LSTM_univariate2_EURUSD____0001.hdf5\n",
      "Epoch 2/100\n",
      "1210/1210 [==============================] - 32s 27ms/step - loss: 1.0098 - mean_absolute_error: 0.6586 - mean_absolute_percentage_error: 2487.5369 - val_loss: 1.3963 - val_mean_absolute_error: 0.7428 - val_mean_absolute_percentage_error: 1002.9666\n",
      "\n",
      "Epoch 00002: saving model to Benchmark/trained_models/LSTM_univariate2_EURUSD____0002.hdf5\n",
      "Epoch 3/100\n",
      "1210/1210 [==============================] - 32s 27ms/step - loss: 1.0114 - mean_absolute_error: 0.6594 - mean_absolute_percentage_error: 2475.6340 - val_loss: 1.4017 - val_mean_absolute_error: 0.7433 - val_mean_absolute_percentage_error: 1220.3607\n",
      "\n",
      "Epoch 00003: saving model to Benchmark/trained_models/LSTM_univariate2_EURUSD____0003.hdf5\n",
      "Epoch 4/100\n",
      "1210/1210 [==============================] - 33s 27ms/step - loss: 1.0077 - mean_absolute_error: 0.6572 - mean_absolute_percentage_error: 2084.0508 - val_loss: 1.3960 - val_mean_absolute_error: 0.7412 - val_mean_absolute_percentage_error: 258.7675\n",
      "\n",
      "Epoch 00004: saving model to Benchmark/trained_models/LSTM_univariate2_EURUSD____0004.hdf5\n",
      "Epoch 5/100\n",
      "1210/1210 [==============================] - 33s 27ms/step - loss: 1.0105 - mean_absolute_error: 0.6593 - mean_absolute_percentage_error: 2411.3416 - val_loss: 1.3961 - val_mean_absolute_error: 0.7411 - val_mean_absolute_percentage_error: 193.0683\n",
      "\n",
      "Epoch 00005: saving model to Benchmark/trained_models/LSTM_univariate2_EURUSD____0005.hdf5\n",
      "Epoch 6/100\n",
      " 962/1210 [======================>.......] - ETA: 6s - loss: 0.9808 - mean_absolute_error: 0.6547 - mean_absolute_percentage_error: 2214.5413"
     ]
    }
   ],
   "source": [
    "from tensorflow.keras.optimizers import Adam\n",
    "my_LSTM_model = LSTM_model()\n",
    "my_LSTM_model.compile(\n",
    "    optimizer=Adam(learning_rate=0.05),\n",
    "    loss='mean_squared_error',\n",
    "    metrics=[MAE, MAPE]\n",
    ")\n",
    "\n",
    "history = my_LSTM_model.fit(\n",
    "    X_train, y_train,\n",
    "    epochs=100,\n",
    "    batch_size=32,\n",
    "    validation_data=(X_val, y_val),\n",
    "    verbose=1,\n",
    "    shuffle=True,\n",
    "    callbacks=[\n",
    "#         earlyStopping(),\n",
    "        LearningRateScheduler(learning_rate_scheduler),\n",
    "        model_checkpoints,\n",
    "        tf.keras.callbacks.TerminateOnNaN()\n",
    "    ]\n",
    ")"
   ]
  },
  {
   "cell_type": "code",
   "execution_count": null,
   "id": "heard-disease",
   "metadata": {},
   "outputs": [],
   "source": [
    "history = my_LSTM_model.fit(\n",
    "    X_train, y_train,\n",
    "    epochs=100,\n",
    "    batch_size=32,\n",
    "    validation_data=(X_val, y_val),\n",
    "    verbose=1,\n",
    "    shuffle=True,\n",
    "    callbacks=[\n",
    "        # earlyStopping(),\n",
    "        LearningRateScheduler(learning_rate_scheduler),\n",
    "        model_checkpoints,\n",
    "        tf.keras.callbacks.TerminateOnNaN()\n",
    "    ]\n",
    ")"
   ]
  },
  {
   "cell_type": "code",
   "execution_count": null,
   "id": "southeast-pursuit",
   "metadata": {},
   "outputs": [],
   "source": [
    "import pickle\n",
    "with open(f'Benchmark/trained_models/{name}____history.pkl', 'wb') as f:\n",
    "    pickle.dump(history.history, f)"
   ]
  },
  {
   "cell_type": "code",
   "execution_count": null,
   "id": "heard-secretary",
   "metadata": {},
   "outputs": [],
   "source": [
    "if 'my_LSTM_model' not in globals():\n",
    "    model_last = sorted([i for i in os.listdir('Benchmark/trained_models/') if name in i and 'hdf5' in i])[-1]\n",
    "    my_LSTM_model = tf.keras.models.load_model(\n",
    "        os.path.join('Benchmark/trained_models', model_last)\n",
    "    )\n",
    "if 'history' not in globals():\n",
    "    with open(f'Benchmark/trained_models/{name}____history.pkl', 'rb') as f:\n",
    "        history = pickle.load(f)\n",
    "if hasattr(history, 'history'):\n",
    "    history = history.history"
   ]
  },
  {
   "cell_type": "code",
   "execution_count": null,
   "id": "fifty-musical",
   "metadata": {},
   "outputs": [],
   "source": [
    "plt.plot(history['loss'], label='train')\n",
    "plt.plot(history['val_loss'], label='test')\n",
    "plt.legend()\n",
    "plt.show()"
   ]
  },
  {
   "cell_type": "code",
   "execution_count": null,
   "id": "stylish-sullivan",
   "metadata": {},
   "outputs": [],
   "source": [
    "plt.plot(history['mean_absolute_error'], label='train')\n",
    "plt.plot(history['val_mean_absolute_error'], label='test')\n",
    "plt.legend()\n",
    "plt.show()"
   ]
  },
  {
   "cell_type": "code",
   "execution_count": null,
   "id": "computational-italy",
   "metadata": {},
   "outputs": [],
   "source": [
    "plt.plot(history['mean_absolute_percentage_error'], label='train')\n",
    "plt.plot(history['val_mean_absolute_percentage_error'], label='test')\n",
    "plt.legend()\n",
    "plt.show()"
   ]
  },
  {
   "cell_type": "code",
   "execution_count": null,
   "id": "underlying-excess",
   "metadata": {},
   "outputs": [],
   "source": [
    "my_LSTM_model.summary()\n",
    "my_LSTM_model.layers[1].get_weights()[2].dtype"
   ]
  },
  {
   "cell_type": "code",
   "execution_count": null,
   "id": "significant-poison",
   "metadata": {},
   "outputs": [],
   "source": [
    "# opt_learn_rate_plot(\n",
    "#     my_LSTM_model,\n",
    "#     X_train,\n",
    "#     y_train,\n",
    "#     10**-6,\n",
    "#     10**-2,\n",
    "#     100,\n",
    "#     batch_size=64,\n",
    "#     steps_per_epoch=1\n",
    "# )"
   ]
  },
  {
   "cell_type": "code",
   "execution_count": null,
   "id": "concrete-magnitude",
   "metadata": {},
   "outputs": [],
   "source": [
    "LSTM_prediction = predictions(\n",
    "    my_LSTM_model,\n",
    "    X_test,\n",
    "    sc_target\n",
    ")\n",
    "actual_pred_plot(LSTM_prediction[:, 0], sc_target.inverse_transform(y_test)[:, 0])\n",
    "plt.show()\n",
    "\n",
    "print('Test')\n",
    "y = sc_target.inverse_transform(y_test)\n",
    "# y = y_test\n",
    "y_pred = LSTM_prediction = predictions(\n",
    "    my_LSTM_model,\n",
    "    X_test,\n",
    "    sc_target\n",
    ")\n",
    "print(f'mse: {MSE(y.flatten(), y_pred.flatten()).numpy()}')\n",
    "print(f'mae: {MAE(y.flatten(), y_pred.flatten()).numpy()}')\n",
    "print(f'mape: {MAPE(y.flatten(), y_pred.flatten()).numpy()}')\n",
    "print(f'mde: {mde(y.flatten(), y_pred.flatten())}')"
   ]
  },
  {
   "cell_type": "code",
   "execution_count": null,
   "id": "homeless-restaurant",
   "metadata": {},
   "outputs": [],
   "source": [
    "print('Train')\n",
    "y = sc_target.inverse_transform(y_train)\n",
    "y_pred = predictions(\n",
    "    my_LSTM_model,\n",
    "    X_train,\n",
    "    sc_target\n",
    ")\n",
    "actual_pred_plot(y_pred[:, 0], sc_target.inverse_transform(y_train)[:, 0])\n",
    "plt.show()\n",
    "print(f'mse: {MSE(y.flatten(), y_pred.flatten()).numpy()}')\n",
    "print(f'mae: {MAE(y.flatten(), y_pred.flatten()).numpy()}')\n",
    "print(f'mape: {MAPE(y.flatten(), y_pred.flatten()).numpy()}')\n",
    "print(f'mde: {mde(y.flatten(), y_pred.flatten())}')"
   ]
  },
  {
   "cell_type": "code",
   "execution_count": null,
   "id": "attractive-berlin",
   "metadata": {},
   "outputs": [],
   "source": [
    "# # actual_pred_plot((LSTM_prediction- LSTM_prediction[:, 0].mean()) * 150, y_test, error=True)\n",
    "# # (((LSTM_prediction[:, 0] - LSTM_prediction[:, 0].mean()) * 150 - y_test[:, 0])**2).mean()\n",
    "# # plt.show()\n",
    "\n",
    "# def LSTM_model_regularization(X_train, y_train, X_test, sc):\n",
    "#     # create a model\n",
    "#     from keras.models import Sequential\n",
    "#     from keras.layers import Dense, SimpleRNN, GRU, LSTM\n",
    "#     from keras.optimizers import SGD\n",
    "    \n",
    "#     # The LSTM architecture\n",
    "#     my_LSTM_model = Sequential()\n",
    "#     my_LSTM_model.add(LSTM(units=50, return_sequences=True, activation='tanh'))\n",
    "#     #my_LSTM_model.add(LSTM(units=50, return_sequences=True, input_shape=(X_train.shape[1],1), activation='tanh'))\n",
    "#     #my_LSTM_model.add(LSTM(units=50, return_sequences=True, input_shape=(X_train.shape[1],1), activation='tanh'))\n",
    "#     my_LSTM_model.add(LSTM(units=50, activation='tanh'))\n",
    "#     my_LSTM_model.add(Dense(units=2))\n",
    "\n",
    "#     return my_LSTM_model\n",
    "\n",
    "# # df.iloc[:, target_column].plot()\n",
    "# # plt.show()\n",
    "\n",
    "# # for i in range(1, 2):\n",
    "# #     plt.scatter(\n",
    "# #         df.iloc[:-i, target_column],\n",
    "# #         df.iloc[i:, target_column]\n",
    "# #     )\n",
    "# # plt.xlabel('y_{t-1}')\n",
    "# # plt.ylabel('y_t')\n",
    "# # plt.show()"
   ]
  },
  {
   "cell_type": "code",
   "execution_count": null,
   "id": "double-diagram",
   "metadata": {},
   "outputs": [],
   "source": [
    "def mde_truncated_y(y, y_pred):\n",
    "    res = []\n",
    "    hs_max = sorted(abs(y.flatten()), reverse=True)[0]\n",
    "    hs = np.arange(0, hs_max, hs_max / 500)\n",
    "    for h in hs:\n",
    "        idx = abs(y) >= h\n",
    "        res.append(mde(y[idx].flatten(), y_pred[idx].flatten()))\n",
    "    return hs, res\n",
    "def mde_truncated_y_pred(y, y_pred):\n",
    "    res = []\n",
    "    hs_max = sorted(abs(y.flatten()), reverse=True)[0]\n",
    "    hs = np.arange(0, hs_max, hs_max / 500)\n",
    "    for h in hs:\n",
    "        idx = abs(y_pred) >= h\n",
    "        res.append(mde(y[idx].flatten(), y_pred[idx].flatten()))\n",
    "    return hs, res\n",
    "# def mde_truncated_both(y, y_pred):\n",
    "#     res = []\n",
    "#     hs_max = sorted(abs(y.flatten()), reverse=True)[0]\n",
    "#     hs = np.arange(0, hs_max, hs_max / 500)\n",
    "#     for h in hs:\n",
    "#         idx = np.logical_and(abs(y_pred) >= h, abs(y) >= h)\n",
    "#         res.append(mde(y[idx].flatten(), y_pred[idx].flatten()))\n",
    "#     return hs, res"
   ]
  },
  {
   "cell_type": "code",
   "execution_count": null,
   "id": "hired-census",
   "metadata": {},
   "outputs": [],
   "source": [
    "x, mdes = mde_truncated_y(y, y_pred)\n",
    "plt.plot(x, mdes)\n",
    "plt.xlabel('truncation h')\n",
    "plt.ylabel('MDE for data |y| >= h')\n",
    "plt.show()"
   ]
  },
  {
   "cell_type": "code",
   "execution_count": null,
   "id": "concrete-narrow",
   "metadata": {},
   "outputs": [],
   "source": [
    "x, mdes = mde_truncated_y_pred(y, y_pred)\n",
    "plt.plot(x, mdes)\n",
    "plt.xlabel('truncation h')\n",
    "plt.ylabel('MDE for data |y_pred| >= h')\n",
    "plt.show()"
   ]
  },
  {
   "cell_type": "code",
   "execution_count": null,
   "id": "solid-spelling",
   "metadata": {},
   "outputs": [],
   "source": []
  },
  {
   "cell_type": "code",
   "execution_count": null,
   "id": "front-heart",
   "metadata": {},
   "outputs": [],
   "source": []
  }
 ],
 "metadata": {
  "kernelspec": {
   "display_name": "fxpred3",
   "language": "python",
   "name": "fxpred3"
  },
  "language_info": {
   "codemirror_mode": {
    "name": "ipython",
    "version": 3
   },
   "file_extension": ".py",
   "mimetype": "text/x-python",
   "name": "python",
   "nbconvert_exporter": "python",
   "pygments_lexer": "ipython3",
   "version": "3.8.10"
  }
 },
 "nbformat": 4,
 "nbformat_minor": 5
}
