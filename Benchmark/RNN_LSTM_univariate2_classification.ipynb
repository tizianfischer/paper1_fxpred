{
 "cells": [
  {
   "cell_type": "markdown",
   "id": "enabling-bacon",
   "metadata": {},
   "source": [
    "# A"
   ]
  },
  {
   "cell_type": "code",
   "execution_count": 79,
   "id": "median-breed",
   "metadata": {},
   "outputs": [],
   "source": [
    "#!/usr/bin/env python\n",
    "\n",
    "# coding: utf-8\n",
    "\n",
    "# %% Loading Packages\n",
    "import matplotlib.pyplot as plt\n",
    "import numpy as np\n",
    "import pandas as pd\n",
    "import pickle\n",
    "from sklearn.model_selection import train_test_split\n",
    "from sklearn.preprocessing import MinMaxScaler\n",
    "from sklearn.preprocessing import StandardScaler\n",
    "from sklearn.metrics import classification_report, confusion_matrix\n",
    "from collections import Counter\n",
    "# from sklearn.metrics import mean_squared_error, mean_absolute_erIPython.notebook.kernel.execute('nb_name = \"' + IPython.notebook.notebook_name + '\"')ror\n",
    "\n",
    "import tensorflow as tf\n",
    "from tensorflow.keras import Sequential\n",
    "from tensorflow.keras.layers import Dense\n",
    "from tensorflow.keras.layers import LSTM\n",
    "from tensorflow.keras.layers import ReLU\n",
    "from tensorflow.keras.layers import Dropout\n",
    "from tensorflow.keras.activations import tanh\n",
    "from tensorflow.keras.layers import PReLU\n",
    "from tensorflow.keras.layers import BatchNormalization\n",
    "from tensorflow.keras.layers import LeakyReLU\n",
    "from tensorflow.keras.layers import Flatten\n",
    "from tensorflow.keras.optimizers import SGD\n",
    "from tensorflow.keras.losses import MSE, MAE, MAPE\n",
    "from tensorflow.keras.metrics import Accuracy, SparseCategoricalAccuracy\n",
    "from tensorflow.keras.losses import kullback_leibler_divergence, SparseCategoricalCrossentropy, KLDivergence\n",
    "from tensorflow.keras.callbacks import LearningRateScheduler\n",
    "\n",
    "import sys\n",
    "\n",
    "from tensorflow.python.ops.gen_batch_ops import batch\n",
    "\n",
    "import sys\n",
    "import os\n",
    "import sys\n",
    "import platform\n",
    "\n",
    "from tensorflow.python.ops.gen_math_ops import Tanh\n",
    "if platform.node() in ['msbq', 'msdai']:\n",
    "    os.chdir('/home/ms/github/fxpred')\n",
    "    # os.chdir('../.')\n",
    "    sys.path.append(os.path.join(os.getcwd(), 'Transformer'))\n",
    "# from utils import data_read_dict, data_read_concat, data_merge\n",
    "from utils import get_fx_and_metric_data_wo_weekend, mde\n",
    "from utils_NN_opt_learning_rate import opt_learn_rate_plot\n",
    "from benchmark_utils import actual_pred_plot, ts_train_test_normalize\n",
    "\n",
    "\n",
    "name = 'LSTM_univariate2_classification'"
   ]
  },
  {
   "cell_type": "code",
   "execution_count": 2,
   "id": "attempted-papua",
   "metadata": {},
   "outputs": [
    {
     "name": "stderr",
     "output_type": "stream",
     "text": [
      "/home/ms/github/venv/fxpred3/lib/python3.8/site-packages/pandas/core/frame.py:4305: SettingWithCopyWarning: \n",
      "A value is trying to be set on a copy of a slice from a DataFrame\n",
      "\n",
      "See the caveats in the documentation: https://pandas.pydata.org/pandas-docs/stable/user_guide/indexing.html#returning-a-view-versus-a-copy\n",
      "  return super().drop(\n"
     ]
    }
   ],
   "source": [
    "dtype = np.float32  # np.float64\n",
    "tf.keras.backend.set_floatx('float32')\n",
    "# %% read in data and adapt\n",
    "df = get_fx_and_metric_data_wo_weekend(dtype=dtype)\n",
    "target = 'EURUSD BGNE Curncy Bid Close'\n",
    "target_column = list(df.columns).index(target)\n",
    "# df = df.loc[(df.iloc[:, :4] != 0).all(axis=1)]\n",
    "df_close = get_fx_and_metric_data_wo_weekend(dtype=dtype, pct_change=False)\n",
    "df = df.iloc[:, target_column : target_column + 1]"
   ]
  },
  {
   "cell_type": "code",
   "execution_count": 3,
   "id": "ready-shadow",
   "metadata": {},
   "outputs": [],
   "source": [
    "np.random.seed(42)\n",
    "# df = df.iloc[np.random.choice(list(range(df.shape[0])), size=df.shape[0], replace=False), :]\n"
   ]
  },
  {
   "cell_type": "code",
   "execution_count": 4,
   "id": "decent-suite",
   "metadata": {},
   "outputs": [
    {
     "data": {
      "text/html": [
       "<div>\n",
       "<style scoped>\n",
       "    .dataframe tbody tr th:only-of-type {\n",
       "        vertical-align: middle;\n",
       "    }\n",
       "\n",
       "    .dataframe tbody tr th {\n",
       "        vertical-align: top;\n",
       "    }\n",
       "\n",
       "    .dataframe thead th {\n",
       "        text-align: right;\n",
       "    }\n",
       "</style>\n",
       "<table border=\"1\" class=\"dataframe\">\n",
       "  <thead>\n",
       "    <tr style=\"text-align: right;\">\n",
       "      <th></th>\n",
       "      <th>EURUSD BGNE Curncy Bid Close</th>\n",
       "      <th>strategy</th>\n",
       "    </tr>\n",
       "    <tr>\n",
       "      <th>Dates</th>\n",
       "      <th></th>\n",
       "      <th></th>\n",
       "    </tr>\n",
       "  </thead>\n",
       "  <tbody>\n",
       "    <tr>\n",
       "      <th>2020-11-01 19:10:00</th>\n",
       "      <td>0.000000</td>\n",
       "      <td>1</td>\n",
       "    </tr>\n",
       "    <tr>\n",
       "      <th>2020-11-01 19:20:00</th>\n",
       "      <td>0.000275</td>\n",
       "      <td>2</td>\n",
       "    </tr>\n",
       "    <tr>\n",
       "      <th>2020-11-01 19:30:00</th>\n",
       "      <td>-0.000069</td>\n",
       "      <td>0</td>\n",
       "    </tr>\n",
       "    <tr>\n",
       "      <th>2020-11-01 19:40:00</th>\n",
       "      <td>0.000034</td>\n",
       "      <td>2</td>\n",
       "    </tr>\n",
       "    <tr>\n",
       "      <th>2020-11-01 19:50:00</th>\n",
       "      <td>0.000026</td>\n",
       "      <td>2</td>\n",
       "    </tr>\n",
       "  </tbody>\n",
       "</table>\n",
       "</div>"
      ],
      "text/plain": [
       "                     EURUSD BGNE Curncy Bid Close  strategy\n",
       "Dates                                                      \n",
       "2020-11-01 19:10:00                      0.000000         1\n",
       "2020-11-01 19:20:00                      0.000275         2\n",
       "2020-11-01 19:30:00                     -0.000069         0\n",
       "2020-11-01 19:40:00                      0.000034         2\n",
       "2020-11-01 19:50:00                      0.000026         2"
      ]
     },
     "execution_count": 4,
     "metadata": {},
     "output_type": "execute_result"
    }
   ],
   "source": [
    "# create a list of our conditions #!!! \n",
    "conditions = [\n",
    "    (df[target] <= -0.00000001),\n",
    "    (df[target] > -0.00000001) & (df[target] <= 0.00000001),\n",
    "    (df[target] > 0.00000001)\n",
    "]\n",
    "\n",
    "# create a list of the values we want to assign for each condition #!!! \n",
    "values = ['sell', 'hold', 'buy']\n",
    "values = [0, 1, 2]\n",
    "\n",
    "# create a new column and use np.select to assign values to it using our lists as arguments #!!! \n",
    "df['strategy'] = np.select(conditions, values)\n",
    "df.strategy = df.strategy.astype(np.int32)\n",
    "\n",
    "# display updated DataFrame #!!! \n",
    "df.head()"
   ]
  },
  {
   "cell_type": "code",
   "execution_count": 5,
   "id": "occasional-arrow",
   "metadata": {},
   "outputs": [
    {
     "data": {
      "image/png": "[encoded data removed]",
      "text/plain": [
       "<Figure size 432x288 with 1 Axes>"
      ]
     },
     "metadata": {
      "needs_background": "light"
     },
     "output_type": "display_data"
    }
   ],
   "source": [
    "df['EURUSD BGNE Curncy Bid Close'].plot()\n",
    "plt.title('Return of closing price')\n",
    "plt.show()"
   ]
  },
  {
   "cell_type": "code",
   "execution_count": 6,
   "id": "induced-comparative",
   "metadata": {},
   "outputs": [],
   "source": [
    "lag = 128\n",
    "h = 1\n",
    "X_train, y_train, X_val, y_val , X_test, y_test, sc, sc_target, index_train, index_val, index_test, X_train_index, y_train_index = \\\n",
    "    ts_train_test_normalize(df, lag, h, 1)"
   ]
  },
  {
   "cell_type": "code",
   "execution_count": 7,
   "id": "focused-stevens",
   "metadata": {},
   "outputs": [
    {
     "name": "stdout",
     "output_type": "stream",
     "text": [
      "(23210,)\n",
      "(23081, 128, 2)\n",
      "(23081, 1)\n"
     ]
    }
   ],
   "source": [
    "print(index_train.shape)\n",
    "print(X_train.shape)\n",
    "print(y_train.shape)"
   ]
  },
  {
   "cell_type": "code",
   "execution_count": 8,
   "id": "equivalent-semester",
   "metadata": {},
   "outputs": [
    {
     "data": {
      "text/plain": [
       "0.0"
      ]
     },
     "execution_count": 8,
     "metadata": {},
     "output_type": "execute_result"
    }
   ],
   "source": [
    "a = np.array([sc.inverse_transform(X_train[i,:]) for i in range(X_train.shape[0])])\n",
    "b = np.concatenate([sc.inverse_transform(X_train[:,i])[:,np.newaxis] for i in range(128)], axis=1)\n",
    "a.shape == b.shape\n",
    "np.abs(a - b).sum()"
   ]
  },
  {
   "cell_type": "code",
   "execution_count": 9,
   "id": "wrapped-louisiana",
   "metadata": {},
   "outputs": [
    {
     "data": {
      "text/plain": [
       "9.621616654451048e-17"
      ]
     },
     "execution_count": 9,
     "metadata": {},
     "output_type": "execute_result"
    }
   ],
   "source": [
    "np.abs(a[:,-1] - df.loc[index_train].iloc[127:-2].values).sum()"
   ]
  },
  {
   "cell_type": "code",
   "execution_count": 10,
   "id": "excellent-judges",
   "metadata": {},
   "outputs": [],
   "source": [
    "# assert ((df.values[:X_train.shape[0]] - sc.inverse_transform(X_train)[:,0])**2).sum() < 1e-10\n",
    "# assert ((df.values[lag - 1:lag - 1 + X_train.shape[0]] - sc.inverse_transform(X_train)[:,-1])**2).sum() < 1e-10\n",
    "\n",
    "# assert ((df.iloc[-X_test.shape[0] - lag - h:][:-lag - h].values - sc.inverse_transform(X_test)[:,0])**2).sum() < 1e-11\n",
    "# assert index_test[0] == df.iloc[-X_test.shape[0] - lag - h:].index[0]\n",
    "# for i in range(lag):\n",
    "#     assert ((df.iloc[-X_test.shape[0] - lag - h:][i:-(lag + h -i)].values - sc.inverse_transform(X_test)[:,i])**2).sum() < 1e-10\n",
    "\n",
    "# assert (sc_target.inverse_transform(X_train[:, 0, 1]) == df.iloc[:X_train.shape[0], 1].values).all()\n",
    "# assert (sc_target.inverse_transform(X_train[:, -1, 1]) == df.iloc[lag - 1:lag - 1 + X_train.shape[0], 1].values).all()\n",
    "\n",
    "# assert (sc_target.inverse_transform(X_val[:, 0, 1]) == df.iloc[X_train.shape[0] + lag + 1: lag + 1 + X_train.shape[0] + X_val.shape[0], 1].values).all()\n",
    "# assert (sc_target.inverse_transform(X_val[:, -1, 1]) == df.iloc[X_train.shape[0] + lag + 1 + lag - 1: lag + 1 + lag - 1 + X_train.shape[0] + X_val.shape[0], 1].values).all()\n",
    "# # # assert (sc_target.inverse_transform(X_val[:, -1, 1]) == df.iloc[127:127 + X_train.shape[0], 1].values).all()\n",
    "# # print(sc.inverse_transform(X_test)[-10:, :4, 0])\n",
    "# # print(index_test[-4:])\n",
    "# # df.iloc[-10:, 0]\n",
    "# a = (sc.inverse_transform(X_train)[:, 0] == df.iloc[:23081])\n",
    "# np.sum((df.iloc[:23081].loc[np.invert(a).iloc[:, 0]] - sc.inverse_transform(X_train)[np.invert(a).iloc[:, 0], 0]) ** 2)\n"
   ]
  },
  {
   "cell_type": "code",
   "execution_count": 11,
   "id": "geographic-debate",
   "metadata": {},
   "outputs": [],
   "source": [
    "X_train = X_train#.astype(dtype)\n",
    "X_val = X_val#.astype(dtype)\n",
    "X_test = X_test#.astype(dtype)\n",
    "y_train = sc_target.inverse_transform(y_train)\n",
    "y_val = sc_target.inverse_transform(y_val)\n",
    "y_test = sc_target.inverse_transform(y_test)"
   ]
  },
  {
   "cell_type": "code",
   "execution_count": 12,
   "id": "pleasant-constitution",
   "metadata": {},
   "outputs": [],
   "source": [
    "def LSTM_model():\n",
    "    # The LSTM architecture\n",
    "    act_fct = 'tanh'\n",
    "    dr = 0.25\n",
    "    my_LSTM_model = Sequential()\n",
    "    my_LSTM_model.add(LSTM(units=128, activation=act_fct, return_sequences=True, dropout=dr))\n",
    "    my_LSTM_model.add(BatchNormalization())\n",
    "    my_LSTM_model.add(LSTM(units=128, activation=act_fct, return_sequences=True, dropout=dr))\n",
    "    my_LSTM_model.add(BatchNormalization())\n",
    "    my_LSTM_model.add(LSTM(units=64, activation=act_fct, return_sequences=True, dropout=dr))\n",
    "    my_LSTM_model.add(BatchNormalization())\n",
    "    my_LSTM_model.add(Flatten())\n",
    "    my_LSTM_model.add(Dropout(dr))\n",
    "    my_LSTM_model.add(Dense(units=128))\n",
    "    my_LSTM_model.add(Dense(units=3, activation='softmax'))\n",
    "    # my_LSTM_model.add(LSTM(units=1))\n",
    "    return my_LSTM_model"
   ]
  },
  {
   "cell_type": "code",
   "execution_count": 13,
   "id": "capable-patent",
   "metadata": {},
   "outputs": [],
   "source": [
    "def predictions(my_model, X_test, sc=None):\n",
    "    LSTM_prediction = my_model.predict(X_test)\n",
    "    if sc is not None:\n",
    "        LSTM_prediction = sc.inverse_transform(LSTM_prediction)\n",
    "    return LSTM_prediction"
   ]
  },
  {
   "cell_type": "code",
   "execution_count": 14,
   "id": "chronic-civilization",
   "metadata": {},
   "outputs": [],
   "source": [
    "def earlyStopping():\n",
    "    return tf.keras.callbacks.EarlyStopping(\n",
    "        monitor=\"val_loss\",\n",
    "        min_delta=0,\n",
    "        patience=10,\n",
    "        verbose=0,\n",
    "        mode=\"auto\",\n",
    "        baseline=None,\n",
    "        restore_best_weights=True,\n",
    "    )\n",
    "if not os.path.exists('Benchmark/trained_models'):\n",
    "    os.mkdir('Benchmark/trained_models')\n",
    "model_checkpoints = tf.keras.callbacks.ModelCheckpoint(\n",
    "    'Benchmark/trained_models/%s____{epoch:04}.hdf5'%name,\n",
    "    monitor='val_loss',\n",
    "    save_best_only=False,\n",
    "    verbose=1\n",
    ")\n",
    "def learning_rate_scheduler(epoch):\n",
    "    if epoch < 5:\n",
    "        return 0.001\n",
    "    elif epoch < 10:\n",
    "        return 0.0005\n",
    "    elif epoch < 50:\n",
    "        return 0.0001\n",
    "    elif epoch < 100:\n",
    "        return 0.00001\n",
    "    else:\n",
    "        return 0.000001"
   ]
  },
  {
   "cell_type": "code",
   "execution_count": 15,
   "id": "increasing-nutrition",
   "metadata": {},
   "outputs": [
    {
     "name": "stdout",
     "output_type": "stream",
     "text": [
      "Epoch 1/100\n",
      "722/722 [==============================] - 15s 17ms/step - loss: 1.4938 - kullback_leibler_divergence: 5.2640 - accuracy: 0.4781 - val_loss: 0.8140 - val_kullback_leibler_divergence: 2.9676 - val_accuracy: 0.4870\n",
      "\n",
      "Epoch 00001: saving model to Benchmark/trained_models/LSTM_univariate2_classification____0001.hdf5\n",
      "Epoch 2/100\n",
      "722/722 [==============================] - 11s 16ms/step - loss: 0.8192 - kullback_leibler_divergence: 2.8665 - accuracy: 0.4867 - val_loss: 0.8865 - val_kullback_leibler_divergence: 2.3443 - val_accuracy: 0.4563\n",
      "\n",
      "Epoch 00002: saving model to Benchmark/trained_models/LSTM_univariate2_classification____0002.hdf5\n",
      "Epoch 3/100\n",
      "722/722 [==============================] - 11s 16ms/step - loss: 0.8217 - kullback_leibler_divergence: 2.9011 - accuracy: 0.4921 - val_loss: 0.8134 - val_kullback_leibler_divergence: 2.6239 - val_accuracy: 0.4989\n",
      "\n",
      "Epoch 00003: saving model to Benchmark/trained_models/LSTM_univariate2_classification____0003.hdf5\n",
      "Epoch 4/100\n",
      "722/722 [==============================] - 11s 15ms/step - loss: 0.8222 - kullback_leibler_divergence: 2.8879 - accuracy: 0.4925 - val_loss: 0.8093 - val_kullback_leibler_divergence: 2.6493 - val_accuracy: 0.4960\n",
      "\n",
      "Epoch 00004: saving model to Benchmark/trained_models/LSTM_univariate2_classification____0004.hdf5\n",
      "Epoch 5/100\n",
      "722/722 [==============================] - 11s 16ms/step - loss: 0.8185 - kullback_leibler_divergence: 2.9354 - accuracy: 0.4908 - val_loss: 0.8174 - val_kullback_leibler_divergence: 2.7822 - val_accuracy: 0.4848\n",
      "\n",
      "Epoch 00005: saving model to Benchmark/trained_models/LSTM_univariate2_classification____0005.hdf5\n",
      "Epoch 6/100\n",
      "722/722 [==============================] - 11s 15ms/step - loss: 0.7958 - kullback_leibler_divergence: 2.9386 - accuracy: 0.4922 - val_loss: 0.8075 - val_kullback_leibler_divergence: 2.6934 - val_accuracy: 0.4820\n",
      "\n",
      "Epoch 00006: saving model to Benchmark/trained_models/LSTM_univariate2_classification____0006.hdf5\n",
      "Epoch 7/100\n",
      "722/722 [==============================] - 11s 15ms/step - loss: 0.7949 - kullback_leibler_divergence: 2.9429 - accuracy: 0.4954 - val_loss: 0.8100 - val_kullback_leibler_divergence: 2.7649 - val_accuracy: 0.4935\n",
      "\n",
      "Epoch 00007: saving model to Benchmark/trained_models/LSTM_univariate2_classification____0007.hdf5\n",
      "Epoch 8/100\n",
      "722/722 [==============================] - 11s 16ms/step - loss: 0.7915 - kullback_leibler_divergence: 2.9699 - accuracy: 0.5048 - val_loss: 0.8325 - val_kullback_leibler_divergence: 3.0193 - val_accuracy: 0.4740\n",
      "\n",
      "Epoch 00008: saving model to Benchmark/trained_models/LSTM_univariate2_classification____0008.hdf5\n",
      "Epoch 9/100\n",
      "722/722 [==============================] - 11s 15ms/step - loss: 0.7921 - kullback_leibler_divergence: 2.9851 - accuracy: 0.4990 - val_loss: 0.8000 - val_kullback_leibler_divergence: 2.6643 - val_accuracy: 0.4863\n",
      "\n",
      "Epoch 00009: saving model to Benchmark/trained_models/LSTM_univariate2_classification____0009.hdf5\n",
      "Epoch 10/100\n",
      "722/722 [==============================] - 11s 15ms/step - loss: 0.7891 - kullback_leibler_divergence: 3.0007 - accuracy: 0.5050 - val_loss: 0.7964 - val_kullback_leibler_divergence: 2.7363 - val_accuracy: 0.5007\n",
      "\n",
      "Epoch 00010: saving model to Benchmark/trained_models/LSTM_univariate2_classification____0010.hdf5\n",
      "Epoch 11/100\n",
      "722/722 [==============================] - 11s 16ms/step - loss: 0.7752 - kullback_leibler_divergence: 2.9598 - accuracy: 0.5157 - val_loss: 0.7902 - val_kullback_leibler_divergence: 2.8493 - val_accuracy: 0.5137\n",
      "\n",
      "Epoch 00011: saving model to Benchmark/trained_models/LSTM_univariate2_classification____0011.hdf5\n",
      "Epoch 12/100\n",
      "722/722 [==============================] - 11s 16ms/step - loss: 0.7693 - kullback_leibler_divergence: 3.0464 - accuracy: 0.5307 - val_loss: 0.7918 - val_kullback_leibler_divergence: 2.8720 - val_accuracy: 0.4867\n",
      "\n",
      "Epoch 00012: saving model to Benchmark/trained_models/LSTM_univariate2_classification____0012.hdf5\n",
      "Epoch 13/100\n",
      "722/722 [==============================] - 11s 16ms/step - loss: 0.7690 - kullback_leibler_divergence: 3.0563 - accuracy: 0.5339 - val_loss: 0.7907 - val_kullback_leibler_divergence: 2.8549 - val_accuracy: 0.4921\n",
      "\n",
      "Epoch 00013: saving model to Benchmark/trained_models/LSTM_univariate2_classification____0013.hdf5\n",
      "Epoch 14/100\n",
      "722/722 [==============================] - 11s 16ms/step - loss: 0.7676 - kullback_leibler_divergence: 3.0553 - accuracy: 0.5322 - val_loss: 0.7946 - val_kullback_leibler_divergence: 2.8657 - val_accuracy: 0.5043\n",
      "\n",
      "Epoch 00014: saving model to Benchmark/trained_models/LSTM_univariate2_classification____0014.hdf5\n",
      "Epoch 15/100\n",
      "722/722 [==============================] - 11s 16ms/step - loss: 0.7643 - kullback_leibler_divergence: 3.0991 - accuracy: 0.5362 - val_loss: 0.7943 - val_kullback_leibler_divergence: 2.9050 - val_accuracy: 0.4971\n",
      "\n",
      "Epoch 00015: saving model to Benchmark/trained_models/LSTM_univariate2_classification____0015.hdf5\n",
      "Epoch 16/100\n",
      "722/722 [==============================] - 11s 16ms/step - loss: 0.7640 - kullback_leibler_divergence: 3.1032 - accuracy: 0.5394 - val_loss: 0.7986 - val_kullback_leibler_divergence: 2.9104 - val_accuracy: 0.4913\n",
      "\n",
      "Epoch 00016: saving model to Benchmark/trained_models/LSTM_univariate2_classification____0016.hdf5\n",
      "Epoch 17/100\n",
      "722/722 [==============================] - 11s 16ms/step - loss: 0.7619 - kullback_leibler_divergence: 3.1457 - accuracy: 0.5391 - val_loss: 0.8010 - val_kullback_leibler_divergence: 2.9669 - val_accuracy: 0.4859\n",
      "\n",
      "Epoch 00017: saving model to Benchmark/trained_models/LSTM_univariate2_classification____0017.hdf5\n",
      "Epoch 18/100\n",
      "722/722 [==============================] - 11s 16ms/step - loss: 0.7624 - kullback_leibler_divergence: 3.1230 - accuracy: 0.5437 - val_loss: 0.8007 - val_kullback_leibler_divergence: 2.8872 - val_accuracy: 0.4978\n",
      "\n",
      "Epoch 00018: saving model to Benchmark/trained_models/LSTM_univariate2_classification____0018.hdf5\n",
      "Epoch 19/100\n",
      "722/722 [==============================] - 11s 16ms/step - loss: 0.7579 - kullback_leibler_divergence: 3.1580 - accuracy: 0.5498 - val_loss: 0.8055 - val_kullback_leibler_divergence: 2.8278 - val_accuracy: 0.4924\n",
      "\n",
      "Epoch 00019: saving model to Benchmark/trained_models/LSTM_univariate2_classification____0019.hdf5\n",
      "Epoch 20/100\n",
      "722/722 [==============================] - 11s 16ms/step - loss: 0.7576 - kullback_leibler_divergence: 3.1523 - accuracy: 0.5433 - val_loss: 0.8041 - val_kullback_leibler_divergence: 3.0556 - val_accuracy: 0.4870\n",
      "\n",
      "Epoch 00020: saving model to Benchmark/trained_models/LSTM_univariate2_classification____0020.hdf5\n",
      "Epoch 21/100\n",
      "722/722 [==============================] - 11s 16ms/step - loss: 0.7553 - kullback_leibler_divergence: 3.2114 - accuracy: 0.5531 - val_loss: 0.8008 - val_kullback_leibler_divergence: 2.9903 - val_accuracy: 0.4924\n",
      "\n",
      "Epoch 00021: saving model to Benchmark/trained_models/LSTM_univariate2_classification____0021.hdf5\n",
      "Epoch 22/100\n",
      "722/722 [==============================] - 11s 16ms/step - loss: 0.7559 - kullback_leibler_divergence: 3.2011 - accuracy: 0.5472 - val_loss: 0.8021 - val_kullback_leibler_divergence: 2.9431 - val_accuracy: 0.4968\n",
      "\n",
      "Epoch 00022: saving model to Benchmark/trained_models/LSTM_univariate2_classification____0022.hdf5\n",
      "Epoch 23/100\n",
      "722/722 [==============================] - 11s 16ms/step - loss: 0.7534 - kullback_leibler_divergence: 3.2471 - accuracy: 0.5550 - val_loss: 0.8084 - val_kullback_leibler_divergence: 2.9647 - val_accuracy: 0.4906\n",
      "\n",
      "Epoch 00023: saving model to Benchmark/trained_models/LSTM_univariate2_classification____0023.hdf5\n",
      "Epoch 24/100\n",
      "722/722 [==============================] - 11s 16ms/step - loss: 0.7529 - kullback_leibler_divergence: 3.2158 - accuracy: 0.5575 - val_loss: 0.8041 - val_kullback_leibler_divergence: 2.9170 - val_accuracy: 0.4881\n",
      "\n",
      "Epoch 00024: saving model to Benchmark/trained_models/LSTM_univariate2_classification____0024.hdf5\n",
      "Epoch 25/100\n",
      "722/722 [==============================] - 11s 16ms/step - loss: 0.7521 - kullback_leibler_divergence: 3.2392 - accuracy: 0.5549 - val_loss: 0.8027 - val_kullback_leibler_divergence: 2.9978 - val_accuracy: 0.4917\n",
      "\n",
      "Epoch 00025: saving model to Benchmark/trained_models/LSTM_univariate2_classification____0025.hdf5\n",
      "Epoch 26/100\n",
      "722/722 [==============================] - 11s 16ms/step - loss: 0.7511 - kullback_leibler_divergence: 3.2787 - accuracy: 0.5539 - val_loss: 0.7999 - val_kullback_leibler_divergence: 2.9369 - val_accuracy: 0.4913\n",
      "\n",
      "Epoch 00026: saving model to Benchmark/trained_models/LSTM_univariate2_classification____0026.hdf5\n",
      "Epoch 27/100\n",
      "722/722 [==============================] - 11s 15ms/step - loss: 0.7502 - kullback_leibler_divergence: 3.2682 - accuracy: 0.5526 - val_loss: 0.8036 - val_kullback_leibler_divergence: 2.8828 - val_accuracy: 0.4960\n",
      "\n",
      "Epoch 00027: saving model to Benchmark/trained_models/LSTM_univariate2_classification____0027.hdf5\n",
      "Epoch 28/100\n",
      "722/722 [==============================] - 11s 16ms/step - loss: 0.7491 - kullback_leibler_divergence: 3.2830 - accuracy: 0.5600 - val_loss: 0.8084 - val_kullback_leibler_divergence: 2.8608 - val_accuracy: 0.4867\n",
      "\n",
      "Epoch 00028: saving model to Benchmark/trained_models/LSTM_univariate2_classification____0028.hdf5\n",
      "Epoch 29/100\n",
      "722/722 [==============================] - 12s 16ms/step - loss: 0.7505 - kullback_leibler_divergence: 3.2385 - accuracy: 0.5593 - val_loss: 0.8037 - val_kullback_leibler_divergence: 3.0754 - val_accuracy: 0.4931\n",
      "\n",
      "Epoch 00029: saving model to Benchmark/trained_models/LSTM_univariate2_classification____0029.hdf5\n",
      "Epoch 30/100\n",
      "722/722 [==============================] - 12s 16ms/step - loss: 0.7442 - kullback_leibler_divergence: 3.3091 - accuracy: 0.5599 - val_loss: 0.8148 - val_kullback_leibler_divergence: 3.0413 - val_accuracy: 0.4787\n",
      "\n",
      "Epoch 00030: saving model to Benchmark/trained_models/LSTM_univariate2_classification____0030.hdf5\n",
      "Epoch 31/100\n",
      "722/722 [==============================] - 12s 16ms/step - loss: 0.7474 - kullback_leibler_divergence: 3.3160 - accuracy: 0.5643 - val_loss: 0.8078 - val_kullback_leibler_divergence: 2.9512 - val_accuracy: 0.4830\n",
      "\n",
      "Epoch 00031: saving model to Benchmark/trained_models/LSTM_univariate2_classification____0031.hdf5\n",
      "Epoch 32/100\n",
      "722/722 [==============================] - 12s 16ms/step - loss: 0.7454 - kullback_leibler_divergence: 3.3297 - accuracy: 0.5633 - val_loss: 0.8057 - val_kullback_leibler_divergence: 2.9003 - val_accuracy: 0.5022\n",
      "\n",
      "Epoch 00032: saving model to Benchmark/trained_models/LSTM_univariate2_classification____0032.hdf5\n",
      "Epoch 33/100\n",
      "722/722 [==============================] - 12s 16ms/step - loss: 0.7453 - kullback_leibler_divergence: 3.3424 - accuracy: 0.5560 - val_loss: 0.8103 - val_kullback_leibler_divergence: 2.9691 - val_accuracy: 0.4859\n",
      "\n",
      "Epoch 00033: saving model to Benchmark/trained_models/LSTM_univariate2_classification____0033.hdf5\n",
      "Epoch 34/100\n",
      "722/722 [==============================] - 12s 16ms/step - loss: 0.7452 - kullback_leibler_divergence: 3.3488 - accuracy: 0.5597 - val_loss: 0.8134 - val_kullback_leibler_divergence: 3.1586 - val_accuracy: 0.4856\n",
      "\n",
      "Epoch 00034: saving model to Benchmark/trained_models/LSTM_univariate2_classification____0034.hdf5\n",
      "Epoch 35/100\n",
      "722/722 [==============================] - 12s 16ms/step - loss: 0.7433 - kullback_leibler_divergence: 3.3634 - accuracy: 0.5625 - val_loss: 0.8151 - val_kullback_leibler_divergence: 3.1042 - val_accuracy: 0.4906\n",
      "\n",
      "Epoch 00035: saving model to Benchmark/trained_models/LSTM_univariate2_classification____0035.hdf5\n",
      "Epoch 36/100\n",
      "722/722 [==============================] - 12s 16ms/step - loss: 0.7389 - kullback_leibler_divergence: 3.3917 - accuracy: 0.5742 - val_loss: 0.8169 - val_kullback_leibler_divergence: 2.9806 - val_accuracy: 0.4885\n",
      "\n",
      "Epoch 00036: saving model to Benchmark/trained_models/LSTM_univariate2_classification____0036.hdf5\n",
      "Epoch 37/100\n",
      "722/722 [==============================] - 12s 16ms/step - loss: 0.7387 - kullback_leibler_divergence: 3.4076 - accuracy: 0.5695 - val_loss: 0.8154 - val_kullback_leibler_divergence: 3.0428 - val_accuracy: 0.4848\n",
      "\n",
      "Epoch 00037: saving model to Benchmark/trained_models/LSTM_univariate2_classification____0037.hdf5\n",
      "Epoch 38/100\n",
      "722/722 [==============================] - 12s 17ms/step - loss: 0.7375 - kullback_leibler_divergence: 3.4266 - accuracy: 0.5717 - val_loss: 0.8143 - val_kullback_leibler_divergence: 3.0201 - val_accuracy: 0.4870\n",
      "\n",
      "Epoch 00038: saving model to Benchmark/trained_models/LSTM_univariate2_classification____0038.hdf5\n",
      "Epoch 39/100\n",
      "722/722 [==============================] - 12s 17ms/step - loss: 0.7383 - kullback_leibler_divergence: 3.4329 - accuracy: 0.5748 - val_loss: 0.8170 - val_kullback_leibler_divergence: 3.0171 - val_accuracy: 0.4953\n",
      "\n",
      "Epoch 00039: saving model to Benchmark/trained_models/LSTM_univariate2_classification____0039.hdf5\n",
      "Epoch 40/100\n",
      "722/722 [==============================] - 12s 17ms/step - loss: 0.7370 - kullback_leibler_divergence: 3.4149 - accuracy: 0.5729 - val_loss: 0.8210 - val_kullback_leibler_divergence: 3.1325 - val_accuracy: 0.4820\n",
      "\n",
      "Epoch 00040: saving model to Benchmark/trained_models/LSTM_univariate2_classification____0040.hdf5\n",
      "Epoch 41/100\n",
      "722/722 [==============================] - 11s 16ms/step - loss: 0.7371 - kullback_leibler_divergence: 3.4518 - accuracy: 0.5719 - val_loss: 0.8151 - val_kullback_leibler_divergence: 3.0007 - val_accuracy: 0.4885\n",
      "\n",
      "Epoch 00041: saving model to Benchmark/trained_models/LSTM_univariate2_classification____0041.hdf5\n",
      "Epoch 42/100\n",
      "722/722 [==============================] - 11s 16ms/step - loss: 0.7351 - kullback_leibler_divergence: 3.4134 - accuracy: 0.5725 - val_loss: 0.8170 - val_kullback_leibler_divergence: 3.1567 - val_accuracy: 0.4917\n",
      "\n",
      "Epoch 00042: saving model to Benchmark/trained_models/LSTM_univariate2_classification____0042.hdf5\n",
      "Epoch 43/100\n",
      "722/722 [==============================] - 11s 15ms/step - loss: 0.7355 - kullback_leibler_divergence: 3.4383 - accuracy: 0.5737 - val_loss: 0.8183 - val_kullback_leibler_divergence: 3.1204 - val_accuracy: 0.4870\n",
      "\n",
      "Epoch 00043: saving model to Benchmark/trained_models/LSTM_univariate2_classification____0043.hdf5\n",
      "Epoch 44/100\n",
      "722/722 [==============================] - 11s 16ms/step - loss: 0.7338 - kullback_leibler_divergence: 3.4809 - accuracy: 0.5823 - val_loss: 0.8213 - val_kullback_leibler_divergence: 3.1362 - val_accuracy: 0.4848\n",
      "\n",
      "Epoch 00044: saving model to Benchmark/trained_models/LSTM_univariate2_classification____0044.hdf5\n",
      "Epoch 45/100\n",
      "722/722 [==============================] - 11s 16ms/step - loss: 0.7330 - kullback_leibler_divergence: 3.4565 - accuracy: 0.5785 - val_loss: 0.8234 - val_kullback_leibler_divergence: 3.1870 - val_accuracy: 0.4848\n",
      "\n",
      "Epoch 00045: saving model to Benchmark/trained_models/LSTM_univariate2_classification____0045.hdf5\n",
      "Epoch 46/100\n",
      "722/722 [==============================] - 11s 16ms/step - loss: 0.7315 - kullback_leibler_divergence: 3.4921 - accuracy: 0.5788 - val_loss: 0.8269 - val_kullback_leibler_divergence: 3.1002 - val_accuracy: 0.4856\n",
      "\n",
      "Epoch 00046: saving model to Benchmark/trained_models/LSTM_univariate2_classification____0046.hdf5\n",
      "Epoch 47/100\n",
      "722/722 [==============================] - 11s 16ms/step - loss: 0.7318 - kullback_leibler_divergence: 3.5124 - accuracy: 0.5761 - val_loss: 0.8248 - val_kullback_leibler_divergence: 3.0566 - val_accuracy: 0.4960\n",
      "\n",
      "Epoch 00047: saving model to Benchmark/trained_models/LSTM_univariate2_classification____0047.hdf5\n",
      "Epoch 48/100\n",
      "722/722 [==============================] - 11s 15ms/step - loss: 0.7321 - kullback_leibler_divergence: 3.4906 - accuracy: 0.5789 - val_loss: 0.8191 - val_kullback_leibler_divergence: 3.1689 - val_accuracy: 0.4906\n",
      "\n",
      "Epoch 00048: saving model to Benchmark/trained_models/LSTM_univariate2_classification____0048.hdf5\n",
      "Epoch 49/100\n",
      "722/722 [==============================] - 11s 16ms/step - loss: 0.7299 - kullback_leibler_divergence: 3.4989 - accuracy: 0.5787 - val_loss: 0.8184 - val_kullback_leibler_divergence: 3.1941 - val_accuracy: 0.4830\n",
      "\n",
      "Epoch 00049: saving model to Benchmark/trained_models/LSTM_univariate2_classification____0049.hdf5\n",
      "Epoch 50/100\n",
      "722/722 [==============================] - 11s 16ms/step - loss: 0.7290 - kullback_leibler_divergence: 3.5182 - accuracy: 0.5801 - val_loss: 0.8202 - val_kullback_leibler_divergence: 3.1855 - val_accuracy: 0.4867\n",
      "\n",
      "Epoch 00050: saving model to Benchmark/trained_models/LSTM_univariate2_classification____0050.hdf5\n",
      "Epoch 51/100\n",
      "722/722 [==============================] - 11s 15ms/step - loss: 0.7222 - kullback_leibler_divergence: 3.5106 - accuracy: 0.5887 - val_loss: 0.8241 - val_kullback_leibler_divergence: 3.1913 - val_accuracy: 0.4903\n",
      "\n",
      "Epoch 00051: saving model to Benchmark/trained_models/LSTM_univariate2_classification____0051.hdf5\n",
      "Epoch 52/100\n",
      "722/722 [==============================] - 12s 16ms/step - loss: 0.7232 - kullback_leibler_divergence: 3.5182 - accuracy: 0.5896 - val_loss: 0.8243 - val_kullback_leibler_divergence: 3.1954 - val_accuracy: 0.4906\n",
      "\n",
      "Epoch 00052: saving model to Benchmark/trained_models/LSTM_univariate2_classification____0052.hdf5\n",
      "Epoch 53/100\n",
      "722/722 [==============================] - 11s 15ms/step - loss: 0.7162 - kullback_leibler_divergence: 3.5212 - accuracy: 0.5972 - val_loss: 0.8259 - val_kullback_leibler_divergence: 3.1808 - val_accuracy: 0.4903\n",
      "\n",
      "Epoch 00053: saving model to Benchmark/trained_models/LSTM_univariate2_classification____0053.hdf5\n",
      "Epoch 54/100\n",
      "722/722 [==============================] - 11s 15ms/step - loss: 0.7199 - kullback_leibler_divergence: 3.5333 - accuracy: 0.5895 - val_loss: 0.8250 - val_kullback_leibler_divergence: 3.1859 - val_accuracy: 0.4968\n",
      "\n",
      "Epoch 00054: saving model to Benchmark/trained_models/LSTM_univariate2_classification____0054.hdf5\n",
      "Epoch 55/100\n",
      "722/722 [==============================] - 11s 15ms/step - loss: 0.7191 - kullback_leibler_divergence: 3.5344 - accuracy: 0.5901 - val_loss: 0.8258 - val_kullback_leibler_divergence: 3.2074 - val_accuracy: 0.4928\n",
      "\n",
      "Epoch 00055: saving model to Benchmark/trained_models/LSTM_univariate2_classification____0055.hdf5\n",
      "Epoch 56/100\n",
      "722/722 [==============================] - 11s 15ms/step - loss: 0.7210 - kullback_leibler_divergence: 3.5479 - accuracy: 0.5936 - val_loss: 0.8252 - val_kullback_leibler_divergence: 3.1945 - val_accuracy: 0.4935\n",
      "\n",
      "Epoch 00056: saving model to Benchmark/trained_models/LSTM_univariate2_classification____0056.hdf5\n",
      "Epoch 57/100\n",
      "722/722 [==============================] - 11s 15ms/step - loss: 0.7165 - kullback_leibler_divergence: 3.5587 - accuracy: 0.5952 - val_loss: 0.8260 - val_kullback_leibler_divergence: 3.2181 - val_accuracy: 0.4939\n",
      "\n",
      "Epoch 00057: saving model to Benchmark/trained_models/LSTM_univariate2_classification____0057.hdf5\n",
      "Epoch 58/100\n",
      "722/722 [==============================] - 11s 15ms/step - loss: 0.7180 - kullback_leibler_divergence: 3.5759 - accuracy: 0.5921 - val_loss: 0.8257 - val_kullback_leibler_divergence: 3.2086 - val_accuracy: 0.4921\n",
      "\n",
      "Epoch 00058: saving model to Benchmark/trained_models/LSTM_univariate2_classification____0058.hdf5\n",
      "Epoch 59/100\n",
      "722/722 [==============================] - 11s 15ms/step - loss: 0.7184 - kullback_leibler_divergence: 3.5812 - accuracy: 0.5871 - val_loss: 0.8264 - val_kullback_leibler_divergence: 3.2149 - val_accuracy: 0.4921\n",
      "\n",
      "Epoch 00059: saving model to Benchmark/trained_models/LSTM_univariate2_classification____0059.hdf5\n",
      "Epoch 60/100\n",
      "722/722 [==============================] - 11s 15ms/step - loss: 0.7163 - kullback_leibler_divergence: 3.5894 - accuracy: 0.5940 - val_loss: 0.8280 - val_kullback_leibler_divergence: 3.2103 - val_accuracy: 0.4939\n",
      "\n",
      "Epoch 00060: saving model to Benchmark/trained_models/LSTM_univariate2_classification____0060.hdf5\n",
      "Epoch 61/100\n",
      "722/722 [==============================] - 11s 15ms/step - loss: 0.7162 - kullback_leibler_divergence: 3.5876 - accuracy: 0.5949 - val_loss: 0.8287 - val_kullback_leibler_divergence: 3.2305 - val_accuracy: 0.4939\n",
      "\n",
      "Epoch 00061: saving model to Benchmark/trained_models/LSTM_univariate2_classification____0061.hdf5\n",
      "Epoch 62/100\n",
      "722/722 [==============================] - 11s 15ms/step - loss: 0.7159 - kullback_leibler_divergence: 3.5952 - accuracy: 0.5932 - val_loss: 0.8285 - val_kullback_leibler_divergence: 3.2230 - val_accuracy: 0.4877\n",
      "\n",
      "Epoch 00062: saving model to Benchmark/trained_models/LSTM_univariate2_classification____0062.hdf5\n",
      "Epoch 63/100\n",
      "722/722 [==============================] - 11s 15ms/step - loss: 0.7153 - kullback_leibler_divergence: 3.6148 - accuracy: 0.5919 - val_loss: 0.8279 - val_kullback_leibler_divergence: 3.2540 - val_accuracy: 0.4863\n",
      "\n",
      "Epoch 00063: saving model to Benchmark/trained_models/LSTM_univariate2_classification____0063.hdf5\n",
      "Epoch 64/100\n",
      "722/722 [==============================] - 11s 15ms/step - loss: 0.7195 - kullback_leibler_divergence: 3.6258 - accuracy: 0.5882 - val_loss: 0.8274 - val_kullback_leibler_divergence: 3.2456 - val_accuracy: 0.4881\n",
      "\n",
      "Epoch 00064: saving model to Benchmark/trained_models/LSTM_univariate2_classification____0064.hdf5\n",
      "Epoch 65/100\n",
      "722/722 [==============================] - 11s 15ms/step - loss: 0.7142 - kullback_leibler_divergence: 3.6286 - accuracy: 0.5940 - val_loss: 0.8284 - val_kullback_leibler_divergence: 3.2754 - val_accuracy: 0.4921\n",
      "\n",
      "Epoch 00065: saving model to Benchmark/trained_models/LSTM_univariate2_classification____0065.hdf5\n",
      "Epoch 66/100\n",
      "722/722 [==============================] - 11s 16ms/step - loss: 0.7182 - kullback_leibler_divergence: 3.6306 - accuracy: 0.5923 - val_loss: 0.8284 - val_kullback_leibler_divergence: 3.2738 - val_accuracy: 0.4953\n",
      "\n",
      "Epoch 00066: saving model to Benchmark/trained_models/LSTM_univariate2_classification____0066.hdf5\n",
      "Epoch 67/100\n",
      "722/722 [==============================] - 11s 16ms/step - loss: 0.7155 - kullback_leibler_divergence: 3.6363 - accuracy: 0.5979 - val_loss: 0.8293 - val_kullback_leibler_divergence: 3.2579 - val_accuracy: 0.4863\n",
      "\n",
      "Epoch 00067: saving model to Benchmark/trained_models/LSTM_univariate2_classification____0067.hdf5\n",
      "Epoch 68/100\n",
      "722/722 [==============================] - 11s 15ms/step - loss: 0.7147 - kullback_leibler_divergence: 3.6540 - accuracy: 0.5942 - val_loss: 0.8285 - val_kullback_leibler_divergence: 3.2550 - val_accuracy: 0.4859\n",
      "\n",
      "Epoch 00068: saving model to Benchmark/trained_models/LSTM_univariate2_classification____0068.hdf5\n",
      "Epoch 69/100\n",
      "722/722 [==============================] - 11s 15ms/step - loss: 0.7143 - kullback_leibler_divergence: 3.6378 - accuracy: 0.5954 - val_loss: 0.8305 - val_kullback_leibler_divergence: 3.2654 - val_accuracy: 0.4848\n",
      "\n",
      "Epoch 00069: saving model to Benchmark/trained_models/LSTM_univariate2_classification____0069.hdf5\n",
      "Epoch 70/100\n",
      "722/722 [==============================] - 11s 15ms/step - loss: 0.7170 - kullback_leibler_divergence: 3.6280 - accuracy: 0.5948 - val_loss: 0.8283 - val_kullback_leibler_divergence: 3.2618 - val_accuracy: 0.4895\n",
      "\n",
      "Epoch 00070: saving model to Benchmark/trained_models/LSTM_univariate2_classification____0070.hdf5\n",
      "Epoch 71/100\n",
      "722/722 [==============================] - 11s 15ms/step - loss: 0.7159 - kullback_leibler_divergence: 3.6663 - accuracy: 0.5910 - val_loss: 0.8291 - val_kullback_leibler_divergence: 3.2694 - val_accuracy: 0.4881\n",
      "\n",
      "Epoch 00071: saving model to Benchmark/trained_models/LSTM_univariate2_classification____0071.hdf5\n",
      "Epoch 72/100\n",
      "722/722 [==============================] - 11s 15ms/step - loss: 0.7119 - kullback_leibler_divergence: 3.6689 - accuracy: 0.5970 - val_loss: 0.8302 - val_kullback_leibler_divergence: 3.2816 - val_accuracy: 0.4888\n",
      "\n",
      "Epoch 00072: saving model to Benchmark/trained_models/LSTM_univariate2_classification____0072.hdf5\n",
      "Epoch 73/100\n",
      "722/722 [==============================] - 11s 15ms/step - loss: 0.7124 - kullback_leibler_divergence: 3.6703 - accuracy: 0.6031 - val_loss: 0.8299 - val_kullback_leibler_divergence: 3.2621 - val_accuracy: 0.4874\n",
      "\n",
      "Epoch 00073: saving model to Benchmark/trained_models/LSTM_univariate2_classification____0073.hdf5\n",
      "Epoch 74/100\n",
      "722/722 [==============================] - 11s 16ms/step - loss: 0.7137 - kullback_leibler_divergence: 3.6688 - accuracy: 0.5951 - val_loss: 0.8313 - val_kullback_leibler_divergence: 3.2815 - val_accuracy: 0.4870\n",
      "\n",
      "Epoch 00074: saving model to Benchmark/trained_models/LSTM_univariate2_classification____0074.hdf5\n",
      "Epoch 75/100\n",
      "722/722 [==============================] - 11s 16ms/step - loss: 0.7142 - kullback_leibler_divergence: 3.6671 - accuracy: 0.5962 - val_loss: 0.8305 - val_kullback_leibler_divergence: 3.2787 - val_accuracy: 0.4903\n",
      "\n",
      "Epoch 00075: saving model to Benchmark/trained_models/LSTM_univariate2_classification____0075.hdf5\n",
      "Epoch 76/100\n",
      "722/722 [==============================] - 11s 15ms/step - loss: 0.7118 - kullback_leibler_divergence: 3.6986 - accuracy: 0.5956 - val_loss: 0.8305 - val_kullback_leibler_divergence: 3.2847 - val_accuracy: 0.4913\n",
      "\n",
      "Epoch 00076: saving model to Benchmark/trained_models/LSTM_univariate2_classification____0076.hdf5\n",
      "Epoch 77/100\n",
      "722/722 [==============================] - 11s 15ms/step - loss: 0.7115 - kullback_leibler_divergence: 3.6802 - accuracy: 0.6001 - val_loss: 0.8318 - val_kullback_leibler_divergence: 3.2961 - val_accuracy: 0.4906\n",
      "\n",
      "Epoch 00077: saving model to Benchmark/trained_models/LSTM_univariate2_classification____0077.hdf5\n",
      "Epoch 78/100\n",
      "722/722 [==============================] - 11s 15ms/step - loss: 0.7139 - kullback_leibler_divergence: 3.7056 - accuracy: 0.5974 - val_loss: 0.8311 - val_kullback_leibler_divergence: 3.2605 - val_accuracy: 0.4885\n",
      "\n",
      "Epoch 00078: saving model to Benchmark/trained_models/LSTM_univariate2_classification____0078.hdf5\n",
      "Epoch 79/100\n",
      "722/722 [==============================] - 11s 15ms/step - loss: 0.7148 - kullback_leibler_divergence: 3.6802 - accuracy: 0.5932 - val_loss: 0.8303 - val_kullback_leibler_divergence: 3.2769 - val_accuracy: 0.4924\n",
      "\n",
      "Epoch 00079: saving model to Benchmark/trained_models/LSTM_univariate2_classification____0079.hdf5\n",
      "Epoch 80/100\n",
      "722/722 [==============================] - 11s 16ms/step - loss: 0.7122 - kullback_leibler_divergence: 3.7013 - accuracy: 0.5959 - val_loss: 0.8309 - val_kullback_leibler_divergence: 3.2684 - val_accuracy: 0.4906\n",
      "\n",
      "Epoch 00080: saving model to Benchmark/trained_models/LSTM_univariate2_classification____0080.hdf5\n",
      "Epoch 81/100\n",
      "722/722 [==============================] - 11s 15ms/step - loss: 0.7124 - kullback_leibler_divergence: 3.6922 - accuracy: 0.5973 - val_loss: 0.8304 - val_kullback_leibler_divergence: 3.2716 - val_accuracy: 0.4906\n",
      "\n",
      "Epoch 00081: saving model to Benchmark/trained_models/LSTM_univariate2_classification____0081.hdf5\n",
      "Epoch 82/100\n",
      "722/722 [==============================] - 11s 15ms/step - loss: 0.7105 - kullback_leibler_divergence: 3.6824 - accuracy: 0.6010 - val_loss: 0.8326 - val_kullback_leibler_divergence: 3.2762 - val_accuracy: 0.4892\n",
      "\n",
      "Epoch 00082: saving model to Benchmark/trained_models/LSTM_univariate2_classification____0082.hdf5\n",
      "Epoch 83/100\n",
      "722/722 [==============================] - 11s 15ms/step - loss: 0.7136 - kullback_leibler_divergence: 3.6824 - accuracy: 0.5937 - val_loss: 0.8313 - val_kullback_leibler_divergence: 3.2932 - val_accuracy: 0.4939\n",
      "\n",
      "Epoch 00083: saving model to Benchmark/trained_models/LSTM_univariate2_classification____0083.hdf5\n",
      "Epoch 84/100\n",
      "722/722 [==============================] - 11s 16ms/step - loss: 0.7176 - kullback_leibler_divergence: 3.7101 - accuracy: 0.5925 - val_loss: 0.8292 - val_kullback_leibler_divergence: 3.2618 - val_accuracy: 0.4924\n",
      "\n",
      "Epoch 00084: saving model to Benchmark/trained_models/LSTM_univariate2_classification____0084.hdf5\n",
      "Epoch 85/100\n",
      "722/722 [==============================] - 11s 16ms/step - loss: 0.7135 - kullback_leibler_divergence: 3.6871 - accuracy: 0.5989 - val_loss: 0.8310 - val_kullback_leibler_divergence: 3.2879 - val_accuracy: 0.4946\n",
      "\n",
      "Epoch 00085: saving model to Benchmark/trained_models/LSTM_univariate2_classification____0085.hdf5\n",
      "Epoch 86/100\n",
      "722/722 [==============================] - 11s 15ms/step - loss: 0.7116 - kullback_leibler_divergence: 3.7085 - accuracy: 0.5967 - val_loss: 0.8311 - val_kullback_leibler_divergence: 3.2972 - val_accuracy: 0.4928\n",
      "\n",
      "Epoch 00086: saving model to Benchmark/trained_models/LSTM_univariate2_classification____0086.hdf5\n",
      "Epoch 87/100\n",
      "722/722 [==============================] - 11s 16ms/step - loss: 0.7114 - kullback_leibler_divergence: 3.7200 - accuracy: 0.5970 - val_loss: 0.8319 - val_kullback_leibler_divergence: 3.3043 - val_accuracy: 0.4888\n",
      "\n",
      "Epoch 00087: saving model to Benchmark/trained_models/LSTM_univariate2_classification____0087.hdf5\n",
      "Epoch 88/100\n",
      "722/722 [==============================] - 11s 16ms/step - loss: 0.7119 - kullback_leibler_divergence: 3.7195 - accuracy: 0.5954 - val_loss: 0.8321 - val_kullback_leibler_divergence: 3.3064 - val_accuracy: 0.4895\n",
      "\n",
      "Epoch 00088: saving model to Benchmark/trained_models/LSTM_univariate2_classification____0088.hdf5\n",
      "Epoch 89/100\n",
      "722/722 [==============================] - 11s 15ms/step - loss: 0.7136 - kullback_leibler_divergence: 3.7187 - accuracy: 0.5975 - val_loss: 0.8321 - val_kullback_leibler_divergence: 3.2999 - val_accuracy: 0.4913\n",
      "\n",
      "Epoch 00089: saving model to Benchmark/trained_models/LSTM_univariate2_classification____0089.hdf5\n",
      "Epoch 90/100\n",
      "722/722 [==============================] - 11s 15ms/step - loss: 0.7119 - kullback_leibler_divergence: 3.7431 - accuracy: 0.5972 - val_loss: 0.8322 - val_kullback_leibler_divergence: 3.3043 - val_accuracy: 0.4906\n",
      "\n",
      "Epoch 00090: saving model to Benchmark/trained_models/LSTM_univariate2_classification____0090.hdf5\n",
      "Epoch 91/100\n",
      "722/722 [==============================] - 11s 15ms/step - loss: 0.7108 - kullback_leibler_divergence: 3.7475 - accuracy: 0.5992 - val_loss: 0.8331 - val_kullback_leibler_divergence: 3.2826 - val_accuracy: 0.4892\n",
      "\n",
      "Epoch 00091: saving model to Benchmark/trained_models/LSTM_univariate2_classification____0091.hdf5\n",
      "Epoch 92/100\n",
      "722/722 [==============================] - 11s 15ms/step - loss: 0.7136 - kullback_leibler_divergence: 3.6917 - accuracy: 0.5985 - val_loss: 0.8324 - val_kullback_leibler_divergence: 3.2828 - val_accuracy: 0.4935\n",
      "\n",
      "Epoch 00092: saving model to Benchmark/trained_models/LSTM_univariate2_classification____0092.hdf5\n",
      "Epoch 93/100\n",
      "722/722 [==============================] - 11s 15ms/step - loss: 0.7101 - kullback_leibler_divergence: 3.7142 - accuracy: 0.5974 - val_loss: 0.8327 - val_kullback_leibler_divergence: 3.2910 - val_accuracy: 0.4928\n",
      "\n",
      "Epoch 00093: saving model to Benchmark/trained_models/LSTM_univariate2_classification____0093.hdf5\n",
      "Epoch 94/100\n",
      "722/722 [==============================] - 11s 15ms/step - loss: 0.7136 - kullback_leibler_divergence: 3.7210 - accuracy: 0.5939 - val_loss: 0.8316 - val_kullback_leibler_divergence: 3.2922 - val_accuracy: 0.4885\n",
      "\n",
      "Epoch 00094: saving model to Benchmark/trained_models/LSTM_univariate2_classification____0094.hdf5\n",
      "Epoch 95/100\n",
      "722/722 [==============================] - 11s 15ms/step - loss: 0.7117 - kullback_leibler_divergence: 3.7338 - accuracy: 0.5979 - val_loss: 0.8328 - val_kullback_leibler_divergence: 3.3015 - val_accuracy: 0.4928\n",
      "\n",
      "Epoch 00095: saving model to Benchmark/trained_models/LSTM_univariate2_classification____0095.hdf5\n",
      "Epoch 96/100\n",
      "722/722 [==============================] - 11s 16ms/step - loss: 0.7084 - kullback_leibler_divergence: 3.7279 - accuracy: 0.6037 - val_loss: 0.8327 - val_kullback_leibler_divergence: 3.3157 - val_accuracy: 0.4924\n",
      "\n",
      "Epoch 00096: saving model to Benchmark/trained_models/LSTM_univariate2_classification____0096.hdf5\n",
      "Epoch 97/100\n",
      "722/722 [==============================] - 11s 16ms/step - loss: 0.7106 - kullback_leibler_divergence: 3.7221 - accuracy: 0.6005 - val_loss: 0.8333 - val_kullback_leibler_divergence: 3.3036 - val_accuracy: 0.4960\n",
      "\n",
      "Epoch 00097: saving model to Benchmark/trained_models/LSTM_univariate2_classification____0097.hdf5\n",
      "Epoch 98/100\n",
      "722/722 [==============================] - 11s 15ms/step - loss: 0.7073 - kullback_leibler_divergence: 3.7637 - accuracy: 0.6065 - val_loss: 0.8340 - val_kullback_leibler_divergence: 3.2780 - val_accuracy: 0.4946\n",
      "\n",
      "Epoch 00098: saving model to Benchmark/trained_models/LSTM_univariate2_classification____0098.hdf5\n",
      "Epoch 99/100\n",
      "722/722 [==============================] - 11s 15ms/step - loss: 0.7085 - kullback_leibler_divergence: 3.7482 - accuracy: 0.5974 - val_loss: 0.8352 - val_kullback_leibler_divergence: 3.2989 - val_accuracy: 0.4939\n",
      "\n",
      "Epoch 00099: saving model to Benchmark/trained_models/LSTM_univariate2_classification____0099.hdf5\n",
      "Epoch 100/100\n",
      "722/722 [==============================] - 11s 15ms/step - loss: 0.7115 - kullback_leibler_divergence: 3.7453 - accuracy: 0.5964 - val_loss: 0.8340 - val_kullback_leibler_divergence: 3.3126 - val_accuracy: 0.4924\n",
      "\n",
      "Epoch 00100: saving model to Benchmark/trained_models/LSTM_univariate2_classification____0100.hdf5\n"
     ]
    }
   ],
   "source": [
    "from tensorflow.keras.optimizers import Adam\n",
    "my_LSTM_model = LSTM_model()\n",
    "my_LSTM_model.compile(\n",
    "    optimizer=Adam(\n",
    "        learning_rate=0.05\n",
    "    ),\n",
    "    loss=SparseCategoricalCrossentropy(from_logits=False),\n",
    "#     loss='accuracy',\n",
    "    metrics=['kullback_leibler_divergence', 'accuracy'],\n",
    ")\n",
    "\n",
    "history = my_LSTM_model.fit(\n",
    "    X_train[..., :1], y_train,\n",
    "    epochs=100,\n",
    "    batch_size=32,\n",
    "    validation_data=(X_val[..., :1], y_val),\n",
    "    verbose=1,\n",
    "    shuffle=True,\n",
    "    callbacks=[\n",
    "        # earlyStopping(),\n",
    "        LearningRateScheduler(learning_rate_scheduler),\n",
    "        model_checkpoints,\n",
    "        tf.keras.callbacks.TerminateOnNaN()\n",
    "    ]\n",
    ")"
   ]
  },
  {
   "cell_type": "code",
   "execution_count": 16,
   "id": "advised-moisture",
   "metadata": {},
   "outputs": [],
   "source": [
    "with open(f'Benchmark/trained_models/{name}____history.pkl', 'wb') as f:\n",
    "    pickle.dump(history.history, f)"
   ]
  },
  {
   "cell_type": "code",
   "execution_count": 42,
   "id": "mexican-offer",
   "metadata": {},
   "outputs": [],
   "source": [
    "if 'my_LSTM_model' not in globals():\n",
    "    model_last = sorted([i for i in os.listdir('Benchmark/trained_models/') if name in i and 'hdf5' in i])[-1]\n",
    "    my_LSTM_model = tf.keras.models.load_model(\n",
    "        os.path.join('Benchmark/trained_models', model_last),\n",
    "        custom_objects={'kl_divergence': kullback_leibler_divergence}\n",
    "    )\n",
    "if 'history' not in globals():\n",
    "    with open(f'Benchmark/trained_models/{name}____history.pkl', 'rb') as f:\n",
    "        history = pickle.load(f)\n",
    "if hasattr(history, 'history'):\n",
    "    history = history.history"
   ]
  },
  {
   "cell_type": "code",
   "execution_count": null,
   "id": "changed-advancement",
   "metadata": {},
   "outputs": [],
   "source": []
  },
  {
   "cell_type": "code",
   "execution_count": 43,
   "id": "casual-bicycle",
   "metadata": {},
   "outputs": [
    {
     "data": {
      "image/png": "[encoded data removed]",
      "text/plain": [
       "<Figure size 432x288 with 1 Axes>"
      ]
     },
     "metadata": {
      "needs_background": "light"
     },
     "output_type": "display_data"
    }
   ],
   "source": [
    "plt.plot(history['loss'], label='train')\n",
    "plt.plot(history['val_loss'], label='test')\n",
    "plt.legend()\n",
    "plt.show()"
   ]
  },
  {
   "cell_type": "code",
   "execution_count": 44,
   "id": "declared-donor",
   "metadata": {},
   "outputs": [
    {
     "data": {
      "image/png": "[encoded data removed]",
      "text/plain": [
       "<Figure size 432x288 with 1 Axes>"
      ]
     },
     "metadata": {
      "needs_background": "light"
     },
     "output_type": "display_data"
    }
   ],
   "source": [
    "plt.plot(history['accuracy'], label='train')\n",
    "plt.plot(history['val_accuracy'], label='test')\n",
    "plt.legend()\n",
    "plt.show()"
   ]
  },
  {
   "cell_type": "code",
   "execution_count": 45,
   "id": "infectious-assistant",
   "metadata": {},
   "outputs": [
    {
     "data": {
      "image/png": "[encoded data removed]",
      "text/plain": [
       "<Figure size 432x288 with 1 Axes>"
      ]
     },
     "metadata": {
      "needs_background": "light"
     },
     "output_type": "display_data"
    }
   ],
   "source": [
    "plt.plot(history['kullback_leibler_divergence'], label='train')\n",
    "plt.plot(history['val_kullback_leibler_divergence'], label='test')\n",
    "plt.legend()\n",
    "plt.show()"
   ]
  },
  {
   "cell_type": "code",
   "execution_count": 46,
   "id": "native-success",
   "metadata": {},
   "outputs": [
    {
     "name": "stdout",
     "output_type": "stream",
     "text": [
      "Model: \"sequential\"\n",
      "_________________________________________________________________\n",
      "Layer (type)                 Output Shape              Param #   \n",
      "=================================================================\n",
      "lstm (LSTM)                  (None, 128, 128)          66560     \n",
      "_________________________________________________________________\n",
      "batch_normalization (BatchNo (None, 128, 128)          512       \n",
      "_________________________________________________________________\n",
      "lstm_1 (LSTM)                (None, 128, 128)          131584    \n",
      "_________________________________________________________________\n",
      "batch_normalization_1 (Batch (None, 128, 128)          512       \n",
      "_________________________________________________________________\n",
      "lstm_2 (LSTM)                (None, 128, 64)           49408     \n",
      "_________________________________________________________________\n",
      "batch_normalization_2 (Batch (None, 128, 64)           256       \n",
      "_________________________________________________________________\n",
      "flatten (Flatten)            (None, 8192)              0         \n",
      "_________________________________________________________________\n",
      "dropout (Dropout)            (None, 8192)              0         \n",
      "_________________________________________________________________\n",
      "dense (Dense)                (None, 128)               1048704   \n",
      "_________________________________________________________________\n",
      "dense_1 (Dense)              (None, 3)                 387       \n",
      "=================================================================\n",
      "Total params: 1,297,923\n",
      "Trainable params: 1,297,283\n",
      "Non-trainable params: 640\n",
      "_________________________________________________________________\n"
     ]
    }
   ],
   "source": [
    "my_LSTM_model.summary()"
   ]
  },
  {
   "cell_type": "code",
   "execution_count": 47,
   "id": "packed-bulgarian",
   "metadata": {},
   "outputs": [
    {
     "name": "stdout",
     "output_type": "stream",
     "text": [
      "Epoch 1/100\n",
      "1/1 [==============================] - 1s 1s/step - loss: 0.6278 - kullback_leibler_divergence: 3.2124 - accuracy: 0.6875\n",
      "Epoch 2/100\n",
      "1/1 [==============================] - 0s 20ms/step - loss: 0.6542 - kullback_leibler_divergence: 4.7895 - accuracy: 0.6719\n",
      "Epoch 3/100\n",
      "1/1 [==============================] - 0s 19ms/step - loss: 0.7432 - kullback_leibler_divergence: 4.5320 - accuracy: 0.6719\n",
      "Epoch 4/100\n",
      "1/1 [==============================] - 0s 20ms/step - loss: 0.6509 - kullback_leibler_divergence: 2.7945 - accuracy: 0.5781\n",
      "Epoch 5/100\n",
      "1/1 [==============================] - 0s 20ms/step - loss: 0.6550 - kullback_leibler_divergence: 3.9606 - accuracy: 0.7188\n",
      "Epoch 6/100\n",
      "1/1 [==============================] - 0s 20ms/step - loss: 0.7264 - kullback_leibler_divergence: 3.6233 - accuracy: 0.5312\n",
      "Epoch 7/100\n",
      "1/1 [==============================] - 0s 20ms/step - loss: 0.8270 - kullback_leibler_divergence: 3.7964 - accuracy: 0.4844\n",
      "Epoch 8/100\n",
      "1/1 [==============================] - 0s 19ms/step - loss: 0.8581 - kullback_leibler_divergence: 3.7197 - accuracy: 0.5781\n",
      "Epoch 9/100\n",
      "1/1 [==============================] - 0s 18ms/step - loss: 0.6418 - kullback_leibler_divergence: 3.8051 - accuracy: 0.6406\n",
      "Epoch 10/100\n",
      "1/1 [==============================] - 0s 19ms/step - loss: 0.7857 - kullback_leibler_divergence: 4.0015 - accuracy: 0.5156\n",
      "Epoch 11/100\n",
      "1/1 [==============================] - 0s 19ms/step - loss: 0.7292 - kullback_leibler_divergence: 3.7025 - accuracy: 0.5625\n",
      "Epoch 12/100\n",
      "1/1 [==============================] - 0s 19ms/step - loss: 0.6867 - kullback_leibler_divergence: 4.0816 - accuracy: 0.5938\n",
      "Epoch 13/100\n",
      "1/1 [==============================] - 0s 18ms/step - loss: 0.6629 - kullback_leibler_divergence: 3.9948 - accuracy: 0.7188\n",
      "Epoch 14/100\n",
      "1/1 [==============================] - 0s 19ms/step - loss: 0.7399 - kullback_leibler_divergence: 4.0608 - accuracy: 0.5312\n",
      "Epoch 15/100\n",
      "1/1 [==============================] - 0s 19ms/step - loss: 0.6238 - kullback_leibler_divergence: 4.2698 - accuracy: 0.7344\n",
      "Epoch 16/100\n",
      "1/1 [==============================] - 0s 19ms/step - loss: 0.7110 - kullback_leibler_divergence: 3.8395 - accuracy: 0.6406\n",
      "Epoch 17/100\n",
      "1/1 [==============================] - 0s 17ms/step - loss: 0.7451 - kullback_leibler_divergence: 3.5681 - accuracy: 0.4844\n",
      "Epoch 18/100\n",
      "1/1 [==============================] - 0s 18ms/step - loss: 0.7826 - kullback_leibler_divergence: 4.3610 - accuracy: 0.5469\n",
      "Epoch 19/100\n",
      "1/1 [==============================] - 0s 18ms/step - loss: 0.8513 - kullback_leibler_divergence: 3.5359 - accuracy: 0.5000\n",
      "Epoch 20/100\n",
      "1/1 [==============================] - 0s 17ms/step - loss: 0.7226 - kullback_leibler_divergence: 3.4508 - accuracy: 0.6094\n",
      "Epoch 21/100\n",
      "1/1 [==============================] - 0s 18ms/step - loss: 0.6612 - kullback_leibler_divergence: 4.0627 - accuracy: 0.6562\n",
      "Epoch 22/100\n",
      "1/1 [==============================] - 0s 18ms/step - loss: 0.7355 - kullback_leibler_divergence: 4.4049 - accuracy: 0.5312\n",
      "Epoch 23/100\n",
      "1/1 [==============================] - 0s 17ms/step - loss: 0.7233 - kullback_leibler_divergence: 4.2426 - accuracy: 0.6094\n",
      "Epoch 24/100\n",
      "1/1 [==============================] - 0s 18ms/step - loss: 0.6320 - kullback_leibler_divergence: 4.7080 - accuracy: 0.6250\n",
      "Epoch 25/100\n",
      "1/1 [==============================] - 0s 20ms/step - loss: 0.7811 - kullback_leibler_divergence: 3.9578 - accuracy: 0.5000\n",
      "Epoch 26/100\n",
      "1/1 [==============================] - 0s 18ms/step - loss: 0.6426 - kullback_leibler_divergence: 3.7908 - accuracy: 0.5781\n",
      "Epoch 27/100\n",
      "1/1 [==============================] - 0s 19ms/step - loss: 0.7942 - kullback_leibler_divergence: 3.6148 - accuracy: 0.5938\n",
      "Epoch 28/100\n",
      "1/1 [==============================] - 0s 16ms/step - loss: 0.6951 - kullback_leibler_divergence: 3.5578 - accuracy: 0.6250\n",
      "Epoch 29/100\n",
      "1/1 [==============================] - 0s 17ms/step - loss: 0.6528 - kullback_leibler_divergence: 4.1492 - accuracy: 0.6094\n",
      "Epoch 30/100\n",
      "1/1 [==============================] - 0s 17ms/step - loss: 0.6962 - kullback_leibler_divergence: 3.4301 - accuracy: 0.5781\n",
      "Epoch 31/100\n",
      "1/1 [==============================] - 0s 16ms/step - loss: 0.6885 - kullback_leibler_divergence: 4.2895 - accuracy: 0.6094\n",
      "Epoch 32/100\n",
      "1/1 [==============================] - 0s 16ms/step - loss: 0.7417 - kullback_leibler_divergence: 4.5614 - accuracy: 0.5781\n",
      "Epoch 33/100\n",
      "1/1 [==============================] - 0s 17ms/step - loss: 0.7904 - kullback_leibler_divergence: 3.3868 - accuracy: 0.5469\n",
      "Epoch 34/100\n",
      "1/1 [==============================] - 0s 17ms/step - loss: 0.6764 - kullback_leibler_divergence: 5.2859 - accuracy: 0.6875\n",
      "Epoch 35/100\n",
      "1/1 [==============================] - 0s 18ms/step - loss: 0.6714 - kullback_leibler_divergence: 3.9240 - accuracy: 0.5781\n",
      "Epoch 36/100\n",
      "1/1 [==============================] - 0s 18ms/step - loss: 0.6933 - kullback_leibler_divergence: 3.6779 - accuracy: 0.6094\n",
      "Epoch 37/100\n",
      "1/1 [==============================] - 0s 18ms/step - loss: 0.6735 - kullback_leibler_divergence: 4.0368 - accuracy: 0.6406\n",
      "Epoch 38/100\n",
      "1/1 [==============================] - 0s 18ms/step - loss: 0.6213 - kullback_leibler_divergence: 3.7991 - accuracy: 0.6562\n",
      "Epoch 39/100\n",
      "1/1 [==============================] - 0s 19ms/step - loss: 0.6640 - kullback_leibler_divergence: 3.5890 - accuracy: 0.5938\n",
      "Epoch 40/100\n",
      "1/1 [==============================] - 0s 17ms/step - loss: 0.7277 - kullback_leibler_divergence: 3.8840 - accuracy: 0.5156\n",
      "Epoch 41/100\n",
      "1/1 [==============================] - 0s 19ms/step - loss: 0.7211 - kullback_leibler_divergence: 4.4557 - accuracy: 0.5781\n",
      "Epoch 42/100\n",
      "1/1 [==============================] - 0s 18ms/step - loss: 0.6553 - kullback_leibler_divergence: 4.0214 - accuracy: 0.7031\n",
      "Epoch 43/100\n",
      "1/1 [==============================] - 0s 18ms/step - loss: 0.7259 - kullback_leibler_divergence: 4.3351 - accuracy: 0.6250\n",
      "Epoch 44/100\n",
      "1/1 [==============================] - 0s 19ms/step - loss: 0.7123 - kullback_leibler_divergence: 4.0638 - accuracy: 0.6094\n",
      "Epoch 45/100\n",
      "1/1 [==============================] - 0s 18ms/step - loss: 0.7327 - kullback_leibler_divergence: 3.7227 - accuracy: 0.6094\n",
      "Epoch 46/100\n",
      "1/1 [==============================] - 0s 17ms/step - loss: 0.7669 - kullback_leibler_divergence: 3.6972 - accuracy: 0.5938\n",
      "Epoch 47/100\n",
      "1/1 [==============================] - 0s 18ms/step - loss: 0.7799 - kullback_leibler_divergence: 3.6102 - accuracy: 0.4844\n",
      "Epoch 48/100\n",
      "1/1 [==============================] - 0s 20ms/step - loss: 0.7361 - kullback_leibler_divergence: 4.7297 - accuracy: 0.6406\n",
      "Epoch 49/100\n",
      "1/1 [==============================] - 0s 17ms/step - loss: 0.7299 - kullback_leibler_divergence: 3.0695 - accuracy: 0.5312\n",
      "Epoch 50/100\n",
      "1/1 [==============================] - 0s 17ms/step - loss: 0.7250 - kullback_leibler_divergence: 3.7159 - accuracy: 0.6719\n",
      "Epoch 51/100\n",
      "1/1 [==============================] - 0s 18ms/step - loss: 0.7001 - kullback_leibler_divergence: 3.5710 - accuracy: 0.6094\n",
      "Epoch 52/100\n",
      "1/1 [==============================] - 0s 20ms/step - loss: 0.9025 - kullback_leibler_divergence: 3.8228 - accuracy: 0.5312\n",
      "Epoch 53/100\n",
      "1/1 [==============================] - 0s 18ms/step - loss: 0.8351 - kullback_leibler_divergence: 4.3807 - accuracy: 0.4375\n",
      "Epoch 54/100\n",
      "1/1 [==============================] - 0s 18ms/step - loss: 0.7080 - kullback_leibler_divergence: 2.3565 - accuracy: 0.5938\n",
      "Epoch 55/100\n",
      "1/1 [==============================] - 0s 18ms/step - loss: 0.8929 - kullback_leibler_divergence: 4.2926 - accuracy: 0.5156\n",
      "Epoch 56/100\n",
      "1/1 [==============================] - 0s 19ms/step - loss: 0.7835 - kullback_leibler_divergence: 3.0775 - accuracy: 0.5156\n",
      "Epoch 57/100\n",
      "1/1 [==============================] - 0s 19ms/step - loss: 0.8255 - kullback_leibler_divergence: 3.5954 - accuracy: 0.5000\n",
      "Epoch 58/100\n",
      "1/1 [==============================] - 0s 18ms/step - loss: 0.7523 - kullback_leibler_divergence: 3.6324 - accuracy: 0.5312\n",
      "Epoch 59/100\n",
      "1/1 [==============================] - 0s 18ms/step - loss: 0.9858 - kullback_leibler_divergence: 3.0123 - accuracy: 0.4062\n",
      "Epoch 60/100\n",
      "1/1 [==============================] - 0s 16ms/step - loss: 1.2105 - kullback_leibler_divergence: 5.3498 - accuracy: 0.4375\n",
      "Epoch 61/100\n",
      "1/1 [==============================] - 0s 18ms/step - loss: 1.0266 - kullback_leibler_divergence: 4.3946 - accuracy: 0.5625\n",
      "Epoch 62/100\n",
      "1/1 [==============================] - 0s 17ms/step - loss: 2.9682 - kullback_leibler_divergence: 4.9245 - accuracy: 0.4531\n",
      "Epoch 63/100\n",
      "1/1 [==============================] - 0s 16ms/step - loss: 1.4784 - kullback_leibler_divergence: 3.6847 - accuracy: 0.5469\n",
      "Epoch 64/100\n",
      "1/1 [==============================] - 0s 17ms/step - loss: 1.2128 - kullback_leibler_divergence: 3.8585 - accuracy: 0.5156\n",
      "Epoch 65/100\n",
      "1/1 [==============================] - 0s 16ms/step - loss: 7.0389 - kullback_leibler_divergence: 9.8029 - accuracy: 0.3594\n",
      "Epoch 66/100\n",
      "1/1 [==============================] - 0s 16ms/step - loss: 27.3459 - kullback_leibler_divergence: 14.5584 - accuracy: 0.4375\n",
      "Epoch 67/100\n",
      "1/1 [==============================] - 0s 18ms/step - loss: 77.8751 - kullback_leibler_divergence: 15.1107 - accuracy: 0.2969\n",
      "Epoch 68/100\n",
      "1/1 [==============================] - 0s 18ms/step - loss: 422.8601 - kullback_leibler_divergence: 18.5498 - accuracy: 0.3750\n",
      "Epoch 69/100\n",
      "1/1 [==============================] - 0s 18ms/step - loss: 2307.9949 - kullback_leibler_divergence: 17.1255 - accuracy: 0.4844\n",
      "Epoch 70/100\n",
      "1/1 [==============================] - 0s 17ms/step - loss: 686.6984 - kullback_leibler_divergence: 18.9579 - accuracy: 0.1250\n",
      "Epoch 71/100\n",
      "1/1 [==============================] - 0s 20ms/step - loss: 3121.7817 - kullback_leibler_divergence: 16.1181 - accuracy: 0.4844\n",
      "Epoch 72/100\n",
      "1/1 [==============================] - 0s 19ms/step - loss: 20808.9766 - kullback_leibler_divergence: 18.1329 - accuracy: 0.0312\n",
      "Epoch 73/100\n",
      "1/1 [==============================] - 0s 18ms/step - loss: 7423.7188 - kullback_leibler_divergence: 15.6144 - accuracy: 0.5156\n",
      "Epoch 74/100\n",
      "1/1 [==============================] - 0s 18ms/step - loss: 48075.3984 - kullback_leibler_divergence: 16.1181 - accuracy: 0.2031\n",
      "Epoch 75/100\n",
      "1/1 [==============================] - 0s 16ms/step - loss: 19744.8242 - kullback_leibler_divergence: 16.1181 - accuracy: 0.5000\n",
      "Epoch 76/100\n",
      "1/1 [==============================] - 0s 18ms/step - loss: 40253.6172 - kullback_leibler_divergence: 17.1255 - accuracy: 0.5000\n",
      "Epoch 77/100\n",
      "1/1 [==============================] - 0s 20ms/step - loss: 33633.5703 - kullback_leibler_divergence: 17.1255 - accuracy: 0.4688\n",
      "Epoch 78/100\n",
      "1/1 [==============================] - 0s 18ms/step - loss: 90623.5859 - kullback_leibler_divergence: 17.6292 - accuracy: 0.5312\n",
      "Epoch 79/100\n",
      "1/1 [==============================] - 0s 17ms/step - loss: 38921.9375 - kullback_leibler_divergence: 17.1255 - accuracy: 0.4531\n",
      "Epoch 80/100\n",
      "1/1 [==============================] - 0s 17ms/step - loss: 73744.3125 - kullback_leibler_divergence: 15.6144 - accuracy: 0.4062\n",
      "Epoch 81/100\n",
      "1/1 [==============================] - 0s 19ms/step - loss: 105216.6250 - kullback_leibler_divergence: 20.1476 - accuracy: 0.0781\n",
      "Epoch 82/100\n",
      "1/1 [==============================] - ETA: 0s - loss: nan - kullback_leibler_divergence: nan - accuracy: 0.5156Batch 0: Invalid loss, terminating training\n",
      "1/1 [==============================] - 0s 18ms/step - loss: nan - kullback_leibler_divergence: nan - accuracy: 0.5156\n"
     ]
    },
    {
     "data": {
      "image/png": "[encoded data removed]",
      "text/plain": [
       "<Figure size 432x288 with 1 Axes>"
      ]
     },
     "metadata": {
      "needs_background": "light"
     },
     "output_type": "display_data"
    }
   ],
   "source": [
    "opt_learn_rate_plot(\n",
    "    my_LSTM_model,\n",
    "    X_train[..., :1],\n",
    "    y_train,\n",
    "    10**-6,\n",
    "    10**1,\n",
    "    100,\n",
    "    batch_size=64,\n",
    "    steps_per_epoch=1,\n",
    "    custom_objects={'kl_divergence': kullback_leibler_divergence}\n",
    ")"
   ]
  },
  {
   "cell_type": "markdown",
   "id": "introductory-studio",
   "metadata": {},
   "source": [
    "## Econmetric measures"
   ]
  },
  {
   "cell_type": "markdown",
   "id": "catholic-world",
   "metadata": {},
   "source": [
    "Definition of cumulated returns"
   ]
  },
  {
   "cell_type": "code",
   "execution_count": 48,
   "id": "equal-heart",
   "metadata": {},
   "outputs": [],
   "source": [
    "def cumulated_return(y_pred, ret, start_capital=1000, dtype=None):\n",
    "    assert y_pred.flatten().shape == ret.flatten().shape\n",
    "    balance = [start_capital]\n",
    "    signal = 0\n",
    "    for i, d in enumerate(y_pred[:-1]):\n",
    "        signal = signal if d == 1 else d\n",
    "        if signal == 0:\n",
    "            balance.append(balance[-1])\n",
    "        elif signal == 2:\n",
    "            balance.append(balance[-1] * ret[i])\n",
    "        else:\n",
    "            raise ValueError()\n",
    "    balance = np.array(balance, dtype=dtype)\n",
    "    return balance"
   ]
  },
  {
   "cell_type": "code",
   "execution_count": 49,
   "id": "lucky-heaven",
   "metadata": {},
   "outputs": [
    {
     "data": {
      "text/plain": [
       "(23081, 128, 2)"
      ]
     },
     "execution_count": 49,
     "metadata": {},
     "output_type": "execute_result"
    }
   ],
   "source": [
    "X_train.shape"
   ]
  },
  {
   "cell_type": "code",
   "execution_count": 57,
   "id": "brazilian-collector",
   "metadata": {},
   "outputs": [
    {
     "name": "stdout",
     "output_type": "stream",
     "text": [
      "23012.36448711349\n",
      "0.0\n"
     ]
    }
   ],
   "source": [
    "#!!! for testing purposes\n",
    "tmp_type = 'train'\n",
    "\n",
    "X = np.concatenate([sc.inverse_transform(i)[np.newaxis] for i in eval(f\"X_{tmp_type}\")], axis=0)\n",
    "for i in range(lag):\n",
    "    diff = np.abs(df.loc[eval(f\"index_{tmp_type}\")].iloc[i:-(lag - i + 1)].values - X[:,-(lag - i)]).sum(axis=0)\n",
    "    assert diff[0] < 1e-6 and diff[1] < 0.5, 'df and X inversed are not the same'\n",
    "\n",
    "X_ret_testing = np.concatenate([sc.inverse_transform(i)[np.newaxis] for i in eval(f\"X_{tmp_type}\")], axis=0)[:, -1, 0]\n",
    "y_testing = np.concatenate([sc.inverse_transform(i)[np.newaxis] for i in eval(f\"X_{tmp_type}\")], axis=0)[:, -1, 1]\n",
    "\n",
    "a = sc_target.inverse_transform(eval(f\"y_{tmp_type}\")).flatten()\n",
    "b = np.concatenate([sc.inverse_transform(i)[np.newaxis] for i in eval(f\"X_{tmp_type}\")], axis=0)[:, -1, 1]\n",
    "cc = df.loc[eval(f\"index_{tmp_type}\")].iloc[127:-2, 1].values\n",
    "print(np.abs(cc[1:] - a[:-1]).sum(axis=0))\n",
    "print(np.abs(cc - b).sum(axis=0))"
   ]
  },
  {
   "cell_type": "code",
   "execution_count": 58,
   "id": "limited-correction",
   "metadata": {},
   "outputs": [
    {
     "name": "stdout",
     "output_type": "stream",
     "text": [
      "True\n",
      "True\n"
     ]
    }
   ],
   "source": [
    "print((index_train[0:-129] == X_train_index[:, 0]).all())\n",
    "print((index_train[127:-2] == X_train_index[:, -1]).all())"
   ]
  },
  {
   "cell_type": "markdown",
   "id": "logical-buyer",
   "metadata": {},
   "source": [
    "## read in data for econmic metric"
   ]
  },
  {
   "cell_type": "code",
   "execution_count": 59,
   "id": "mighty-victoria",
   "metadata": {},
   "outputs": [
    {
     "data": {
      "text/plain": [
       "True"
      ]
     },
     "execution_count": 59,
     "metadata": {},
     "output_type": "execute_result"
    }
   ],
   "source": [
    "tmp_type = 'train'\n",
    "X_ret_testing = np.concatenate([sc.inverse_transform(i)[np.newaxis] for i in eval(f\"X_{tmp_type}\")], axis=0)[:, -1, 0] + 1\n",
    "y_testing = np.concatenate([sc.inverse_transform(i)[np.newaxis] for i in eval(f\"X_{tmp_type}\")], axis=0)[:, -1, 1].round()\n",
    "\n",
    "df_testing = df.loc[eval(f\"index_{tmp_type}\")].iloc[127:-2]\n",
    "df_close_testing = df_close.loc[eval(f\"index_{tmp_type}\")].iloc[127:-2]\n",
    "X_ret_testing.shape[0] == df_testing.shape[0]"
   ]
  },
  {
   "cell_type": "code",
   "execution_count": 60,
   "id": "handy-knitting",
   "metadata": {},
   "outputs": [],
   "source": [
    "assert np.abs(cumulated_return(y_testing, X_ret_testing) - \\\n",
    "              cumulated_return(df_testing.values[:, 1], df_testing.values[:, 0] + 1)).sum() < 1e-10, \"cumulated return of df and X are not the same\""
   ]
  },
  {
   "cell_type": "code",
   "execution_count": 61,
   "id": "incoming-dallas",
   "metadata": {},
   "outputs": [
    {
     "name": "stdout",
     "output_type": "stream",
     "text": [
      "1.0\n",
      "1.0\n",
      "1.0\n",
      "1.0\n",
      "1.0\n",
      "1.0\n"
     ]
    }
   ],
   "source": [
    "# Test eq\n",
    "print((np.equal((y_testing.flatten() == 0), X_ret_testing -1 < - 0.00000001)).mean())\n",
    "print((np.equal((y_testing.flatten() == 1), np.logical_and(X_ret_testing -1 >= -0.00000001, X_ret_testing -1 < 0.00000001 ))).mean())\n",
    "print((np.equal((y_testing.flatten() == 2), X_ret_testing -1 >= 0.00000001)).mean())\n",
    "\n",
    "print((np.equal((df_testing.values[:, 1] == 0), df_testing.values[:, 0] < -0.00000001)).mean())\n",
    "print((np.equal((df_testing.values[:, 1] == 1), np.logical_and(df_testing.values[:, 0] >= -0.00000001, df_testing.values[:, 0] < 0.00000001 ))).mean())\n",
    "print((np.equal((df_testing.values[:, 1] == 2), df_testing.values[:, 0] >= 0.00000001)).mean())"
   ]
  },
  {
   "cell_type": "code",
   "execution_count": 62,
   "id": "several-rachel",
   "metadata": {},
   "outputs": [],
   "source": [
    "# y_pred = predictions(\n",
    "#     my_LSTM_model,\n",
    "#     eval(f\"X_{tmp_type}\")[..., :1]\n",
    "# )\n",
    "# y_pred = np.argmax(y_pred, axis=1)\n",
    "from copy import deepcopy\n",
    "y_pred = deepcopy(y_testing)\n",
    "np.random.shuffle(y_pred)"
   ]
  },
  {
   "cell_type": "code",
   "execution_count": 63,
   "id": "overhead-impact",
   "metadata": {},
   "outputs": [
    {
     "data": {
      "image/png": "[encoded data removed]",
      "text/plain": [
       "<Figure size 432x288 with 1 Axes>"
      ]
     },
     "metadata": {
      "needs_background": "light"
     },
     "output_type": "display_data"
    }
   ],
   "source": [
    "for _ in range(10):\n",
    "    np.random.shuffle(y_pred)\n",
    "    plt.plot(cumulated_return(y_pred, X_ret_testing, 1000), color='grey', lw=0.5)\n",
    "a = cumulated_return(y_testing, X_ret_testing, 1000)\n",
    "plt.plot(a[1:], label='cumulated_return')\n",
    "a = cumulated_return(y_train, X_ret_testing, 1000)\n",
    "plt.plot(a[1:], label='y_train')\n",
    "plt.legend()\n",
    "plt.show()"
   ]
  },
  {
   "cell_type": "code",
   "execution_count": 64,
   "id": "continental-chase",
   "metadata": {},
   "outputs": [
    {
     "data": {
      "text/plain": [
       "Index(['EURUSD BGNE Curncy Bid Close', 'strategy'], dtype='object')"
      ]
     },
     "execution_count": 64,
     "metadata": {},
     "output_type": "execute_result"
    }
   ],
   "source": [
    "df.columns"
   ]
  },
  {
   "cell_type": "code",
   "execution_count": 65,
   "id": "twenty-memory",
   "metadata": {},
   "outputs": [
    {
     "name": "stdout",
     "output_type": "stream",
     "text": [
      "[1045.6068]\n",
      "1045.202374458313\n",
      "1045.1936132240003\n",
      "1045.1248646242016\n"
     ]
    }
   ],
   "source": [
    "if tmp_type == 'train':\n",
    "    df_tmp = df.loc[X_train_index[:, -1]].loc[:, target].values + 1\n",
    "    df_close_tmp = df_close.loc[X_train_index[:, -1]].iloc[:, target_column : target_column + 1].values\n",
    "    print(df_close_tmp[-1] / df_close_tmp[0] * 1000)\n",
    "    print(df_tmp.prod() * 1000)\n",
    "    print(X_ret_testing.prod() * 1000)\n",
    "    print(cumulated_return(y_testing * 0 + 2, X_ret_testing, 1000)[-1])"
   ]
  },
  {
   "cell_type": "code",
   "execution_count": 69,
   "id": "sunrise-forth",
   "metadata": {},
   "outputs": [
    {
     "name": "stdout",
     "output_type": "stream",
     "text": [
      "1051.4272745419676\n",
      "5548.2057571266005\n",
      "5548.2057571266005\n"
     ]
    }
   ],
   "source": [
    "print(X_ret_testing[1::3].prod()* 1000)\n",
    "y_tmp = y_testing[1:] * 1\n",
    "y_tmp[1::3] = 2\n",
    "print(cumulated_return(y_tmp, X_ret_testing[1:], 1000)[-1])\n",
    "y_tmp = y_train * 1\n",
    "y_tmp[1::3] = 2\n",
    "print(cumulated_return(y_tmp[:-1], X_ret_testing[1:], 1000)[-1])"
   ]
  },
  {
   "cell_type": "code",
   "execution_count": 144,
   "id": "suitable-aruba",
   "metadata": {},
   "outputs": [
    {
     "name": "stdout",
     "output_type": "stream",
     "text": [
      "train\n",
      "Accuracy: 0.6786534190177917\n",
      "Accuracy: 0.4709501266479492\n",
      "KL_Divergence: 58927.75\n",
      "              precision    recall  f1-score   support\n",
      "\n",
      "         0.0       0.67      0.67      0.67     10870\n",
      "         1.0       0.90      0.74      0.81       926\n",
      "         2.0       0.68      0.68      0.68     11285\n",
      "\n",
      "    accuracy                           0.68     23081\n",
      "   macro avg       0.75      0.70      0.72     23081\n",
      "weighted avg       0.68      0.68      0.68     23081\n",
      "\n",
      "[[7283   43 3544]\n",
      " [ 101  684  141]\n",
      " [3555   33 7697]]\n"
     ]
    },
    {
     "data": {
      "image/png": "[encoded data removed]",
      "text/plain": [
       "<Figure size 432x288 with 1 Axes>"
      ]
     },
     "metadata": {
      "needs_background": "light"
     },
     "output_type": "display_data"
    }
   ],
   "source": [
    "tmp_type = 'train'\n",
    "print(tmp_type)\n",
    "\n",
    "y = eval(f\"y_{tmp_type}\")\n",
    "y_pred = np.argmax(predictions(\n",
    "    my_LSTM_model,\n",
    "    eval(f\"X_{tmp_type}\")[..., :1]\n",
    "), axis=1)\n",
    "# actual_pred_plot(y_pred, eval(f'y_{tmp_type}'))\n",
    "# plt.show()\n",
    "print(f'Accuracy: {Accuracy()(y.flatten(), y_pred.flatten()).numpy()}')\n",
    "print(f'Accuracy: {SparseCategoricalAccuracy()(y.astype(dtype), y_pred.reshape(y.shape).astype(dtype)).numpy()}')\n",
    "print(f'KL_Divergence: {kullback_leibler_divergence(y.flatten().astype(dtype), y_pred.flatten().astype(dtype)).numpy()}')\n",
    "print(classification_report(y, y_pred))\n",
    "print(confusion_matrix(y, y_pred))\n",
    "\n",
    "X_ret = sc.inverse_transform(eval(f\"X_{tmp_type}\"))[:, -1, 0] + 1\n",
    "plt.plot(eval(f\"index_{tmp_type}\")[127:-2][1:], cumulated_return(y_pred[:-1], X_ret[1:], dtype=dtype), label='predicted')\n",
    "\n",
    "p = [i[1]/y.shape[0] for i in sorted(Counter(y.flatten()).items(), key=lambda x: x[0])]\n",
    "x = np.concatenate(\n",
    "    [\n",
    "        cumulated_return(\n",
    "            np.random.choice([0, 1, 2], size=y_pred[:-1].shape, p=p),\n",
    "            X_ret[1:],\n",
    "            dtype=dtype\n",
    "        )[:,np.newaxis] for i in range(50)\n",
    "    ], axis=-1\n",
    ")\n",
    "plt.plot(eval(f\"index_{tmp_type}\")[127:-2][1:], x.mean(axis=-1), label='random', color='gray')\n",
    "plt.plot(eval(f\"index_{tmp_type}\")[127:-2][1:], x.mean(axis=-1) + x.std(axis=-1), label='random_q75', color='gray', linestyle='--')\n",
    "plt.plot(eval(f\"index_{tmp_type}\")[127:-2][1:], cumulated_return(y_pred[:-1] * 0 + 2, X_ret[1:], dtype=dtype), label='buy&HODL')\n",
    "plt.plot(eval(f\"index_{tmp_type}\")[127:-2][1:], cumulated_return(y[:-1], X_ret[1:], dtype=dtype), label='oracle')\n",
    "plt.legend()\n",
    "plt.semilogy()\n",
    "plt.show()\n"
   ]
  },
  {
   "cell_type": "code",
   "execution_count": 145,
   "id": "average-mount",
   "metadata": {},
   "outputs": [
    {
     "name": "stdout",
     "output_type": "stream",
     "text": [
      "val\n",
      "Accuracy: 0.49242424964904785\n",
      "Accuracy: 0.4942280054092407\n",
      "KL_Divergence: 10799.123046875\n",
      "              precision    recall  f1-score   support\n",
      "\n",
      "         0.0       0.50      0.49      0.50      1370\n",
      "         1.0       0.42      0.12      0.19        82\n",
      "         2.0       0.49      0.52      0.50      1320\n",
      "\n",
      "    accuracy                           0.49      2772\n",
      "   macro avg       0.47      0.38      0.40      2772\n",
      "weighted avg       0.49      0.49      0.49      2772\n",
      "\n",
      "[[673   5 692]\n",
      " [ 41  10  31]\n",
      " [629   9 682]]\n"
     ]
    },
    {
     "data": {
      "image/png": "[encoded data removed]",
      "text/plain": [
       "<Figure size 432x288 with 1 Axes>"
      ]
     },
     "metadata": {
      "needs_background": "light"
     },
     "output_type": "display_data"
    }
   ],
   "source": [
    "tmp_type = 'val'\n",
    "print(tmp_type)\n",
    "\n",
    "y = eval(f\"y_{tmp_type}\")\n",
    "y_pred = np.argmax(predictions(\n",
    "    my_LSTM_model,\n",
    "    eval(f\"X_{tmp_type}\")[..., :1]\n",
    "), axis=1)\n",
    "# actual_pred_plot(y_pred, eval(f'y_{tmp_type}'))\n",
    "# plt.show()\n",
    "print(f'Accuracy: {Accuracy()(y.flatten(), y_pred.flatten()).numpy()}')\n",
    "print(f'Accuracy: {SparseCategoricalAccuracy()(y.astype(dtype), y_pred.reshape(y.shape).astype(dtype)).numpy()}')\n",
    "print(f'KL_Divergence: {kullback_leibler_divergence(y.flatten().astype(dtype), y_pred.flatten().astype(dtype)).numpy()}')\n",
    "print(classification_report(y, y_pred))\n",
    "print(confusion_matrix(y, y_pred))\n",
    "\n",
    "X_ret = sc.inverse_transform(eval(f\"X_{tmp_type}\"))[:, -1, 0] + 1\n",
    "plt.plot(eval(f\"index_{tmp_type}\")[127:-2][1:], cumulated_return(y_pred[:-1], X_ret[1:], dtype=dtype), label='predicted')\n",
    "\n",
    "p = [i[1]/y.shape[0] for i in sorted(Counter(y.flatten()).items(), key=lambda x: x[0])]\n",
    "x = np.concatenate(\n",
    "    [\n",
    "        cumulated_return(\n",
    "            np.random.choice([0, 1, 2], size=y_pred[:-1].shape, p=p),\n",
    "            X_ret[1:],\n",
    "            dtype=dtype\n",
    "        )[:,np.newaxis] for i in range(50)\n",
    "    ], axis=-1\n",
    ")\n",
    "plt.plot(eval(f\"index_{tmp_type}\")[127:-2][1:], x.mean(axis=-1), label='random', color='gray')\n",
    "plt.plot(eval(f\"index_{tmp_type}\")[127:-2][1:], x.mean(axis=-1) + x.std(axis=-1), label='random_q75', color='gray', linestyle='--')\n",
    "plt.plot(eval(f\"index_{tmp_type}\")[127:-2][1:], cumulated_return(y_pred[:-1] * 0 + 2, X_ret[1:], dtype=dtype), label='buy&HODL')\n",
    "plt.plot(eval(f\"index_{tmp_type}\")[127:-2][1:], cumulated_return(y[:-1], X_ret[1:], dtype=dtype), label='oracle')\n",
    "plt.legend()\n",
    "plt.semilogy()\n",
    "plt.show()\n"
   ]
  },
  {
   "cell_type": "code",
   "execution_count": 146,
   "id": "popular-classics",
   "metadata": {},
   "outputs": [
    {
     "name": "stdout",
     "output_type": "stream",
     "text": [
      "test\n",
      "Accuracy: 0.48701298236846924\n",
      "Accuracy: 0.47330448031425476\n",
      "KL_Divergence: 11476.0830078125\n",
      "              precision    recall  f1-score   support\n",
      "\n",
      "         0.0       0.48      0.51      0.49      1312\n",
      "         1.0       0.03      0.01      0.02        75\n",
      "         2.0       0.50      0.49      0.50      1385\n",
      "\n",
      "    accuracy                           0.49      2772\n",
      "   macro avg       0.34      0.34      0.34      2772\n",
      "weighted avg       0.48      0.49      0.48      2772\n",
      "\n",
      "[[664  11 637]\n",
      " [ 29   1  45]\n",
      " [683  17 685]]\n"
     ]
    },
    {
     "data": {
      "image/png": "[encoded data removed]",
      "text/plain": [
       "<Figure size 432x288 with 1 Axes>"
      ]
     },
     "metadata": {
      "needs_background": "light"
     },
     "output_type": "display_data"
    }
   ],
   "source": [
    "tmp_type = 'test'\n",
    "print(tmp_type)\n",
    "\n",
    "y = eval(f\"y_{tmp_type}\")\n",
    "y_pred = np.argmax(predictions(\n",
    "    my_LSTM_model,\n",
    "    eval(f\"X_{tmp_type}\")[..., :1]\n",
    "), axis=1)\n",
    "# actual_pred_plot(y_pred, eval(f'y_{tmp_type}'))\n",
    "# plt.show()\n",
    "print(f'Accuracy: {Accuracy()(y.flatten(), y_pred.flatten()).numpy()}')\n",
    "print(f'Accuracy: {SparseCategoricalAccuracy()(y.astype(dtype), y_pred.reshape(y.shape).astype(dtype)).numpy()}')\n",
    "print(f'KL_Divergence: {kullback_leibler_divergence(y.flatten().astype(dtype), y_pred.flatten().astype(dtype)).numpy()}')\n",
    "print(classification_report(y, y_pred))\n",
    "print(confusion_matrix(y, y_pred))\n",
    "\n",
    "X_ret = sc.inverse_transform(eval(f\"X_{tmp_type}\"))[:, -1, 0] + 1\n",
    "plt.plot(eval(f\"index_{tmp_type}\")[127:-2][1:], cumulated_return(y_pred[:-1], X_ret[1:], dtype=dtype), label='predicted')\n",
    "\n",
    "p = [i[1]/y.shape[0] for i in sorted(Counter(y.flatten()).items(), key=lambda x: x[0])]\n",
    "x = np.concatenate(\n",
    "    [\n",
    "        cumulated_return(\n",
    "            np.random.choice([0, 1, 2], size=y_pred[:-1].shape, p=p),\n",
    "            X_ret[1:],\n",
    "            dtype=dtype\n",
    "        )[:,np.newaxis] for i in range(50)\n",
    "    ], axis=-1\n",
    ")\n",
    "plt.plot(eval(f\"index_{tmp_type}\")[127:-2][1:], x.mean(axis=-1), label='random', color='gray')\n",
    "plt.plot(eval(f\"index_{tmp_type}\")[127:-2][1:], x.mean(axis=-1) + x.std(axis=-1), label='random_q75', color='gray', linestyle='--')\n",
    "plt.plot(eval(f\"index_{tmp_type}\")[127:-2][1:], cumulated_return(y_pred[:-1] * 0 + 2, X_ret[1:], dtype=dtype), label='buy&HODL')\n",
    "plt.plot(eval(f\"index_{tmp_type}\")[127:-2][1:], cumulated_return(y[:-1], X_ret[1:], dtype=dtype), label='oracle')\n",
    "plt.legend()\n",
    "plt.semilogy()\n",
    "plt.show()\n"
   ]
  },
  {
   "cell_type": "markdown",
   "id": "tropical-incidence",
   "metadata": {},
   "source": [
    "cumulated_return(y_pred, X_ret, dtype=dtype)"
   ]
  },
  {
   "cell_type": "code",
   "execution_count": 147,
   "id": "fourth-salem",
   "metadata": {},
   "outputs": [
    {
     "data": {
      "text/plain": [
       "26.9216387208303"
      ]
     },
     "execution_count": 147,
     "metadata": {},
     "output_type": "execute_result"
    }
   ],
   "source": [
    "x = cumulated_return(y_pred[:-1], X_ret[1:], dtype=dtype)\n",
    "\n",
    "(x[-1] / x[0]) / (np.std(x[1:] / x[:-1]) * np.sqrt(6 * 24 * 250))"
   ]
  },
  {
   "cell_type": "code",
   "execution_count": 39,
   "id": "rolled-baptist",
   "metadata": {},
   "outputs": [],
   "source": [
    "# ax1 = fig.add_subplot(211)\n",
    "# ax1.plot(index_train[X_train.shape[1]:], df_train[target], label='Training data')\n",
    "# ax1.plot(index_val[X_train.shape[1]:], df_val[target], label='Validation data')\n",
    "# ax1.plot(index_test[X_train.shape[1]:], df_test[target], label='Test data')\n",
    "# ax1.set_xlabel('Dates')\n",
    "# ax1.set_ylabel('Normalized Closing Returns')\n",
    "# ax1.set_title(\"Close Price\", fontsize=18)\n",
    "# ax1.legend(loc=\"best\", fontsize=12)"
   ]
  }
 ],
 "metadata": {
  "kernelspec": {
   "display_name": "fxpred3",
   "language": "python",
   "name": "fxpred3"
  },
  "language_info": {
   "codemirror_mode": {
    "name": "ipython",
    "version": 3
   },
   "file_extension": ".py",
   "mimetype": "text/x-python",
   "name": "python",
   "nbconvert_exporter": "python",
   "pygments_lexer": "ipython3",
   "version": "3.8.10"
  }
 },
 "nbformat": 4,
 "nbformat_minor": 5
}
