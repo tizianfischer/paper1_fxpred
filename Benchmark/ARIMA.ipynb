{
 "cells": [
  {
   "cell_type": "markdown",
   "metadata": {},
   "source": [
    "## Benchmark: ARIMA"
   ]
  },
  {
   "cell_type": "code",
   "execution_count": 1,
   "metadata": {},
   "outputs": [],
   "source": [
    "import matplotlib.pyplot as plt\n",
    "import numpy as np\n",
    "import pandas as pd\n",
    "from sklearn.model_selection import train_test_split\n",
    "from sklearn.preprocessing import MinMaxScaler\n",
    "from sklearn.metrics import mean_squared_error, mean_absolute_error\n",
    "from tensorflow.keras.losses import MSE, MAE, MAPE\n",
    "\n",
    "%matplotlib inline\n",
    "import os\n",
    "import sys\n",
    "import platform\n",
    "if platform.node() in ['msbq']:\n",
    "    os.chdir('/home/ms/github/fxpred')\n",
    "    # os.chdir('../.')\n",
    "    sys.path.append(os.path.join(os.getcwd(), 'Transformer'))\n",
    "from utils import get_fx_and_metric_data, get_fx_and_metric_data_wo_weekend, mde"
   ]
  },
  {
   "cell_type": "markdown",
   "metadata": {},
   "source": [
    "Functions"
   ]
  },
  {
   "cell_type": "code",
   "execution_count": 2,
   "metadata": {},
   "outputs": [],
   "source": [
    "def actual_pred_plot(preds, y_test):\n",
    "    '''\n",
    "    Plot the actual vs. prediction\n",
    "    '''\n",
    "    actual_pred = pd.DataFrame(columns = ['Adj. Close', 'prediction'])\n",
    "    actual_pred['prediction'] = preds[:,0]\n",
    "    actual_pred['Adj. Close'] = y_test[:,0]  #.loc['2019':,'Adj Close'][0:len(preds)]\n",
    "\n",
    "    from tensorflow.keras.metrics import MeanSquaredError\n",
    "    m = MeanSquaredError()\n",
    "    m.update_state(np.array(actual_pred['Adj. Close']),np.array(actual_pred['prediction']))\n",
    "    return (m.result().numpy(), actual_pred.plot() )"
   ]
  },
  {
   "cell_type": "markdown",
   "metadata": {},
   "source": [
    "### Data"
   ]
  },
  {
   "cell_type": "code",
   "execution_count": 3,
   "metadata": {},
   "outputs": [
    {
     "name": "stderr",
     "output_type": "stream",
     "text": [
      "/home/ms/github/venv/fxpred3/lib/python3.8/site-packages/pandas/core/frame.py:4305: SettingWithCopyWarning: \n",
      "A value is trying to be set on a copy of a slice from a DataFrame\n",
      "\n",
      "See the caveats in the documentation: https://pandas.pydata.org/pandas-docs/stable/user_guide/indexing.html#returning-a-view-versus-a-copy\n",
      "  return super().drop(\n"
     ]
    }
   ],
   "source": [
    "df = get_fx_and_metric_data_wo_weekend(dtype=np.float32)"
   ]
  },
  {
   "cell_type": "markdown",
   "metadata": {},
   "source": [
    "## Create training and test data for RNN/LSTM"
   ]
  },
  {
   "cell_type": "code",
   "execution_count": 4,
   "metadata": {},
   "outputs": [],
   "source": [
    "def ts_train_test_normalize(df,time_steps,for_periods, target_column=3):\n",
    "    '''\n",
    "    input: \n",
    "      data: dataframe with dates and price data\n",
    "    output:\n",
    "      X_train, y_train: data from 2020/11/2-2020/12/31\n",
    "      X_test:  data from 2021 -\n",
    "      sc:      insantiated MinMaxScaler object fit to the training data\n",
    "    '''    # create training and test set\n",
    "    times = sorted(df.index.values)\n",
    "    last_10pct = sorted(df.index.values)[-int(0.1*len(times))] # Last 10% of series\n",
    "    last_20pct = sorted(df.index.values)[-int(0.2*len(times))] # Last 20% of series\n",
    "\n",
    "    ts_train = df[(df.index < last_20pct)]  # Training data are 80% of total data\n",
    "    index_train = df[df.index < last_20pct].index\n",
    "    ts_test = df[(df.index >= last_20pct) & (df.index < last_10pct)]\n",
    "    index_test = df[(df.index >= last_20pct) & (df.index < last_10pct)].index\n",
    "\n",
    "    ts_train_len = len(ts_train)\n",
    "    ts_test_len = len(ts_test)\n",
    "\n",
    "    '''Normalize price columns'''\n",
    "#     df = (df - df.mean()) / (df.max() - df.min())\n",
    "#     df.columns[np.isnan(df).any(axis=0)]\n",
    "    \n",
    "    # create training data of s samples and t time steps\n",
    "    X_train = []\n",
    "    y_train = []\n",
    "    y_train_stacked = []\n",
    "    for i in range(time_steps,ts_train_len-1): \n",
    "        X_train.append(ts_train.to_numpy()[i-time_steps:i])\n",
    "        y_train.append(ts_train.to_numpy()[i:i+for_periods,target_column])\n",
    "    X_train, y_train = np.array(X_train), np.array(y_train)\n",
    "\n",
    "    # Reshaping X_train for efficient modelling\n",
    "#     X_train = np.reshape(X_train, (X_train.shape[0],X_train.shape[1],1))\n",
    "\n",
    "    # Preparing X_test\n",
    "    X_test = []\n",
    "    y_test = []\n",
    "    for i in range(time_steps,ts_test_len-for_periods):\n",
    "        X_test.append(ts_test.to_numpy()[i-time_steps:i])\n",
    "        y_test.append(ts_test.to_numpy()[i:i+for_periods,target_column])\n",
    "    \n",
    "    X_test, y_test = np.array(X_test), np.array(y_test)\n",
    "#     X_test = np.reshape(X_test, (X_test.shape[0], X_test.shape[1],1))\n",
    "\n",
    "    return X_train, y_train , X_test, y_test, index_train, index_test"
   ]
  },
  {
   "cell_type": "code",
   "execution_count": 5,
   "metadata": {},
   "outputs": [],
   "source": [
    "target_column = list(df.columns).index('EURUSD BGNE Curncy Bid Close')\n",
    "\n",
    "X_train, y_train, X_test, y_test, index_train, index_test = ts_train_test_normalize(df, 1, 1, target_column)"
   ]
  },
  {
   "cell_type": "markdown",
   "metadata": {},
   "source": [
    "## ARIMA"
   ]
  },
  {
   "cell_type": "code",
   "execution_count": 6,
   "metadata": {},
   "outputs": [],
   "source": [
    "from statsmodels.graphics.tsaplots import plot_pacf, plot_acf\n",
    "from statsmodels.tsa.arima_process import ArmaProcess\n",
    "from statsmodels.tsa.stattools import pacf\n",
    "from statsmodels.tsa.stattools import grangercausalitytests\n",
    "from statsmodels.tsa.stattools import adfuller\n",
    "from statsmodels.regression.linear_model import yule_walker\n",
    "\n",
    "#from statsmodels.tsa.stattools import adfuller\n",
    "import matplotlib.pyplot as plt\n",
    "import numpy as np\n",
    "import statsmodels.api as sm\n",
    "import pmdarima as pmd"
   ]
  },
  {
   "cell_type": "code",
   "execution_count": 7,
   "metadata": {},
   "outputs": [
    {
     "name": "stdout",
     "output_type": "stream",
     "text": [
      "p-value: 0.0\n",
      "Differencing is not necessary\n"
     ]
    }
   ],
   "source": [
    "p = adfuller(X_train[:, 0, target_column])[1]\n",
    "print(\"p-value:\", p)\n",
    "print(f\"Differencing is {'' if p > 0.05 else 'not '}necessary\")"
   ]
  },
  {
   "cell_type": "code",
   "execution_count": 8,
   "metadata": {},
   "outputs": [
    {
     "data": {
      "image/png": "[encoded data removed]",
      "text/plain": [
       "<Figure size 432x288 with 1 Axes>"
      ]
     },
     "metadata": {
      "needs_background": "light"
     },
     "output_type": "display_data"
    },
    {
     "data": {
      "image/png": "[encoded data removed]",
      "text/plain": [
       "<Figure size 432x288 with 1 Axes>"
      ]
     },
     "metadata": {
      "needs_background": "light"
     },
     "output_type": "display_data"
    }
   ],
   "source": [
    "plot_acf(X_train[:, 0, target_column], lags=5000)  # ACF\n",
    "# plt.ylim(0, 0.2)\n",
    "plt.show()\n",
    "plot_pacf(X_train[:, 0, target_column])\n",
    "# plt.ylim(-0.1, 0.1)\n",
    "plt.show()"
   ]
  },
  {
   "cell_type": "code",
   "execution_count": 9,
   "metadata": {},
   "outputs": [
    {
     "data": {
      "text/plain": [
       "({'ssr_ftest': (21.330088294145494, 3.886896483045375e-06, 23204.0, 1),\n",
       "  'ssr_chi2test': (21.332846019748082, 3.860597665401616e-06, 1),\n",
       "  'lrtest': (21.323047001787927, 3.880381653225e-06, 1),\n",
       "  'params_ftest': (21.33008829414203, 3.886896483048199e-06, 23204.0, 1.0)},\n",
       " [<statsmodels.regression.linear_model.RegressionResultsWrapper at 0x7fe3dc77b370>,\n",
       "  <statsmodels.regression.linear_model.RegressionResultsWrapper at 0x7fe2c6e5d850>,\n",
       "  array([[0., 1., 0.]])])"
      ]
     },
     "execution_count": 9,
     "metadata": {},
     "output_type": "execute_result"
    }
   ],
   "source": [
    "g = grangercausalitytests(X_train[:, 0, target_column:(target_column+2)], maxlag =10, verbose = 0)\n",
    "g[1]"
   ]
  },
  {
   "cell_type": "code",
   "execution_count": 10,
   "metadata": {},
   "outputs": [
    {
     "name": "stdout",
     "output_type": "stream",
     "text": [
      "ndiffs: 0\n",
      "nsdiffs: 0\n"
     ]
    }
   ],
   "source": [
    "print(f\"ndiffs: {pmd.arima.ndiffs(X_train[:, 0, target_column])}\")\n",
    "print(f\"nsdiffs: {pmd.arima.nsdiffs(X_train[:, 0, target_column], m=2)}\")"
   ]
  },
  {
   "cell_type": "code",
   "execution_count": 11,
   "metadata": {},
   "outputs": [
    {
     "name": "stdout",
     "output_type": "stream",
     "text": [
      "Performing stepwise search to minimize aic\n",
      " ARIMA(1,0,0)(0,0,0)[0] intercept   : AIC=-305423.526, Time=2.75 sec\n",
      " ARIMA(0,0,0)(0,0,0)[0] intercept   : AIC=-305296.985, Time=3.03 sec\n",
      " ARIMA(0,0,1)(0,0,0)[0] intercept   : AIC=-305426.537, Time=10.49 sec\n",
      " ARIMA(0,0,0)(0,0,0)[0]             : AIC=-305298.221, Time=0.75 sec\n",
      " ARIMA(1,0,1)(0,0,0)[0] intercept   : AIC=-305426.540, Time=6.86 sec\n",
      " ARIMA(2,0,1)(0,0,0)[0] intercept   : AIC=-305421.606, Time=16.05 sec\n",
      " ARIMA(1,0,2)(0,0,0)[0] intercept   : AIC=-305420.529, Time=7.12 sec\n",
      " ARIMA(0,0,2)(0,0,0)[0] intercept   : AIC=-305426.405, Time=9.33 sec\n",
      " ARIMA(2,0,0)(0,0,0)[0] intercept   : AIC=-305425.921, Time=4.08 sec\n",
      " ARIMA(2,0,2)(0,0,0)[0] intercept   : AIC=inf, Time=8.26 sec\n",
      " ARIMA(1,0,1)(0,0,0)[0]             : AIC=-305427.652, Time=3.44 sec\n",
      " ARIMA(0,0,1)(0,0,0)[0]             : AIC=-305427.640, Time=0.80 sec\n",
      " ARIMA(1,0,0)(0,0,0)[0]             : AIC=-305424.639, Time=0.91 sec\n",
      " ARIMA(2,0,1)(0,0,0)[0]             : AIC=-305422.809, Time=2.81 sec\n",
      " ARIMA(1,0,2)(0,0,0)[0]             : AIC=-305421.711, Time=4.95 sec\n",
      " ARIMA(0,0,2)(0,0,0)[0]             : AIC=-305427.494, Time=2.48 sec\n",
      " ARIMA(2,0,0)(0,0,0)[0]             : AIC=-305427.010, Time=2.34 sec\n",
      " ARIMA(2,0,2)(0,0,0)[0]             : AIC=inf, Time=3.33 sec\n",
      "\n",
      "Best model:  ARIMA(1,0,1)(0,0,0)[0]          \n",
      "Total fit time: 89.794 seconds\n"
     ]
    },
    {
     "data": {
      "text/plain": [
       "ARIMA(order=(1, 0, 1), scoring_args={}, suppress_warnings=True,\n",
       "      with_intercept=False)"
      ]
     },
     "execution_count": 11,
     "metadata": {},
     "output_type": "execute_result"
    }
   ],
   "source": [
    "# see https://www.pluralsight.com/guides/advanced-time-series-modeling-(arima)-models-in-python\n",
    "arima = pmd.auto_arima(\n",
    "    X_train[:, 0, target_column],\n",
    "    d=pmd.arima.ndiffs(X_train[:, 0, target_column]),\n",
    "    start_p=1,\n",
    "    max_p=20,\n",
    "    start_q=0,\n",
    "    max_q=20,\n",
    "    start_P=0,\n",
    "    start_Q=0,\n",
    "    max_P=3,\n",
    "    max_Q=3,\n",
    "    test='adf',\n",
    "    trace=True\n",
    ")\n",
    "arima"
   ]
  },
  {
   "cell_type": "code",
   "execution_count": 12,
   "metadata": {},
   "outputs": [
    {
     "name": "stdout",
     "output_type": "stream",
     "text": [
      "                               SARIMAX Results                                \n",
      "==============================================================================\n",
      "Dep. Variable:                      y   No. Observations:                23208\n",
      "Model:                 ARIMA(1, 0, 1)   Log Likelihood              152717.285\n",
      "Date:                Fri, 26 Nov 2021   AIC                        -305426.571\n",
      "Time:                        12:52:03   BIC                        -305394.362\n",
      "Sample:                             0   HQIC                       -305416.109\n",
      "                              - 23208                                         \n",
      "Covariance Type:                  opg                                         \n",
      "==============================================================================\n",
      "                 coef    std err          z      P>|z|      [0.025      0.975]\n",
      "------------------------------------------------------------------------------\n",
      "const       1.918e-06   2.07e-06      0.928      0.353   -2.13e-06    5.97e-06\n",
      "ar.L1          0.1251      0.001    100.797      0.000       0.123       0.128\n",
      "ma.L1         -0.2006      0.001   -160.850      0.000      -0.203      -0.198\n",
      "sigma2      1.127e-07   3.32e-10    339.309      0.000    1.12e-07    1.13e-07\n",
      "===================================================================================\n",
      "Ljung-Box (L1) (Q):                   0.00   Jarque-Bera (JB):            421639.84\n",
      "Prob(Q):                              1.00   Prob(JB):                         0.00\n",
      "Heteroskedasticity (H):               0.74   Skew:                            -0.28\n",
      "Prob(H) (two-sided):                  0.00   Kurtosis:                        23.87\n",
      "===================================================================================\n",
      "\n",
      "Warnings:\n",
      "[1] Covariance matrix calculated using the outer product of gradients (complex-step).\n",
      "[2] Covariance matrix is singular or near-singular, with condition number 7.97e+16. Standard errors may be unstable.\n"
     ]
    }
   ],
   "source": [
    "mod = sm.tsa.arima.ARIMA(\n",
    "    X_train[:,0, target_column],\n",
    "#     exog=X_train[:,0, [i for i in range(min(10, X_train.shape[2])) if i !=3]],\n",
    "    order=arima.get_params()['order'],\n",
    "    seasonal_order=arima.get_params()['seasonal_order']\n",
    ")\n",
    "model_train = mod.fit()\n",
    "print(model_train.summary())"
   ]
  },
  {
   "cell_type": "code",
   "execution_count": 13,
   "metadata": {},
   "outputs": [
    {
     "data": {
      "text/plain": [
       "0.005739742698898653"
      ]
     },
     "execution_count": 13,
     "metadata": {},
     "output_type": "execute_result"
    }
   ],
   "source": [
    "from sklearn.metrics import r2_score\n",
    "r2_score(X_train[:,0, target_column], model_train.predict())"
   ]
  },
  {
   "cell_type": "code",
   "execution_count": 14,
   "metadata": {},
   "outputs": [],
   "source": [
    "y_train_pred = model_train.predict()"
   ]
  },
  {
   "cell_type": "code",
   "execution_count": 15,
   "metadata": {},
   "outputs": [],
   "source": [
    "m_min = np.min([y_train.min(), y_train_pred[y_train_pred != 0].min()])\n",
    "m_max = np.max([y_train.max(), y_train_pred.max()])"
   ]
  },
  {
   "cell_type": "code",
   "execution_count": 16,
   "metadata": {},
   "outputs": [
    {
     "data": {
      "image/png": "[encoded data removed]",
      "text/plain": [
       "<Figure size 432x288 with 1 Axes>"
      ]
     },
     "metadata": {
      "needs_background": "light"
     },
     "output_type": "display_data"
    }
   ],
   "source": [
    "pd.Series(\n",
    "    data=y_train[:, 0],\n",
    "    index=index_train[-y_train_pred.shape[0]:],\n",
    ").plot()\n",
    "pd.Series(\n",
    "    data=y_train_pred,\n",
    "    index=index_train[-y_train_pred.shape[0]:],\n",
    ").plot()\n",
    "plt.ylim(m_min, m_max)\n",
    "plt.show()"
   ]
  },
  {
   "cell_type": "code",
   "execution_count": 17,
   "metadata": {},
   "outputs": [],
   "source": [
    "y_pred_error = pd.Series(\n",
    "    data=y_train_pred.flatten() - y_train.flatten(),\n",
    "    index=index_train[-y_train_pred.shape[0]:],\n",
    ").iloc[1:]"
   ]
  },
  {
   "cell_type": "code",
   "execution_count": 18,
   "metadata": {},
   "outputs": [
    {
     "data": {
      "image/png": "[encoded data removed]",
      "text/plain": [
       "<Figure size 432x288 with 1 Axes>"
      ]
     },
     "metadata": {
      "needs_background": "light"
     },
     "output_type": "display_data"
    },
    {
     "data": {
      "text/plain": [
       "Text(0.5, 1.0, 'QQ-lot for y_train_pred - y_train')"
      ]
     },
     "execution_count": 18,
     "metadata": {},
     "output_type": "execute_result"
    },
    {
     "data": {
      "image/png": "[encoded data removed]",
      "text/plain": [
       "<Figure size 432x288 with 1 Axes>"
      ]
     },
     "metadata": {
      "needs_background": "light"
     },
     "output_type": "display_data"
    }
   ],
   "source": [
    "# y_pred_error.plot()\n",
    "# plt.show()\n",
    "plt.scatter(y_train_pred[1:], y_train[1:])\n",
    "plt.xlabel('y_train_pred')\n",
    "plt.ylabel('y_train')\n",
    "plt.show()\n",
    "import statsmodels.api as smi\n",
    "smi.qqplot(y_pred_error[1:], line = \"r\")\n",
    "plt.title('QQ-lot for y_train_pred - y_train')\n",
    "# pylab.show()"
   ]
  },
  {
   "cell_type": "code",
   "execution_count": 19,
   "metadata": {},
   "outputs": [
    {
     "name": "stdout",
     "output_type": "stream",
     "text": [
      "mse: 1.138427791607519e-07\n",
      "mae: 0.00021998170986407836\n",
      "mape: 428.40132952740066\n",
      "mde: 0.24749549334215837\n"
     ]
    }
   ],
   "source": [
    "y = y_train\n",
    "y_pred = y_train_pred\n",
    "print(f'mse: {MSE(y.flatten(), y_pred.flatten()).numpy()}')\n",
    "print(f'mae: {MAE(y.flatten(), y_pred.flatten()).numpy()}')\n",
    "print(f'mape: {MAPE(y.flatten(), y_pred.flatten()).numpy()}')\n",
    "# print(f'mde: {1 - np.mean(np.diff(y.flatten()) * (y_pred.flatten() - y.flatten())[1:] >= 0)}')\n",
    "print(f'mde: {mde(y, y_pred)}')\n"
   ]
  },
  {
   "cell_type": "code",
   "execution_count": 21,
   "metadata": {},
   "outputs": [
    {
     "name": "stdout",
     "output_type": "stream",
     "text": [
      "                               SARIMAX Results                                \n",
      "==============================================================================\n",
      "Dep. Variable:                      y   No. Observations:                 2899\n",
      "Model:                 ARIMA(1, 0, 1)   Log Likelihood               19339.574\n",
      "Date:                Fri, 26 Nov 2021   AIC                         -38679.148\n",
      "Time:                        12:52:53   BIC                         -38679.148\n",
      "Sample:                             0   HQIC                        -38679.148\n",
      "                               - 2899                                         \n",
      "Covariance Type:                  opg                                         \n",
      "==================================================================================\n",
      "                     coef    std err          z      P>|z|      [0.025      0.975]\n",
      "----------------------------------------------------------------------------------\n",
      "const (fixed)   1.918e-06        nan        nan        nan         nan         nan\n",
      "ar.L1 (fixed)      0.1251        nan        nan        nan         nan         nan\n",
      "ma.L1 (fixed)     -0.2006        nan        nan        nan         nan         nan\n",
      "sigma2 (fixed)  1.127e-07        nan        nan        nan         nan         nan\n",
      "===================================================================================\n",
      "Ljung-Box (L1) (Q):                   1.32   Jarque-Bera (JB):             58994.08\n",
      "Prob(Q):                              0.25   Prob(JB):                         0.00\n",
      "Heteroskedasticity (H):               1.31   Skew:                            -1.38\n",
      "Prob(H) (two-sided):                  0.00   Kurtosis:                        24.93\n",
      "===================================================================================\n",
      "\n",
      "Warnings:\n",
      "[1] Covariance matrix calculated using the outer product of gradients (complex-step).\n"
     ]
    }
   ],
   "source": [
    "mod2 = sm.tsa.arima.ARIMA(\n",
    "    X_test[:, 0, target_column],\n",
    "#     exog=X_test[:,0, [i for i in range(min(10, X_test.shape[2])) if i !=3]],\n",
    "    order=arima.get_params()['order'],\n",
    "    seasonal_order=arima.get_params()['seasonal_order']\n",
    ")\n",
    "with mod2.fix_params(dict(zip(model_train.param_names, model_train.params))):\n",
    "    model_test = mod2.fit()\n",
    "print(model_test.summary())"
   ]
  },
  {
   "cell_type": "markdown",
   "metadata": {},
   "source": [
    "Get model for test data."
   ]
  },
  {
   "cell_type": "code",
   "execution_count": 22,
   "metadata": {},
   "outputs": [
    {
     "data": {
      "text/plain": [
       "(1.4100746e-07, <AxesSubplot:>)"
      ]
     },
     "execution_count": 22,
     "metadata": {},
     "output_type": "execute_result"
    },
    {
     "data": {
      "image/png": "[encoded data removed]",
      "text/plain": [
       "<Figure size 432x288 with 1 Axes>"
      ]
     },
     "metadata": {
      "needs_background": "light"
     },
     "output_type": "display_data"
    }
   ],
   "source": [
    "actual_pred_plot(model_test.predict().reshape([-1,1]), X_test[:, 0, 3:4])"
   ]
  },
  {
   "cell_type": "code",
   "execution_count": 23,
   "metadata": {},
   "outputs": [
    {
     "data": {
      "text/plain": [
       "<AxesSubplot:xlabel='Dates'>"
      ]
     },
     "execution_count": 23,
     "metadata": {},
     "output_type": "execute_result"
    },
    {
     "data": {
      "image/png": "[encoded data removed]",
      "text/plain": [
       "<Figure size 432x288 with 1 Axes>"
      ]
     },
     "metadata": {
      "needs_background": "light"
     },
     "output_type": "display_data"
    }
   ],
   "source": [
    "y_test_pred = pd.Series(\n",
    "    data=model_test.predict(),\n",
    "    index=index_test[-model_test.predict().shape[0]:],\n",
    ")\n",
    "y_test_pred.plot()"
   ]
  },
  {
   "cell_type": "code",
   "execution_count": 24,
   "metadata": {},
   "outputs": [
    {
     "name": "stdout",
     "output_type": "stream",
     "text": [
      "(2899, 1)\n",
      "(2899,)\n",
      "mse: 9.257088537009565e-08\n",
      "mae: 0.00019796012767338422\n",
      "mape: 333.3034043902572\n",
      "mde: 0.24414495897077593\n"
     ]
    }
   ],
   "source": [
    "y = y_test\n",
    "y_pred = y_test_pred.values\n",
    "print(f'mse: {MSE(y.flatten(), y_pred.flatten()).numpy()}')\n",
    "print(f'mae: {MAE(y.flatten(), y_pred.flatten()).numpy()}')\n",
    "print(f'mape: {MAPE(y.flatten(), y_pred.flatten()).numpy()}')\n",
    "# print(f'mde: {1 - np.mean(np.diff(y.flatten()) * (y_pred.flatten() - y.flatten())[1:] >= 0)}')\n",
    "print(f'mde: {mde(y, y_pred)}')"
   ]
  },
  {
   "cell_type": "code",
   "execution_count": 25,
   "metadata": {},
   "outputs": [
    {
     "ename": "AttributeError",
     "evalue": "'numpy.ndarray' object has no attribute 'values'",
     "output_type": "error",
     "traceback": [
      "\u001b[0;31m---------------------------------------------------------------------------\u001b[0m",
      "\u001b[0;31mAttributeError\u001b[0m                            Traceback (most recent call last)",
      "\u001b[0;32m<ipython-input-25-d67753a3d336>\u001b[0m in \u001b[0;36m<module>\u001b[0;34m\u001b[0m\n\u001b[0;32m----> 1\u001b[0;31m \u001b[0my_pred\u001b[0m\u001b[0;34m.\u001b[0m\u001b[0mvalues\u001b[0m\u001b[0;34m\u001b[0m\u001b[0;34m\u001b[0m\u001b[0m\n\u001b[0m",
      "\u001b[0;31mAttributeError\u001b[0m: 'numpy.ndarray' object has no attribute 'values'"
     ]
    }
   ],
   "source": [
    "y_pred.values"
   ]
  },
  {
   "cell_type": "code",
   "execution_count": null,
   "metadata": {},
   "outputs": [],
   "source": []
  },
  {
   "cell_type": "code",
   "execution_count": null,
   "metadata": {},
   "outputs": [],
   "source": []
  },
  {
   "cell_type": "code",
   "execution_count": null,
   "metadata": {},
   "outputs": [],
   "source": []
  }
 ],
 "metadata": {
  "kernelspec": {
   "display_name": "fxpred3",
   "language": "python",
   "name": "fxpred3"
  },
  "language_info": {
   "codemirror_mode": {
    "name": "ipython",
    "version": 3
   },
   "file_extension": ".py",
   "mimetype": "text/x-python",
   "name": "python",
   "nbconvert_exporter": "python",
   "pygments_lexer": "ipython3",
   "version": "3.8.10"
  }
 },
 "nbformat": 4,
 "nbformat_minor": 4
}
