{
 "cells": [
  {
   "cell_type": "markdown",
   "metadata": {},
   "source": [
    "## Benchmark: ARIMA, RNN & LSTM"
   ]
  },
  {
   "cell_type": "code",
   "execution_count": 1,
   "metadata": {},
   "outputs": [],
   "source": [
    "import matplotlib.pyplot as plt\n",
    "import numpy as np\n",
    "from sklearn.model_selection import train_test_split\n",
    "from sklearn.preprocessing import MinMaxScaler\n",
    "%matplotlib inline"
   ]
  },
  {
   "cell_type": "markdown",
   "metadata": {},
   "source": [
    "Functions"
   ]
  },
  {
   "cell_type": "code",
   "execution_count": 2,
   "metadata": {},
   "outputs": [],
   "source": [
    "def actual_pred_plot(preds, y_test):\n",
    "    '''\n",
    "    Plot the actual vs. prediction\n",
    "    '''\n",
    "    actual_pred = pd.DataFrame(columns = ['Adj. Close', 'prediction'])\n",
    "    actual_pred['prediction'] = preds[:,0]\n",
    "    actual_pred['Adj. Close'] = y_test[:,0]  #.loc['2019':,'Adj Close'][0:len(preds)]\n",
    "\n",
    "    from tensorflow.keras.metrics import MeanSquaredError\n",
    "    m = MeanSquaredError()\n",
    "    m.update_state(np.array(actual_pred['Adj. Close']),np.array(actual_pred['prediction']))\n",
    "    return (m.result().numpy(), actual_pred.plot() )"
   ]
  },
  {
   "cell_type": "markdown",
   "metadata": {},
   "source": [
    "### Data"
   ]
  },
  {
   "cell_type": "code",
   "execution_count": 3,
   "metadata": {},
   "outputs": [
    {
     "data": {
      "text/html": [
       "<div>\n",
       "<style scoped>\n",
       "    .dataframe tbody tr th:only-of-type {\n",
       "        vertical-align: middle;\n",
       "    }\n",
       "\n",
       "    .dataframe tbody tr th {\n",
       "        vertical-align: top;\n",
       "    }\n",
       "\n",
       "    .dataframe thead th {\n",
       "        text-align: right;\n",
       "    }\n",
       "</style>\n",
       "<table border=\"1\" class=\"dataframe\">\n",
       "  <thead>\n",
       "    <tr style=\"text-align: right;\">\n",
       "      <th></th>\n",
       "      <th>EURUSD BGNE Curncy Bid Open</th>\n",
       "      <th>EURUSD BGNE Curncy Bid Close</th>\n",
       "      <th>EURUSD BGNE Curncy Bid High</th>\n",
       "      <th>EURUSD BGNE Curncy Bid Low</th>\n",
       "      <th>EURUSD BGNE Curncy Bid Number Ticks</th>\n",
       "      <th>EURUSD BGNE Curncy Ask Open</th>\n",
       "      <th>EURUSD BGNE Curncy Ask Close</th>\n",
       "      <th>EURUSD BGNE Curncy Ask High</th>\n",
       "      <th>EURUSD BGNE Curncy Ask Low</th>\n",
       "      <th>EURUSD BGNE Curncy Ask Number Ticks</th>\n",
       "      <th>...</th>\n",
       "      <th>G 1 Comdty Trade Open</th>\n",
       "      <th>UB1 Comdty Trade Open</th>\n",
       "      <th>FF1 Comdty Trade Open</th>\n",
       "      <th>OE1 Comdty Trade Open</th>\n",
       "      <th>TU1 Comdty Trade Open</th>\n",
       "      <th>KE1 Comdty Trade Open</th>\n",
       "      <th>DU1 Comdty Trade Open</th>\n",
       "      <th>UXY1 Comdty Trade Open</th>\n",
       "      <th>CN1 Comdty Trade Open</th>\n",
       "      <th>KAA1 Comdty Trade Open</th>\n",
       "    </tr>\n",
       "    <tr>\n",
       "      <th>Dates</th>\n",
       "      <th></th>\n",
       "      <th></th>\n",
       "      <th></th>\n",
       "      <th></th>\n",
       "      <th></th>\n",
       "      <th></th>\n",
       "      <th></th>\n",
       "      <th></th>\n",
       "      <th></th>\n",
       "      <th></th>\n",
       "      <th></th>\n",
       "      <th></th>\n",
       "      <th></th>\n",
       "      <th></th>\n",
       "      <th></th>\n",
       "      <th></th>\n",
       "      <th></th>\n",
       "      <th></th>\n",
       "      <th></th>\n",
       "      <th></th>\n",
       "      <th></th>\n",
       "    </tr>\n",
       "  </thead>\n",
       "  <tbody>\n",
       "    <tr>\n",
       "      <th>2020-10-01 00:10:00</th>\n",
       "      <td>0.000427</td>\n",
       "      <td>-0.000009</td>\n",
       "      <td>-0.000026</td>\n",
       "      <td>0.000418</td>\n",
       "      <td>0.003956</td>\n",
       "      <td>0.000358</td>\n",
       "      <td>-0.000026</td>\n",
       "      <td>-0.000017</td>\n",
       "      <td>0.000350</td>\n",
       "      <td>0.003956</td>\n",
       "      <td>...</td>\n",
       "      <td>0.0</td>\n",
       "      <td>0.0</td>\n",
       "      <td>0.000025</td>\n",
       "      <td>0.0</td>\n",
       "      <td>-0.000106</td>\n",
       "      <td>0.0</td>\n",
       "      <td>0.0</td>\n",
       "      <td>-0.001075</td>\n",
       "      <td>0.0</td>\n",
       "      <td>0.0</td>\n",
       "    </tr>\n",
       "    <tr>\n",
       "      <th>2020-10-01 00:20:00</th>\n",
       "      <td>-0.000026</td>\n",
       "      <td>0.000171</td>\n",
       "      <td>0.000153</td>\n",
       "      <td>0.000111</td>\n",
       "      <td>0.087470</td>\n",
       "      <td>-0.000026</td>\n",
       "      <td>0.000171</td>\n",
       "      <td>0.000153</td>\n",
       "      <td>0.000094</td>\n",
       "      <td>0.087470</td>\n",
       "      <td>...</td>\n",
       "      <td>0.0</td>\n",
       "      <td>0.0</td>\n",
       "      <td>0.000000</td>\n",
       "      <td>0.0</td>\n",
       "      <td>0.000000</td>\n",
       "      <td>0.0</td>\n",
       "      <td>0.0</td>\n",
       "      <td>0.000000</td>\n",
       "      <td>0.0</td>\n",
       "      <td>0.0</td>\n",
       "    </tr>\n",
       "    <tr>\n",
       "      <th>2020-10-01 00:30:00</th>\n",
       "      <td>0.000188</td>\n",
       "      <td>0.000026</td>\n",
       "      <td>0.000017</td>\n",
       "      <td>0.000179</td>\n",
       "      <td>-0.036232</td>\n",
       "      <td>0.000162</td>\n",
       "      <td>0.000026</td>\n",
       "      <td>0.000000</td>\n",
       "      <td>0.000179</td>\n",
       "      <td>-0.036232</td>\n",
       "      <td>...</td>\n",
       "      <td>0.0</td>\n",
       "      <td>0.0</td>\n",
       "      <td>0.000000</td>\n",
       "      <td>0.0</td>\n",
       "      <td>0.000000</td>\n",
       "      <td>0.0</td>\n",
       "      <td>0.0</td>\n",
       "      <td>0.000000</td>\n",
       "      <td>0.0</td>\n",
       "      <td>0.0</td>\n",
       "    </tr>\n",
       "    <tr>\n",
       "      <th>2020-10-01 00:40:00</th>\n",
       "      <td>0.000026</td>\n",
       "      <td>-0.000051</td>\n",
       "      <td>0.000017</td>\n",
       "      <td>-0.000128</td>\n",
       "      <td>0.015789</td>\n",
       "      <td>0.000026</td>\n",
       "      <td>-0.000017</td>\n",
       "      <td>0.000026</td>\n",
       "      <td>-0.000145</td>\n",
       "      <td>0.015789</td>\n",
       "      <td>...</td>\n",
       "      <td>0.0</td>\n",
       "      <td>0.0</td>\n",
       "      <td>0.000000</td>\n",
       "      <td>0.0</td>\n",
       "      <td>0.000000</td>\n",
       "      <td>0.0</td>\n",
       "      <td>0.0</td>\n",
       "      <td>-0.000098</td>\n",
       "      <td>0.0</td>\n",
       "      <td>0.0</td>\n",
       "    </tr>\n",
       "    <tr>\n",
       "      <th>2020-10-01 00:50:00</th>\n",
       "      <td>-0.000026</td>\n",
       "      <td>0.000043</td>\n",
       "      <td>0.000017</td>\n",
       "      <td>0.000000</td>\n",
       "      <td>-0.050333</td>\n",
       "      <td>-0.000026</td>\n",
       "      <td>0.000017</td>\n",
       "      <td>0.000017</td>\n",
       "      <td>0.000017</td>\n",
       "      <td>-0.050333</td>\n",
       "      <td>...</td>\n",
       "      <td>0.0</td>\n",
       "      <td>0.0</td>\n",
       "      <td>0.000000</td>\n",
       "      <td>0.0</td>\n",
       "      <td>0.000000</td>\n",
       "      <td>0.0</td>\n",
       "      <td>0.0</td>\n",
       "      <td>0.000391</td>\n",
       "      <td>0.0</td>\n",
       "      <td>0.0</td>\n",
       "    </tr>\n",
       "    <tr>\n",
       "      <th>2020-10-01 01:00:00</th>\n",
       "      <td>0.000000</td>\n",
       "      <td>-0.000179</td>\n",
       "      <td>-0.000085</td>\n",
       "      <td>-0.000162</td>\n",
       "      <td>0.033515</td>\n",
       "      <td>0.000000</td>\n",
       "      <td>-0.000196</td>\n",
       "      <td>-0.000085</td>\n",
       "      <td>-0.000171</td>\n",
       "      <td>0.033515</td>\n",
       "      <td>...</td>\n",
       "      <td>0.0</td>\n",
       "      <td>0.0</td>\n",
       "      <td>0.000000</td>\n",
       "      <td>0.0</td>\n",
       "      <td>0.000000</td>\n",
       "      <td>0.0</td>\n",
       "      <td>0.0</td>\n",
       "      <td>-0.000293</td>\n",
       "      <td>0.0</td>\n",
       "      <td>0.0</td>\n",
       "    </tr>\n",
       "    <tr>\n",
       "      <th>2020-10-01 01:10:00</th>\n",
       "      <td>-0.000153</td>\n",
       "      <td>0.000051</td>\n",
       "      <td>-0.000051</td>\n",
       "      <td>0.000085</td>\n",
       "      <td>-0.005279</td>\n",
       "      <td>-0.000179</td>\n",
       "      <td>0.000060</td>\n",
       "      <td>-0.000068</td>\n",
       "      <td>0.000077</td>\n",
       "      <td>-0.005279</td>\n",
       "      <td>...</td>\n",
       "      <td>0.0</td>\n",
       "      <td>0.0</td>\n",
       "      <td>0.000000</td>\n",
       "      <td>0.0</td>\n",
       "      <td>0.000000</td>\n",
       "      <td>0.0</td>\n",
       "      <td>0.0</td>\n",
       "      <td>0.000098</td>\n",
       "      <td>0.0</td>\n",
       "      <td>0.0</td>\n",
       "    </tr>\n",
       "    <tr>\n",
       "      <th>2020-10-01 01:20:00</th>\n",
       "      <td>0.000060</td>\n",
       "      <td>0.000060</td>\n",
       "      <td>0.000196</td>\n",
       "      <td>0.000102</td>\n",
       "      <td>0.029568</td>\n",
       "      <td>0.000068</td>\n",
       "      <td>0.000034</td>\n",
       "      <td>0.000205</td>\n",
       "      <td>0.000111</td>\n",
       "      <td>0.029568</td>\n",
       "      <td>...</td>\n",
       "      <td>0.0</td>\n",
       "      <td>0.0</td>\n",
       "      <td>0.000000</td>\n",
       "      <td>0.0</td>\n",
       "      <td>0.000035</td>\n",
       "      <td>0.0</td>\n",
       "      <td>0.0</td>\n",
       "      <td>0.000098</td>\n",
       "      <td>0.0</td>\n",
       "      <td>0.0</td>\n",
       "    </tr>\n",
       "    <tr>\n",
       "      <th>2020-10-01 01:30:00</th>\n",
       "      <td>0.000043</td>\n",
       "      <td>-0.000298</td>\n",
       "      <td>-0.000188</td>\n",
       "      <td>-0.000298</td>\n",
       "      <td>0.078056</td>\n",
       "      <td>0.000043</td>\n",
       "      <td>-0.000264</td>\n",
       "      <td>-0.000188</td>\n",
       "      <td>-0.000315</td>\n",
       "      <td>0.078056</td>\n",
       "      <td>...</td>\n",
       "      <td>0.0</td>\n",
       "      <td>0.0</td>\n",
       "      <td>0.000000</td>\n",
       "      <td>0.0</td>\n",
       "      <td>0.000000</td>\n",
       "      <td>0.0</td>\n",
       "      <td>0.0</td>\n",
       "      <td>0.000098</td>\n",
       "      <td>0.0</td>\n",
       "      <td>0.0</td>\n",
       "    </tr>\n",
       "    <tr>\n",
       "      <th>2020-10-01 01:40:00</th>\n",
       "      <td>-0.000324</td>\n",
       "      <td>-0.000196</td>\n",
       "      <td>-0.000341</td>\n",
       "      <td>-0.000205</td>\n",
       "      <td>-0.007514</td>\n",
       "      <td>-0.000315</td>\n",
       "      <td>-0.000213</td>\n",
       "      <td>-0.000332</td>\n",
       "      <td>-0.000213</td>\n",
       "      <td>-0.007514</td>\n",
       "      <td>...</td>\n",
       "      <td>0.0</td>\n",
       "      <td>0.0</td>\n",
       "      <td>0.000000</td>\n",
       "      <td>0.0</td>\n",
       "      <td>-0.000035</td>\n",
       "      <td>0.0</td>\n",
       "      <td>0.0</td>\n",
       "      <td>0.000098</td>\n",
       "      <td>0.0</td>\n",
       "      <td>0.0</td>\n",
       "    </tr>\n",
       "  </tbody>\n",
       "</table>\n",
       "<p>10 rows × 434 columns</p>\n",
       "</div>"
      ],
      "text/plain": [
       "                     EURUSD BGNE Curncy Bid Open  \\\n",
       "Dates                                              \n",
       "2020-10-01 00:10:00                     0.000427   \n",
       "2020-10-01 00:20:00                    -0.000026   \n",
       "2020-10-01 00:30:00                     0.000188   \n",
       "2020-10-01 00:40:00                     0.000026   \n",
       "2020-10-01 00:50:00                    -0.000026   \n",
       "2020-10-01 01:00:00                     0.000000   \n",
       "2020-10-01 01:10:00                    -0.000153   \n",
       "2020-10-01 01:20:00                     0.000060   \n",
       "2020-10-01 01:30:00                     0.000043   \n",
       "2020-10-01 01:40:00                    -0.000324   \n",
       "\n",
       "                     EURUSD BGNE Curncy Bid Close  \\\n",
       "Dates                                               \n",
       "2020-10-01 00:10:00                     -0.000009   \n",
       "2020-10-01 00:20:00                      0.000171   \n",
       "2020-10-01 00:30:00                      0.000026   \n",
       "2020-10-01 00:40:00                     -0.000051   \n",
       "2020-10-01 00:50:00                      0.000043   \n",
       "2020-10-01 01:00:00                     -0.000179   \n",
       "2020-10-01 01:10:00                      0.000051   \n",
       "2020-10-01 01:20:00                      0.000060   \n",
       "2020-10-01 01:30:00                     -0.000298   \n",
       "2020-10-01 01:40:00                     -0.000196   \n",
       "\n",
       "                     EURUSD BGNE Curncy Bid High  EURUSD BGNE Curncy Bid Low  \\\n",
       "Dates                                                                          \n",
       "2020-10-01 00:10:00                    -0.000026                    0.000418   \n",
       "2020-10-01 00:20:00                     0.000153                    0.000111   \n",
       "2020-10-01 00:30:00                     0.000017                    0.000179   \n",
       "2020-10-01 00:40:00                     0.000017                   -0.000128   \n",
       "2020-10-01 00:50:00                     0.000017                    0.000000   \n",
       "2020-10-01 01:00:00                    -0.000085                   -0.000162   \n",
       "2020-10-01 01:10:00                    -0.000051                    0.000085   \n",
       "2020-10-01 01:20:00                     0.000196                    0.000102   \n",
       "2020-10-01 01:30:00                    -0.000188                   -0.000298   \n",
       "2020-10-01 01:40:00                    -0.000341                   -0.000205   \n",
       "\n",
       "                     EURUSD BGNE Curncy Bid Number Ticks  \\\n",
       "Dates                                                      \n",
       "2020-10-01 00:10:00                             0.003956   \n",
       "2020-10-01 00:20:00                             0.087470   \n",
       "2020-10-01 00:30:00                            -0.036232   \n",
       "2020-10-01 00:40:00                             0.015789   \n",
       "2020-10-01 00:50:00                            -0.050333   \n",
       "2020-10-01 01:00:00                             0.033515   \n",
       "2020-10-01 01:10:00                            -0.005279   \n",
       "2020-10-01 01:20:00                             0.029568   \n",
       "2020-10-01 01:30:00                             0.078056   \n",
       "2020-10-01 01:40:00                            -0.007514   \n",
       "\n",
       "                     EURUSD BGNE Curncy Ask Open  \\\n",
       "Dates                                              \n",
       "2020-10-01 00:10:00                     0.000358   \n",
       "2020-10-01 00:20:00                    -0.000026   \n",
       "2020-10-01 00:30:00                     0.000162   \n",
       "2020-10-01 00:40:00                     0.000026   \n",
       "2020-10-01 00:50:00                    -0.000026   \n",
       "2020-10-01 01:00:00                     0.000000   \n",
       "2020-10-01 01:10:00                    -0.000179   \n",
       "2020-10-01 01:20:00                     0.000068   \n",
       "2020-10-01 01:30:00                     0.000043   \n",
       "2020-10-01 01:40:00                    -0.000315   \n",
       "\n",
       "                     EURUSD BGNE Curncy Ask Close  \\\n",
       "Dates                                               \n",
       "2020-10-01 00:10:00                     -0.000026   \n",
       "2020-10-01 00:20:00                      0.000171   \n",
       "2020-10-01 00:30:00                      0.000026   \n",
       "2020-10-01 00:40:00                     -0.000017   \n",
       "2020-10-01 00:50:00                      0.000017   \n",
       "2020-10-01 01:00:00                     -0.000196   \n",
       "2020-10-01 01:10:00                      0.000060   \n",
       "2020-10-01 01:20:00                      0.000034   \n",
       "2020-10-01 01:30:00                     -0.000264   \n",
       "2020-10-01 01:40:00                     -0.000213   \n",
       "\n",
       "                     EURUSD BGNE Curncy Ask High  EURUSD BGNE Curncy Ask Low  \\\n",
       "Dates                                                                          \n",
       "2020-10-01 00:10:00                    -0.000017                    0.000350   \n",
       "2020-10-01 00:20:00                     0.000153                    0.000094   \n",
       "2020-10-01 00:30:00                     0.000000                    0.000179   \n",
       "2020-10-01 00:40:00                     0.000026                   -0.000145   \n",
       "2020-10-01 00:50:00                     0.000017                    0.000017   \n",
       "2020-10-01 01:00:00                    -0.000085                   -0.000171   \n",
       "2020-10-01 01:10:00                    -0.000068                    0.000077   \n",
       "2020-10-01 01:20:00                     0.000205                    0.000111   \n",
       "2020-10-01 01:30:00                    -0.000188                   -0.000315   \n",
       "2020-10-01 01:40:00                    -0.000332                   -0.000213   \n",
       "\n",
       "                     EURUSD BGNE Curncy Ask Number Ticks  ...  \\\n",
       "Dates                                                     ...   \n",
       "2020-10-01 00:10:00                             0.003956  ...   \n",
       "2020-10-01 00:20:00                             0.087470  ...   \n",
       "2020-10-01 00:30:00                            -0.036232  ...   \n",
       "2020-10-01 00:40:00                             0.015789  ...   \n",
       "2020-10-01 00:50:00                            -0.050333  ...   \n",
       "2020-10-01 01:00:00                             0.033515  ...   \n",
       "2020-10-01 01:10:00                            -0.005279  ...   \n",
       "2020-10-01 01:20:00                             0.029568  ...   \n",
       "2020-10-01 01:30:00                             0.078056  ...   \n",
       "2020-10-01 01:40:00                            -0.007514  ...   \n",
       "\n",
       "                     G 1 Comdty Trade Open  UB1 Comdty Trade Open  \\\n",
       "Dates                                                               \n",
       "2020-10-01 00:10:00                    0.0                    0.0   \n",
       "2020-10-01 00:20:00                    0.0                    0.0   \n",
       "2020-10-01 00:30:00                    0.0                    0.0   \n",
       "2020-10-01 00:40:00                    0.0                    0.0   \n",
       "2020-10-01 00:50:00                    0.0                    0.0   \n",
       "2020-10-01 01:00:00                    0.0                    0.0   \n",
       "2020-10-01 01:10:00                    0.0                    0.0   \n",
       "2020-10-01 01:20:00                    0.0                    0.0   \n",
       "2020-10-01 01:30:00                    0.0                    0.0   \n",
       "2020-10-01 01:40:00                    0.0                    0.0   \n",
       "\n",
       "                     FF1 Comdty Trade Open  OE1 Comdty Trade Open  \\\n",
       "Dates                                                               \n",
       "2020-10-01 00:10:00               0.000025                    0.0   \n",
       "2020-10-01 00:20:00               0.000000                    0.0   \n",
       "2020-10-01 00:30:00               0.000000                    0.0   \n",
       "2020-10-01 00:40:00               0.000000                    0.0   \n",
       "2020-10-01 00:50:00               0.000000                    0.0   \n",
       "2020-10-01 01:00:00               0.000000                    0.0   \n",
       "2020-10-01 01:10:00               0.000000                    0.0   \n",
       "2020-10-01 01:20:00               0.000000                    0.0   \n",
       "2020-10-01 01:30:00               0.000000                    0.0   \n",
       "2020-10-01 01:40:00               0.000000                    0.0   \n",
       "\n",
       "                     TU1 Comdty Trade Open  KE1 Comdty Trade Open  \\\n",
       "Dates                                                               \n",
       "2020-10-01 00:10:00              -0.000106                    0.0   \n",
       "2020-10-01 00:20:00               0.000000                    0.0   \n",
       "2020-10-01 00:30:00               0.000000                    0.0   \n",
       "2020-10-01 00:40:00               0.000000                    0.0   \n",
       "2020-10-01 00:50:00               0.000000                    0.0   \n",
       "2020-10-01 01:00:00               0.000000                    0.0   \n",
       "2020-10-01 01:10:00               0.000000                    0.0   \n",
       "2020-10-01 01:20:00               0.000035                    0.0   \n",
       "2020-10-01 01:30:00               0.000000                    0.0   \n",
       "2020-10-01 01:40:00              -0.000035                    0.0   \n",
       "\n",
       "                     DU1 Comdty Trade Open  UXY1 Comdty Trade Open  \\\n",
       "Dates                                                                \n",
       "2020-10-01 00:10:00                    0.0               -0.001075   \n",
       "2020-10-01 00:20:00                    0.0                0.000000   \n",
       "2020-10-01 00:30:00                    0.0                0.000000   \n",
       "2020-10-01 00:40:00                    0.0               -0.000098   \n",
       "2020-10-01 00:50:00                    0.0                0.000391   \n",
       "2020-10-01 01:00:00                    0.0               -0.000293   \n",
       "2020-10-01 01:10:00                    0.0                0.000098   \n",
       "2020-10-01 01:20:00                    0.0                0.000098   \n",
       "2020-10-01 01:30:00                    0.0                0.000098   \n",
       "2020-10-01 01:40:00                    0.0                0.000098   \n",
       "\n",
       "                     CN1 Comdty Trade Open  KAA1 Comdty Trade Open  \n",
       "Dates                                                               \n",
       "2020-10-01 00:10:00                    0.0                     0.0  \n",
       "2020-10-01 00:20:00                    0.0                     0.0  \n",
       "2020-10-01 00:30:00                    0.0                     0.0  \n",
       "2020-10-01 00:40:00                    0.0                     0.0  \n",
       "2020-10-01 00:50:00                    0.0                     0.0  \n",
       "2020-10-01 01:00:00                    0.0                     0.0  \n",
       "2020-10-01 01:10:00                    0.0                     0.0  \n",
       "2020-10-01 01:20:00                    0.0                     0.0  \n",
       "2020-10-01 01:30:00                    0.0                     0.0  \n",
       "2020-10-01 01:40:00                    0.0                     0.0  \n",
       "\n",
       "[10 rows x 434 columns]"
      ]
     },
     "execution_count": 3,
     "metadata": {},
     "output_type": "execute_result"
    }
   ],
   "source": [
    "import pandas as pd\n",
    "\n",
    "IBM_path = '../data/10min Dataset.csv'\n",
    "\n",
    "# df = pd.read_csv(IBM_path, delimiter=';', usecols=['Dates', 'EURUSD BGNE Curncy Bid Open', 'EURUSD BGNE Curncy Bid Close', 'EURUSD BGNE Curncy Bid High', 'EURUSD BGNE Curncy Bid Low', 'EURUSD BGNE Curncy Bid Number Ticks', 'EURUSD BGNE Curncy Ask Open', 'EURUSD BGNE Curncy Ask Close', 'EURUSD BGNE Curncy Ask High', 'EURUSD BGNE Curncy Ask Low', 'EURUSD BGNE Curncy Ask Number Ticks', 'USDJPY BGNE Curncy Bid Open', 'USDJPY BGNE Curncy Bid Close', 'USDJPY BGNE Curncy Bid High', 'USDJPY BGNE Curncy Bid Low', 'USDJPY BGNE Curncy Bid Number Ticks', 'USDJPY BGNE Curncy Ask Open', 'USDJPY BGNE Curncy Ask Close', 'USDJPY BGNE Curncy Ask High', 'USDJPY BGNE Curncy Ask Low', 'USDJPY BGNE Curncy Ask Number Ticks', 'GBPUSD BGNE Curncy Bid Open', 'GBPUSD BGNE Curncy Bid Close', 'GBPUSD BGNE Curncy Bid High', 'GBPUSD BGNE Curncy Bid Low', 'GBPUSD BGNE Curncy Bid Number Ticks', 'GBPUSD BGNE Curncy Ask Open', 'GBPUSD BGNE Curncy Ask Close', 'GBPUSD BGNE Curncy Ask High', 'GBPUSD BGNE Curncy Ask Low', 'GBPUSD BGNE Curncy Ask Number Ticks', 'AUDUSD BGNE Curncy Bid Open', 'AUDUSD BGNE Curncy Bid Close', 'AUDUSD BGNE Curncy Bid High', 'AUDUSD BGNE Curncy Bid Low', 'AUDUSD BGNE Curncy Bid Number Ticks', 'AUDUSD BGNE Curncy Ask Open', 'AUDUSD BGNE Curncy Ask Close', 'AUDUSD BGNE Curncy Ask High', 'AUDUSD BGNE Curncy Ask Low', 'AUDUSD BGNE Curncy Ask Number Ticks', 'USDCAD BGNE Curncy Bid Open', 'USDCAD BGNE Curncy Bid Close', 'USDCAD BGNE Curncy Bid High', 'USDCAD BGNE Curncy Bid Low', 'USDCAD BGNE Curncy Bid Number Ticks', 'USDCAD BGNE Curncy Ask Open', 'USDCAD BGNE Curncy Ask Close', 'USDCAD BGNE Curncy Ask High', 'USDCAD BGNE Curncy Ask Low', 'USDCAD BGNE Curncy Ask Number Ticks', 'USDCHF BGNE Curncy Bid Open', 'USDCHF BGNE Curncy Bid Close', 'USDCHF BGNE Curncy Bid High', 'USDCHF BGNE Curncy Bid Low', 'USDCHF BGNE Curncy Bid Number Ticks', 'USDCHF BGNE Curncy Ask Open', 'USDCHF BGNE Curncy Ask Close', 'USDCHF BGNE Curncy Ask High', 'USDCHF BGNE Curncy Ask Low', 'USDCHF BGNE Curncy Ask Number Ticks', 'NZDUSD BGNE Curncy Bid Open', 'NZDUSD BGNE Curncy Bid Close', 'NZDUSD BGNE Curncy Bid High', 'NZDUSD BGNE Curncy Bid Low', 'NZDUSD BGNE Curncy Bid Number Ticks', 'NZDUSD BGNE Curncy Ask Open', 'NZDUSD BGNE Curncy Ask Close', 'NZDUSD BGNE Curncy Ask High', 'NZDUSD BGNE Curncy Ask Low', 'NZDUSD BGNE Curncy Ask Number Ticks', 'EURJPY BGNE Curncy Bid Open', 'EURJPY BGNE Curncy Bid Close', 'EURJPY BGNE Curncy Bid High', 'EURJPY BGNE Curncy Bid Low', 'EURJPY BGNE Curncy Bid Number Ticks', 'EURJPY BGNE Curncy Ask Open', 'EURJPY BGNE Curncy Ask Close', 'EURJPY BGNE Curncy Ask High', 'EURJPY BGNE Curncy Ask Low', 'EURJPY BGNE Curncy Ask Number Ticks', 'GBPJPY BGNE Curncy Bid Open', 'GBPJPY BGNE Curncy Bid Close', 'GBPJPY BGNE Curncy Bid High', 'GBPJPY BGNE Curncy Bid Low', 'GBPJPY BGNE Curncy Bid Number Ticks', 'GBPJPY BGNE Curncy Ask Open', 'GBPJPY BGNE Curncy Ask Close', 'GBPJPY BGNE Curncy Ask High', 'GBPJPY BGNE Curncy Ask Low', 'GBPJPY BGNE Curncy Ask Number Ticks', 'EURGBP BGNE Curncy Bid Open', 'EURGBP BGNE Curncy Bid Close', 'EURGBP BGNE Curncy Bid High', 'EURGBP BGNE Curncy Bid Low', 'EURGBP BGNE Curncy Bid Number Ticks', 'EURGBP BGNE Curncy Ask Open', 'EURGBP BGNE Curncy Ask Close', 'EURGBP BGNE Curncy Ask High', 'EURGBP BGNE Curncy Ask Low', 'EURGBP BGNE Curncy Ask Number Ticks', 'AUDJPY BGNE Curncy Bid Open', 'AUDJPY BGNE Curncy Bid Close', 'AUDJPY BGNE Curncy Bid High', 'AUDJPY BGNE Curncy Bid Low', 'AUDJPY BGNE Curncy Bid Number Ticks', 'AUDJPY BGNE Curncy Ask Open', 'AUDJPY BGNE Curncy Ask Close', 'AUDJPY BGNE Curncy Ask High', 'AUDJPY BGNE Curncy Ask Low', 'AUDJPY BGNE Curncy Ask Number Ticks', 'EURAUD BGNE Curncy Bid Open', 'EURAUD BGNE Curncy Bid Close', 'EURAUD BGNE Curncy Bid High', 'EURAUD BGNE Curncy Bid Low', 'EURAUD BGNE Curncy Bid Number Ticks', 'EURAUD BGNE Curncy Ask Open', 'EURAUD BGNE Curncy Ask Close', 'EURAUD BGNE Curncy Ask High', 'EURAUD BGNE Curncy Ask Low', 'EURAUD BGNE Curncy Ask Number Ticks', 'EURCHF BGNE Curncy Bid Open', 'EURCHF BGNE Curncy Bid Close', 'EURCHF BGNE Curncy Bid High', 'EURCHF BGNE Curncy Bid Low', 'EURCHF BGNE Curncy Bid Number Ticks', 'EURCHF BGNE Curncy Ask Open', 'EURCHF BGNE Curncy Ask Close', 'EURCHF BGNE Curncy Ask High', 'EURCHF BGNE Curncy Ask Low', 'EURCHF BGNE Curncy Ask Number Ticks', 'AUDNZD BGNE Curncy Bid Open', 'AUDNZD BGNE Curncy Bid Close', 'AUDNZD BGNE Curncy Bid High', 'AUDNZD BGNE Curncy Bid Low', 'AUDNZD BGNE Curncy Bid Number Ticks', 'AUDNZD BGNE Curncy Ask Open', 'AUDNZD BGNE Curncy Ask Close', 'AUDNZD BGNE Curncy Ask High', 'AUDNZD BGNE Curncy Ask Low', 'AUDNZD BGNE Curncy Ask Number Ticks', 'NZDJPY BGNE Curncy Bid Open', 'NZDJPY BGNE Curncy Bid Close', 'NZDJPY BGNE Curncy Bid High', 'NZDJPY BGNE Curncy Bid Low', 'NZDJPY BGNE Curncy Bid Number Ticks', 'NZDJPY BGNE Curncy Ask Open', 'NZDJPY BGNE Curncy Ask Close', 'NZDJPY BGNE Curncy Ask High', 'NZDJPY BGNE Curncy Ask Low', 'NZDJPY BGNE Curncy Ask Number Ticks', 'GBPAUD BGNE Curncy Bid Open', 'GBPAUD BGNE Curncy Bid Close', 'GBPAUD BGNE Curncy Bid High', 'GBPAUD BGNE Curncy Bid Low', 'GBPAUD BGNE Curncy Bid Number Ticks', 'GBPAUD BGNE Curncy Ask Open', 'GBPAUD BGNE Curncy Ask Close', 'GBPAUD BGNE Curncy Ask High', 'GBPAUD BGNE Curncy Ask Low', 'GBPAUD BGNE Curncy Ask Number Ticks', 'GBPCAD BGNE Curncy Bid Open', 'GBPCAD BGNE Curncy Bid Close', 'GBPCAD BGNE Curncy Bid High', 'GBPCAD BGNE Curncy Bid Low', 'GBPCAD BGNE Curncy Bid Number Ticks', 'GBPCAD BGNE Curncy Ask Open', 'GBPCAD BGNE Curncy Ask Close', 'GBPCAD BGNE Curncy Ask High', 'GBPCAD BGNE Curncy Ask Low', 'GBPCAD BGNE Curncy Ask Number Ticks', 'EURNZD BGNE Curncy Bid Open', 'EURNZD BGNE Curncy Bid Close', 'EURNZD BGNE Curncy Bid High', 'EURNZD BGNE Curncy Bid Low', 'EURNZD BGNE Curncy Bid Number Ticks', 'EURNZD BGNE Curncy Ask Open', 'EURNZD BGNE Curncy Ask Close', 'EURNZD BGNE Curncy Ask High', 'EURNZD BGNE Curncy Ask Low', 'EURNZD BGNE Curncy Ask Number Ticks', 'AUDCAD BGNE Curncy Bid Open', 'AUDCAD BGNE Curncy Bid Close', 'AUDCAD BGNE Curncy Bid High', 'AUDCAD BGNE Curncy Bid Low', 'AUDCAD BGNE Curncy Bid Number Ticks', 'AUDCAD BGNE Curncy Ask Open', 'AUDCAD BGNE Curncy Ask Close', 'AUDCAD BGNE Curncy Ask High', 'AUDCAD BGNE Curncy Ask Low', 'AUDCAD BGNE Curncy Ask Number Ticks', 'GBPCHF BGNE Curncy Bid Open', 'GBPCHF BGNE Curncy Bid Close', 'GBPCHF BGNE Curncy Bid High', 'GBPCHF BGNE Curncy Bid Low', 'GBPCHF BGNE Curncy Bid Number Ticks', 'GBPCHF BGNE Curncy Ask Open', 'GBPCHF BGNE Curncy Ask Close', 'GBPCHF BGNE Curncy Ask High', 'GBPCHF BGNE Curncy Ask Low', 'GBPCHF BGNE Curncy Ask Number Ticks', 'EURUSDV1M Curncy 44278 Open', 'USDJPYV1M Curncy  Open', 'GBPUSDV1M Curncy  Open', 'AUDUSDV1M Curncy  Open', 'USDCADV1M Curncy  Open', 'USDCHFV1M Curncy  Open', 'NZDUSDV1M Curncy  Open', 'EURJPYV1M Curncy  Open', 'GBPJPYV1M Curncy  Open', 'EURGBPV1M Curncy  Open', 'AUDJPYV1M Curncy  Open', 'EURAUDV1M Curncy  Open', 'EURCHFV1M Curncy  Open', 'AUDNZDV1M Curncy  Open', 'NZDJPYV1M Curncy  Open', 'GBPAUDV1M Curncy  Open', 'GBPCADV1M Curncy  Open', 'EURNZDV1M Curncy  Open', 'AUDCADV1M Curncy  Open', 'GBPCHFV1M Curncy  Open', 'EURUSDV3M Curncy Trade Open', 'USDJPYV3M Curncy Trade Open', 'GBPUSDV3M Curncy Trade Open', 'AUDUSDV3M Curncy Trade Open', 'USDCADV3M Curncy Trade Open', 'USDCHFV3M Curncy Trade Open', 'NZDUSDV3M Curncy Trade Open', 'EURJPYV3M Curncy Trade Open', 'GBPJPYV3M Curncy Trade Open', 'EURGBPV3M Curncy Trade Open', 'AUDJPYV3M Curncy Trade Open', 'EURAUDV3M Curncy Trade Open', 'EURCHFV3M Curncy Trade Open', 'AUDNZDV3M Curncy Trade Open', 'NZDJPYV3M Curncy Trade Open', 'GBPAUDV3M Curncy Trade Open', 'GBPCADV3M Curncy Trade Open', 'EURNZDV3M Curncy Trade Open', 'AUDCADV3M Curncy Trade Open', 'GBPCHFV3M Curncy Trade Open', 'EURUSDV1Y Curncy Trade Open', 'USDJPYV1Y Curncy Trade Open', 'GBPUSDV1Y Curncy Trade Open', 'AUDUSDV1Y Curncy Trade Open', 'USDCADV1Y Curncy Trade Open', 'USDCHFV1Y Curncy Trade Open', 'NZDUSDV1Y Curncy Trade Open', 'EURJPYV1Y Curncy Trade Open', 'GBPJPYV1Y Curncy Trade Open', 'EURGBPV1Y Curncy Trade Open', 'AUDJPYV1Y Curncy Trade Open', 'EURAUDV1Y Curncy Trade Open', 'EURCHFV1Y Curncy Trade Open', 'AUDNZDV1Y Curncy Trade Open', 'NZDJPYV1Y Curncy Trade Open', 'GBPAUDV1Y Curncy Trade Open', 'GBPCADV1Y Curncy Trade Open', 'EURNZDV1Y Curncy Trade Open', 'AUDCADV1Y Curncy Trade Open', 'GBPCHFV1Y Curncy Trade Open', 'EURUSD25R1M Curncy Trade Open', 'USDJPY25R1M Curncy Trade Open', 'GBPUSD25R1M Curncy Trade Open', 'AUDUSD25R1M Curncy Trade Open', 'USDCAD25R1M Curncy Trade Open', 'USDCHF25R1M Curncy Trade Open', 'NZDUSD25R1M Curncy Trade Open', 'EURJPY25R1M Curncy Trade Open', 'GBPJPY25R1M Curncy Trade Open', 'EURGBP25R1M Curncy Trade Open', 'AUDJPY25R1M Curncy Trade Open', 'EURAUD25R1M Curncy Trade Open', 'EURCHF25R1M Curncy Trade Open', 'AUDNZD25R1M Curncy Trade Open', 'NZDJPY25R1M Curncy Trade Open', 'GBPAUD25R1M Curncy Trade Open', 'GBPCAD25R1M Curncy Trade Open', 'EURNZD25R1M Curncy Trade Open', 'AUDCAD25R1M Curncy Trade Open', 'GBPCHF25R1M Curncy Trade Open', 'EURUSD25R3M Curncy 44278 Open', 'USDJPY25R3M Curncy  Open', 'GBPUSD25R3M Curncy  Open', 'AUDUSD25R3M Curncy  Open', 'USDCAD25R3M Curncy  Open', 'USDCHF25R3M Curncy  Open', 'NZDUSD25R3M Curncy  Open', 'EURJPY25R3M Curncy  Open', 'GBPJPY25R3M Curncy  Open', 'EURGBP25R3M Curncy  Open', 'AUDJPY25R3M Curncy  Open', 'EURAUD25R3M Curncy  Open', 'EURCHF25R3M Curncy  Open', 'AUDNZD25R3M Curncy  Open', 'NZDJPY25R3M Curncy  Open', 'GBPAUD25R3M Curncy  Open', 'GBPCAD25R3M Curncy  Open', 'EURNZD25R3M Curncy  Open', 'AUDCAD25R3M Curncy  Open', 'GBPCHF25R3M Curncy  Open', 'EURUSDCR Curncy Trade Open', 'USDJPYCR Curncy Trade Open', 'GBPUSDCR Curncy Trade Open', 'AUDUSDCR Curncy Trade Open', 'USDCADCR Curncy Trade Open', 'USDCHFCR Curncy Trade Open', 'NZDUSDCR Curncy Trade Open', 'EURJPYCR Curncy Trade Open', 'GBPJPYCR Curncy Trade Open', 'EURGBPCR Curncy Trade Open', 'AUDJPYCR Curncy Trade Open', 'EURAUDCR Curncy Trade Open', 'EURCHFCR Curncy Trade Open', 'AUDNZDCR Curncy Trade Open', 'NZDJPYCR Curncy Trade Open', 'GBPAUDCR Curncy Trade Open', 'GBPCADCR Curncy Trade Open', 'EURNZDCR Curncy Trade Open', 'AUDCADCR Curncy Trade Open', 'GBPCHFCR Curncy Trade Open', 'EURUSD1M Curncy Trade Open', 'USDJPY1M Curncy Trade Open', 'GBPUSD1M Curncy Trade Open', 'AUDUSD1M Curncy Trade Open', 'USDCAD1M Curncy Trade Open', 'USDCHF1M Curncy Trade Open', 'NZDUSD1M Curncy Trade Open', 'EURJPY1M Curncy Trade Open', 'GBPJPY1M Curncy Trade Open', 'EURGBP1M Curncy Trade Open', 'AUDJPY1M Curncy Trade Open', 'EURAUD1M Curncy Trade Open', 'EURCHF1M Curncy Trade Open', 'AUDNZD1M Curncy Trade Open', 'NZDJPY1M Curncy Trade Open', 'GBPAUD1M Curncy Trade Open', 'GBPCAD1M Curncy Trade Open', 'EURNZD1M Curncy Trade Open', 'AUDCAD1M Curncy Trade Open', 'GBPCHF1M Curncy Trade Open', 'EURUSD3M Curncy Trade Open', 'USDJPY3M Curncy Trade Open', 'GBPUSD3M Curncy Trade Open', 'AUDUSD3M Curncy Trade Open', 'USDCAD3M Curncy Trade Open', 'USDCHF3M Curncy Trade Open', 'NZDUSD3M Curncy Trade Open', 'EURJPY3M Curncy Trade Open', 'GBPJPY3M Curncy Trade Open', 'EURGBP3M Curncy Trade Open', 'AUDJPY3M Curncy Trade Open', 'EURAUD3M Curncy Trade Open', 'EURCHF3M Curncy Trade Open', 'AUDNZD3M Curncy Trade Open', 'NZDJPY3M Curncy Trade Open', 'GBPAUD3M Curncy Trade Open', 'GBPCAD3M Curncy Trade Open', 'EURNZD3M Curncy Trade Open', 'AUDCAD3M Curncy Trade Open', 'GBPCHF3M Curncy Trade Open', 'CL1 Comdty Trade Open', 'CO1 Comdty Trade Open', 'HG1 Comdty Trade Open', 'UXA1 Comdty Trade Open', 'NG1 Comdty Trade Open', 'GC1 Comdty Trade Open', 'LB1 Comdty Trade Open', 'C 1 Comdty Trade Open', 'S 1 Comdty Trade Open', 'HRC1 Comdty Trade Open', 'XB1 Comdty Trade Open', 'MO1 Comdty Trade Open', 'IOE1 Comdty Trade Open', 'SCO1 Comdty Trade Open', 'SB1 Comdty Trade Open', 'W 1 Comdty Trade Open', 'HO1 Comdty Trade Open', 'KO1 Comdty Trade Open', 'BO1 Comdty Trade Open', 'SI1 Comdty Trade Open', 'USSW10 BGN Curncy Trade Open', 'EUSA10 BGN Curncy Trade Open', 'USSW5 BGN Curncy Trade Open', 'USSW30 BGN Curncy Trade Open', 'USSP10 BGN Curncy Trade Open', 'USSWAP10 BGN Curncy Trade Open', 'EUSA5 BGN Curncy Trade Open', 'EUSA30 BGN Curncy Trade Open', 'USSP30 BGN Curncy Trade Open', 'USSW2 BGN Curncy Trade Open', 'USSWAP5 BGN Curncy Trade Open', 'EUSA20 BGN Curncy Trade Open', 'USSP5 BGN Curncy Trade Open', 'USSW3 BGN Curncy Trade Open', 'USSWIT10 BGN Curncy Trade Open', 'JYBSC BGN Curncy Trade Open', 'JYSW10 BGN Curncy Trade Open', 'ADSWAP10 BGN Curncy Trade Open', 'PZSW5 BGN Curncy Trade Open', 'ES1 Index Trade Open', 'NQ1 Index Trade Open', 'VG1 Index Trade Open', 'GX1 Index Trade Open', 'UX1 Index Trade Open', 'NK1 Index Trade Open', 'RTY1 Index Trade Open', 'XU1 Index Trade Open', 'MES1 Index Trade Open', 'DM1 Index Trade Open', 'TP1 Index Trade Open', 'NH1 Index Trade Open', 'IH1 Index Trade Open', 'XP1 Index Trade Open', 'SP1 Index Trade Open', 'Z 1 Index Trade Open', 'TY1 Comdty Trade Open', 'RX1 Comdty Trade Open', 'JB1 Comdty Trade Open', 'US1 Comdty Trade Open', 'IK1 Comdty Trade Open', 'ED1 Comdty Trade Open', 'WN1 Comdty Trade Open', 'YM1 Comdty Trade Open', 'FV1 Comdty Trade Open', 'G 1 Comdty Trade Open', 'UB1 Comdty Trade Open', 'FF1 Comdty Trade Open', 'OE1 Comdty Trade Open', 'TU1 Comdty Trade Open', 'KE1 Comdty Trade Open', 'DU1 Comdty Trade Open', 'UXY1 Comdty Trade Open', 'CN1 Comdty Trade Open', 'KAA1 Comdty Trade Open'])\n",
    "AMZN = pd.read_csv(IBM_path, delimiter=';')\n",
    "\n",
    "# AMZN = yf.download('AMZN') for all \n",
    "df = pd.read_csv(IBM_path, delimiter=';')\n",
    "df['Dates'] = pd.to_datetime(df['Dates'], format='%d.%m.%y %H:%M')\n",
    "df.set_index('Dates', inplace=True)\n",
    "# df = df.asfreq('600S').ffill()\n",
    "df = df.pct_change()[1:]\n",
    "df.head(10)"
   ]
  },
  {
   "cell_type": "code",
   "execution_count": 4,
   "metadata": {},
   "outputs": [
    {
     "data": {
      "text/plain": [
       "<AxesSubplot:xlabel='Dates'>"
      ]
     },
     "execution_count": 4,
     "metadata": {},
     "output_type": "execute_result"
    },
    {
     "data": {
      "image/png": "[encoded data removed]",
      "text/plain": [
       "<Figure size 432x288 with 1 Axes>"
      ]
     },
     "metadata": {
      "needs_background": "light"
     },
     "output_type": "display_data"
    }
   ],
   "source": [
    "df['EURUSD BGNE Curncy Bid Close'].plot()\n",
    "# plt.xlim(df.index[0], df.index[30*24*6])"
   ]
  },
  {
   "cell_type": "code",
   "execution_count": 5,
   "metadata": {},
   "outputs": [
    {
     "data": {
      "text/plain": [
       "{numpy.timedelta64(600000000000,'ns')}"
      ]
     },
     "execution_count": 5,
     "metadata": {},
     "output_type": "execute_result"
    }
   ],
   "source": [
    "df[df == np.infty] = 0  # !!!\n",
    "df[df == -np.infty] = 0  # !!!\n",
    "df.dropna(how='all', axis=0, inplace=True) # Drop all rows with NaN values\"\n",
    "df.fillna(0, inplace=True)\n",
    "set(np.diff(df.index.values))"
   ]
  },
  {
   "cell_type": "markdown",
   "metadata": {},
   "source": [
    "## Create training and test data for RNN/LSTM"
   ]
  },
  {
   "cell_type": "code",
   "execution_count": 6,
   "metadata": {},
   "outputs": [],
   "source": [
    "def ts_train_test_normalize(df,time_steps,for_periods):\n",
    "    '''\n",
    "    input: \n",
    "      data: dataframe with dates and price data\n",
    "    output:\n",
    "      X_train, y_train: data from 2020/11/2-2020/12/31\n",
    "      X_test:  data from 2021 -\n",
    "      sc:      insantiated MinMaxScaler object fit to the training data\n",
    "    '''    # create training and test set\n",
    "    target_column = 3\n",
    "    times = sorted(df.index.values)\n",
    "    last_10pct = sorted(df.index.values)[-int(0.1*len(times))] # Last 10% of series\n",
    "    last_20pct = sorted(df.index.values)[-int(0.2*len(times))] # Last 20% of series\n",
    "\n",
    "    ts_train = df[(df.index < last_20pct)]  # Training data are 80% of total data\n",
    "    index_train = df[df.index < last_20pct].index\n",
    "    ts_test = df[(df.index >= last_20pct) & (df.index < last_10pct)]\n",
    "    index_test = df[(df.index >= last_20pct) & (df.index < last_10pct)].index\n",
    "\n",
    "    ts_train_len = len(ts_train)\n",
    "    ts_test_len = len(ts_test)\n",
    "\n",
    "    '''Normalize price columns'''\n",
    "#     df = (df - df.mean()) / (df.max() - df.min())\n",
    "#     df.columns[np.isnan(df).any(axis=0)]\n",
    "    \n",
    "    sc = MinMaxScaler((-1, 1)).fit(ts_train)\n",
    "    sc_target = MinMaxScaler((-1, 1)).fit(ts_train.iloc[:, target_column:target_column+1])\n",
    "    ts_train_scaled = sc.transform(ts_train)\n",
    "    \n",
    "    # create training data of s samples and t time steps\n",
    "    X_train = []\n",
    "    y_train = []\n",
    "    y_train_stacked = []\n",
    "    for i in range(time_steps,ts_train_len-1): \n",
    "        X_train.append(ts_train_scaled[i-time_steps:i])\n",
    "        y_train.append(ts_train_scaled[i:i+for_periods,target_column])\n",
    "    X_train, y_train = np.array(X_train), np.array(y_train)\n",
    "\n",
    "    # Reshaping X_train for efficient modelling\n",
    "#     X_train = np.reshape(X_train, (X_train.shape[0],X_train.shape[1],1))\n",
    "\n",
    "    ts_test_scaled = sc.transform(ts_test)\n",
    "    # Preparing X_test\n",
    "    X_test = []\n",
    "    y_test = []\n",
    "    for i in range(time_steps,ts_test_len-for_periods):\n",
    "        X_test.append(ts_test_scaled[i-time_steps:i])\n",
    "        y_test.append(ts_test_scaled[i:i+for_periods,target_column])\n",
    "    \n",
    "    X_test, y_test = np.array(X_test), np.array(y_test)\n",
    "#     X_test = np.reshape(X_test, (X_test.shape[0], X_test.shape[1],1))\n",
    "\n",
    "    return X_train, y_train , X_test, y_test, sc, sc_target, index_train, index_test"
   ]
  },
  {
   "cell_type": "code",
   "execution_count": 7,
   "metadata": {},
   "outputs": [],
   "source": [
    "X_train, y_train, X_test, y_test, sc, sc_target, index_train, index_test = ts_train_test_normalize(df,5,1)"
   ]
  },
  {
   "cell_type": "markdown",
   "metadata": {},
   "source": [
    "## ARIMA"
   ]
  },
  {
   "cell_type": "code",
   "execution_count": 8,
   "metadata": {},
   "outputs": [],
   "source": [
    "from statsmodels.graphics.tsaplots import plot_pacf, plot_acf\n",
    "from statsmodels.tsa.arima_process import ArmaProcess\n",
    "from statsmodels.tsa.stattools import pacf\n",
    "from statsmodels.tsa.stattools import grangercausalitytests\n",
    "from statsmodels.tsa.stattools import adfuller\n",
    "from statsmodels.regression.linear_model import yule_walker\n",
    "\n",
    "#from statsmodels.tsa.stattools import adfuller\n",
    "import matplotlib.pyplot as plt\n",
    "import numpy as np\n",
    "import statsmodels.api as sm\n",
    "import pmdarima as pmd"
   ]
  },
  {
   "cell_type": "code",
   "execution_count": 9,
   "metadata": {},
   "outputs": [
    {
     "name": "stdout",
     "output_type": "stream",
     "text": [
      "p-value: 0.0\n",
      "Differencing is not necessary\n"
     ]
    }
   ],
   "source": [
    "p = adfuller(X_train[:, 0, 3])[1]\n",
    "print(\"p-value:\", p)\n",
    "print(f\"Differencing is {'' if p > 0.05 else 'not '}necessary\")"
   ]
  },
  {
   "cell_type": "code",
   "execution_count": 10,
   "metadata": {},
   "outputs": [
    {
     "data": {
      "image/png": "[encoded data removed]",
      "text/plain": [
       "<Figure size 432x288 with 1 Axes>"
      ]
     },
     "metadata": {
      "needs_background": "light"
     },
     "output_type": "display_data"
    },
    {
     "data": {
      "image/png": "[encoded data removed]",
      "text/plain": [
       "<Figure size 432x288 with 1 Axes>"
      ]
     },
     "metadata": {
      "needs_background": "light"
     },
     "output_type": "display_data"
    }
   ],
   "source": [
    "plot_acf(X_train[:, 0, 3], lags=5000)  # ACF\n",
    "# plt.ylim(0, 0.2)\n",
    "plt.show()\n",
    "plot_pacf(X_train[:, 0, 3])\n",
    "# plt.ylim(-0.1, 0.1)\n",
    "plt.show()"
   ]
  },
  {
   "cell_type": "code",
   "execution_count": 11,
   "metadata": {},
   "outputs": [
    {
     "data": {
      "text/plain": [
       "({'ssr_ftest': (1078.4302699540615, 2.176803639159249e-230, 19919.0, 1),\n",
       "  'ssr_chi2test': (1078.592692305076, 1.4848492362578238e-236, 1),\n",
       "  'lrtest': (1050.407611965973, 1.984878120530294e-230, 1),\n",
       "  'params_ftest': (1078.430269954071, 2.1768036391466277e-230, 19919.0, 1.0)},\n",
       " [<statsmodels.regression.linear_model.RegressionResultsWrapper at 0x7f7c271cec10>,\n",
       "  <statsmodels.regression.linear_model.RegressionResultsWrapper at 0x7f7c271ce6a0>,\n",
       "  array([[0., 1., 0.]])])"
      ]
     },
     "execution_count": 11,
     "metadata": {},
     "output_type": "execute_result"
    }
   ],
   "source": [
    "g = grangercausalitytests(X_train[:, 0, 2:4], maxlag =10, verbose = 0)\n",
    "g[1]"
   ]
  },
  {
   "cell_type": "code",
   "execution_count": 12,
   "metadata": {},
   "outputs": [
    {
     "name": "stdout",
     "output_type": "stream",
     "text": [
      "Performing stepwise search to minimize aic\n",
      " ARIMA(1,0,0)(0,0,0)[0] intercept   : AIC=-51672.017, Time=2.78 sec\n",
      " ARIMA(0,0,0)(0,0,0)[0] intercept   : AIC=-51671.706, Time=2.27 sec\n",
      " ARIMA(0,0,1)(0,0,0)[0] intercept   : AIC=-51672.220, Time=2.51 sec\n",
      " ARIMA(0,0,0)(0,0,0)[0]             : AIC=-50021.520, Time=0.45 sec\n",
      " ARIMA(1,0,1)(0,0,0)[0] intercept   : AIC=-51678.353, Time=3.40 sec\n",
      " ARIMA(2,0,1)(0,0,0)[0] intercept   : AIC=-51740.078, Time=15.72 sec\n",
      " ARIMA(2,0,0)(0,0,0)[0] intercept   : AIC=-51702.990, Time=1.79 sec\n",
      " ARIMA(3,0,1)(0,0,0)[0] intercept   : AIC=-51705.148, Time=2.30 sec\n",
      " ARIMA(2,0,2)(0,0,0)[0] intercept   : AIC=-51741.802, Time=26.37 sec\n",
      " ARIMA(1,0,2)(0,0,0)[0] intercept   : AIC=-51741.682, Time=27.81 sec\n",
      " ARIMA(3,0,2)(0,0,0)[0] intercept   : AIC=-51734.252, Time=21.33 sec\n",
      " ARIMA(2,0,3)(0,0,0)[0] intercept   : AIC=-51693.143, Time=19.69 sec\n",
      " ARIMA(1,0,3)(0,0,0)[0] intercept   : AIC=-51705.003, Time=8.56 sec\n",
      " ARIMA(3,0,3)(0,0,0)[0] intercept   : AIC=-51690.863, Time=17.59 sec\n",
      " ARIMA(2,0,2)(0,0,0)[0]             : AIC=inf, Time=4.69 sec\n",
      "\n",
      "Best model:  ARIMA(2,0,2)(0,0,0)[0] intercept\n",
      "Total fit time: 157.305 seconds\n"
     ]
    },
    {
     "data": {
      "text/plain": [
       "ARIMA(order=(2, 0, 2), scoring_args={}, suppress_warnings=True)"
      ]
     },
     "execution_count": 12,
     "metadata": {},
     "output_type": "execute_result"
    }
   ],
   "source": [
    "# see https://www.pluralsight.com/guides/advanced-time-series-modeling-(arima)-models-in-python\n",
    "arima = pmd.auto_arima(\n",
    "    X_train[:, 0, 3],\n",
    "    start_p=1,\n",
    "    max_p=20,\n",
    "    start_q=0,\n",
    "    max_q=20,\n",
    "    start_P=0,\n",
    "    start_Q=0,\n",
    "    max_P=3,\n",
    "    max_Q=3,\n",
    "    test='adf',\n",
    "    trace=True\n",
    ")\n",
    "arima"
   ]
  },
  {
   "cell_type": "code",
   "execution_count": 13,
   "metadata": {},
   "outputs": [
    {
     "name": "stdout",
     "output_type": "stream",
     "text": [
      "0\n",
      "0\n"
     ]
    }
   ],
   "source": [
    "print(pmd.arima.ndiffs(X_train[:, 0, 3]))\n",
    "print(pmd.arima.nsdiffs(X_train[:, 0, 3], m=2))"
   ]
  },
  {
   "cell_type": "code",
   "execution_count": 14,
   "metadata": {},
   "outputs": [
    {
     "name": "stdout",
     "output_type": "stream",
     "text": [
      "                               SARIMAX Results                                \n",
      "==============================================================================\n",
      "Dep. Variable:                      y   No. Observations:                19923\n",
      "Model:                 ARIMA(2, 0, 2)   Log Likelihood               25873.598\n",
      "Date:                Mon, 30 Aug 2021   AIC                         -51735.196\n",
      "Time:                        19:07:17   BIC                         -51687.798\n",
      "Sample:                             0   HQIC                        -51719.686\n",
      "                              - 19923                                         \n",
      "Covariance Type:                  opg                                         \n",
      "==============================================================================\n",
      "                 coef    std err          z      P>|z|      [0.025      0.975]\n",
      "------------------------------------------------------------------------------\n",
      "const         -0.0195      0.000    -42.156      0.000      -0.020      -0.019\n",
      "ar.L1          0.4747      0.064      7.467      0.000       0.350       0.599\n",
      "ar.L2          0.1931      0.060      3.202      0.001       0.075       0.311\n",
      "ma.L1         -0.4681      0.063     -7.423      0.000      -0.592      -0.345\n",
      "ma.L2         -0.2448      0.060     -4.079      0.000      -0.362      -0.127\n",
      "sigma2         0.0044   9.42e-06    462.909      0.000       0.004       0.004\n",
      "===================================================================================\n",
      "Ljung-Box (L1) (Q):                   0.09   Jarque-Bera (JB):           2700970.59\n",
      "Prob(Q):                              0.77   Prob(JB):                         0.00\n",
      "Heteroskedasticity (H):               0.81   Skew:                            -0.70\n",
      "Prob(H) (two-sided):                  0.00   Kurtosis:                        60.02\n",
      "===================================================================================\n",
      "\n",
      "Warnings:\n",
      "[1] Covariance matrix calculated using the outer product of gradients (complex-step).\n"
     ]
    }
   ],
   "source": [
    "mod = sm.tsa.arima.ARIMA(\n",
    "    X_train[:,0, 3],\n",
    "#     exog=X_train[:,0, [i for i in range(min(10, X_train.shape[2])) if i !=3]],\n",
    "    order=arima.get_params()['order'],\n",
    "    seasonal_order=arima.get_params()['seasonal_order']\n",
    ")\n",
    "model_train = mod.fit()\n",
    "print(model_train.summary())"
   ]
  },
  {
   "cell_type": "code",
   "execution_count": 15,
   "metadata": {},
   "outputs": [
    {
     "name": "stdout",
     "output_type": "stream",
     "text": [
      "                               SARIMAX Results                                \n",
      "==============================================================================\n",
      "Dep. Variable:                      y   No. Observations:                 2485\n",
      "Model:                 ARIMA(2, 0, 2)   Log Likelihood                2836.669\n",
      "Date:                Mon, 30 Aug 2021   AIC                          -5673.338\n",
      "Time:                        19:07:17   BIC                          -5673.338\n",
      "Sample:                             0   HQIC                         -5673.338\n",
      "                               - 2485                                         \n",
      "Covariance Type:                  opg                                         \n",
      "==================================================================================\n",
      "                     coef    std err          z      P>|z|      [0.025      0.975]\n",
      "----------------------------------------------------------------------------------\n",
      "const (fixed)     -0.0195        nan        nan        nan         nan         nan\n",
      "ar.L1 (fixed)      0.4747        nan        nan        nan         nan         nan\n",
      "ar.L2 (fixed)      0.1931        nan        nan        nan         nan         nan\n",
      "ma.L1 (fixed)     -0.4681        nan        nan        nan         nan         nan\n",
      "ma.L2 (fixed)     -0.2448        nan        nan        nan         nan         nan\n",
      "sigma2 (fixed)     0.0044        nan        nan        nan         nan         nan\n",
      "===================================================================================\n",
      "Ljung-Box (L1) (Q):                   5.18   Jarque-Bera (JB):            293710.52\n",
      "Prob(Q):                              0.02   Prob(JB):                         0.00\n",
      "Heteroskedasticity (H):               0.99   Skew:                            -0.75\n",
      "Prob(H) (two-sided):                  0.86   Kurtosis:                        56.24\n",
      "===================================================================================\n",
      "\n",
      "Warnings:\n",
      "[1] Covariance matrix calculated using the outer product of gradients (complex-step).\n"
     ]
    }
   ],
   "source": [
    "mod2 = sm.tsa.arima.ARIMA(\n",
    "    X_test[:, 0, 3],\n",
    "#     exog=X_test[:,0, [i for i in range(min(10, X_test.shape[2])) if i !=3]],\n",
    "    order=arima.get_params()['order'],\n",
    "    seasonal_order=arima.get_params()['seasonal_order']\n",
    ")\n",
    "with mod2.fix_params(dict(zip(model_train.param_names, model_train.params))):\n",
    "    model_test = mod2.fit()\n",
    "print(model_test.summary())"
   ]
  },
  {
   "cell_type": "code",
   "execution_count": 16,
   "metadata": {},
   "outputs": [
    {
     "data": {
      "text/plain": [
       "(0.005730453, <AxesSubplot:>)"
      ]
     },
     "execution_count": 16,
     "metadata": {},
     "output_type": "execute_result"
    },
    {
     "data": {
      "image/png": "[encoded data removed]",
      "text/plain": [
       "<Figure size 432x288 with 1 Axes>"
      ]
     },
     "metadata": {
      "needs_background": "light"
     },
     "output_type": "display_data"
    }
   ],
   "source": [
    "actual_pred_plot(model_test.predict().reshape([-1,1]), X_test[:, 0, 3:4])"
   ]
  },
  {
   "cell_type": "code",
   "execution_count": 17,
   "metadata": {},
   "outputs": [
    {
     "data": {
      "text/plain": [
       "<AxesSubplot:xlabel='Dates'>"
      ]
     },
     "execution_count": 17,
     "metadata": {},
     "output_type": "execute_result"
    },
    {
     "data": {
      "image/png": "[encoded data removed]",
      "text/plain": [
       "<Figure size 432x288 with 1 Axes>"
      ]
     },
     "metadata": {
      "needs_background": "light"
     },
     "output_type": "display_data"
    }
   ],
   "source": [
    "y_test_pred = pd.Series(\n",
    "    data=model_test.predict(),\n",
    "    index=index_test[-model_test.predict().shape[0]:],\n",
    ")\n",
    "y_test_pred.plot()"
   ]
  },
  {
   "cell_type": "code",
   "execution_count": null,
   "metadata": {},
   "outputs": [],
   "source": []
  }
 ],
 "metadata": {
  "kernelspec": {
   "display_name": "fxpred3",
   "language": "python",
   "name": "fxpred3"
  },
  "language_info": {
   "codemirror_mode": {
    "name": "ipython",
    "version": 3
   },
   "file_extension": ".py",
   "mimetype": "text/x-python",
   "name": "python",
   "nbconvert_exporter": "python",
   "pygments_lexer": "ipython3",
   "version": "3.8.10"
  }
 },
 "nbformat": 4,
 "nbformat_minor": 4
}
