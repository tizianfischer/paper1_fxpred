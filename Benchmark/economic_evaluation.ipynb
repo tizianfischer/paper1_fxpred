{
 "cells": [
  {
   "cell_type": "code",
   "execution_count": 1,
   "id": "hungarian-ordinance",
   "metadata": {},
   "outputs": [
    {
     "name": "stderr",
     "output_type": "stream",
     "text": [
      "/home/ms/github/venv/fxpred3/lib/python3.8/site-packages/pandas/core/frame.py:4305: SettingWithCopyWarning: \n",
      "A value is trying to be set on a copy of a slice from a DataFrame\n",
      "\n",
      "See the caveats in the documentation: https://pandas.pydata.org/pandas-docs/stable/user_guide/indexing.html#returning-a-view-versus-a-copy\n",
      "  return super().drop(\n"
     ]
    }
   ],
   "source": [
    "#!/usr/bin/env python\n",
    "\n",
    "# coding: utf-8\n",
    "\n",
    "# %% Loading Packages\n",
    "import matplotlib.pyplot as plt\n",
    "import numpy as np\n",
    "import pandas as pd\n",
    "import pickle\n",
    "from sklearn.model_selection import train_test_split\n",
    "from sklearn.preprocessing import MinMaxScaler\n",
    "from sklearn.preprocessing import StandardScaler\n",
    "from sklearn.metrics import classification_report, confusion_matrix, ConfusionMatrixDisplay\n",
    "from collections import Counter\n",
    "# from sklearn.metrics import mean_squared_error, mean_absolute_erIPython.notebook.kernel.execute('nb_name = \"' + IPython.notebook.notebook_name + '\"')ror\n",
    "\n",
    "import tensorflow as tf\n",
    "from tensorflow.keras import Sequential\n",
    "from tensorflow.keras.layers import Dense\n",
    "from tensorflow.keras.layers import LSTM\n",
    "from tensorflow.keras.layers import ReLU\n",
    "from tensorflow.keras.layers import Dropout\n",
    "from tensorflow.keras.activations import tanh\n",
    "from tensorflow.keras.layers import PReLU\n",
    "from tensorflow.keras.layers import BatchNormalization\n",
    "from tensorflow.keras.layers import LeakyReLU\n",
    "from tensorflow.keras.layers import Flatten\n",
    "from tensorflow.keras.optimizers import SGD\n",
    "from tensorflow.keras.losses import MSE, MAE, MAPE\n",
    "from tensorflow.keras.metrics import Accuracy, SparseCategoricalAccuracy\n",
    "from tensorflow.keras.losses import kullback_leibler_divergence, SparseCategoricalCrossentropy, KLDivergence\n",
    "from tensorflow.keras.callbacks import LearningRateScheduler\n",
    "\n",
    "import sys\n",
    "\n",
    "from tensorflow.python.ops.gen_batch_ops import batch\n",
    "\n",
    "import sys\n",
    "import os\n",
    "import sys\n",
    "import platform\n",
    "\n",
    "from tensorflow.python.ops.gen_math_ops import Tanh\n",
    "if platform.node() in ['msbq', 'msdai']:\n",
    "    os.chdir('/home/ms/github/fxpred')\n",
    "    sys.path.append(os.path.join(os.getcwd(), 'Transformer'))\n",
    "else:\n",
    "    os.chdir('/home/RDC/fisertiz/Schreibtisch/phd/paper1_fxpred')\n",
    "    sys.path.append(os.path.join(os.getcwd(), 'Transformer'))\n",
    "from utils import get_fx_and_metric_data_wo_weekend, mde\n",
    "from utils_NN_opt_learning_rate import opt_learn_rate_plot\n",
    "from benchmark_utils import actual_pred_plot, ts_train_test_normalize\n",
    "from transformer_architecture_elements import Time2Vector, SingleAttention, MultiAttention, TransformerEncoder"
   ]
  },
  {
   "cell_type": "code",
   "execution_count": 2,
   "id": "ethical-truck",
   "metadata": {},
   "outputs": [
    {
     "name": "stdout",
     "output_type": "stream",
     "text": [
      "lag: 256\n",
      "h: 1\n"
     ]
    }
   ],
   "source": [
    "filename = 'Benchmark/trained_models/LSTM_univariate2_classification____0100.hdf5'  # Classification model\n",
    "# filename = 'Benchmark/trained_models/LSTM_univariate2_with_close_price____0150.hdf5'  # Regression model\n",
    "# filename = 'content/Transformer+TimeEmbedding2_minmax____0300.hdf5'\n",
    "# filename = 'content/FXTransformerMulti0093.hdf5'\n",
    "# filename = 'content/Transformer+TimeEmbeddingClassification0010.hdf5'\n",
    "\n",
    "my_LSTM_model = tf.keras.models.load_model(\n",
    "    filename,\n",
    "    custom_objects={\n",
    "        'kl_divergence': kullback_leibler_divergence,\n",
    "        'Time2Vector': Time2Vector,\n",
    "        'SingleAttention': SingleAttention,\n",
    "        'MultiAttention': MultiAttention,\n",
    "        'TransformerEncoder': TransformerEncoder\n",
    "    }\n",
    ")\n",
    "lag = my_LSTM_model.input_shape[1]\n",
    "print(f'lag: {lag}')\n",
    "if my_LSTM_model.layers[-1].activation == tf.keras.activations.softmax:\n",
    "    nn_type_classification = True\n",
    "    h = 1\n",
    "else:\n",
    "    nn_type_classification = False\n",
    "    h = my_LSTM_model.output_shape[1]\n",
    "print(f'h: {h}')"
   ]
  },
  {
   "cell_type": "code",
   "execution_count": 3,
   "id": "democratic-paste",
   "metadata": {},
   "outputs": [],
   "source": [
    "def predictions(my_model, X_test, sc=None):\n",
    "    LSTM_prediction = my_model.predict(X_test)\n",
    "    if sc is not None:\n",
    "        LSTM_prediction = sc.inverse_transform(LSTM_prediction)\n",
    "    return LSTM_prediction"
   ]
  },
  {
   "cell_type": "code",
   "execution_count": 4,
   "id": "smoking-connection",
   "metadata": {},
   "outputs": [
    {
     "name": "stdout",
     "output_type": "stream",
     "text": [
      "(48558, 1)\n"
     ]
    },
    {
     "data": {
      "text/html": [
       "<div>\n",
       "<style scoped>\n",
       "    .dataframe tbody tr th:only-of-type {\n",
       "        vertical-align: middle;\n",
       "    }\n",
       "\n",
       "    .dataframe tbody tr th {\n",
       "        vertical-align: top;\n",
       "    }\n",
       "\n",
       "    .dataframe thead th {\n",
       "        text-align: right;\n",
       "    }\n",
       "</style>\n",
       "<table border=\"1\" class=\"dataframe\">\n",
       "  <thead>\n",
       "    <tr style=\"text-align: right;\">\n",
       "      <th></th>\n",
       "      <th>EURUSD BGNE Curncy Bid Close</th>\n",
       "    </tr>\n",
       "    <tr>\n",
       "      <th>Dates</th>\n",
       "      <th></th>\n",
       "    </tr>\n",
       "  </thead>\n",
       "  <tbody>\n",
       "    <tr>\n",
       "      <th>2020-11-01 19:10:00</th>\n",
       "      <td>0.000000</td>\n",
       "    </tr>\n",
       "    <tr>\n",
       "      <th>2020-11-01 19:20:00</th>\n",
       "      <td>0.000275</td>\n",
       "    </tr>\n",
       "    <tr>\n",
       "      <th>2020-11-01 19:30:00</th>\n",
       "      <td>-0.000069</td>\n",
       "    </tr>\n",
       "    <tr>\n",
       "      <th>2020-11-01 19:40:00</th>\n",
       "      <td>0.000034</td>\n",
       "    </tr>\n",
       "    <tr>\n",
       "      <th>2020-11-01 19:50:00</th>\n",
       "      <td>0.000026</td>\n",
       "    </tr>\n",
       "  </tbody>\n",
       "</table>\n",
       "</div>"
      ],
      "text/plain": [
       "                     EURUSD BGNE Curncy Bid Close\n",
       "Dates                                            \n",
       "2020-11-01 19:10:00                      0.000000\n",
       "2020-11-01 19:20:00                      0.000275\n",
       "2020-11-01 19:30:00                     -0.000069\n",
       "2020-11-01 19:40:00                      0.000034\n",
       "2020-11-01 19:50:00                      0.000026"
      ]
     },
     "execution_count": 4,
     "metadata": {},
     "output_type": "execute_result"
    }
   ],
   "source": [
    "dtype = np.float32  # np.float64\n",
    "tf.keras.backend.set_floatx('float32')\n",
    "\n",
    "df = get_fx_and_metric_data_wo_weekend(dtype=dtype)\n",
    "target_price = target = 'EURUSD BGNE Curncy Bid Close'\n",
    "df_close = get_fx_and_metric_data_wo_weekend(dtype=dtype, pct_change=False)\n",
    "target_column = list(df.columns).index(target)\n",
    "if my_LSTM_model.input_shape[-1] <= 2:\n",
    "    df = df.iloc[:, target_column : target_column + 1]\n",
    "target_column = list(df.columns).index(target)\n",
    "target_price_column = target_column\n",
    "print(df.shape)\n",
    "df.head()"
   ]
  },
  {
   "cell_type": "code",
   "execution_count": 5,
   "id": "selective-theology",
   "metadata": {},
   "outputs": [],
   "source": [
    "def strategy(x):\n",
    "    conditions = [\n",
    "        (x <= -0.00000001),\n",
    "        (x > -0.00000001) & (x <= 0.00000001),\n",
    "        (x > 0.00000001)\n",
    "    ]\n",
    "\n",
    "    # create a list of the values we want to assign for each condition #!!! \n",
    "    values = ['sell', 'hold', 'buy']\n",
    "    values = [0, 1, 2]\n",
    "\n",
    "    # create a new column and use np.select to assign values to it using our lists as arguments #!!! \n",
    "    return np.select(conditions, values).astype(np.int32)\n",
    "df['strategy'] = strategy(df[target_price])\n",
    "\n",
    "if nn_type_classification:    \n",
    "    target = 'strategy'\n",
    "target_column = df.columns.to_list().index(target)"
   ]
  },
  {
   "cell_type": "code",
   "execution_count": 6,
   "id": "abandoned-frank",
   "metadata": {},
   "outputs": [
    {
     "data": {
      "image/png": "[encoded data removed]",
      "text/plain": [
       "<Figure size 432x288 with 1 Axes>"
      ]
     },
     "metadata": {
      "needs_background": "light"
     },
     "output_type": "display_data"
    }
   ],
   "source": [
    "df[target_price].plot()\n",
    "plt.title('Return of closing price')\n",
    "plt.show()"
   ]
  },
  {
   "cell_type": "code",
   "execution_count": 7,
   "id": "cubic-kentucky",
   "metadata": {},
   "outputs": [],
   "source": [
    "X_train, y_train, X_val, y_val , X_test, y_test, sc, sc_target, index_train, index_val, index_test, X_train_index, y_train_index = \\\n",
    "    ts_train_test_normalize(df, lag, h, target_column)"
   ]
  },
  {
   "cell_type": "code",
   "execution_count": 8,
   "id": "public-banner",
   "metadata": {},
   "outputs": [],
   "source": [
    "if nn_type_classification:\n",
    "    y_train = sc_target.inverse_transform(y_train)\n",
    "    y_val = sc_target.inverse_transform(y_val)\n",
    "    y_test = sc_target.inverse_transform(y_test)"
   ]
  },
  {
   "cell_type": "markdown",
   "id": "mineral-hydrogen",
   "metadata": {},
   "source": [
    "## Econmetric measures"
   ]
  },
  {
   "cell_type": "markdown",
   "id": "excess-hospital",
   "metadata": {},
   "source": [
    "Definition of cumulated returns"
   ]
  },
  {
   "cell_type": "code",
   "execution_count": 9,
   "id": "thirty-arbor",
   "metadata": {},
   "outputs": [],
   "source": [
    "def cumulated_return(y_pred, ret, start_capital=1000, dtype=None):\n",
    "    assert y_pred.flatten().shape == ret.flatten().shape\n",
    "    balance = [start_capital]\n",
    "    signal = 0\n",
    "    for i, d in enumerate(y_pred[:-1]):\n",
    "        signal = signal if d == 1 else d\n",
    "        if signal == 0:\n",
    "            balance.append(balance[-1])\n",
    "        elif signal == 2:\n",
    "            balance.append(balance[-1] * ret[i])\n",
    "        else:\n",
    "            raise ValueError()\n",
    "    balance = np.array(balance, dtype=dtype)\n",
    "    return balance"
   ]
  },
  {
   "cell_type": "code",
   "execution_count": 10,
   "id": "fundamental-butterfly",
   "metadata": {},
   "outputs": [
    {
     "name": "stdout",
     "output_type": "stream",
     "text": [
      "38314.900598420994\n",
      "0.0\n",
      "0.0\n"
     ]
    }
   ],
   "source": [
    "#!!! for testing purposes\n",
    "tmp_type = 'train'\n",
    "\n",
    "X = np.concatenate([sc.inverse_transform(i)[np.newaxis] for i in eval(f\"X_{tmp_type}\")], axis=0)\n",
    "for i in range(lag):\n",
    "    diff = np.abs(df.loc[eval(f\"index_{tmp_type}\")].iloc[i:-(lag - i + 1)].values - X[:,-(lag - i)]).sum(axis=0)\n",
    "    assert diff[0] < 1e-6 and diff[1] < 0.5, 'df and X inversed are not the same'\n",
    "\n",
    "X_ret_testing = np.concatenate([sc.inverse_transform(i)[np.newaxis] for i in eval(f\"X_{tmp_type}\")], axis=0)[:, -1, 0]\n",
    "y_testing = np.concatenate([sc.inverse_transform(i)[np.newaxis] for i in eval(f\"X_{tmp_type}\")], axis=0)[:, -1, 1]\n",
    "\n",
    "a1 = sc_target.inverse_transform(eval(f\"y_{tmp_type}\")).flatten()\n",
    "a2 = eval(f\"y_{tmp_type}\").flatten()\n",
    "b = np.concatenate([sc.inverse_transform(i)[np.newaxis] for i in eval(f\"X_{tmp_type}\")], axis=0)[:, -1, 1]\n",
    "cc = df.loc[eval(f\"index_{tmp_type}\")].iloc[(lag - 1):-(h+1), 1].values\n",
    "print(np.abs(cc[1:] - a1[:-1]).sum(axis=0))\n",
    "print(np.abs(cc[1:] - a2[:-1]).sum(axis=0))\n",
    "print(np.abs(cc - b).sum(axis=0))"
   ]
  },
  {
   "cell_type": "code",
   "execution_count": 11,
   "id": "entitled-mandate",
   "metadata": {},
   "outputs": [
    {
     "name": "stdout",
     "output_type": "stream",
     "text": [
      "True\n",
      "True\n"
     ]
    }
   ],
   "source": [
    "print((index_train[0:-(lag+1)] == X_train_index[:, 0]).all())\n",
    "print((index_train[(lag-1):-(h+1)] == X_train_index[:, -1]).all())"
   ]
  },
  {
   "cell_type": "markdown",
   "id": "scenic-opportunity",
   "metadata": {},
   "source": [
    "## read in data for econmic metric"
   ]
  },
  {
   "cell_type": "code",
   "execution_count": 12,
   "id": "advised-carter",
   "metadata": {},
   "outputs": [],
   "source": [
    "def econ_metrics(y_pred, X_ret, risk_free=0.0031):  # Risk free rate must be given\n",
    "    x = cumulated_return(y_pred[:-1], X_ret[1:], dtype=dtype)\n",
    "    print(f'Portfolio return: {x[-1] / x[0] - 1}')\n",
    "    print(f'Std of returns: {np.std(x[1:] / x[:-1])}')\n",
    "    print(f'Sharpe ratio: {((x[-1] / x[0]) - 1 - risk_free) / np.std(x[1:] / x[:-1])}')\n",
    "    print()\n",
    "    \n",
    "    n = 6 * 24 * 252  # banking days per year\n",
    "    mu_annum = ((x[-1]/x[0]) ** (n / x.shape[0])) - 1\n",
    "    print(f'Return per annum: {mu_annum}')\n",
    "    std_annum = np.std(x[1:] / x[:-1]) * (n)**0.5\n",
    "    print(f'Std of returns per annum: {std_annum}')\n",
    "    print(f'Sharpe ratio per annum: {(mu_annum - risk_free) / std_annum}')"
   ]
  },
  {
   "cell_type": "code",
   "execution_count": 13,
   "id": "sensitive-marina",
   "metadata": {},
   "outputs": [
    {
     "name": "stdout",
     "output_type": "stream",
     "text": [
      "2\n",
      "2\n"
     ]
    }
   ],
   "source": [
    "X_train.shape[-1] == my_LSTM_model.input_shape[-1]\n",
    "print(X_train.shape[-1])\n",
    "print(my_LSTM_model.input_shape[-1])"
   ]
  },
  {
   "cell_type": "code",
   "execution_count": null,
   "id": "beginning-harassment",
   "metadata": {},
   "outputs": [],
   "source": [
    "def investment_lengths(y):\n",
    "    count_length = {0: [], 1: [], 2: []}\n",
    "    length = 0\n",
    "    current = y.flatten()[0]\n",
    "    for i, t in enumerate(y.flatten()):\n",
    "        if t == current:\n",
    "            length += 1\n",
    "        else:\n",
    "            count_length[current].append(length)\n",
    "            current = t\n",
    "            length = 1\n",
    "    return count_length\n",
    "def investment_lengths_buy_sell(y):\n",
    "    count_length = {0: [], 2: []}\n",
    "    length = 0\n",
    "    current = y.flatten()[0]\n",
    "    for i, t in enumerate(y.flatten()):\n",
    "        if t == current or t == 1:\n",
    "            length += 1\n",
    "        else:\n",
    "            count_length[current].append(length)\n",
    "            current = t\n",
    "            length = 1\n",
    "    return count_length\n",
    "def changed_number_of_investments(v):\n",
    "    return sum([len(v) for k, v in count_length.items()])\n",
    "def investment_length_stats(v, dec_point=4):\n",
    "    return {k: {'number': len(v), 'mean': np.mean(v).round(dec_point), 'std': np.std(v).round(dec_point), 'max': np.max(v)} for k, v in v.items()}"
   ]
  },
  {
   "cell_type": "code",
   "execution_count": 56,
   "id": "streaming-singing",
   "metadata": {},
   "outputs": [],
   "source": [
    "def result_output2(tmp_type):\n",
    "    print(tmp_type)\n",
    "\n",
    "    y = eval(f\"y_{tmp_type}\")\n",
    "    if nn_type_classification:\n",
    "        y_pred = np.argmax(predictions(\n",
    "            my_LSTM_model,\n",
    "            eval(f\"X_{tmp_type}\")\n",
    "        ), axis=1)\n",
    "    else:\n",
    "        y = strategy(y)\n",
    "        if X_train.shape[-1] - 1 == my_LSTM_model.input_shape[-1]:\n",
    "            i = df.columns.to_list().index('strategy')\n",
    "            y_pred = strategy(predictions(\n",
    "                my_LSTM_model,\n",
    "                np.delete(eval(f\"X_{tmp_type}\"), i, -1)\n",
    "            ))\n",
    "        else:\n",
    "            y_pred = strategy(predictions(\n",
    "                my_LSTM_model,\n",
    "                eval(f\"X_{tmp_type}\")\n",
    "            ))\n",
    "    print(f'Accuracy: {Accuracy()(y.flatten(), y_pred.flatten()).numpy()}')\n",
    "    print(f'Accuracy: {SparseCategoricalAccuracy()(y.astype(dtype), y_pred.reshape(y.shape).astype(dtype)).numpy()}')\n",
    "    print(f'KL_Divergence: {kullback_leibler_divergence(y.flatten().astype(dtype), y_pred.flatten().astype(dtype)).numpy()}')\n",
    "    print(classification_report(y, y_pred))\n",
    "    cm = confusion_matrix(y, y_pred)\n",
    "    ConfusionMatrixDisplay(cm).plot()\n",
    "    plt.show()\n",
    "\n",
    "    X_ret = sc.inverse_transform(eval(f\"X_{tmp_type}\"))[:, -1, target_price_column] + 1\n",
    "    plt.plot(eval(f\"index_{tmp_type}\")[lag-1:-(h+1)][1:], cumulated_return(y_pred[:-1], X_ret[1:], dtype=dtype), label='predicted')\n",
    "\n",
    "    c = Counter(y.flatten())\n",
    "    for i in range(3):\n",
    "        c.update({i: 0})\n",
    "    p = [i[1]/y.shape[0] for i in sorted(c.items(), key=lambda x: x[0])]\n",
    "    x = np.concatenate(\n",
    "        [\n",
    "            cumulated_return(\n",
    "                np.random.choice([0, 1, 2], size=y_pred[:-1].shape, p=p),\n",
    "                X_ret[1:],\n",
    "                dtype=dtype\n",
    "            )[:,np.newaxis] for i in range(50)\n",
    "        ], axis=-1\n",
    "    )\n",
    "    plt.plot(eval(f\"index_{tmp_type}\")[(lag-1):-(h+1)][1:], x.mean(axis=-1), label='random', color='gray')\n",
    "    plt.plot(eval(f\"index_{tmp_type}\")[(lag-1):-(h+1)][1:], x.mean(axis=-1) + x.std(axis=-1), label='random_q75', color='gray', linestyle='--')\n",
    "    plt.plot(eval(f\"index_{tmp_type}\")[(lag-1):-(h+1)][1:], cumulated_return(y_pred[:-1] * 0 + 2, X_ret[1:], dtype=dtype), label='buy&HODL')\n",
    "    plt.plot(eval(f\"index_{tmp_type}\")[(lag-1):-(h+1)][1:], cumulated_return(y[:-1], X_ret[1:], dtype=dtype), label='oracle')\n",
    "    plt.plot(eval(f\"index_{tmp_type}\")[(lag-1):-(h+1)][1:], cumulated_return(y, X_ret, dtype=dtype)[:-1], label='oracle')\n",
    "    plt.legend()\n",
    "    plt.semilogy()\n",
    "    plt.show()\n",
    "    econ_metrics(y_pred, X_ret)\n",
    "    print('=============================')\n",
    "    print('Investment lengths')\n",
    "    print('y_true')\n",
    "    print(pd.DataFrame.from_dict(investment_length_stats(investment_lengths(y)), orient='index'))\n",
    "    print('y_pred')\n",
    "    print(pd.DataFrame.from_dict(investment_length_stats(investment_lengths(y_pred)), orient='index'))\n",
    "    print('Investment lengths for only buy and sell (hold is prolongation of previous)')\n",
    "    print('y_true')\n",
    "    print(pd.DataFrame.from_dict(investment_length_stats(investment_lengths_buy_sell(y)), orient='index'))\n",
    "    print('y_pred')\n",
    "    print(pd.DataFrame.from_dict(investment_length_stats(investment_lengths_buy_sell(y_pred)), orient='index'))"
   ]
  },
  {
   "cell_type": "code",
   "execution_count": 57,
   "id": "dietary-factory",
   "metadata": {},
   "outputs": [
    {
     "name": "stdout",
     "output_type": "stream",
     "text": [
      "train\n",
      "Accuracy: 0.5360456109046936\n",
      "Accuracy: 0.47603005170822144\n",
      "KL_Divergence: 156361.609375\n",
      "              precision    recall  f1-score   support\n",
      "\n",
      "         0.0       0.52      0.58      0.55     18370\n",
      "         1.0       0.88      0.32      0.46      1422\n",
      "         2.0       0.54      0.51      0.53     18798\n",
      "\n",
      "    accuracy                           0.54     38590\n",
      "   macro avg       0.65      0.47      0.51     38590\n",
      "weighted avg       0.55      0.54      0.53     38590\n",
      "\n"
     ]
    },
    {
     "data": {
      "image/png": "[encoded data removed]",
      "text/plain": [
       "<Figure size 432x288 with 2 Axes>"
      ]
     },
     "metadata": {
      "needs_background": "light"
     },
     "output_type": "display_data"
    },
    {
     "data": {
      "image/png": "[encoded data removed]",
      "text/plain": [
       "<Figure size 432x288 with 1 Axes>"
      ]
     },
     "metadata": {
      "needs_background": "light"
     },
     "output_type": "display_data"
    },
    {
     "name": "stdout",
     "output_type": "stream",
     "text": [
      "Portfolio return: 0.4571225643157959\n",
      "Std of returns: 0.0002223982010036707\n",
      "Sharpe ratio: 2041.4848783255322\n",
      "\n",
      "Return per annum: 0.42477758821437916\n",
      "Std of returns per annum: 0.0423655438956385\n",
      "Sharpe ratio per annum: 9.953314638261745\n",
      "=============================\n",
      "Investment lengths\n",
      "y_true\n",
      "   number    mean     std  max\n",
      "0    9823  1.8701  1.2605   11\n",
      "1     815  1.7448  6.4451  149\n",
      "2    9761  1.9256  1.3097   14\n",
      "y_pred\n",
      "   number    mean      std  max\n",
      "0    8401  2.4141   2.0038   21\n",
      "1      70  7.2571  20.7686  149\n",
      "2    8367  2.1270   1.8905   45\n",
      "Investment lengths for only buy and sell (hold is prolongation of previous)\n",
      "y_true\n",
      "   number    mean     std  max\n",
      "0    9580  2.0063  2.3599  153\n",
      "2    9579  2.0219  1.4235   14\n",
      "y_pred\n",
      "   number    mean     std  max\n",
      "0    8359  2.4772  2.8598  151\n",
      "2    8360  2.1386  1.9162   45\n"
     ]
    }
   ],
   "source": [
    "result_output2('train')"
   ]
  },
  {
   "cell_type": "code",
   "execution_count": 16,
   "id": "explicit-ukraine",
   "metadata": {},
   "outputs": [
    {
     "name": "stdout",
     "output_type": "stream",
     "text": [
      "val\n",
      "Accuracy: 0.4910830855369568\n",
      "Accuracy: 0.482818603515625\n",
      "KL_Divergence: 19454.537109375\n",
      "              precision    recall  f1-score   support\n",
      "\n",
      "         0.0       0.48      0.51      0.50      2220\n",
      "         1.0       0.68      0.15      0.24       129\n",
      "         2.0       0.50      0.49      0.49      2249\n",
      "\n",
      "    accuracy                           0.49      4598\n",
      "   macro avg       0.55      0.38      0.41      4598\n",
      "weighted avg       0.50      0.49      0.49      4598\n",
      "\n"
     ]
    },
    {
     "data": {
      "image/png": "[encoded data removed]",
      "text/plain": [
       "<Figure size 432x288 with 2 Axes>"
      ]
     },
     "metadata": {
      "needs_background": "light"
     },
     "output_type": "display_data"
    },
    {
     "ename": "ValueError",
     "evalue": "x and y must have same first dimension, but have shapes (4598,) and (4597,)",
     "output_type": "error",
     "traceback": [
      "\u001b[0;31m---------------------------------------------------------------------------\u001b[0m",
      "\u001b[0;31mValueError\u001b[0m                                Traceback (most recent call last)",
      "\u001b[0;32m<ipython-input-16-cc93579b0a6b>\u001b[0m in \u001b[0;36m<module>\u001b[0;34m\u001b[0m\n\u001b[0;32m----> 1\u001b[0;31m \u001b[0mresult_output2\u001b[0m\u001b[0;34m(\u001b[0m\u001b[0;34m'val'\u001b[0m\u001b[0;34m)\u001b[0m\u001b[0;34m\u001b[0m\u001b[0;34m\u001b[0m\u001b[0m\n\u001b[0m",
      "\u001b[0;32m<ipython-input-14-36400a092c48>\u001b[0m in \u001b[0;36mresult_output2\u001b[0;34m(tmp_type)\u001b[0m\n\u001b[1;32m     30\u001b[0m \u001b[0;34m\u001b[0m\u001b[0m\n\u001b[1;32m     31\u001b[0m     \u001b[0mX_ret\u001b[0m \u001b[0;34m=\u001b[0m \u001b[0msc\u001b[0m\u001b[0;34m.\u001b[0m\u001b[0minverse_transform\u001b[0m\u001b[0;34m(\u001b[0m\u001b[0meval\u001b[0m\u001b[0;34m(\u001b[0m\u001b[0;34mf\"X_{tmp_type}\"\u001b[0m\u001b[0;34m)\u001b[0m\u001b[0;34m)\u001b[0m\u001b[0;34m[\u001b[0m\u001b[0;34m:\u001b[0m\u001b[0;34m,\u001b[0m \u001b[0;34m-\u001b[0m\u001b[0;36m1\u001b[0m\u001b[0;34m,\u001b[0m \u001b[0mtarget_price_column\u001b[0m\u001b[0;34m]\u001b[0m \u001b[0;34m+\u001b[0m \u001b[0;36m1\u001b[0m\u001b[0;34m\u001b[0m\u001b[0;34m\u001b[0m\u001b[0m\n\u001b[0;32m---> 32\u001b[0;31m     \u001b[0mplt\u001b[0m\u001b[0;34m.\u001b[0m\u001b[0mplot\u001b[0m\u001b[0;34m(\u001b[0m\u001b[0meval\u001b[0m\u001b[0;34m(\u001b[0m\u001b[0;34mf\"index_{tmp_type}\"\u001b[0m\u001b[0;34m)\u001b[0m\u001b[0;34m[\u001b[0m\u001b[0mlag\u001b[0m\u001b[0;34m-\u001b[0m\u001b[0;36m1\u001b[0m\u001b[0;34m:\u001b[0m\u001b[0;34m-\u001b[0m\u001b[0;34m(\u001b[0m\u001b[0mh\u001b[0m\u001b[0;34m+\u001b[0m\u001b[0;36m1\u001b[0m\u001b[0;34m)\u001b[0m\u001b[0;34m]\u001b[0m\u001b[0;34m[\u001b[0m\u001b[0;36m1\u001b[0m\u001b[0;34m:\u001b[0m\u001b[0;34m]\u001b[0m\u001b[0;34m,\u001b[0m \u001b[0mcumulated_return\u001b[0m\u001b[0;34m(\u001b[0m\u001b[0my_pred\u001b[0m\u001b[0;34m[\u001b[0m\u001b[0;34m:\u001b[0m\u001b[0;34m-\u001b[0m\u001b[0;36m1\u001b[0m\u001b[0;34m]\u001b[0m\u001b[0;34m,\u001b[0m \u001b[0mX_ret\u001b[0m\u001b[0;34m[\u001b[0m\u001b[0;36m1\u001b[0m\u001b[0;34m:\u001b[0m\u001b[0;34m]\u001b[0m\u001b[0;34m,\u001b[0m \u001b[0mdtype\u001b[0m\u001b[0;34m=\u001b[0m\u001b[0mdtype\u001b[0m\u001b[0;34m)\u001b[0m\u001b[0;34m,\u001b[0m \u001b[0mlabel\u001b[0m\u001b[0;34m=\u001b[0m\u001b[0;34m'predicted'\u001b[0m\u001b[0;34m)\u001b[0m\u001b[0;34m\u001b[0m\u001b[0;34m\u001b[0m\u001b[0m\n\u001b[0m\u001b[1;32m     33\u001b[0m \u001b[0;34m\u001b[0m\u001b[0m\n\u001b[1;32m     34\u001b[0m     \u001b[0mc\u001b[0m \u001b[0;34m=\u001b[0m \u001b[0mCounter\u001b[0m\u001b[0;34m(\u001b[0m\u001b[0my\u001b[0m\u001b[0;34m.\u001b[0m\u001b[0mflatten\u001b[0m\u001b[0;34m(\u001b[0m\u001b[0;34m)\u001b[0m\u001b[0;34m)\u001b[0m\u001b[0;34m\u001b[0m\u001b[0;34m\u001b[0m\u001b[0m\n",
      "\u001b[0;32m~/github/venv/fxpred3/lib/python3.8/site-packages/matplotlib/pyplot.py\u001b[0m in \u001b[0;36mplot\u001b[0;34m(scalex, scaley, data, *args, **kwargs)\u001b[0m\n\u001b[1;32m   2838\u001b[0m \u001b[0;34m@\u001b[0m\u001b[0m_copy_docstring_and_deprecators\u001b[0m\u001b[0;34m(\u001b[0m\u001b[0mAxes\u001b[0m\u001b[0;34m.\u001b[0m\u001b[0mplot\u001b[0m\u001b[0;34m)\u001b[0m\u001b[0;34m\u001b[0m\u001b[0;34m\u001b[0m\u001b[0m\n\u001b[1;32m   2839\u001b[0m \u001b[0;32mdef\u001b[0m \u001b[0mplot\u001b[0m\u001b[0;34m(\u001b[0m\u001b[0;34m*\u001b[0m\u001b[0margs\u001b[0m\u001b[0;34m,\u001b[0m \u001b[0mscalex\u001b[0m\u001b[0;34m=\u001b[0m\u001b[0;32mTrue\u001b[0m\u001b[0;34m,\u001b[0m \u001b[0mscaley\u001b[0m\u001b[0;34m=\u001b[0m\u001b[0;32mTrue\u001b[0m\u001b[0;34m,\u001b[0m \u001b[0mdata\u001b[0m\u001b[0;34m=\u001b[0m\u001b[0;32mNone\u001b[0m\u001b[0;34m,\u001b[0m \u001b[0;34m**\u001b[0m\u001b[0mkwargs\u001b[0m\u001b[0;34m)\u001b[0m\u001b[0;34m:\u001b[0m\u001b[0;34m\u001b[0m\u001b[0;34m\u001b[0m\u001b[0m\n\u001b[0;32m-> 2840\u001b[0;31m     return gca().plot(\n\u001b[0m\u001b[1;32m   2841\u001b[0m         \u001b[0;34m*\u001b[0m\u001b[0margs\u001b[0m\u001b[0;34m,\u001b[0m \u001b[0mscalex\u001b[0m\u001b[0;34m=\u001b[0m\u001b[0mscalex\u001b[0m\u001b[0;34m,\u001b[0m \u001b[0mscaley\u001b[0m\u001b[0;34m=\u001b[0m\u001b[0mscaley\u001b[0m\u001b[0;34m,\u001b[0m\u001b[0;34m\u001b[0m\u001b[0;34m\u001b[0m\u001b[0m\n\u001b[1;32m   2842\u001b[0m         **({\"data\": data} if data is not None else {}), **kwargs)\n",
      "\u001b[0;32m~/github/venv/fxpred3/lib/python3.8/site-packages/matplotlib/axes/_axes.py\u001b[0m in \u001b[0;36mplot\u001b[0;34m(self, scalex, scaley, data, *args, **kwargs)\u001b[0m\n\u001b[1;32m   1741\u001b[0m         \"\"\"\n\u001b[1;32m   1742\u001b[0m         \u001b[0mkwargs\u001b[0m \u001b[0;34m=\u001b[0m \u001b[0mcbook\u001b[0m\u001b[0;34m.\u001b[0m\u001b[0mnormalize_kwargs\u001b[0m\u001b[0;34m(\u001b[0m\u001b[0mkwargs\u001b[0m\u001b[0;34m,\u001b[0m \u001b[0mmlines\u001b[0m\u001b[0;34m.\u001b[0m\u001b[0mLine2D\u001b[0m\u001b[0;34m)\u001b[0m\u001b[0;34m\u001b[0m\u001b[0;34m\u001b[0m\u001b[0m\n\u001b[0;32m-> 1743\u001b[0;31m         \u001b[0mlines\u001b[0m \u001b[0;34m=\u001b[0m \u001b[0;34m[\u001b[0m\u001b[0;34m*\u001b[0m\u001b[0mself\u001b[0m\u001b[0;34m.\u001b[0m\u001b[0m_get_lines\u001b[0m\u001b[0;34m(\u001b[0m\u001b[0;34m*\u001b[0m\u001b[0margs\u001b[0m\u001b[0;34m,\u001b[0m \u001b[0mdata\u001b[0m\u001b[0;34m=\u001b[0m\u001b[0mdata\u001b[0m\u001b[0;34m,\u001b[0m \u001b[0;34m**\u001b[0m\u001b[0mkwargs\u001b[0m\u001b[0;34m)\u001b[0m\u001b[0;34m]\u001b[0m\u001b[0;34m\u001b[0m\u001b[0;34m\u001b[0m\u001b[0m\n\u001b[0m\u001b[1;32m   1744\u001b[0m         \u001b[0;32mfor\u001b[0m \u001b[0mline\u001b[0m \u001b[0;32min\u001b[0m \u001b[0mlines\u001b[0m\u001b[0;34m:\u001b[0m\u001b[0;34m\u001b[0m\u001b[0;34m\u001b[0m\u001b[0m\n\u001b[1;32m   1745\u001b[0m             \u001b[0mself\u001b[0m\u001b[0;34m.\u001b[0m\u001b[0madd_line\u001b[0m\u001b[0;34m(\u001b[0m\u001b[0mline\u001b[0m\u001b[0;34m)\u001b[0m\u001b[0;34m\u001b[0m\u001b[0;34m\u001b[0m\u001b[0m\n",
      "\u001b[0;32m~/github/venv/fxpred3/lib/python3.8/site-packages/matplotlib/axes/_base.py\u001b[0m in \u001b[0;36m__call__\u001b[0;34m(self, data, *args, **kwargs)\u001b[0m\n\u001b[1;32m    271\u001b[0m                 \u001b[0mthis\u001b[0m \u001b[0;34m+=\u001b[0m \u001b[0margs\u001b[0m\u001b[0;34m[\u001b[0m\u001b[0;36m0\u001b[0m\u001b[0;34m]\u001b[0m\u001b[0;34m,\u001b[0m\u001b[0;34m\u001b[0m\u001b[0;34m\u001b[0m\u001b[0m\n\u001b[1;32m    272\u001b[0m                 \u001b[0margs\u001b[0m \u001b[0;34m=\u001b[0m \u001b[0margs\u001b[0m\u001b[0;34m[\u001b[0m\u001b[0;36m1\u001b[0m\u001b[0;34m:\u001b[0m\u001b[0;34m]\u001b[0m\u001b[0;34m\u001b[0m\u001b[0;34m\u001b[0m\u001b[0m\n\u001b[0;32m--> 273\u001b[0;31m             \u001b[0;32myield\u001b[0m \u001b[0;32mfrom\u001b[0m \u001b[0mself\u001b[0m\u001b[0;34m.\u001b[0m\u001b[0m_plot_args\u001b[0m\u001b[0;34m(\u001b[0m\u001b[0mthis\u001b[0m\u001b[0;34m,\u001b[0m \u001b[0mkwargs\u001b[0m\u001b[0;34m)\u001b[0m\u001b[0;34m\u001b[0m\u001b[0;34m\u001b[0m\u001b[0m\n\u001b[0m\u001b[1;32m    274\u001b[0m \u001b[0;34m\u001b[0m\u001b[0m\n\u001b[1;32m    275\u001b[0m     \u001b[0;32mdef\u001b[0m \u001b[0mget_next_color\u001b[0m\u001b[0;34m(\u001b[0m\u001b[0mself\u001b[0m\u001b[0;34m)\u001b[0m\u001b[0;34m:\u001b[0m\u001b[0;34m\u001b[0m\u001b[0;34m\u001b[0m\u001b[0m\n",
      "\u001b[0;32m~/github/venv/fxpred3/lib/python3.8/site-packages/matplotlib/axes/_base.py\u001b[0m in \u001b[0;36m_plot_args\u001b[0;34m(self, tup, kwargs)\u001b[0m\n\u001b[1;32m    397\u001b[0m \u001b[0;34m\u001b[0m\u001b[0m\n\u001b[1;32m    398\u001b[0m         \u001b[0;32mif\u001b[0m \u001b[0mx\u001b[0m\u001b[0;34m.\u001b[0m\u001b[0mshape\u001b[0m\u001b[0;34m[\u001b[0m\u001b[0;36m0\u001b[0m\u001b[0;34m]\u001b[0m \u001b[0;34m!=\u001b[0m \u001b[0my\u001b[0m\u001b[0;34m.\u001b[0m\u001b[0mshape\u001b[0m\u001b[0;34m[\u001b[0m\u001b[0;36m0\u001b[0m\u001b[0;34m]\u001b[0m\u001b[0;34m:\u001b[0m\u001b[0;34m\u001b[0m\u001b[0;34m\u001b[0m\u001b[0m\n\u001b[0;32m--> 399\u001b[0;31m             raise ValueError(f\"x and y must have same first dimension, but \"\n\u001b[0m\u001b[1;32m    400\u001b[0m                              f\"have shapes {x.shape} and {y.shape}\")\n\u001b[1;32m    401\u001b[0m         \u001b[0;32mif\u001b[0m \u001b[0mx\u001b[0m\u001b[0;34m.\u001b[0m\u001b[0mndim\u001b[0m \u001b[0;34m>\u001b[0m \u001b[0;36m2\u001b[0m \u001b[0;32mor\u001b[0m \u001b[0my\u001b[0m\u001b[0;34m.\u001b[0m\u001b[0mndim\u001b[0m \u001b[0;34m>\u001b[0m \u001b[0;36m2\u001b[0m\u001b[0;34m:\u001b[0m\u001b[0;34m\u001b[0m\u001b[0;34m\u001b[0m\u001b[0m\n",
      "\u001b[0;31mValueError\u001b[0m: x and y must have same first dimension, but have shapes (4598,) and (4597,)"
     ]
    },
    {
     "data": {
      "image/png": "[encoded data removed]",
      "text/plain": [
       "<Figure size 432x288 with 1 Axes>"
      ]
     },
     "metadata": {
      "needs_background": "light"
     },
     "output_type": "display_data"
    }
   ],
   "source": [
    "result_output2('val')"
   ]
  },
  {
   "cell_type": "code",
   "execution_count": 61,
   "id": "pressing-treasure",
   "metadata": {},
   "outputs": [
    {
     "name": "stdout",
     "output_type": "stream",
     "text": [
      "test\n",
      "Accuracy: 0.4997825026512146\n",
      "Accuracy: 0.48151370882987976\n",
      "KL_Divergence: 19631.8359375\n",
      "              precision    recall  f1-score   support\n",
      "\n",
      "         0.0       0.49      0.53      0.51      2214\n",
      "         1.0       0.68      0.14      0.24       119\n",
      "         2.0       0.51      0.48      0.49      2265\n",
      "\n",
      "    accuracy                           0.50      4598\n",
      "   macro avg       0.56      0.39      0.41      4598\n",
      "weighted avg       0.50      0.50      0.50      4598\n",
      "\n"
     ]
    },
    {
     "data": {
      "image/png": "[encoded data removed]",
      "text/plain": [
       "<Figure size 432x288 with 2 Axes>"
      ]
     },
     "metadata": {
      "needs_background": "light"
     },
     "output_type": "display_data"
    },
    {
     "data": {
      "image/png": "[encoded data removed]",
      "text/plain": [
       "<Figure size 432x288 with 1 Axes>"
      ]
     },
     "metadata": {
      "needs_background": "light"
     },
     "output_type": "display_data"
    },
    {
     "name": "stdout",
     "output_type": "stream",
     "text": [
      "Portfolio return: 0.018872857093811035\n",
      "Std of returns: 0.00025141998776234686\n",
      "Sharpe ratio: 62.73509610031574\n",
      "\n",
      "Return per annum: 0.15903874589433564\n",
      "Std of returns per annum: 0.04789402288200522\n",
      "Sharpe ratio per annum: 3.255912460695071\n",
      "=============================\n",
      "Investment lengths\n",
      "y_true\n",
      "   number    mean     std  max\n",
      "0    1223  1.8095  1.1709   10\n",
      "1      82  1.4512  1.4155    8\n",
      "2    1215  1.8642  1.2381    9\n",
      "y_pred\n",
      "   number    mean     std  max\n",
      "0     993  2.4179  2.0939   20\n",
      "1      10  2.5000  1.9621    7\n",
      "2     992  2.1885  1.9530   26\n",
      "Investment lengths for only buy and sell (hold is prolongation of previous)\n",
      "y_true\n",
      "   number    mean     std  max\n",
      "0    1198  1.9157  1.3620   13\n",
      "2    1199  1.9199  1.2865   11\n",
      "y_pred\n",
      "   number    mean     std  max\n",
      "0     989  2.4408  2.1368   20\n",
      "2     990  2.2051  1.9719   26\n"
     ]
    }
   ],
   "source": [
    "result_output2('test')"
   ]
  },
  {
   "cell_type": "code",
   "execution_count": null,
   "id": "incorporate-cedar",
   "metadata": {},
   "outputs": [],
   "source": []
  }
 ],
 "metadata": {
  "kernelspec": {
   "display_name": "fxpred3",
   "language": "python",
   "name": "fxpred3"
  },
  "language_info": {
   "codemirror_mode": {
    "name": "ipython",
    "version": 3
   },
   "file_extension": ".py",
   "mimetype": "text/x-python",
   "name": "python",
   "nbconvert_exporter": "python",
   "pygments_lexer": "ipython3",
   "version": "3.8.10"
  }
 },
 "nbformat": 4,
 "nbformat_minor": 5
}
