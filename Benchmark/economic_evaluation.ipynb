{
 "cells": [
  {
   "cell_type": "code",
   "execution_count": 1,
   "metadata": {},
   "outputs": [
    {
     "name": "stderr",
     "output_type": "stream",
     "text": [
      "/opt/anaconda3/lib/python3.8/site-packages/pandas/core/frame.py:4163: SettingWithCopyWarning: \n",
      "A value is trying to be set on a copy of a slice from a DataFrame\n",
      "\n",
      "See the caveats in the documentation: https://pandas.pydata.org/pandas-docs/stable/user_guide/indexing.html#returning-a-view-versus-a-copy\n",
      "  return super().drop(\n"
     ]
    }
   ],
   "source": [
    "#!/usr/bin/env python\n",
    "\n",
    "# coding: utf-8\n",
    "\n",
    "# %% Loading Packages\n",
    "import matplotlib.pyplot as plt\n",
    "import numpy as np\n",
    "import pandas as pd\n",
    "import pickle\n",
    "from sklearn.model_selection import train_test_split\n",
    "from sklearn.preprocessing import MinMaxScaler\n",
    "from sklearn.preprocessing import StandardScaler\n",
    "from sklearn.metrics import classification_report, confusion_matrix, ConfusionMatrixDisplay\n",
    "from collections import Counter\n",
    "# from sklearn.metrics import mean_squared_error, mean_absolute_erIPython.notebook.kernel.execute('nb_name = \"' + IPython.notebook.notebook_name + '\"')ror\n",
    "\n",
    "import tensorflow as tf\n",
    "from tensorflow.keras import Sequential\n",
    "from tensorflow.keras.layers import Dense\n",
    "from tensorflow.keras.layers import LSTM\n",
    "from tensorflow.keras.layers import ReLU\n",
    "from tensorflow.keras.layers import Dropout\n",
    "from tensorflow.keras.activations import tanh\n",
    "from tensorflow.keras.layers import PReLU\n",
    "from tensorflow.keras.layers import BatchNormalization\n",
    "from tensorflow.keras.layers import LeakyReLU\n",
    "from tensorflow.keras.layers import Flatten\n",
    "from tensorflow.keras.optimizers import SGD\n",
    "from tensorflow.keras.losses import MSE, MAE, MAPE\n",
    "from tensorflow.keras.metrics import Accuracy, SparseCategoricalAccuracy\n",
    "from tensorflow.keras.losses import kullback_leibler_divergence, SparseCategoricalCrossentropy, KLDivergence\n",
    "from tensorflow.keras.callbacks import LearningRateScheduler\n",
    "\n",
    "import sys\n",
    "\n",
    "from tensorflow.python.ops.gen_batch_ops import batch\n",
    "\n",
    "import sys\n",
    "import os\n",
    "import sys\n",
    "import platform\n",
    "\n",
    "from tensorflow.python.ops.gen_math_ops import Tanh\n",
    "if platform.node() in ['msbq', 'msdai']:\n",
    "    os.chdir('/home/ms/github/fxpred')\n",
    "    sys.path.append(os.path.join(os.getcwd(), 'Transformer'))\n",
    "else:\n",
    "    os.chdir('/home/RDC/fisertiz/Schreibtisch/phd/paper1_fxpred')\n",
    "    sys.path.append(os.path.join(os.getcwd(), 'Transformer'))\n",
    "from utils import get_fx_and_metric_data_wo_weekend, mde\n",
    "from utils_NN_opt_learning_rate import opt_learn_rate_plot\n",
    "from benchmark_utils import actual_pred_plot, ts_train_test_normalize\n",
    "from transformer_architecture_elements import Time2Vector, SingleAttention, MultiAttention, TransformerEncoder"
   ]
  },
  {
   "cell_type": "code",
   "execution_count": 2,
   "metadata": {},
   "outputs": [
    {
     "name": "stdout",
     "output_type": "stream",
     "text": [
      "lag: 256\n",
      "h: 1\n"
     ]
    }
   ],
   "source": [
    "# filename = 'Benchmark/trained_models/LSTM_univariate2_classification____0100.hdf5'  # Classification model\n",
    "# filename = 'Benchmark/trained_models/LSTM_univariate2_with_close_price____0150.hdf5'  # Regression model\n",
    "# filename = 'content/Transformer+TimeEmbedding2_minmax____0300.hdf5'\n",
    "filename = 'content/FXTransformerMulti0093.hdf5'\n",
    "# filename = 'content/Transformer+TimeEmbeddingClassification0010.hdf5'\n",
    "\n",
    "my_LSTM_model = tf.keras.models.load_model(\n",
    "    filename,\n",
    "    custom_objects={\n",
    "        'kl_divergence': kullback_leibler_divergence,\n",
    "        'Time2Vector': Time2Vector,\n",
    "        'SingleAttention': SingleAttention,\n",
    "        'MultiAttention': MultiAttention,\n",
    "        'TransformerEncoder': TransformerEncoder\n",
    "    }\n",
    ")\n",
    "lag = my_LSTM_model.input_shape[1]\n",
    "print(f'lag: {lag}')\n",
    "if my_LSTM_model.layers[-1].activation == tf.keras.activations.softmax:\n",
    "    nn_type_classification = True\n",
    "    h = 1\n",
    "else:\n",
    "    nn_type_classification = False\n",
    "    h = my_LSTM_model.output_shape[1]\n",
    "print(f'h: {h}')"
   ]
  },
  {
   "cell_type": "code",
   "execution_count": 3,
   "metadata": {},
   "outputs": [],
   "source": [
    "def predictions(my_model, X_test, sc=None):\n",
    "    LSTM_prediction = my_model.predict(X_test)\n",
    "    if sc is not None:\n",
    "        LSTM_prediction = sc.inverse_transform(LSTM_prediction)\n",
    "    return LSTM_prediction"
   ]
  },
  {
   "cell_type": "code",
   "execution_count": 4,
   "metadata": {},
   "outputs": [
    {
     "name": "stdout",
     "output_type": "stream",
     "text": [
      "(48558, 1236)\n"
     ]
    },
    {
     "data": {
      "text/html": [
       "<div>\n",
       "<style scoped>\n",
       "    .dataframe tbody tr th:only-of-type {\n",
       "        vertical-align: middle;\n",
       "    }\n",
       "\n",
       "    .dataframe tbody tr th {\n",
       "        vertical-align: top;\n",
       "    }\n",
       "\n",
       "    .dataframe thead th {\n",
       "        text-align: right;\n",
       "    }\n",
       "</style>\n",
       "<table border=\"1\" class=\"dataframe\">\n",
       "  <thead>\n",
       "    <tr style=\"text-align: right;\">\n",
       "      <th></th>\n",
       "      <th>EURUSD BGNE Curncy Bid Open</th>\n",
       "      <th>EURUSD BGNE Curncy Bid Close</th>\n",
       "      <th>EURUSD BGNE Curncy Bid High</th>\n",
       "      <th>EURUSD BGNE Curncy Bid Low</th>\n",
       "      <th>EURUSD BGNE Curncy Bid Number Ticks</th>\n",
       "      <th>EURUSD BGNE Curncy Ask Open</th>\n",
       "      <th>EURUSD BGNE Curncy Ask Close</th>\n",
       "      <th>EURUSD BGNE Curncy Ask High</th>\n",
       "      <th>EURUSD BGNE Curncy Ask Low</th>\n",
       "      <th>EURUSD BGNE Curncy Ask Number Ticks</th>\n",
       "      <th>...</th>\n",
       "      <th>usdjpy___TAS_K</th>\n",
       "      <th>usdjpy___TAS_D</th>\n",
       "      <th>usdjpy___TAS_DS</th>\n",
       "      <th>usdjpy___TAS_DSS</th>\n",
       "      <th>usdjpy___TRENDER_UP</th>\n",
       "      <th>usdjpy___TRENDER_DN</th>\n",
       "      <th>usdjpy___TMAVG</th>\n",
       "      <th>usdjpy___VMAVG</th>\n",
       "      <th>usdjpy___WMAVG</th>\n",
       "      <th>usdjpy___WLPR</th>\n",
       "    </tr>\n",
       "    <tr>\n",
       "      <th>Dates</th>\n",
       "      <th></th>\n",
       "      <th></th>\n",
       "      <th></th>\n",
       "      <th></th>\n",
       "      <th></th>\n",
       "      <th></th>\n",
       "      <th></th>\n",
       "      <th></th>\n",
       "      <th></th>\n",
       "      <th></th>\n",
       "      <th></th>\n",
       "      <th></th>\n",
       "      <th></th>\n",
       "      <th></th>\n",
       "      <th></th>\n",
       "      <th></th>\n",
       "      <th></th>\n",
       "      <th></th>\n",
       "      <th></th>\n",
       "      <th></th>\n",
       "      <th></th>\n",
       "    </tr>\n",
       "  </thead>\n",
       "  <tbody>\n",
       "    <tr>\n",
       "      <th>2020-11-01 19:10:00</th>\n",
       "      <td>0.000000</td>\n",
       "      <td>0.000000</td>\n",
       "      <td>0.000000</td>\n",
       "      <td>0.000000</td>\n",
       "      <td>0.000000</td>\n",
       "      <td>0.000000</td>\n",
       "      <td>0.000000</td>\n",
       "      <td>0.000000</td>\n",
       "      <td>0.000000</td>\n",
       "      <td>0.000000</td>\n",
       "      <td>...</td>\n",
       "      <td>40.0</td>\n",
       "      <td>56.0</td>\n",
       "      <td>62.133335</td>\n",
       "      <td>67.244446</td>\n",
       "      <td>104.536598</td>\n",
       "      <td>104.576935</td>\n",
       "      <td>104.551109</td>\n",
       "      <td>104.620003</td>\n",
       "      <td>104.553337</td>\n",
       "      <td>-66.666664</td>\n",
       "    </tr>\n",
       "    <tr>\n",
       "      <th>2020-11-01 19:20:00</th>\n",
       "      <td>0.000283</td>\n",
       "      <td>0.000275</td>\n",
       "      <td>0.000197</td>\n",
       "      <td>-0.000507</td>\n",
       "      <td>-0.978125</td>\n",
       "      <td>0.002121</td>\n",
       "      <td>0.001597</td>\n",
       "      <td>0.001631</td>\n",
       "      <td>0.001761</td>\n",
       "      <td>-0.978125</td>\n",
       "      <td>...</td>\n",
       "      <td>40.0</td>\n",
       "      <td>56.0</td>\n",
       "      <td>62.133335</td>\n",
       "      <td>67.244446</td>\n",
       "      <td>104.536598</td>\n",
       "      <td>104.576935</td>\n",
       "      <td>104.551109</td>\n",
       "      <td>104.620003</td>\n",
       "      <td>104.553337</td>\n",
       "      <td>-66.666664</td>\n",
       "    </tr>\n",
       "    <tr>\n",
       "      <th>2020-11-01 19:30:00</th>\n",
       "      <td>0.000172</td>\n",
       "      <td>-0.000069</td>\n",
       "      <td>0.000017</td>\n",
       "      <td>-0.000215</td>\n",
       "      <td>0.380952</td>\n",
       "      <td>0.000043</td>\n",
       "      <td>0.000017</td>\n",
       "      <td>0.000086</td>\n",
       "      <td>0.000137</td>\n",
       "      <td>0.380952</td>\n",
       "      <td>...</td>\n",
       "      <td>40.0</td>\n",
       "      <td>56.0</td>\n",
       "      <td>62.133335</td>\n",
       "      <td>67.244446</td>\n",
       "      <td>104.536598</td>\n",
       "      <td>104.576935</td>\n",
       "      <td>104.551109</td>\n",
       "      <td>104.620003</td>\n",
       "      <td>104.553337</td>\n",
       "      <td>-66.666664</td>\n",
       "    </tr>\n",
       "    <tr>\n",
       "      <th>2020-11-01 19:40:00</th>\n",
       "      <td>0.000060</td>\n",
       "      <td>0.000034</td>\n",
       "      <td>-0.000172</td>\n",
       "      <td>0.000636</td>\n",
       "      <td>3.310345</td>\n",
       "      <td>-0.000274</td>\n",
       "      <td>-0.001157</td>\n",
       "      <td>-0.000009</td>\n",
       "      <td>-0.000926</td>\n",
       "      <td>3.310345</td>\n",
       "      <td>...</td>\n",
       "      <td>40.0</td>\n",
       "      <td>56.0</td>\n",
       "      <td>62.133335</td>\n",
       "      <td>67.244446</td>\n",
       "      <td>104.536598</td>\n",
       "      <td>104.576935</td>\n",
       "      <td>104.551109</td>\n",
       "      <td>104.620003</td>\n",
       "      <td>104.553337</td>\n",
       "      <td>-66.666664</td>\n",
       "    </tr>\n",
       "    <tr>\n",
       "      <th>2020-11-01 19:50:00</th>\n",
       "      <td>-0.000026</td>\n",
       "      <td>0.000026</td>\n",
       "      <td>-0.000026</td>\n",
       "      <td>0.000584</td>\n",
       "      <td>-0.984000</td>\n",
       "      <td>-0.000909</td>\n",
       "      <td>-0.000009</td>\n",
       "      <td>-0.001268</td>\n",
       "      <td>0.000017</td>\n",
       "      <td>-0.984000</td>\n",
       "      <td>...</td>\n",
       "      <td>40.0</td>\n",
       "      <td>56.0</td>\n",
       "      <td>62.133335</td>\n",
       "      <td>67.244446</td>\n",
       "      <td>104.536598</td>\n",
       "      <td>104.576935</td>\n",
       "      <td>104.552223</td>\n",
       "      <td>104.620003</td>\n",
       "      <td>104.552666</td>\n",
       "      <td>-66.666664</td>\n",
       "    </tr>\n",
       "  </tbody>\n",
       "</table>\n",
       "<p>5 rows × 1236 columns</p>\n",
       "</div>"
      ],
      "text/plain": [
       "                     EURUSD BGNE Curncy Bid Open  \\\n",
       "Dates                                              \n",
       "2020-11-01 19:10:00                     0.000000   \n",
       "2020-11-01 19:20:00                     0.000283   \n",
       "2020-11-01 19:30:00                     0.000172   \n",
       "2020-11-01 19:40:00                     0.000060   \n",
       "2020-11-01 19:50:00                    -0.000026   \n",
       "\n",
       "                     EURUSD BGNE Curncy Bid Close  \\\n",
       "Dates                                               \n",
       "2020-11-01 19:10:00                      0.000000   \n",
       "2020-11-01 19:20:00                      0.000275   \n",
       "2020-11-01 19:30:00                     -0.000069   \n",
       "2020-11-01 19:40:00                      0.000034   \n",
       "2020-11-01 19:50:00                      0.000026   \n",
       "\n",
       "                     EURUSD BGNE Curncy Bid High  EURUSD BGNE Curncy Bid Low  \\\n",
       "Dates                                                                          \n",
       "2020-11-01 19:10:00                     0.000000                    0.000000   \n",
       "2020-11-01 19:20:00                     0.000197                   -0.000507   \n",
       "2020-11-01 19:30:00                     0.000017                   -0.000215   \n",
       "2020-11-01 19:40:00                    -0.000172                    0.000636   \n",
       "2020-11-01 19:50:00                    -0.000026                    0.000584   \n",
       "\n",
       "                     EURUSD BGNE Curncy Bid Number Ticks  \\\n",
       "Dates                                                      \n",
       "2020-11-01 19:10:00                             0.000000   \n",
       "2020-11-01 19:20:00                            -0.978125   \n",
       "2020-11-01 19:30:00                             0.380952   \n",
       "2020-11-01 19:40:00                             3.310345   \n",
       "2020-11-01 19:50:00                            -0.984000   \n",
       "\n",
       "                     EURUSD BGNE Curncy Ask Open  \\\n",
       "Dates                                              \n",
       "2020-11-01 19:10:00                     0.000000   \n",
       "2020-11-01 19:20:00                     0.002121   \n",
       "2020-11-01 19:30:00                     0.000043   \n",
       "2020-11-01 19:40:00                    -0.000274   \n",
       "2020-11-01 19:50:00                    -0.000909   \n",
       "\n",
       "                     EURUSD BGNE Curncy Ask Close  \\\n",
       "Dates                                               \n",
       "2020-11-01 19:10:00                      0.000000   \n",
       "2020-11-01 19:20:00                      0.001597   \n",
       "2020-11-01 19:30:00                      0.000017   \n",
       "2020-11-01 19:40:00                     -0.001157   \n",
       "2020-11-01 19:50:00                     -0.000009   \n",
       "\n",
       "                     EURUSD BGNE Curncy Ask High  EURUSD BGNE Curncy Ask Low  \\\n",
       "Dates                                                                          \n",
       "2020-11-01 19:10:00                     0.000000                    0.000000   \n",
       "2020-11-01 19:20:00                     0.001631                    0.001761   \n",
       "2020-11-01 19:30:00                     0.000086                    0.000137   \n",
       "2020-11-01 19:40:00                    -0.000009                   -0.000926   \n",
       "2020-11-01 19:50:00                    -0.001268                    0.000017   \n",
       "\n",
       "                     EURUSD BGNE Curncy Ask Number Ticks  ...  usdjpy___TAS_K  \\\n",
       "Dates                                                     ...                   \n",
       "2020-11-01 19:10:00                             0.000000  ...            40.0   \n",
       "2020-11-01 19:20:00                            -0.978125  ...            40.0   \n",
       "2020-11-01 19:30:00                             0.380952  ...            40.0   \n",
       "2020-11-01 19:40:00                             3.310345  ...            40.0   \n",
       "2020-11-01 19:50:00                            -0.984000  ...            40.0   \n",
       "\n",
       "                     usdjpy___TAS_D  usdjpy___TAS_DS  usdjpy___TAS_DSS  \\\n",
       "Dates                                                                    \n",
       "2020-11-01 19:10:00            56.0        62.133335         67.244446   \n",
       "2020-11-01 19:20:00            56.0        62.133335         67.244446   \n",
       "2020-11-01 19:30:00            56.0        62.133335         67.244446   \n",
       "2020-11-01 19:40:00            56.0        62.133335         67.244446   \n",
       "2020-11-01 19:50:00            56.0        62.133335         67.244446   \n",
       "\n",
       "                     usdjpy___TRENDER_UP  usdjpy___TRENDER_DN  usdjpy___TMAVG  \\\n",
       "Dates                                                                           \n",
       "2020-11-01 19:10:00           104.536598           104.576935      104.551109   \n",
       "2020-11-01 19:20:00           104.536598           104.576935      104.551109   \n",
       "2020-11-01 19:30:00           104.536598           104.576935      104.551109   \n",
       "2020-11-01 19:40:00           104.536598           104.576935      104.551109   \n",
       "2020-11-01 19:50:00           104.536598           104.576935      104.552223   \n",
       "\n",
       "                     usdjpy___VMAVG  usdjpy___WMAVG  usdjpy___WLPR  \n",
       "Dates                                                               \n",
       "2020-11-01 19:10:00      104.620003      104.553337     -66.666664  \n",
       "2020-11-01 19:20:00      104.620003      104.553337     -66.666664  \n",
       "2020-11-01 19:30:00      104.620003      104.553337     -66.666664  \n",
       "2020-11-01 19:40:00      104.620003      104.553337     -66.666664  \n",
       "2020-11-01 19:50:00      104.620003      104.552666     -66.666664  \n",
       "\n",
       "[5 rows x 1236 columns]"
      ]
     },
     "execution_count": 4,
     "metadata": {},
     "output_type": "execute_result"
    }
   ],
   "source": [
    "dtype = np.float32  # np.float64\n",
    "tf.keras.backend.set_floatx('float32')\n",
    "\n",
    "df = get_fx_and_metric_data_wo_weekend(dtype=dtype)\n",
    "target_price = target = 'EURUSD BGNE Curncy Bid Close'\n",
    "df_close = get_fx_and_metric_data_wo_weekend(dtype=dtype, pct_change=False)\n",
    "target_column = list(df.columns).index(target)\n",
    "if my_LSTM_model.input_shape[-1] <= 2:\n",
    "    df = df.iloc[:, target_column : target_column + 1]\n",
    "target_column = list(df.columns).index(target)\n",
    "target_price_column = target_column\n",
    "print(df.shape)\n",
    "df.head()"
   ]
  },
  {
   "cell_type": "code",
   "execution_count": 5,
   "metadata": {},
   "outputs": [],
   "source": [
    "def strategy(x):\n",
    "    conditions = [\n",
    "        (x <= -0.00000001),\n",
    "        (x > -0.00000001) & (x <= 0.00000001),\n",
    "        (x > 0.00000001)\n",
    "    ]\n",
    "\n",
    "    # create a list of the values we want to assign for each condition #!!! \n",
    "    values = ['sell', 'hold', 'buy']\n",
    "    values = [0, 1, 2]\n",
    "\n",
    "    # create a new column and use np.select to assign values to it using our lists as arguments #!!! \n",
    "    return np.select(conditions, values).astype(np.int32)\n",
    "df['strategy'] = strategy(df[target_price])\n",
    "\n",
    "if nn_type_classification:    \n",
    "    target = 'strategy'\n",
    "target_column = df.columns.to_list().index(target)"
   ]
  },
  {
   "cell_type": "code",
   "execution_count": 6,
   "metadata": {},
   "outputs": [
    {
     "data": {
      "image/png": "[encoded data removed]",
      "text/plain": [
       "<Figure size 432x288 with 1 Axes>"
      ]
     },
     "metadata": {
      "needs_background": "light"
     },
     "output_type": "display_data"
    }
   ],
   "source": [
    "df[target_price].plot()\n",
    "plt.title('Return of closing price')\n",
    "plt.show()"
   ]
  },
  {
   "cell_type": "code",
   "execution_count": 7,
   "metadata": {},
   "outputs": [
    {
     "ename": "MemoryError",
     "evalue": "Unable to allocate 91.0 GiB for an array with shape (38590, 256, 1237) and data type float64",
     "output_type": "error",
     "traceback": [
      "\u001b[0;31m---------------------------------------------------------------------------\u001b[0m",
      "\u001b[0;31mMemoryError\u001b[0m                               Traceback (most recent call last)",
      "\u001b[0;32m<ipython-input-7-bae2701cb94d>\u001b[0m in \u001b[0;36m<module>\u001b[0;34m\u001b[0m\n\u001b[1;32m      1\u001b[0m \u001b[0mX_train\u001b[0m\u001b[0;34m,\u001b[0m \u001b[0my_train\u001b[0m\u001b[0;34m,\u001b[0m \u001b[0mX_val\u001b[0m\u001b[0;34m,\u001b[0m \u001b[0my_val\u001b[0m \u001b[0;34m,\u001b[0m \u001b[0mX_test\u001b[0m\u001b[0;34m,\u001b[0m \u001b[0my_test\u001b[0m\u001b[0;34m,\u001b[0m \u001b[0msc\u001b[0m\u001b[0;34m,\u001b[0m \u001b[0msc_target\u001b[0m\u001b[0;34m,\u001b[0m \u001b[0mindex_train\u001b[0m\u001b[0;34m,\u001b[0m \u001b[0mindex_val\u001b[0m\u001b[0;34m,\u001b[0m \u001b[0mindex_test\u001b[0m\u001b[0;34m,\u001b[0m \u001b[0mX_train_index\u001b[0m\u001b[0;34m,\u001b[0m \u001b[0my_train_index\u001b[0m \u001b[0;34m=\u001b[0m\u001b[0;31m \u001b[0m\u001b[0;31m\\\u001b[0m\u001b[0;34m\u001b[0m\u001b[0;34m\u001b[0m\u001b[0m\n\u001b[0;32m----> 2\u001b[0;31m     \u001b[0mts_train_test_normalize\u001b[0m\u001b[0;34m(\u001b[0m\u001b[0mdf\u001b[0m\u001b[0;34m,\u001b[0m \u001b[0mlag\u001b[0m\u001b[0;34m,\u001b[0m \u001b[0mh\u001b[0m\u001b[0;34m,\u001b[0m \u001b[0mtarget_column\u001b[0m\u001b[0;34m)\u001b[0m\u001b[0;34m\u001b[0m\u001b[0;34m\u001b[0m\u001b[0m\n\u001b[0m",
      "\u001b[0;32m~/Schreibtisch/phd/paper1_fxpred/Benchmark/benchmark_utils.py\u001b[0m in \u001b[0;36mts_train_test_normalize\u001b[0;34m(df, time_steps, for_periods, target_column, dtype)\u001b[0m\n\u001b[1;32m     66\u001b[0m         \u001b[0my_train\u001b[0m\u001b[0;34m.\u001b[0m\u001b[0mappend\u001b[0m\u001b[0;34m(\u001b[0m\u001b[0mts_train_scaled\u001b[0m\u001b[0;34m[\u001b[0m\u001b[0mi\u001b[0m\u001b[0;34m:\u001b[0m\u001b[0mi\u001b[0m\u001b[0;34m+\u001b[0m\u001b[0mfor_periods\u001b[0m\u001b[0;34m,\u001b[0m\u001b[0mtarget_column\u001b[0m\u001b[0;34m]\u001b[0m\u001b[0;34m)\u001b[0m\u001b[0;34m\u001b[0m\u001b[0;34m\u001b[0m\u001b[0m\n\u001b[1;32m     67\u001b[0m         \u001b[0my_train_index\u001b[0m\u001b[0;34m.\u001b[0m\u001b[0mappend\u001b[0m\u001b[0;34m(\u001b[0m\u001b[0mindex_train\u001b[0m\u001b[0;34m[\u001b[0m\u001b[0mi\u001b[0m\u001b[0;34m:\u001b[0m\u001b[0mi\u001b[0m\u001b[0;34m+\u001b[0m\u001b[0mfor_periods\u001b[0m\u001b[0;34m]\u001b[0m\u001b[0;34m)\u001b[0m\u001b[0;34m\u001b[0m\u001b[0;34m\u001b[0m\u001b[0m\n\u001b[0;32m---> 68\u001b[0;31m     \u001b[0mX_train\u001b[0m\u001b[0;34m,\u001b[0m \u001b[0my_train\u001b[0m \u001b[0;34m=\u001b[0m \u001b[0mnp\u001b[0m\u001b[0;34m.\u001b[0m\u001b[0marray\u001b[0m\u001b[0;34m(\u001b[0m\u001b[0mX_train\u001b[0m\u001b[0;34m,\u001b[0m \u001b[0mdtype\u001b[0m\u001b[0;34m=\u001b[0m\u001b[0mdtype\u001b[0m\u001b[0;34m)\u001b[0m\u001b[0;34m,\u001b[0m \u001b[0mnp\u001b[0m\u001b[0;34m.\u001b[0m\u001b[0marray\u001b[0m\u001b[0;34m(\u001b[0m\u001b[0my_train\u001b[0m\u001b[0;34m,\u001b[0m \u001b[0mdtype\u001b[0m\u001b[0;34m=\u001b[0m\u001b[0mdtype\u001b[0m\u001b[0;34m)\u001b[0m\u001b[0;34m\u001b[0m\u001b[0;34m\u001b[0m\u001b[0m\n\u001b[0m\u001b[1;32m     69\u001b[0m     \u001b[0mX_train_index\u001b[0m\u001b[0;34m,\u001b[0m \u001b[0my_train_index\u001b[0m \u001b[0;34m=\u001b[0m \u001b[0mnp\u001b[0m\u001b[0;34m.\u001b[0m\u001b[0marray\u001b[0m\u001b[0;34m(\u001b[0m\u001b[0mX_train_index\u001b[0m\u001b[0;34m,\u001b[0m \u001b[0mdtype\u001b[0m\u001b[0;34m=\u001b[0m\u001b[0mdtype\u001b[0m\u001b[0;34m)\u001b[0m\u001b[0;34m,\u001b[0m \u001b[0mnp\u001b[0m\u001b[0;34m.\u001b[0m\u001b[0marray\u001b[0m\u001b[0;34m(\u001b[0m\u001b[0my_train_index\u001b[0m\u001b[0;34m,\u001b[0m \u001b[0mdtype\u001b[0m\u001b[0;34m=\u001b[0m\u001b[0mdtype\u001b[0m\u001b[0;34m)\u001b[0m\u001b[0;34m\u001b[0m\u001b[0;34m\u001b[0m\u001b[0m\n\u001b[1;32m     70\u001b[0m \u001b[0;34m\u001b[0m\u001b[0m\n",
      "\u001b[0;31mMemoryError\u001b[0m: Unable to allocate 91.0 GiB for an array with shape (38590, 256, 1237) and data type float64"
     ]
    }
   ],
   "source": [
    "X_train, y_train, X_val, y_val , X_test, y_test, sc, sc_target, index_train, index_val, index_test, X_train_index, y_train_index = \\\n",
    "    ts_train_test_normalize(df, lag, h, target_column)"
   ]
  },
  {
   "cell_type": "code",
   "execution_count": null,
   "metadata": {},
   "outputs": [],
   "source": [
    "if nn_type_classification:\n",
    "    y_train = sc_target.inverse_transform(y_train)\n",
    "    y_val = sc_target.inverse_transform(y_val)\n",
    "    y_test = sc_target.inverse_transform(y_test)"
   ]
  },
  {
   "cell_type": "markdown",
   "metadata": {},
   "source": [
    "## Econmetric measures"
   ]
  },
  {
   "cell_type": "markdown",
   "metadata": {},
   "source": [
    "Definition of cumulated returns"
   ]
  },
  {
   "cell_type": "code",
   "execution_count": null,
   "metadata": {},
   "outputs": [],
   "source": [
    "def cumulated_return(y_pred, ret, start_capital=1000, dtype=None):\n",
    "    assert y_pred.flatten().shape == ret.flatten().shape\n",
    "    balance = [start_capital]\n",
    "    signal = 0\n",
    "    for i, d in enumerate(y_pred[:-1]):\n",
    "        signal = signal if d == 1 else d\n",
    "        if signal == 0:\n",
    "            balance.append(balance[-1])\n",
    "        elif signal == 2:\n",
    "            balance.append(balance[-1] * ret[i])\n",
    "        else:\n",
    "            raise ValueError()\n",
    "    balance = np.array(balance, dtype=dtype)\n",
    "    return balance"
   ]
  },
  {
   "cell_type": "code",
   "execution_count": 10,
   "metadata": {},
   "outputs": [
    {
     "name": "stdout",
     "output_type": "stream",
     "text": [
      "39016.006745548366\n",
      "40688.29760579033\n",
      "0.0\n"
     ]
    }
   ],
   "source": [
    "#!!! for testing purposes\n",
    "tmp_type = 'train'\n",
    "\n",
    "X = np.concatenate([sc.inverse_transform(i)[np.newaxis] for i in eval(f\"X_{tmp_type}\")], axis=0)\n",
    "for i in range(lag):\n",
    "    diff = np.abs(df.loc[eval(f\"index_{tmp_type}\")].iloc[i:-(lag - i + 1)].values - X[:,-(lag - i)]).sum(axis=0)\n",
    "    assert diff[0] < 1e-6 and diff[1] < 0.5, 'df and X inversed are not the same'\n",
    "\n",
    "X_ret_testing = np.concatenate([sc.inverse_transform(i)[np.newaxis] for i in eval(f\"X_{tmp_type}\")], axis=0)[:, -1, 0]\n",
    "y_testing = np.concatenate([sc.inverse_transform(i)[np.newaxis] for i in eval(f\"X_{tmp_type}\")], axis=0)[:, -1, 1]\n",
    "\n",
    "a1 = sc_target.inverse_transform(eval(f\"y_{tmp_type}\")).flatten()\n",
    "a2 = eval(f\"y_{tmp_type}\").flatten()\n",
    "b = np.concatenate([sc.inverse_transform(i)[np.newaxis] for i in eval(f\"X_{tmp_type}\")], axis=0)[:, -1, 1]\n",
    "cc = df.loc[eval(f\"index_{tmp_type}\")].iloc[(lag - 1):-(h+1), 1].values\n",
    "print(np.abs(cc[1:] - a1[:-1]).sum(axis=0))\n",
    "print(np.abs(cc[1:] - a2[:-1]).sum(axis=0))\n",
    "print(np.abs(cc - b).sum(axis=0))"
   ]
  },
  {
   "cell_type": "code",
   "execution_count": null,
   "metadata": {},
   "outputs": [],
   "source": [
    "print((index_train[0:-(lag+1)] == X_train_index[:, 0]).all())\n",
    "print((index_train[(lag-1):-(h+1)] == X_train_index[:, -1]).all())"
   ]
  },
  {
   "cell_type": "markdown",
   "metadata": {},
   "source": [
    "## read in data for econmic metric"
   ]
  },
  {
   "cell_type": "code",
   "execution_count": null,
   "metadata": {},
   "outputs": [],
   "source": [
    "def econ_metrics(y_pred, X_ret, risk_free=0.0031):  # Risk free rate must be given\n",
    "    x = cumulated_return(y_pred[:-1], X_ret[1:], dtype=dtype)\n",
    "    print(f'Portfolio return: {x[-1] / x[0] - 1}')\n",
    "    print(f'Std of returns: {np.std(x[1:] / x[:-1])}')\n",
    "    print(f'Sharpe ratio: {((x[-1] / x[0]) - 1 - risk_free) / np.std(x[1:] / x[:-1])}')\n",
    "    print()\n",
    "    \n",
    "    n = 6 * 24 * 252  # banking days per year\n",
    "    mu_annum = ((x[-1]/x[0]) ** (n / x.shape[0])) - 1\n",
    "    print(f'Return per annum: {mu_annum}')\n",
    "    std_annum = np.std(x[1:] / x[:-1]) * (n)**0.5\n",
    "    print(f'Std of returns per annum: {std_annum}')\n",
    "    print(f'Sharpe ratio per annum: {(mu_annum - risk_free) / std_annum}')"
   ]
  },
  {
   "cell_type": "code",
   "execution_count": null,
   "metadata": {},
   "outputs": [],
   "source": [
    "X_train.shape[-1] == my_LSTM_model.input_shape[-1]\n",
    "print(X_train.shape[-1])\n",
    "print(my_LSTM_model.input_shape[-1])"
   ]
  },
  {
   "cell_type": "code",
   "execution_count": null,
   "metadata": {},
   "outputs": [],
   "source": [
    "def result_output2(tmp_type):\n",
    "    print(tmp_type)\n",
    "\n",
    "    y = eval(f\"y_{tmp_type}\")\n",
    "    if nn_type_classification:\n",
    "        y_pred = np.argmax(predictions(\n",
    "            my_LSTM_model,\n",
    "            eval(f\"X_{tmp_type}\")\n",
    "        ), axis=1)\n",
    "    else:\n",
    "        y = strategy(y)\n",
    "        if X_train.shape[-1] - 1 == my_LSTM_model.input_shape[-1]:\n",
    "            i = df.columns.to_list().index('strategy')\n",
    "            y_pred = strategy(predictions(\n",
    "                my_LSTM_model,\n",
    "                np.delete(eval(f\"X_{tmp_type}\"), i, -1)\n",
    "            ))\n",
    "        else:\n",
    "            y_pred = strategy(predictions(\n",
    "                my_LSTM_model,\n",
    "                eval(f\"X_{tmp_type}\")\n",
    "            ))\n",
    "    print(f'Accuracy: {Accuracy()(y.flatten(), y_pred.flatten()).numpy()}')\n",
    "    print(f'Accuracy: {SparseCategoricalAccuracy()(y.astype(dtype), y_pred.reshape(y.shape).astype(dtype)).numpy()}')\n",
    "    print(f'KL_Divergence: {kullback_leibler_divergence(y.flatten().astype(dtype), y_pred.flatten().astype(dtype)).numpy()}')\n",
    "    print(classification_report(y, y_pred))\n",
    "    cm = confusion_matrix(y, y_pred)\n",
    "    ConfusionMatrixDisplay(cm).plot()\n",
    "    plt.show()\n",
    "\n",
    "    X_ret = sc.inverse_transform(eval(f\"X_{tmp_type}\"))[:, -1, target_price_column] + 1\n",
    "    plt.plot(eval(f\"index_{tmp_type}\")[lag-1:-(h+1)][1:], cumulated_return(y_pred[:-1], X_ret[1:], dtype=dtype), label='predicted')\n",
    "\n",
    "    c = Counter(y.flatten())\n",
    "    for i in range(3):\n",
    "        c.update({i: 0})\n",
    "    p = [i[1]/y.shape[0] for i in sorted(c.items(), key=lambda x: x[0])]\n",
    "    x = np.concatenate(\n",
    "        [\n",
    "            cumulated_return(\n",
    "                np.random.choice([0, 1, 2], size=y_pred[:-1].shape, p=p),\n",
    "                X_ret[1:],\n",
    "                dtype=dtype\n",
    "            )[:,np.newaxis] for i in range(50)\n",
    "        ], axis=-1\n",
    "    )\n",
    "    plt.plot(eval(f\"index_{tmp_type}\")[(lag-1):-(h+1)][1:], x.mean(axis=-1), label='random', color='gray')\n",
    "    plt.plot(eval(f\"index_{tmp_type}\")[(lag-1):-(h+1)][1:], x.mean(axis=-1) + x.std(axis=-1), label='random_q75', color='gray', linestyle='--')\n",
    "    plt.plot(eval(f\"index_{tmp_type}\")[(lag-1):-(h+1)][1:], cumulated_return(y_pred[:-1] * 0 + 2, X_ret[1:], dtype=dtype), label='buy&HODL')\n",
    "    plt.plot(eval(f\"index_{tmp_type}\")[(lag-1):-(h+1)][1:], cumulated_return(y[:-1], X_ret[1:], dtype=dtype), label='oracle')\n",
    "    plt.plot(eval(f\"index_{tmp_type}\")[(lag-1):-(h+1)][1:], cumulated_return(y, X_ret, dtype=dtype)[:-1], label='oracle')\n",
    "    plt.legend()\n",
    "    plt.semilogy()\n",
    "    plt.show()\n",
    "    econ_metrics(y_pred, X_ret)"
   ]
  },
  {
   "cell_type": "code",
   "execution_count": 15,
   "metadata": {},
   "outputs": [
    {
     "name": "stdout",
     "output_type": "stream",
     "text": [
      "train\n",
      "Accuracy: 0.5112464427947998\n",
      "Accuracy: 0.47603005170822144\n",
      "KL_Divergence: 172753.65625\n",
      "              precision    recall  f1-score   support\n",
      "\n",
      "           0       0.49      0.56      0.52     18370\n",
      "           2       0.54      0.47      0.50     20220\n",
      "\n",
      "    accuracy                           0.51     38590\n",
      "   macro avg       0.51      0.51      0.51     38590\n",
      "weighted avg       0.51      0.51      0.51     38590\n",
      "\n"
     ]
    },
    {
     "data": {
      "image/png": "[encoded data removed]",
      "text/plain": [
       "<Figure size 432x288 with 2 Axes>"
      ]
     },
     "metadata": {
      "needs_background": "light"
     },
     "output_type": "display_data"
    },
    {
     "data": {
      "image/png": "[encoded data removed]",
      "text/plain": [
       "<Figure size 432x288 with 1 Axes>"
      ]
     },
     "metadata": {
      "needs_background": "light"
     },
     "output_type": "display_data"
    },
    {
     "name": "stdout",
     "output_type": "stream",
     "text": [
      "Portfolio return: 0.2903406620025635\n",
      "Std of returns: 0.0002226569631602615\n",
      "Sharpe ratio: 1290.0591920667518\n",
      "\n",
      "Return per annum: 0.27087623598454735\n",
      "Std of returns per annum: 0.04241483655832239\n",
      "Sharpe ratio per annum: 6.313268132398494\n"
     ]
    }
   ],
   "source": [
    "result_output2('train')"
   ]
  },
  {
   "cell_type": "code",
   "execution_count": null,
   "metadata": {},
   "outputs": [],
   "source": [
    "result_output2('val')"
   ]
  },
  {
   "cell_type": "code",
   "execution_count": null,
   "metadata": {},
   "outputs": [],
   "source": [
    "result_output2('test')"
   ]
  }
 ],
 "metadata": {
  "kernelspec": {
   "display_name": "Python 3",
   "language": "python",
   "name": "python3"
  },
  "language_info": {
   "codemirror_mode": {
    "name": "ipython",
    "version": 3
   },
   "file_extension": ".py",
   "mimetype": "text/x-python",
   "name": "python",
   "nbconvert_exporter": "python",
   "pygments_lexer": "ipython3",
   "version": "3.8.5"
  }
 },
 "nbformat": 4,
 "nbformat_minor": 5
}
