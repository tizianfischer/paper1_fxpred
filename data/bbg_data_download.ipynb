{
 "cells": [
  {
   "cell_type": "code",
   "execution_count": null,
   "metadata": {},
   "outputs": [],
   "source": [
    "import pdblp\n",
    "con = pdblp.BCon(debug=False, port=8194, timeout=7000)\n",
    "con.start()\n",
    "con.debug = False\n",
    "import pandas as pd"
   ]
  },
  {
   "cell_type": "markdown",
   "metadata": {},
   "source": [
    "See documentation about [pdblk.BCon.bdib](https://matthewgilbert.github.io/pdblp/api.html#pdblp.pdblp.BCon.bdib). \n",
    "\n",
    "Regarding event type, I do not know whether this argument has to be set. You would have to check it out for a ticker. Same with the interval, I do not know whether 1 means minute data or something else.\n",
    "\n",
    "What I (I think) found out:\n",
    "- Interval stands for minute, so 1 = 1 minute. This fits like that.\n",
    "- Eventy Type: is currently \"Bid\". That also fits for the time being.\n",
    "\n",
    "Unfortunately, I was not able to try it out myself with a ticker because I have no access to Bloomberg on my private computer and I cannot run the code on my business computer."
   ]
  },
  {
   "cell_type": "code",
   "execution_count": null,
   "metadata": {},
   "outputs": [],
   "source": [
    "# download tickers\n",
    "tickers = ['EURUSD BGNE Curncy', 'USDJPY BGNE Curncy', 'GBPUSD BGNE Curncy', 'AUDUSD BGNE Curncy', 'USDCAD BGNE Curncy', 'USDCHF BGNE Curncy', 'NZDUSD BGNE Curncy', 'EURJPY BGNE Curncy', 'GBPJPY BGNE Curncy', 'EURGBP BGNE Curncy', 'AUDJPY BGNE Curncy', 'EURAUD BGNE Curncy', 'EURCHF BGNE Curncy', 'AUDNZD BGNE Curncy', 'NZDJPY BGNE Curncy', 'GBPAUD BGNE Curncy', 'GBPCAD BGNE Curncy', 'EURNZD BGNE Curncy', 'AUDCAD BGNE Curncy', 'GBPCHF BGNE Curncy']\n",
    "for t in tickers:\n",
    "    data = con.bdib(\n",
    "        ticker=t,\n",
    "        start_datetime='2020-08-01T00:00:00',\n",
    "        end_datetime=datetime.now().strftime('%Y-%m-%dT00:00:00'),\n",
    "        # event_type='BID' # TRADE, BID, ASK, BID_BEST, ASK_BEST, BEST_BID, BEST_ASK\n",
    "        # interval=1  # int {1..1440}\n",
    "    )\n",
    "    data.to_csv(f'{t}.csv')"
   ]
  },
  {
   "cell_type": "markdown",
   "metadata": {},
   "source": [
    "Alternatively you could look into the xbbg package. E.g. [Intraday bars](https://colab.research.google.com/drive/1YVVS5AiJAQGGEECmOFAb7DNQZMOHdXLR#scrollTo=6jiuSZWfGp0F)"
   ]
  },
  {
   "cell_type": "code",
   "execution_count": null,
   "metadata": {},
   "outputs": [],
   "source": []
  }
 ],
 "metadata": {
  "kernelspec": {
   "display_name": "Python 3",
   "language": "python",
   "name": "python3"
  },
  "language_info": {
   "codemirror_mode": {
    "name": "ipython",
    "version": 3
   },
   "file_extension": ".py",
   "mimetype": "text/x-python",
   "name": "python",
   "nbconvert_exporter": "python",
   "pygments_lexer": "ipython3",
   "version": "3.9.0"
  }
 },
 "nbformat": 4,
 "nbformat_minor": 4
}
