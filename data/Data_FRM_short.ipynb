{
 "cells": [
  {
   "cell_type": "code",
   "execution_count": null,
   "metadata": {},
   "outputs": [],
   "source": [
    "import pdblp\n",
    "con = pdblp.BCon(debug=False, port=8194, timeout=7000)\n",
    "con.start()\n",
    "con.debug = False\n",
    "import pandas as pd"
   ]
  },
  {
   "cell_type": "markdown",
   "metadata": {},
   "source": [
    "See documentation about [pdblk.BCon.bdib](https://matthewgilbert.github.io/pdblp/api.html#pdblp.pdblp.BCon.bdib). \n",
    "\n",
    "Regarding event type, I do not know whether this argument has to be set. You would have to check it out for a ticker. Same with the interval, I do not know whether 1 means minute data or something else."
   ]
  },
  {
   "cell_type": "code",
   "execution_count": null,
   "metadata": {},
   "outputs": [],
   "source": [
    "# download tickers\n",
    "tickers = ['XXX', 'XXX']\n",
    "for t in tickers:\n",
    "    data = con.bdib(\n",
    "        ticker=t,\n",
    "        start_datetime='2020-08-01T00:00:00',\n",
    "        end_datetime=datetime.now().strftime('%Y-%m-%dT00:00:00'),\n",
    "        # event_type='BID' # TRADE, BID, ASK, BID_BEST, ASK_BEST, BEST_BID, BEST_ASK\n",
    "        # interval=1  # int {1..1440}\n",
    "    )\n",
    "    data.to_csv(f'{t}.csv')"
   ]
  },
  {
   "cell_type": "markdown",
   "metadata": {},
   "source": [
    "Alternatively you could look into the xbbg package. E.g. [Intraday bars](https://colab.research.google.com/drive/1YVVS5AiJAQGGEECmOFAb7DNQZMOHdXLR#scrollTo=6jiuSZWfGp0F)"
   ]
  },
  {
   "cell_type": "code",
   "execution_count": null,
   "metadata": {},
   "outputs": [],
   "source": []
  }
 ],
 "metadata": {
  "kernelspec": {
   "display_name": "Python 3",
   "language": "python",
   "name": "python3"
  },
  "language_info": {
   "codemirror_mode": {
    "name": "ipython",
    "version": 3
   },
   "file_extension": ".py",
   "mimetype": "text/x-python",
   "name": "python",
   "nbconvert_exporter": "python",
   "pygments_lexer": "ipython3",
   "version": "3.8.5"
  }
 },
 "nbformat": 4,
 "nbformat_minor": 4
}
